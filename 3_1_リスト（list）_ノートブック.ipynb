{
  "nbformat": 4,
  "nbformat_minor": 0,
  "metadata": {
    "colab": {
      "provenance": []
    },
    "kernelspec": {
      "name": "python3",
      "display_name": "Python 3"
    },
    "language_info": {
      "name": "python"
    }
  },
  "cells": [
    {
      "cell_type": "code",
      "execution_count": 2,
      "metadata": {
        "id": "PLVGVI_ao6PT",
        "colab": {
          "base_uri": "https://localhost:8080/"
        },
        "outputId": "3d918a45-43ef-417b-cc34-7c341057e696"
      },
      "outputs": [
        {
          "output_type": "stream",
          "name": "stdout",
          "text": [
            "[24, 83, 64, 37, 19]\n",
            "64\n",
            "19\n",
            "[24, 83, 99, 37, 19]\n",
            "5\n",
            "元のリスト： [24, 83, 99, 37, 19]\n",
            "追加後のリスト： [24, 83, 99, 37, 19, 57]\n",
            "3\n"
          ]
        }
      ],
      "source": [
        "numbers = [24, 83, 64, 37, 19]\n",
        "print(numbers)\n",
        "print(numbers[2])\n",
        "print(numbers[-1])\n",
        "numbers[2] = 99\n",
        "print(numbers)\n",
        "print(len(numbers))\n",
        "print(\"元のリスト：\", numbers)\n",
        "numbers.append(57)\n",
        "print(\"追加後のリスト：\", numbers)\n",
        "numbers2 = [11, 22, 33, 22, 44, 11, 33, 22, 44]\n",
        "print(numbers2.count(22))"
      ]
    },
    {
      "cell_type": "code",
      "source": [
        "import random\n",
        "\n",
        "numbers = [37, 42, 45, 55, 56, 58, 59, 89, 95]\n",
        "random.shuffle(numbers)    # numbersの要素をシャッフル\n",
        "print(numbers)"
      ],
      "metadata": {
        "colab": {
          "base_uri": "https://localhost:8080/"
        },
        "id": "JJ1OlZs4xD8i",
        "outputId": "62e8446b-eeed-4a27-9e59-fad1f5bd1221"
      },
      "execution_count": 3,
      "outputs": [
        {
          "output_type": "stream",
          "name": "stdout",
          "text": [
            "[59, 42, 45, 55, 58, 37, 95, 56, 89]\n"
          ]
        }
      ]
    },
    {
      "cell_type": "code",
      "source": [
        "fruits = [\"apple\", \"banana\", \"cherry\", \"drian\"]\n",
        "\n",
        "for fruit in fruits:\n",
        "    print(fruit)"
      ],
      "metadata": {
        "id": "sxhVtkEYxKNl"
      },
      "execution_count": null,
      "outputs": []
    },
    {
      "cell_type": "code",
      "source": [
        "fruits = [\"apple\", \"banana\", \"cherry\", \"drian\"]\n",
        "\n",
        "for i in range(len(fruits)):\n",
        "    print(i, fruits[i])"
      ],
      "metadata": {
        "id": "7DxdAUijxMEV"
      },
      "execution_count": null,
      "outputs": []
    },
    {
      "cell_type": "code",
      "source": [
        "numbers = [24, 83, 64, 37, 19]\n",
        "doubled_numbers = []   # 空（カラ）のリストを用意\n",
        "\n",
        "for number in numbers:\n",
        "    doubled_numbers.append(number * 2)\n",
        "\n",
        "print(doubled_numbers)"
      ],
      "metadata": {
        "id": "-7gKRcIxxNty"
      },
      "execution_count": null,
      "outputs": []
    },
    {
      "cell_type": "code",
      "source": [
        "numbers = [58, 95, 89, 56, 45, 59, 55, 42, 37, 67]\n",
        "\n",
        "total = 0\n",
        "for number in numbers:\n",
        "    total = total + number\n",
        "\n",
        "print(total)"
      ],
      "metadata": {
        "id": "CTvODwy8xPG1"
      },
      "execution_count": null,
      "outputs": []
    }
  ]
}