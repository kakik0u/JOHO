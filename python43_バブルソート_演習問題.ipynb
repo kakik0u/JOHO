{
  "nbformat": 4,
  "nbformat_minor": 0,
  "metadata": {
    "colab": {
      "provenance": [],
      "toc_visible": true,
      "include_colab_link": true
    },
    "kernelspec": {
      "name": "python3",
      "display_name": "Python 3"
    },
    "language_info": {
      "name": "python"
    }
  },
  "cells": [
    {
      "cell_type": "markdown",
      "metadata": {
        "id": "view-in-github",
        "colab_type": "text"
      },
      "source": [
        "<a href=\"https://colab.research.google.com/github/kakik0u/JOHO/blob/main/python43_%E3%83%90%E3%83%96%E3%83%AB%E3%82%BD%E3%83%BC%E3%83%88_%E6%BC%94%E7%BF%92%E5%95%8F%E9%A1%8C.ipynb\" target=\"_parent\"><img src=\"https://colab.research.google.com/assets/colab-badge.svg\" alt=\"Open In Colab\"/></a>"
      ]
    },
    {
      "cell_type": "markdown",
      "source": [
        "#**4-3. バブルソート（単純交換法） 演習問題**"
      ],
      "metadata": {
        "id": "x-AJvsoQRWrp"
      }
    },
    {
      "cell_type": "markdown",
      "source": [
        "#**問1 二値交換**\n",
        "\n",
        "\n",
        "\n",
        "\n"
      ],
      "metadata": {
        "id": "fwrBZtexfrdQ"
      }
    },
    {
      "cell_type": "markdown",
      "source": [
        "##**(1) 変数aと変数bの交換**\n",
        "変数aとbの値を交換するプログラムを書きなさい。  "
      ],
      "metadata": {
        "id": "5CexKScgTo6z"
      }
    },
    {
      "cell_type": "markdown",
      "source": [
        "###入力用"
      ],
      "metadata": {
        "id": "lDO-abpifs8C"
      }
    },
    {
      "cell_type": "code",
      "source": [
        "# 変数aと変数bの交換\n",
        "a = 5\n",
        "b = 7\n",
        "print(\"交換前: a=\",a,\", b=\",b, sep=\"\")  # 交換前の値を表示\n",
        "\n",
        "#### 続きのプログラムを書きなさい #####\n",
        "tmp = a\n",
        "a = b\n",
        "b = tmp\n",
        "\n",
        "#### ここまで #####\n",
        "print(\"交換後: a=\",a,\", b=\",b, sep=\"\")  # 交換後の値を表示"
      ],
      "metadata": {
        "id": "ok_YjlZtfr7Q",
        "colab": {
          "base_uri": "https://localhost:8080/"
        },
        "outputId": "80847f56-ed4a-4bf1-ef89-4cf4836387ea"
      },
      "execution_count": 1,
      "outputs": [
        {
          "output_type": "stream",
          "name": "stdout",
          "text": [
            "交換前: a=5, b=7\n",
            "交換後: a=7, b=5\n"
          ]
        }
      ]
    },
    {
      "cell_type": "markdown",
      "source": [
        "###模範解答"
      ],
      "metadata": {
        "id": "XcHMNClBfsMu"
      }
    },
    {
      "cell_type": "code",
      "source": [
        "# 変数aと変数bの交換\n",
        "a = 5\n",
        "b = 7\n",
        "print(\"交換前: a=\",a,\", b=\",b, sep=\"\")  # 交換前の値を表示\n",
        "\n",
        "#### 続きのプログラムを書きなさい #####\n",
        "tmp = a\n",
        "a = b\n",
        "b = tmp\n",
        "\n",
        "#### ここまで #####\n",
        "print(\"交換後: a=\",a,\", b=\",b, sep=\"\")  # 交換後の値を表示"
      ],
      "metadata": {
        "id": "vp3Zq7_sfsVk",
        "colab": {
          "base_uri": "https://localhost:8080/"
        },
        "outputId": "0bf96912-a440-442d-ce18-93b687e8f9b0"
      },
      "execution_count": null,
      "outputs": [
        {
          "output_type": "stream",
          "name": "stdout",
          "text": [
            "交換前: a=5, b=7\n",
            "交換後: a=7, b=5\n"
          ]
        }
      ]
    },
    {
      "cell_type": "markdown",
      "source": [
        "##**(2) 配列内の要素の交換**\n",
        "配列`arr = [0, 1, 2, 3, 4, 5, 6, 7]`の3番目と5番目の値を交換するプログラムを書きなさい。\n",
        "\n",
        "```\n",
        "# 出力例\n",
        "交換前 [0, 1, 2, 3, 4, 5, 6, 7]\n",
        "交換後 [0, 1, 2, 5, 4, 3, 6, 7]\n",
        "```\n"
      ],
      "metadata": {
        "id": "eZS7-sYuVUkU"
      }
    },
    {
      "cell_type": "markdown",
      "source": [
        "###入力用"
      ],
      "metadata": {
        "id": "mD_eVDzPVbEv"
      }
    },
    {
      "cell_type": "code",
      "source": [
        "# 配列内の要素の交換\n",
        "arr = [0, 1, 2, 3, 4, 5, 6, 7]\n",
        "print(\"交換前\", arr)  # 交換前の値を表示\n",
        "\n",
        "#### 続きのプログラムを書きなさい #####\n",
        "tmp = arr[3]\n",
        "arr[3] = arr[5]\n",
        "arr[5] = tmp\n",
        "\n",
        "#### ここまで #####\n",
        "print(\"交換後\", arr)  # 交換後の値を表示"
      ],
      "metadata": {
        "id": "B9y11LXvVbOS"
      },
      "execution_count": null,
      "outputs": []
    },
    {
      "cell_type": "markdown",
      "source": [
        "###模範解答"
      ],
      "metadata": {
        "id": "QoZ8chdJVbWE"
      }
    },
    {
      "cell_type": "code",
      "source": [
        "# 配列内の要素の交換\n",
        "arr = [0, 1, 2, 3, 4, 5, 6, 7]\n",
        "print(\"交換前\", arr)  # 交換前の値を表示\n",
        "\n",
        "#### 続きのプログラムを書きなさい #####\n",
        "tmp = arr[3]\n",
        "arr[3] = arr[5]\n",
        "arr[5] = tmp\n",
        "\n",
        "#### ここまで #####\n",
        "print(\"交換後\", arr)  # 交換後の値を表示"
      ],
      "metadata": {
        "colab": {
          "base_uri": "https://localhost:8080/"
        },
        "id": "VYP1Qaw5Vbeq",
        "outputId": "46b0c62b-7038-452c-d8a0-8fae0788bd94"
      },
      "execution_count": null,
      "outputs": [
        {
          "output_type": "stream",
          "name": "stdout",
          "text": [
            "交換前 [0, 1, 2, 3, 4, 5, 6, 7]\n",
            "交換後 [0, 1, 2, 5, 4, 3, 6, 7]\n"
          ]
        }
      ]
    },
    {
      "cell_type": "markdown",
      "source": [
        "---\n",
        "---\n",
        "#**問2 バブルソート**"
      ],
      "metadata": {
        "id": "wJnNnYZEWpeq"
      }
    },
    {
      "cell_type": "markdown",
      "source": [
        "##**(1) バブルソート（昇順）**\n",
        "配列`arr`をバブルソートを用いて昇順に並び替えるプログラムを書きなさい。  \n",
        "```\n",
        "# 出力例\n",
        "ソート前 [6, 3, 2, 0, 7, 1, 4, 5]\n",
        "ソート後 [0, 1, 2, 3, 4, 5, 6, 7]\n",
        "```"
      ],
      "metadata": {
        "id": "6KTjPJvYWsuh"
      }
    },
    {
      "cell_type": "markdown",
      "source": [
        "###入力用"
      ],
      "metadata": {
        "id": "mNj7hB1FZPOK"
      }
    },
    {
      "cell_type": "code",
      "source": [
        "# バブルソート\n",
        "arr = [6, 3, 2, 0, 7, 1, 4, 5]        # 元のリスト\n",
        "print(\"ソート前\", arr)                # ソート前を出力\n",
        "n = len(arr)\n",
        "\n",
        "#### 続きのプログラムを書きなさい ####\n",
        "for i in range(n-1):\n",
        "    for j in range(n-2,i-1,-1):\n",
        "        if arr[j] > arr[j+1]:\n",
        "            tmp=arr[j]\n",
        "            arr[j] = arr[j+1]\n",
        "            arr[j+1] = tmp\n",
        "#### ここまで ####\n",
        "print(\"ソート後\", arr)                # ソート後を出力"
      ],
      "metadata": {
        "id": "sajfDSMBZPVA",
        "colab": {
          "base_uri": "https://localhost:8080/"
        },
        "outputId": "408115ea-481a-4284-c7b2-b5b77cb54bd6"
      },
      "execution_count": 3,
      "outputs": [
        {
          "output_type": "stream",
          "name": "stdout",
          "text": [
            "ソート前 [6, 3, 2, 0, 7, 1, 4, 5]\n",
            "ソート後 [0, 1, 2, 3, 4, 5, 6, 7]\n"
          ]
        }
      ]
    },
    {
      "cell_type": "markdown",
      "source": [
        "###模範解答"
      ],
      "metadata": {
        "id": "sDmxbMetZPcV"
      }
    },
    {
      "cell_type": "code",
      "source": [
        "# バブルソート\n",
        "arr = [6, 3, 2, 0, 7, 1, 4, 5]        # 元のリスト\n",
        "print(\"ソート前\", arr)                # ソート前を出力\n",
        "n = len(arr)\n",
        "\n",
        "#### 続きのプログラムを書きなさい ####\n",
        "for i in range(n - 1):                # 調べる範囲の開始位置を１つずつ後へ移動していく\n",
        "    for j in range(n - 2, i - 1, -1): # 末尾から先頭に向かって、隣り合う２値を比較する\n",
        "        if arr[j] > arr[j + 1]:       # 隣り合う２値の末尾側が小さかったら、交換する\n",
        "            tmp = arr[j]\n",
        "            arr[j] = arr[j + 1]\n",
        "            arr[j + 1] = tmp\n",
        "#### ここまで ####\n",
        "print(\"ソート後\", arr)                # ソート後を出力"
      ],
      "metadata": {
        "colab": {
          "base_uri": "https://localhost:8080/"
        },
        "id": "Jvu5MeQ-ZPkT",
        "outputId": "b46666f4-bcfa-4b72-b015-a380fb14201f"
      },
      "execution_count": null,
      "outputs": [
        {
          "output_type": "stream",
          "name": "stdout",
          "text": [
            "ソート前 [6, 3, 2, 0, 7, 1, 4, 5]\n",
            "ソート後 [0, 1, 2, 3, 4, 5, 6, 7]\n"
          ]
        }
      ]
    },
    {
      "cell_type": "markdown",
      "source": [
        "##**(2) バブルソート（降順）**\n",
        "配列`arr`をバブルソートを用いて降順に並び替えるプログラムを書きなさい。\n",
        "```\n",
        "# 出力例\n",
        "ソート前 [6, 3, 2, 0, 7, 1, 4, 5]\n",
        "ソート後 [7, 6, 5, 4, 3, 2, 1, 0]\n",
        "```"
      ],
      "metadata": {
        "id": "7K3mNOT2mWoq"
      }
    },
    {
      "cell_type": "markdown",
      "source": [
        "###入力用"
      ],
      "metadata": {
        "id": "U6yXrIvCmWo0"
      }
    },
    {
      "cell_type": "code",
      "source": [
        "# バブルソート\n",
        "arr = [6, 3, 2, 0, 7, 1, 4, 5]        # 元のリスト\n",
        "print(\"ソート前\", arr)                # ソート前を出力\n",
        "n = len(arr)\n",
        "\n",
        "#### 続きのプログラムを書きなさい ####\n",
        "for i in range(n-1):\n",
        "    for j in range(n-2, i-1, -1):\n",
        "        if arr[j] < arr[j+1]:\n",
        "            tmp = arr[j]\n",
        "            arr[j] = arr[j+1]\n",
        "            arr[j+1] = tmp\n",
        "#### ここまで ####\n",
        "print(\"ソート後\", arr)                # ソート後を出力"
      ],
      "metadata": {
        "id": "SAhw78WlmWo0",
        "colab": {
          "base_uri": "https://localhost:8080/"
        },
        "outputId": "90b661d2-84d5-48f2-c660-cc4420af8f54"
      },
      "execution_count": 4,
      "outputs": [
        {
          "output_type": "stream",
          "name": "stdout",
          "text": [
            "ソート前 [6, 3, 2, 0, 7, 1, 4, 5]\n",
            "ソート後 [7, 6, 5, 4, 3, 2, 1, 0]\n"
          ]
        }
      ]
    },
    {
      "cell_type": "markdown",
      "source": [
        "###模範解答"
      ],
      "metadata": {
        "id": "J4u7O6lMmWo1"
      }
    },
    {
      "cell_type": "code",
      "source": [
        "# バブルソート\n",
        "arr = [6, 3, 2, 0, 7, 1, 4, 5]        # 元のリスト\n",
        "print(\"ソート前\", arr)                # ソート前を出力\n",
        "n = len(arr)\n",
        "\n",
        "#### 続きのプログラムを書きなさい ####\n",
        "for i in range(n - 1):                # 調べる範囲の開始位置を１つずつ後へ移動していく\n",
        "    for j in range(n - 2, i - 1, -1): # 末尾から先頭に向かって、隣り合う２値を比較する\n",
        "        if arr[j] < arr[j + 1]:       # 隣り合う２値の末尾側が大きかったら、交換する\n",
        "            tmp = arr[j]\n",
        "            arr[j] = arr[j + 1]\n",
        "            arr[j + 1] = tmp\n",
        "#### ここまで ####\n",
        "print(\"ソート後\", arr)                # ソート後を出力"
      ],
      "metadata": {
        "colab": {
          "base_uri": "https://localhost:8080/"
        },
        "id": "LyqLaJDomWo1",
        "outputId": "6d6d0f73-cb69-4454-c76e-d38ce68ffe54"
      },
      "execution_count": null,
      "outputs": [
        {
          "output_type": "stream",
          "name": "stdout",
          "text": [
            "ソート前 [6, 3, 2, 0, 7, 1, 4, 5]\n",
            "ソート後 [7, 6, 5, 4, 3, 2, 1, 0]\n"
          ]
        }
      ]
    },
    {
      "cell_type": "markdown",
      "source": [
        "---\n",
        "---\n",
        "#**問3 途中経過の出力と比較・交換回数**\n",
        "**問2(1) バブルソート（昇順）**のプログラムをもとにして、ソートの途中経過と比較・交換回数を表示するプログラムを書きなさい。\n",
        "\n",
        "\n"
      ],
      "metadata": {
        "id": "TRwqqsB1CMQW"
      }
    },
    {
      "cell_type": "markdown",
      "source": [
        "### 入力用"
      ],
      "metadata": {
        "id": "HYLRDAScDyGI"
      }
    },
    {
      "cell_type": "code",
      "source": [
        "# バブルソート（途中経過の出力と比較・交換回数）\n",
        "## このプログラムの中の適当なところに、次の処理を追加しなさい。\n",
        "## ・途中経過を出力するための処理\n",
        "## ・比較回数と交換回数を数えるための処理\n",
        "arr = [6, 3, 2, 0, 7, 1, 4, 5]        # 元のリスト\n",
        "print(arr)                            # ソート前を出力\n",
        "n = len(arr)\n",
        "\n",
        "compare = 0                           # 比較回数を数えるための変数\n",
        "swap = 0                              # 交換回数を数えるための変数\n",
        "\n",
        "for i in range(n - 1):\n",
        "    for j in range(n - 2, i - 1, -1):\n",
        "        if arr[j] > arr[j + 1]:\n",
        "            tmp = arr[j]\n",
        "            arr[j] = arr[j + 1]\n",
        "            arr[j + 1] = tmp\n",
        "            print(arr)\n",
        "\n",
        "print(\"比較回数:\", compare, \"\\t交換回数:\", swap)"
      ],
      "metadata": {
        "id": "9k5gAr7bDsD4",
        "colab": {
          "base_uri": "https://localhost:8080/"
        },
        "outputId": "61c15cac-d831-4048-c5d3-2541aef81ab8"
      },
      "execution_count": 6,
      "outputs": [
        {
          "output_type": "stream",
          "name": "stdout",
          "text": [
            "[6, 3, 2, 0, 7, 1, 4, 5]\n",
            "[6, 3, 2, 0, 1, 7, 4, 5]\n",
            "[6, 3, 0, 2, 1, 7, 4, 5]\n",
            "[6, 0, 3, 2, 1, 7, 4, 5]\n",
            "[0, 6, 3, 2, 1, 7, 4, 5]\n",
            "[0, 6, 3, 2, 1, 4, 7, 5]\n",
            "[0, 6, 3, 1, 2, 4, 7, 5]\n",
            "[0, 6, 1, 3, 2, 4, 7, 5]\n",
            "[0, 1, 6, 3, 2, 4, 7, 5]\n",
            "[0, 1, 6, 3, 2, 4, 5, 7]\n",
            "[0, 1, 6, 2, 3, 4, 5, 7]\n",
            "[0, 1, 2, 6, 3, 4, 5, 7]\n",
            "[0, 1, 2, 3, 6, 4, 5, 7]\n",
            "[0, 1, 2, 3, 4, 6, 5, 7]\n",
            "[0, 1, 2, 3, 4, 5, 6, 7]\n",
            "比較回数: 0 \t交換回数: 0\n"
          ]
        }
      ]
    },
    {
      "cell_type": "markdown",
      "source": [
        "### 模範解答"
      ],
      "metadata": {
        "id": "wFO3IFgKDzj6"
      }
    },
    {
      "cell_type": "code",
      "source": [
        "# バブルソート（途中経過の出力と比較・交換回数）\n",
        "## このプログラムの中の適当なところに、次の処理を追加しなさい。\n",
        "## ・途中経過を出力するための処理\n",
        "## ・比較回数と交換回数を数えるための処理\n",
        "arr = [6, 3, 2, 0, 7, 1, 4, 5]        # 元のリスト\n",
        "print(arr)                            # ソート前を出力\n",
        "n = len(arr)\n",
        "\n",
        "compare = 0                           # 比較回数を数えるための変数\n",
        "swap = 0                              # 交換回数を数えるための変数\n",
        "\n",
        "for i in range(n - 1):\n",
        "    for j in range(n - 2, i - 1, -1):\n",
        "        compare = compare + 1         # 比較回数を数える【問3ではこの行を追加】\n",
        "        if arr[j] > arr[j + 1]:\n",
        "            swap = swap + 1           # 交換回数を数える【問3ではこの行を追加】\n",
        "            tmp = arr[j]\n",
        "            arr[j] = arr[j + 1]\n",
        "            arr[j + 1] = tmp\n",
        "            print(arr)                # 途中経過を出力【問3ではこの行を追加】\n",
        "\n",
        "print(\"比較回数:\", compare, \"\\t交換回数:\", swap)"
      ],
      "metadata": {
        "colab": {
          "base_uri": "https://localhost:8080/"
        },
        "id": "rhwJOu-cCnW6",
        "outputId": "5685678e-7e37-4fa7-f29d-c54e23b5d466"
      },
      "execution_count": null,
      "outputs": [
        {
          "output_type": "stream",
          "name": "stdout",
          "text": [
            "[6, 3, 2, 0, 7, 1, 4, 5]\n",
            "[6, 3, 2, 0, 1, 7, 4, 5]\n",
            "[6, 3, 0, 2, 1, 7, 4, 5]\n",
            "[6, 0, 3, 2, 1, 7, 4, 5]\n",
            "[0, 6, 3, 2, 1, 7, 4, 5]\n",
            "[0, 6, 3, 2, 1, 4, 7, 5]\n",
            "[0, 6, 3, 1, 2, 4, 7, 5]\n",
            "[0, 6, 1, 3, 2, 4, 7, 5]\n",
            "[0, 1, 6, 3, 2, 4, 7, 5]\n",
            "[0, 1, 6, 3, 2, 4, 5, 7]\n",
            "[0, 1, 6, 2, 3, 4, 5, 7]\n",
            "[0, 1, 2, 6, 3, 4, 5, 7]\n",
            "[0, 1, 2, 3, 6, 4, 5, 7]\n",
            "[0, 1, 2, 3, 4, 6, 5, 7]\n",
            "[0, 1, 2, 3, 4, 5, 6, 7]\n",
            "比較回数: 28 \t交換回数: 14\n"
          ]
        }
      ]
    }
  ]
}