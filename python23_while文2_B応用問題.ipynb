{
  "nbformat": 4,
  "nbformat_minor": 0,
  "metadata": {
    "colab": {
      "provenance": []
    },
    "kernelspec": {
      "name": "python3",
      "display_name": "Python 3"
    },
    "language_info": {
      "name": "python"
    }
  },
  "cells": [
    {
      "cell_type": "markdown",
      "source": [
        "#**2-3. 繰り返し（while文）②** 応用問題\n",
        "\n"
      ],
      "metadata": {
        "id": "IP7oTrdRnssM"
      }
    },
    {
      "cell_type": "markdown",
      "source": [
        "#**問1 素因数分解**\n",
        "ユーザーが入力した自然数を素因数分解するプログラムを書きなさい。  \n",
        "ただし、ユーザーの入力値のエラー回避処理は不要です。  \n",
        "  \n",
        "入出力例\n",
        "```\n",
        "1より大きい自然数を入力してください： 720\n",
        "720 の素因数は、 2 2 2 2 3 3 5 です。\n",
        "```"
      ],
      "metadata": {
        "id": "Oq1J9TB5ntLr"
      }
    },
    {
      "cell_type": "markdown",
      "source": [
        "###入力用"
      ],
      "metadata": {
        "id": "9dbErI1TqXt7"
      }
    },
    {
      "cell_type": "code",
      "source": [
        "#素因数分解\n",
        "n = int(input(\"1より大きい自然数を入力してください： \"))\n",
        "print(n, \"の素因数は、\", end=' ')\n",
        "\n",
        "#### 以下に続きのプログラムを書きなさい ####\n",
        "\n",
        "\n",
        "i = 2\n",
        "while i <= n:\n",
        "    if n % i == 0:  # nがiで割り切れる場合\n",
        "        print(i, end=\" \")\n",
        "        n = n // i     # nをiで整数除算した値をnに代入\n",
        "    else:\n",
        "        i = i + 1\n",
        "print(\"です。\")\n"
      ],
      "metadata": {
        "id": "GqwwIEvtqZ1Z"
      },
      "execution_count": null,
      "outputs": []
    },
    {
      "cell_type": "markdown",
      "source": [
        "###模範解答"
      ],
      "metadata": {
        "id": "Qmn6uuwqqZ89"
      }
    },
    {
      "cell_type": "code",
      "source": [
        "#素因数分解\n",
        "n = int(input(\"1より大きい自然数を入力してください： \"))\n",
        "print(n, \"の素因数は、\", end=' ')\n",
        "\n",
        "#### 以下に続きのプログラムを書きなさい ####\n",
        "i = 2\n",
        "while i <= n:\n",
        "    if n % i == 0:  # nがiで割り切れる場合\n",
        "        print(i, end=\" \")\n",
        "        n = n // i     # nをiで整数除算した値をnに代入\n",
        "    else:\n",
        "        i = i + 1\n",
        "print(\"です。\")"
      ],
      "metadata": {
        "colab": {
          "base_uri": "https://localhost:8080/"
        },
        "id": "eOrlwYE3nszK",
        "outputId": "8c561e45-e115-4878-8130-bfe624fc1674"
      },
      "execution_count": null,
      "outputs": [
        {
          "output_type": "stream",
          "name": "stdout",
          "text": [
            "1より大きい自然数を入力してください： 120\n",
            "120 の素因数は、 2 2 2 3 5 です。\n"
          ]
        }
      ]
    },
    {
      "cell_type": "markdown",
      "source": [
        "---\n",
        "---\n",
        "#**問2 数当てゲーム**\n",
        "コンピュータが生成した1から1000までのランダムな整数をユーザーが当てるゲームをつくりなさい。  \n",
        "ただし、このゲームのルールは次の通りとする。  \n",
        "- 答となる数を1〜1000の範囲で1つ生成する\n",
        "- ユーザーに整数値を入力するように求める。\n",
        "- 入力した整数が、答えの大小と比較して「もっと大きい数です」「もっと小さい数です」と出力し、もう一度整数値を入力するように求める。\n",
        "- 入力した整数が、答えと同じだったら「正解です！」と出力し、ゲームを終了する。\n",
        "- 正解となるまでゲームを繰り返す。\n",
        "- 何回目で正解したか数えておく。\n",
        "  \n",
        "入出力例  \n",
        "```\n",
        "私が持っているカードには1〜1000のいずれかが書かれています。\n",
        "1 回目(整数を入力): 500\n",
        "「もっと小さい数です」\n",
        "2 回目(整数を入力): 250\n",
        "「もっと大きい数です」\n",
        "（中略）\n",
        "8 回目(整数を入力): 301\n",
        "8 回目で正解です！(答は 301 でした)\n",
        "```\n",
        "\n",
        "ヒント  \n",
        "ユーザーの回答は変数guessに代入する。  \n",
        "このとき、何回目の回答かを表示するときは、次のように整数型の変数countをstr関数を用いて文字列に変換してから結合する。\n",
        "```\n",
        "guess = int(input(str(count) + \" 回目(整数を入力): \"))\n",
        "```"
      ],
      "metadata": {
        "id": "pRFLXxCNBfQs"
      }
    },
    {
      "cell_type": "markdown",
      "source": [
        "###入力用"
      ],
      "metadata": {
        "id": "TUwdxFliyugW"
      }
    },
    {
      "cell_type": "code",
      "source": [
        "# 数当てゲーム\n",
        "import random\n",
        "\n",
        "count = 0     # 回答数をカウントする\n",
        "\n",
        "answer = random.randint(1, 1000)    # 1〜1000の整数の乱数を生成\n",
        "print(\"私が持っているカードには1〜1000のいずれかが書かれています。\")\n",
        "\n",
        "#### 以下に続きのプログラムを書きなさい ####\n",
        "guess = 0     # 入力された答の初期値（1〜1000ではない数字）※条件式で使う変数は初期化が必要\n",
        "while guess != answer:\n",
        "    count = count + 1\n",
        "    guess = int(input(str(count) + \" 回目(整数を入力): \"))\n",
        "\n",
        "    if guess < answer:\n",
        "        print(\"「もっと大きい数です」\")\n",
        "    elif guess > answer:\n",
        "        print(\"「もっと小さい数です」\")x\n",
        "#### プログラムの入力ここまで ####\n",
        "print(count, \"回目で正解です！\")\n"
      ],
      "metadata": {
        "id": "_GW20h40ytRO"
      },
      "execution_count": null,
      "outputs": []
    },
    {
      "cell_type": "markdown",
      "source": [
        "###模範解答"
      ],
      "metadata": {
        "id": "w8UR0ldaytit"
      }
    },
    {
      "cell_type": "markdown",
      "source": [
        "####解答1\n",
        "**while {条件式}:** を使う場合"
      ],
      "metadata": {
        "id": "ra0iUsqtyx-e"
      }
    },
    {
      "cell_type": "code",
      "source": [
        "# 数当てゲーム\n",
        "import random\n",
        "\n",
        "count = 0     # 回答数をカウントする\n",
        "\n",
        "answer = random.randint(1, 1000)    # 1〜1000の整数の乱数を生成\n",
        "print(\"私が持っているカードには1〜1000のいずれかが書かれています。\")\n",
        "\n",
        "#### 以下に続きのプログラムを書きなさい ####\n",
        "guess = 0     # 入力された答の初期値（1〜1000ではない数字）※条件式で使う変数は初期化が必要\n",
        "while guess != answer:\n",
        "    count = count + 1\n",
        "    guess = int(input(str(count) + \" 回目(整数を入力): \"))\n",
        "\n",
        "    if guess < answer:\n",
        "        print(\"「もっと大きい数です」\")\n",
        "    elif guess > answer:\n",
        "        print(\"「もっと小さい数です」\")\n",
        "\n",
        "#### プログラムの入力ここまで ####\n",
        "print(count, \"回目で正解です！\")\n"
      ],
      "metadata": {
        "colab": {
          "base_uri": "https://localhost:8080/"
        },
        "id": "SxiIng-gi3t2",
        "outputId": "dd3049c8-27ec-452a-93cc-da40fecde422"
      },
      "execution_count": null,
      "outputs": [
        {
          "output_type": "stream",
          "name": "stdout",
          "text": [
            "私が持っているカードには1〜1000のいずれかが書かれています。\n",
            "1回目(整数を入力): 500\n",
            "「もっと大きい数です」\n",
            "2回目(整数を入力): 750\n",
            "「もっと大きい数です」\n",
            "3回目(整数を入力): 875\n",
            "「もっと大きい数です」\n",
            "4回目(整数を入力): 937\n",
            "「もっと大きい数です」\n",
            "5回目(整数を入力): 969\n",
            "「もっと大きい数です」\n",
            "6回目(整数を入力): 989\n",
            "「もっと大きい数です」\n",
            "7回目(整数を入力): 995\n",
            "「もっと小さい数です」\n",
            "8回目(整数を入力): 992\n",
            "「もっと大きい数です」\n",
            "9回目(整数を入力): 994\n",
            "「もっと小さい数です」\n",
            "10回目(整数を入力): 993\n",
            "10 回目で正解です！\n"
          ]
        }
      ]
    },
    {
      "cell_type": "markdown",
      "source": [
        "####解答2\n",
        "**while True:** を使う場合"
      ],
      "metadata": {
        "id": "mwGgIXygy59N"
      }
    },
    {
      "cell_type": "code",
      "source": [
        "# 数当てゲーム\n",
        "import random\n",
        "\n",
        "count = 0   # 回答数をカウントする\n",
        "\n",
        "answer = random.randint(1, 1000)    # 1〜1000の整数の乱数を生成\n",
        "print(\"私が持っているカードには1〜1000のいずれかが書かれています。\")\n",
        "\n",
        "#### 以下に続きのプログラムを書きなさい ####\n",
        "while True:\n",
        "    count = count + 1\n",
        "    guess = int(input(str(count) + \" 回目(整数を入力): \"))\n",
        "\n",
        "    if guess < answer:\n",
        "        print(\"「もっと大きい数です」\")\n",
        "    elif guess > answer:\n",
        "        print(\"「もっと小さい数です」\")\n",
        "    else:\n",
        "        break\n",
        "\n",
        "#### プログラムの入力ここまで ####\n",
        "print(count, \"回目で正解です！（答は\", answer, \"でした）\")\n"
      ],
      "metadata": {
        "id": "o6BXPonuBiWn",
        "colab": {
          "base_uri": "https://localhost:8080/"
        },
        "outputId": "d7bd2196-7176-4314-ef39-84fabd85e979"
      },
      "execution_count": null,
      "outputs": [
        {
          "output_type": "stream",
          "name": "stdout",
          "text": [
            "私が持っているカードには1〜1000のいずれかが書かれています。\n",
            "1 回目(整数を入力): 500\n",
            "「もっと小さい数です」\n",
            "2 回目(整数を入力): 250\n",
            "「もっと小さい数です」\n",
            "3 回目(整数を入力): 125\n",
            "「もっと大きい数です」\n",
            "4 回目(整数を入力): 222\n",
            "「もっと小さい数です」\n",
            "5 回目(整数を入力): 180\n",
            "「もっと大きい数です」\n",
            "6 回目(整数を入力): 205\n",
            "「もっと大きい数です」\n",
            "7 回目(整数を入力): 210\n",
            "「もっと大きい数です」\n",
            "8 回目(整数を入力): 215\n",
            "「もっと大きい数です」\n",
            "9 回目(整数を入力): 218\n",
            "「もっと大きい数です」\n",
            "10 回目(整数を入力): 220\n",
            "10 回目で正解です！（答は 220 でした）\n"
          ]
        }
      ]
    }
  ]
}