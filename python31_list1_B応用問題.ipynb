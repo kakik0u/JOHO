{
  "nbformat": 4,
  "nbformat_minor": 0,
  "metadata": {
    "colab": {
      "provenance": [],
      "toc_visible": true
    },
    "kernelspec": {
      "name": "python3",
      "display_name": "Python 3"
    },
    "language_info": {
      "name": "python"
    }
  },
  "cells": [
    {
      "cell_type": "markdown",
      "source": [
        "#**3-1. リスト（list） B応用問題**"
      ],
      "metadata": {
        "id": "x-AJvsoQRWrp"
      }
    },
    {
      "cell_type": "markdown",
      "source": [
        "#**問1 リスト内の最大値**\n"
      ],
      "metadata": {
        "id": "xeppWUHnRceN"
      }
    },
    {
      "cell_type": "markdown",
      "source": [
        "##**(1) リスト内の最大値①**\n",
        "リスト型変数`numbers`の最大値を、`for i in range(...)`を用いて求めるプログラムを書きなさい。  \n",
        "求める最大値を代入する変数は`max_value`とする。"
      ],
      "metadata": {
        "id": "fwrBZtexfrdQ"
      }
    },
    {
      "cell_type": "markdown",
      "source": [
        "###入力用"
      ],
      "metadata": {
        "id": "lDO-abpifs8C"
      }
    },
    {
      "cell_type": "code",
      "source": [
        "# リスト内の最大値①\n",
        "numbers = [58, 95, 89, 56, 45, 59, 55, 42, 37, 67]\n",
        "print(numbers)    #配列を出力\n",
        "\n",
        "#### 続きのプログラムを書きなさい #####\n",
        "max_value = numbers[0]\n",
        "for number in numbers:\n",
        "    if max_value < number:\n",
        "        max_value = number\n",
        "#### ここまで ####\n",
        "\n",
        "print(\"最大値:\", max_value)\n"
      ],
      "metadata": {
        "colab": {
          "base_uri": "https://localhost:8080/"
        },
        "id": "ok_YjlZtfr7Q",
        "outputId": "0f0b9651-f778-4744-836c-f55f5b9c15d6"
      },
      "execution_count": 1,
      "outputs": [
        {
          "output_type": "stream",
          "name": "stdout",
          "text": [
            "[58, 95, 89, 56, 45, 59, 55, 42, 37, 67]\n",
            "最大値: 95\n"
          ]
        }
      ]
    },
    {
      "cell_type": "markdown",
      "source": [
        "###模範解答"
      ],
      "metadata": {
        "id": "XcHMNClBfsMu"
      }
    },
    {
      "cell_type": "code",
      "source": [
        "# リスト内の最大値②\n",
        "numbers = [58, 95, 89, 56, 45, 59, 55, 42, 37, 67]\n",
        "print(numbers)    #配列を出力\n",
        "\n",
        "#### 続きのプログラムを書きなさい #####\n",
        "max_value = numbers[0]\n",
        "for number in numbers:\n",
        "    if max_value < number:\n",
        "        max_value = number\n",
        "\n",
        "#### ここまで ####\n",
        "\n",
        "print(\"最大値:\", max_value)"
      ],
      "metadata": {
        "id": "vp3Zq7_sfsVk"
      },
      "execution_count": null,
      "outputs": []
    },
    {
      "cell_type": "markdown",
      "source": [
        "---\n",
        "##**(2) リスト内の最大値②**\n",
        "リスト型変数`numbers`の最大値を、`for number in numbers`を用いて求めるプログラムを書きなさい。  \n",
        "求める最大値を代入する変数は`max`とする。"
      ],
      "metadata": {
        "id": "aliJCfs4gmNg"
      }
    },
    {
      "cell_type": "markdown",
      "source": [
        "###入力用"
      ],
      "metadata": {
        "id": "fGHNzsAOgz2K"
      }
    },
    {
      "cell_type": "code",
      "source": [
        "# リスト内の最大値②\n",
        "numbers = [58, 95, 89, 56, 45, 59, 55, 42, 37, 67]\n",
        "print(numbers)    #配列を出力\n",
        "\n",
        "#### 続きのプログラムを書きなさい #####\n",
        "max_value = numbers[0]\n",
        "for number in numbers:\n",
        "    if max_value < number:\n",
        "        max_value = number\n",
        "#### ここまで ####\n",
        "\n",
        "print(\"最大値:\", max_value)\n",
        "\n",
        "\n"
      ],
      "metadata": {
        "id": "4DiLq8Ssgz_y",
        "colab": {
          "base_uri": "https://localhost:8080/"
        },
        "outputId": "5c278623-732c-4e5c-e62e-7fe4b65d5c25"
      },
      "execution_count": 2,
      "outputs": [
        {
          "output_type": "stream",
          "name": "stdout",
          "text": [
            "[58, 95, 89, 56, 45, 59, 55, 42, 37, 67]\n",
            "最大値: 95\n"
          ]
        }
      ]
    },
    {
      "cell_type": "markdown",
      "source": [
        "###模範解答"
      ],
      "metadata": {
        "id": "VURYHjzLg0Ha"
      }
    },
    {
      "cell_type": "code",
      "source": [
        "# リスト内の最大値②\n",
        "numbers = [58, 95, 89, 56, 45, 59, 55, 42, 37, 67]\n",
        "print(numbers)    #配列を出力\n",
        "\n",
        "#### 続きのプログラムを書きなさい #####\n",
        "max_value = numbers[0]\n",
        "for number in numbers:\n",
        "    if max_value < number:\n",
        "        max_value = number\n",
        "\n",
        "#### ここまで ####\n",
        "\n",
        "print(\"最大値:\", max_value)"
      ],
      "metadata": {
        "colab": {
          "base_uri": "https://localhost:8080/"
        },
        "id": "47kgqj3kg0Om",
        "outputId": "f630d0e2-cf3a-478e-8d46-8686c792dc5a"
      },
      "execution_count": null,
      "outputs": [
        {
          "output_type": "stream",
          "name": "stdout",
          "text": [
            "[58, 95, 89, 56, 45, 59, 88, 42, 37, 67]\n"
          ]
        }
      ]
    },
    {
      "cell_type": "markdown",
      "source": [
        "---\n",
        "---\n",
        "#**問2 リスト内の値の順位**\n",
        "\n"
      ],
      "metadata": {
        "id": "tbHjCkUcbbg5"
      }
    },
    {
      "cell_type": "markdown",
      "source": [
        "##**(1) 特定の値の順位**\n",
        "ユーザーが入力した値（変数`target`に代入）が、リスト内の値の何番目に大きいかを出力するプログラムを書きなさい。  "
      ],
      "metadata": {
        "id": "LdMMVyoc379a"
      }
    },
    {
      "cell_type": "markdown",
      "source": [
        "###入力用"
      ],
      "metadata": {
        "id": "_5UtUhYRmsc_"
      }
    },
    {
      "cell_type": "code",
      "source": [
        "# リスト内の値の順位①\n",
        "numbers = [58, 95, 89, 56, 45, 59, 55, 42, 37, 67]\n",
        "print(numbers)    #リストを出力\n",
        "\n",
        "target = int(input(\"基準にする値: \"))   # ユーザーに入力を促す\n",
        "\n",
        "#### 続きのプログラムを書きなさい #####\n",
        "rank = 1\n",
        "for number in numbers:\n",
        "    if number > target:\n",
        "        rank = rank + 1\n",
        "#### ここまで #####\n",
        "\n",
        "print(target, \"は\", rank, \"番目に大きい\")"
      ],
      "metadata": {
        "colab": {
          "base_uri": "https://localhost:8080/"
        },
        "id": "VK5DS3YlbbqM",
        "outputId": "4c1b68dc-ddd8-41de-f048-2571962e14de"
      },
      "execution_count": 3,
      "outputs": [
        {
          "output_type": "stream",
          "name": "stdout",
          "text": [
            "[58, 95, 89, 56, 45, 59, 55, 42, 37, 67]\n",
            "基準にする値: 55\n",
            "55 は 7 番目に大きい\n"
          ]
        }
      ]
    },
    {
      "cell_type": "markdown",
      "source": [
        "###模範解答"
      ],
      "metadata": {
        "id": "DKtzCgt6monZ"
      }
    },
    {
      "cell_type": "code",
      "source": [
        "# リスト内の値の順位①\n",
        "numbers = [58, 95, 89, 56, 45, 59, 55, 42, 37, 67]\n",
        "print(numbers)    #リストを出力\n",
        "\n",
        "target = int(input(\"基準にする値: \"))   # ユーザーに入力を促す\n",
        "\n",
        "#### 続きのプログラムを書きなさい #####\n",
        "rank = 1\n",
        "for number in numbers:\n",
        "    if number > target:\n",
        "        rank = rank + 1\n",
        "\n",
        "#### ここまで #####\n",
        "\n",
        "print(target, \"は\", rank, \"番目に大きい\")\n"
      ],
      "metadata": {
        "id": "GsMcKzvemo9n",
        "colab": {
          "base_uri": "https://localhost:8080/"
        },
        "outputId": "68f38023-611a-4fdd-ce53-011eebe53f0b"
      },
      "execution_count": null,
      "outputs": [
        {
          "output_type": "stream",
          "name": "stdout",
          "text": [
            "[58, 95, 89, 56, 45, 59, 55, 42, 37, 67]\n",
            "基準にする値: 70\n",
            "70 は 3 番目に大きい\n"
          ]
        }
      ]
    },
    {
      "cell_type": "markdown",
      "source": [
        "##**(2) リスト内のすべての値の順位**\n",
        "リスト`numbers`内の各値の順位をリスト`ranks`として出力しなさい。  \n"
      ],
      "metadata": {
        "id": "5L-wCOhm35NG"
      }
    },
    {
      "cell_type": "markdown",
      "source": [
        "###入力用"
      ],
      "metadata": {
        "id": "IUMkvOJR4T4J"
      }
    },
    {
      "cell_type": "code",
      "source": [
        "# リスト内の値の順位②\n",
        "numbers = [58, 95, 89, 56, 45, 59, 55, 42, 37, 67]\n",
        "print(numbers)    #リストを出力\n",
        "\n",
        "ranks = []  # numbers内の各値の順位を格納したリスト\n",
        "\n",
        "#### 続きのプログラムを書きなさい #####\n",
        "for number in numbers:\n",
        "  rank = 1\n",
        "  for comparison_number in numbers:\n",
        "      if number < comparison_number:\n",
        "          rank = rank + 1\n",
        "\n",
        "  ranks.append(rank)\n",
        "\n",
        "#### ここまで #####\n",
        "print(ranks)\n"
      ],
      "metadata": {
        "id": "ZLLl_3454UDV",
        "colab": {
          "base_uri": "https://localhost:8080/"
        },
        "outputId": "5e7747cc-d61a-46d6-ebbe-a201f08e219d"
      },
      "execution_count": 4,
      "outputs": [
        {
          "output_type": "stream",
          "name": "stdout",
          "text": [
            "[58, 95, 89, 56, 45, 59, 55, 42, 37, 67]\n",
            "[5, 1, 2, 6, 8, 4, 7, 9, 10, 3]\n"
          ]
        }
      ]
    },
    {
      "cell_type": "markdown",
      "source": [
        "###模範解答"
      ],
      "metadata": {
        "id": "YeCgeHXU4UKM"
      }
    },
    {
      "cell_type": "code",
      "source": [
        "# リスト内の値の順位②\n",
        "numbers = [58, 95, 89, 56, 45, 59, 55, 42, 37, 67]\n",
        "print(numbers)    #リストを出力\n",
        "\n",
        "ranks = []\n",
        "\n",
        "#### 続きのプログラムを書きなさい #####\n",
        "for number in numbers:\n",
        "  rank = 1\n",
        "  for comparison_number in numbers:\n",
        "      if number < comparison_number:\n",
        "          rank = rank + 1\n",
        "\n",
        "  ranks.append(rank)\n",
        "\n",
        "#### ここまで #####\n",
        "print(ranks)\n"
      ],
      "metadata": {
        "colab": {
          "base_uri": "https://localhost:8080/"
        },
        "id": "gKpkC70Y4UWO",
        "outputId": "8d687a02-4572-46d5-f692-5330f706e7dd"
      },
      "execution_count": null,
      "outputs": [
        {
          "output_type": "stream",
          "name": "stdout",
          "text": [
            "[58, 95, 89, 56, 45, 59, 55, 42, 37, 67]\n",
            "[5, 1, 2, 6, 8, 4, 7, 9, 10, 3]\n"
          ]
        }
      ]
    },
    {
      "cell_type": "markdown",
      "source": [
        "---\n",
        "---\n",
        "#**問3 数字カード**\n",
        "1〜4までの数字が書かれたカードを1枚ずつ箱の中に入れた。\n",
        "箱の中からカードを1枚引き、それに書かれた数を記録し、箱の中に戻した。これを、あと3回繰り返し、四つの数字を記録した。\n",
        "この四つの数字に応じて、得点を次のように定めた。\n",
        "* 四つとも同じ数字のとき、9点\n",
        "* 2回現れる数字が二つあるとき、3点\n",
        "* 3回現れる数字が一つと、1回だけ現れる数字が一つあるとき、2点\n",
        "* 2回現れる数字が一つと、1回だけ現れる数字が二つあるとき、1点\n",
        "* 数字の重複がないとき、0点  \n",
        "  \n",
        "  \n",
        "次の手順に従って、この操作で記録された四つの数字のリストと、得点を表示するプログラムを書きなさい。\n",
        "  \n",
        "- **手順1**\n",
        " - 取り出したカードに書かれた数字をリスト型変数`numbers`に入れる。\n",
        " - `randint(1,4)`で、1〜4の乱数を発生できる。\n",
        "- **手順2**\n",
        " - `numbers`の中の 1〜4の数字の出現回数を数える（リスト型変数 `counter`を用いる）。\n",
        " - `リスト名.count(x)`で、リスト内の`x`の個数を求めることができる。\n",
        "- **手順3**\n",
        " - 数字の出現回数に応じた得点を 変数`score`に代入する。  \n",
        "- **手順4**\n",
        " - `numbers`と変数`score`を出力する。\n",
        "\n",
        "\n",
        "※2013年センター試験【数学ⅠA】の問題を参考にしました。"
      ],
      "metadata": {
        "id": "MoTa4TfusGc1"
      }
    },
    {
      "cell_type": "markdown",
      "source": [
        "###入力用"
      ],
      "metadata": {
        "id": "_RrJ7dYg1o9X"
      }
    },
    {
      "cell_type": "code",
      "source": [
        "# 数字カード\n",
        "import random\n",
        "\n",
        "numbers = [0, 0, 0, 0]    # 取り出したカードに書かれた数字を記録しておくリスト（初期値は0）\n",
        "counter = [0, 0, 0, 0]    # 記録された数字の出現回数を記録するリスト ['1の出現回数', '2の出現回数', '3の出現回数', '4の出現回数']\n",
        "\n",
        "\n",
        "#### 続きのプログラムを書きなさい #####\n",
        "for i in range(4):\n",
        "    numbers[i] = random.randint(1, 4)\n",
        "\n",
        "for i in range(4):\n",
        "    counter[numbers[i] - 1] = counter[numbers[i] - 1] + 1\n",
        "\n",
        "if counter.count(4) == 1:\n",
        "    score = 9\n",
        "elif counter.count(2) == 2:\n",
        "    score = 3\n",
        "elif counter.count(3) == 1:\n",
        "    score = 2\n",
        "elif counter.count(2) == 1:\n",
        "    score = 1\n",
        "else:\n",
        "    score = 0\n",
        "\n",
        "#### ここまで #####\n",
        "\n",
        "#手順4\n",
        "print(numbers)\n",
        "print(score, \"点\")"
      ],
      "metadata": {
        "id": "ZedSDGca1pSe",
        "colab": {
          "base_uri": "https://localhost:8080/"
        },
        "outputId": "b7434ad0-ee74-4bf9-a6cc-005fce9ab2e8"
      },
      "execution_count": 5,
      "outputs": [
        {
          "output_type": "stream",
          "name": "stdout",
          "text": [
            "[4, 2, 2, 4]\n",
            "3 点\n"
          ]
        }
      ]
    },
    {
      "cell_type": "markdown",
      "source": [
        "###模範解答"
      ],
      "metadata": {
        "id": "yWSpxwxz1pk7"
      }
    },
    {
      "cell_type": "code",
      "source": [
        "# 数字カード\n",
        "import random\n",
        "\n",
        "numbers = [0, 0, 0, 0]    # 取り出したカードに書かれた数字を記録しておくリスト（初期値は0）\n",
        "counter = [0, 0, 0, 0]    # 記録された数字の出現回数を記録するリスト ['1の出現回数', '2の出現回数', '3の出現回数', '4の出現回数']\n",
        "\n",
        "\n",
        "#### 続きのプログラムを書きなさい #####\n",
        "\n",
        "#手順1\n",
        "for i in range(4):\n",
        "    numbers[i] = random.randint(1, 4)\n",
        "\n",
        "#手順2\n",
        "for i in range(4):\n",
        "    counter[numbers[i] - 1] = counter[numbers[i] - 1] + 1\n",
        "\n",
        "#手順3\n",
        "if counter.count(4) == 1:\n",
        "    score = 9\n",
        "elif counter.count(2) == 2:\n",
        "    score = 3\n",
        "elif counter.count(3) == 1:\n",
        "    score = 2\n",
        "elif counter.count(2) == 1:\n",
        "    score = 1\n",
        "else:\n",
        "    score = 0\n",
        "\n",
        "#### ここまで #####\n",
        "\n",
        "#手順4\n",
        "print(numbers)\n",
        "print(score, \"点\")"
      ],
      "metadata": {
        "colab": {
          "base_uri": "https://localhost:8080/"
        },
        "id": "rcaU3Dl1sPJo",
        "outputId": "df224391-734e-48e1-fd7e-078f87a47f9c"
      },
      "execution_count": null,
      "outputs": [
        {
          "output_type": "stream",
          "name": "stdout",
          "text": [
            "[3, 1, 1, 4]\n",
            "1 点\n"
          ]
        }
      ]
    },
    {
      "cell_type": "markdown",
      "source": [
        "---\n",
        "---\n",
        "#**問4 トランプ**\n",
        "\n"
      ],
      "metadata": {
        "id": "ehgMjznYuuYR"
      }
    },
    {
      "cell_type": "markdown",
      "source": [
        "##**(1) カードを1枚引く**\n",
        "ジョーカーを除く52枚のトランプから1枚を引いて、そのスート(♠♣♥♦)と数字(A, 2, 3, ... 10, J, Q, K)を表示するプログラムを書きなさい。  \n",
        "ただし、「52枚のトランプ」は0〜51の整数の乱数を`random.randint(0,51)`で生成し、スートと数字はその乱数から求められる商と剰余から求めなさい。  \n",
        "\n",
        "  \n",
        "```\n",
        "出力例: ♠3\n",
        "```"
      ],
      "metadata": {
        "id": "JCzr6coq1s57"
      }
    },
    {
      "cell_type": "markdown",
      "source": [
        "###入力用"
      ],
      "metadata": {
        "id": "HHSstVzE2lKe"
      }
    },
    {
      "cell_type": "code",
      "source": [
        "# カードを1枚引く\n",
        "import random\n",
        "suits = [\"♠\", \"♣\", \"♥\", \"♦\"]\n",
        "numbers = [\"2\", \"3\", \"4\", \"5\", \"6\", \"7\", \"8\", \"9\", \"10\", \"J\", \"Q\", \"K\", \"A\"]    # 今回は\"A\"を最後にしたが、大富豪などでは\"2\"を最後にするなどゲームによって工夫する\n",
        "\n",
        "n = random.randint(0,51)    # 0〜51の整数の乱数を生成\n",
        "\n",
        "#### 続きのプログラムを書きなさい #####\n",
        "suit = suits[n // 13]\n",
        "number = numbers[n % 13]\n",
        "#### ここまで ####\n",
        "print(suit + number)        # str型変数どうしを「+」で結合する\n"
      ],
      "metadata": {
        "id": "L3n_sf_62lTS"
      },
      "execution_count": null,
      "outputs": []
    },
    {
      "cell_type": "markdown",
      "source": [
        "###模範解答"
      ],
      "metadata": {
        "id": "wbX_zOGA2lcb"
      }
    },
    {
      "cell_type": "code",
      "source": [
        "# カードを1枚引く\n",
        "import random\n",
        "suits = [\"♠\", \"♣\", \"♥\", \"♦\"]\n",
        "numbers = [\"2\", \"3\", \"4\", \"5\", \"6\", \"7\", \"8\", \"9\", \"10\", \"J\", \"Q\", \"K\", \"A\"]    # 今回は\"A\"を最後にしたが、大富豪などでは\"2\"を最後にするなどゲームによって工夫する\n",
        "\n",
        "n = random.randint(0,51)    # 0〜51の整数の乱数を生成\n",
        "\n",
        "#### 続きのプログラムを書きなさい #####\n",
        "suit = suits[n // 13]\n",
        "number = numbers[n % 13]\n",
        "\n",
        "#### ここまで ####\n",
        "print(suit + number)        # str型変数どうしを「+」で結合する\n"
      ],
      "metadata": {
        "colab": {
          "base_uri": "https://localhost:8080/"
        },
        "id": "GFMn9ptuuuhJ",
        "outputId": "ce6299cb-5b5a-4bff-a6f3-238fd75912fc"
      },
      "execution_count": null,
      "outputs": [
        {
          "output_type": "stream",
          "name": "stdout",
          "text": [
            "♠A\n"
          ]
        }
      ]
    },
    {
      "cell_type": "markdown",
      "source": [
        "##**(2) カードを5枚ひく**\n",
        "`[0, 1, 2, ..., 51]`のリスト型変数`cards`を作成（`cards = list(range(0,52)) `）し、シャッフル（`random.shuffle(cards) `）した。  \n",
        "この`cards`のうち、最初の5つの数字をリスト型変数`deck`に追加しなさい。  \n",
        "次に、`deck`の各要素について、(1)の操作をおこない、順に表示するプログラムを書きなさい。  \n",
        "\n",
        "```\n",
        "出力例:  ♦4 ♣7 ♦8 ♥J ♦6\n",
        "```"
      ],
      "metadata": {
        "id": "2g6cJyiCzJpi"
      }
    },
    {
      "cell_type": "markdown",
      "source": [
        "###入力用"
      ],
      "metadata": {
        "id": "vLZIGoHK2oPl"
      }
    },
    {
      "cell_type": "code",
      "source": [
        "# カードを5枚引く\n",
        "import random\n",
        "suits = [\"♠\", \"♣\", \"♥\", \"♦\"]\n",
        "numbers = [\"2\", \"3\", \"4\", \"5\", \"6\", \"7\", \"8\", \"9\", \"10\", \"J\", \"Q\", \"K\", \"A\"]\n",
        "\n",
        "cards = list(range(0,52))     # cardsに0〜51の自然数を入れる cards = [0, 1, 2, 3, ..., 51]と同じ\n",
        "random.shuffle(cards)         # cardsの要素をランダムに並び替える\n",
        "\n",
        "deck = []                     # リスト型変数deckを用意する（初期値はカラのリスト）\n",
        "\n",
        "#### 続きのプログラムを書きなさい #####\n",
        "for i in range(5):\n",
        "    deck.append(cards[i])\n",
        "\n",
        "for card in deck:\n",
        "    suit = suits[card // 13]\n",
        "    number = numbers[card % 13]\n",
        "\n",
        "    print(suit + number, end=\" \")"
      ],
      "metadata": {
        "id": "m75-58me2oan"
      },
      "execution_count": null,
      "outputs": []
    },
    {
      "cell_type": "markdown",
      "source": [
        "###模範解答"
      ],
      "metadata": {
        "id": "BAmK0D9_2ohP"
      }
    },
    {
      "cell_type": "code",
      "source": [
        "# カードを5枚引く\n",
        "import random\n",
        "suits = [\"♠\", \"♣\", \"♥\", \"♦\"]\n",
        "numbers = [\"2\", \"3\", \"4\", \"5\", \"6\", \"7\", \"8\", \"9\", \"10\", \"J\", \"Q\", \"K\", \"A\"]\n",
        "\n",
        "cards = list(range(0,52))     # cardsに0〜51の自然数を入れる cards = [0, 1, 2, 3, ..., 51]と同じ\n",
        "random.shuffle(cards)         # cardsの要素をランダムに並び替える\n",
        "\n",
        "deck = []                     # リスト型変数deckを用意する（初期値はカラのリスト）\n",
        "\n",
        "#### 続きのプログラムを書きなさい #####\n",
        "for i in range(5):\n",
        "    deck.append(cards[i])\n",
        "\n",
        "for card in deck:\n",
        "    suit = suits[card // 13]\n",
        "    number = numbers[card % 13]\n",
        "\n",
        "    print(suit + number, end=\" \")\n"
      ],
      "metadata": {
        "colab": {
          "base_uri": "https://localhost:8080/"
        },
        "id": "fSb2uyC6zJx0",
        "outputId": "73593693-5c78-4092-a8a5-6614d70d2abc"
      },
      "execution_count": null,
      "outputs": [
        {
          "output_type": "stream",
          "name": "stdout",
          "text": [
            "♦4 ♣7 ♦8 ♥J ♦6 "
          ]
        }
      ]
    }
  ]
}