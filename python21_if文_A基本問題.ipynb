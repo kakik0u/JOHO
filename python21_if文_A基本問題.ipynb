{
  "nbformat": 4,
  "nbformat_minor": 0,
  "metadata": {
    "colab": {
      "provenance": [],
      "toc_visible": true
    },
    "kernelspec": {
      "name": "python3",
      "display_name": "Python 3"
    },
    "language_info": {
      "name": "python"
    }
  },
  "cells": [
    {
      "cell_type": "markdown",
      "source": [
        "#**2-1. 条件分岐（if文）** 基本問題\n",
        "\n",
        "\n",
        "\n"
      ],
      "metadata": {
        "id": "fVFSs1Jko59p"
      }
    },
    {
      "cell_type": "markdown",
      "source": [
        "#**問1 if文の基本**"
      ],
      "metadata": {
        "id": "hV8Hh4c4fvmo"
      }
    },
    {
      "cell_type": "markdown",
      "source": [
        "##**(1) 数値の比較**\n",
        "ユーザーが入力した整数値が20より大きいかどうかを判別するプログラムを書きなさい。  \n",
        "ただし、ユーザーの入力値によるエラー回避は不要です。\n",
        "\n",
        "入出力例\n",
        "```\n",
        "整数を入力してください: 24\n",
        "24 は20より大きい\n",
        "```\n",
        "\n",
        "```\n",
        "整数を入力してください: 18\n",
        "18 は20以下\n",
        "```"
      ],
      "metadata": {
        "id": "RmQtHGQQfyhY"
      }
    },
    {
      "cell_type": "markdown",
      "source": [
        "###入力用"
      ],
      "metadata": {
        "id": "ZaRc78GXgTnR"
      }
    },
    {
      "cell_type": "code",
      "source": [
        "n = int(input(\"整数を入力してください: \"))\n",
        "\n",
        "if {n > 20}:\n",
        "    print(n, \"は20より大きい\")\n",
        "else:\n",
        "    print(n, \"は20以下\")"
      ],
      "metadata": {
        "id": "vvgarzfLgWP9"
      },
      "execution_count": null,
      "outputs": []
    },
    {
      "cell_type": "markdown",
      "source": [
        "###模範解答"
      ],
      "metadata": {
        "id": "JMnSzRrFgWpe"
      }
    },
    {
      "cell_type": "code",
      "source": [
        "n = int(input(\"整数を入力してください: \"))\n",
        "\n",
        "if n > 20:\n",
        "    print(n, \"は20より大きい\")\n",
        "else:\n",
        "    print(n, \"は20以下\")"
      ],
      "metadata": {
        "colab": {
          "base_uri": "https://localhost:8080/"
        },
        "id": "iQjMH0z2gYC2",
        "outputId": "01c1c803-3873-4359-a1d8-3fc697089936"
      },
      "execution_count": null,
      "outputs": [
        {
          "output_type": "stream",
          "name": "stdout",
          "text": [
            "整数を入力してください: 18\n",
            "18 は20以下\n"
          ]
        }
      ]
    },
    {
      "cell_type": "markdown",
      "source": [
        "---\n",
        "##**(2) 偶奇判定**\n",
        "ユーザーが入力した整数値が偶数か奇数かを判別するプログラムを書きなさい。  \n",
        "ただし、ユーザーの入力値によるエラー回避は不要です。  \n",
        "\n",
        "入出力例\n",
        "```\n",
        "整数を入力してください: 124\n",
        "124 は偶数です。\n",
        "```\n",
        "```\n",
        "整数を入力してください: 123\n",
        "123 は奇数です。\n",
        "```\n"
      ],
      "metadata": {
        "id": "-twoL50egs-w"
      }
    },
    {
      "cell_type": "markdown",
      "source": [
        "###入力用"
      ],
      "metadata": {
        "id": "_u2hk_Tsg01c"
      }
    },
    {
      "cell_type": "code",
      "source": [
        "n = int(input(\"整数を入力してください: \"))\n",
        "\n",
        "if {n % 2 ==0}:\n",
        "    print(n, \"は偶数です。\")\n",
        "else:\n",
        "    print(n, \"は奇数です。\")"
      ],
      "metadata": {
        "id": "5hJrqQ7ag5jQ"
      },
      "execution_count": null,
      "outputs": []
    },
    {
      "cell_type": "markdown",
      "source": [
        "###模範解答"
      ],
      "metadata": {
        "id": "DKaWH91Rg5uL"
      }
    },
    {
      "cell_type": "code",
      "source": [
        "n = int(input(\"整数を入力してください: \"))\n",
        "\n",
        "if n % 2 == 0:\n",
        "    print(n, \"は偶数です。\")\n",
        "else:\n",
        "    print(n, \"は奇数です。\")"
      ],
      "metadata": {
        "colab": {
          "base_uri": "https://localhost:8080/"
        },
        "id": "Bdh2v6H9g6GX",
        "outputId": "e9c9bee9-83d9-428e-d701-e57685aeb741"
      },
      "execution_count": null,
      "outputs": [
        {
          "output_type": "stream",
          "name": "stdout",
          "text": [
            "整数を入力してください: 123\n",
            "123 は奇数です。\n"
          ]
        }
      ]
    },
    {
      "cell_type": "markdown",
      "source": [
        "---\n",
        "##**(3) 3の倍数**\n",
        "ユーザーが入力した整数値が、\n",
        "*   3の倍数なら、「3の倍数」\n",
        "*   3で割って1余るときは、「3で割って1余る」\n",
        "*   3で割って2余るときは、「3で割って2余る」\n",
        "  \n",
        "とそれぞれ出力するプログラムを書きなさい  \n",
        "ただし、ユーザーの入力値によるエラー回避処理は不要です。  "
      ],
      "metadata": {
        "id": "eV_QIYSEiZEb"
      }
    },
    {
      "cell_type": "markdown",
      "source": [
        "###入力用"
      ],
      "metadata": {
        "id": "GHqFSSjFjkgY"
      }
    },
    {
      "cell_type": "code",
      "source": [
        "n = int(input(\"整数を入力してください: \"))\n",
        "\n",
        "### 続きのプログラムを書きなさい ###\n",
        "\n",
        "if n % 3 == 0:\n",
        "    print(n, \"は、3の倍数\")\n",
        "elif n % 3 == 1:\n",
        "    print(n, \"は、3で割って1余る\")\n",
        "else:\n",
        "    print(n, \"は、3で割って2余る\")"
      ],
      "metadata": {
        "colab": {
          "base_uri": "https://localhost:8080/"
        },
        "id": "FwQTPAygjl92",
        "outputId": "3d363e17-f98c-4b36-cec2-411729b40a45"
      },
      "execution_count": null,
      "outputs": [
        {
          "output_type": "stream",
          "name": "stdout",
          "text": [
            "整数を入力してください: 3\n",
            "3 は、3の倍数\n"
          ]
        }
      ]
    },
    {
      "cell_type": "markdown",
      "source": [
        "###模範解答"
      ],
      "metadata": {
        "id": "2DjxUGIYjmHg"
      }
    },
    {
      "cell_type": "code",
      "source": [
        "n = int(input(\"整数を入力してください: \"))\n",
        "\n",
        "### 続きのプログラムを書きなさい ###\n",
        "if n % 3 == 0:\n",
        "    print(n, \"は、3の倍数\")\n",
        "elif n % 3 == 1:\n",
        "    print(n, \"は、3で割って1余る\")\n",
        "else:\n",
        "    print(n, \"は、3で割って2余る\")"
      ],
      "metadata": {
        "id": "IGDaBLpbjmP6"
      },
      "execution_count": null,
      "outputs": []
    },
    {
      "cell_type": "markdown",
      "source": [
        "\n",
        "---\n",
        "##**(4) 3と5の倍数**\n",
        "ユーザーが入力した整数値が、\n",
        "*   3と5の公倍数なら、「3と5の公倍数」\n",
        "*   3と5の公倍数ではないが3の倍数なら、「3の倍数」\n",
        "*   3と5の公倍数ではないが5の倍数なら、「5の倍数」\n",
        "*   3の倍数でも5の倍数でもないなら、「3の倍数でも5の倍数でもない」\n",
        "\n",
        "とそれぞれ出力するプログラムを書きなさい。  \n",
        "ただし、ユーバーの入力値によるエラー回避は不要です。\n",
        "\n",
        "\n"
      ],
      "metadata": {
        "id": "VBfY6S74mKwe"
      }
    },
    {
      "cell_type": "markdown",
      "source": [
        "###入力用"
      ],
      "metadata": {
        "id": "PVVwLmY6m1we"
      }
    },
    {
      "cell_type": "code",
      "source": [
        "n = int(input(\"整数を入力してください: \"))\n",
        "\n",
        "### 続きのプログラムを書きなさい ###\n",
        "\n",
        "if n % 3 == 0 and n % 5 == 0:\n",
        "    print(n, \"は、3と5の公倍数\")\n",
        "elif n % 3 == 0:\n",
        "    print(n, \"は、3の倍数\")\n",
        "elif n % 5 == 0:\n",
        "    print(n, \"は、5の倍数\")\n",
        "else:\n",
        "    print(n, \"は、3の倍数でも5の倍数でもない\")"
      ],
      "metadata": {
        "id": "UfxWRi8jm15G"
      },
      "execution_count": null,
      "outputs": []
    },
    {
      "cell_type": "markdown",
      "source": [
        "###模範解答"
      ],
      "metadata": {
        "id": "qcLNp_8em2B5"
      }
    },
    {
      "cell_type": "code",
      "source": [
        "n = int(input(\"整数を入力してください: \"))\n",
        "\n",
        "### 続きのプログラムを書きなさい ###\n",
        "if n % 3 == 0 and n % 5 == 0:\n",
        "    print(n, \"は、3と5の公倍数\")\n",
        "elif n % 3 == 0:\n",
        "    print(n, \"は、3の倍数\")\n",
        "elif n % 5 == 0:\n",
        "    print(n, \"は、5の倍数\")\n",
        "else:\n",
        "    print(n, \"は、3の倍数でも5の倍数でもない\")"
      ],
      "metadata": {
        "id": "e4qyngoZm2KB"
      },
      "execution_count": null,
      "outputs": []
    },
    {
      "cell_type": "markdown",
      "source": [
        "---\n",
        "---\n",
        "#**問2 テーマパークの入園料**\n"
      ],
      "metadata": {
        "id": "NzZfeBL_o_HF"
      }
    },
    {
      "cell_type": "markdown",
      "source": [
        "##**(1) テーマパークの入園料①**\n",
        "あるテーマパークの入園料は13歳未満は5,000円、その他は8,400円です。ユーザーに年齢の入力を求めて、その年齢によって入園料を画面出力するプログラムを書きなさい。  "
      ],
      "metadata": {
        "id": "lc6f1U0w9MjY"
      }
    },
    {
      "cell_type": "markdown",
      "source": [
        "###入力用"
      ],
      "metadata": {
        "id": "WsgH12Na9dVn"
      }
    },
    {
      "cell_type": "code",
      "execution_count": null,
      "metadata": {
        "id": "5b_PPmJ-o3hZ"
      },
      "outputs": [],
      "source": [
        "# テーマパークの入園料①\n",
        "age = int(input('年齢は？'))\n",
        "\n",
        "#### 以下に続きのプログラムを書きなさい ####\n",
        "\n",
        "if age < 13:\n",
        "    print(\"入園料は5,000円です。\")\n",
        "else:\n",
        "    print(\"入園料は8,400円です。\")"
      ]
    },
    {
      "cell_type": "markdown",
      "source": [
        "###模範解答"
      ],
      "metadata": {
        "id": "jzFBNje-92Hp"
      }
    },
    {
      "cell_type": "code",
      "source": [
        "# テーマパークの入園料①\n",
        "age = int(input('年齢は？'))\n",
        "\n",
        "#### 以下に続きのプログラムを書きなさい ####\n",
        "\n",
        "if age < 13:\n",
        "    print(\"入園料は5,000円です。\")\n",
        "else:\n",
        "    print(\"入園料は8,400円です。\")\n"
      ],
      "metadata": {
        "id": "zD6hLwRArRN2"
      },
      "execution_count": null,
      "outputs": []
    },
    {
      "cell_type": "markdown",
      "source": [
        "---\n",
        "##**(2) テーマパークの入園料②**\n",
        "あるテーマパークの入園料の年齢区分は次の通りです。  \n",
        "\n",
        "|4歳未満|4〜12歳|12〜17歳|18歳以上|\n",
        "|:---:|:---:|:---:|:---:|\n",
        "|0円(無料)|5,000円|7,000円|8,400円|\n",
        "\n",
        "ユーザーに年齢の入力を求めて、その年齢によって入園料を画面出力するプログラムを書きなさい。"
      ],
      "metadata": {
        "id": "HmWS4FHYpQiQ"
      }
    },
    {
      "cell_type": "markdown",
      "source": [
        "###入力用"
      ],
      "metadata": {
        "id": "RokccQ-49ylL"
      }
    },
    {
      "cell_type": "code",
      "source": [
        "# テーマパークの入園料②\n",
        "age = int(input(\"年齢は？\"))\n",
        "\n",
        "#### 以下に続きのプログラムを書きなさい ####\n",
        "\n",
        "if age < 4:\n",
        "    print(\"入園料は0円(無料)です。\")\n",
        "elif age < 13:\n",
        "    print(\"入園料は5000円です。\")\n",
        "elif age < 18:\n",
        "    print(\"入園料は7000円です。\")\n",
        "else:\n",
        "    print(\"入園料は8400円です。\")\n",
        "\n",
        "\n",
        "\n"
      ],
      "metadata": {
        "id": "UqzUC9yNrj4i"
      },
      "execution_count": null,
      "outputs": []
    },
    {
      "cell_type": "markdown",
      "source": [
        "###模範解答"
      ],
      "metadata": {
        "id": "CF2H5Ujo9zIQ"
      }
    },
    {
      "cell_type": "code",
      "source": [
        "# テーマパークの入園料②\n",
        "age = int(input(\"年齢は？\"))\n",
        "\n",
        "#### 以下に続きのプログラムを書きなさい ####\n",
        "if age < 4:\n",
        "    print(\"入園料は0円(無料)です。\")\n",
        "elif age < 13:\n",
        "    print(\"入園料は5000円です。\")\n",
        "elif age < 18:\n",
        "    print(\"入園料は7000円です。\")\n",
        "else:\n",
        "    print(\"入園料は8400円です。\")\n"
      ],
      "metadata": {
        "id": "xEfHdESYqOkB"
      },
      "execution_count": null,
      "outputs": []
    },
    {
      "cell_type": "markdown",
      "source": [
        "---\n",
        "---\n",
        "#**問3 おみくじ**\n",
        "ある神社のおみくじは、次の割合で入っています。  \n",
        "実行すると、この確率にしたがって、おみくじの結果を表示するプログラムを書きなさい。  \n",
        "\n",
        "|大吉|中吉|小吉|吉|末吉|凶|大凶|\n",
        "|:---:|:---:|:---:|:---:|:---:|:---:|:---:|\n",
        "|10%|14%|16%|18%|18%|16%|8%|"
      ],
      "metadata": {
        "id": "vwdKS85ikf-G"
      }
    },
    {
      "cell_type": "markdown",
      "source": [
        "###入力用"
      ],
      "metadata": {
        "id": "t4EXIbmwlVDv"
      }
    },
    {
      "cell_type": "code",
      "source": [
        "import random   #乱数を発生させるモジュールを読み込む\n",
        "\n",
        "r = random.random() #変数r：0以上1未満の実数値の乱数\n",
        "\n",
        "#### 以下に続きのプログラムを書きなさい ####\n",
        "if n >= 0.90:\n",
        "    print(\"大吉\")\n",
        "elif n >= 0.76:\n",
        "    print(\"中吉\")\n",
        "elif n >= 0.60:\n",
        "    print(\"小吉\")\n",
        "elif n >= 0.42:\n",
        "    print(\"吉\")\n",
        "elif n >= 0.24:\n",
        "    print(\"末吉\")\n",
        "elif n >= 0.08:\n",
        "    print(\"凶\")\n",
        "else:\n",
        "    print(\"大凶\")"
      ],
      "metadata": {
        "id": "8zqe6-LLlVYE"
      },
      "execution_count": null,
      "outputs": []
    },
    {
      "cell_type": "markdown",
      "source": [
        "###模範解答"
      ],
      "metadata": {
        "id": "Cm2I1HQNlVmr"
      }
    },
    {
      "cell_type": "code",
      "source": [
        "import random   #乱数を発生させるモジュールを読み込む\n",
        "\n",
        "n = random.random() #変数r：0以上1未満の実数値の乱数\n",
        "\n",
        "#### 以下に続きのプログラムを書きなさい ####\n",
        "if n >= 0.90:\n",
        "    print(\"大吉\")\n",
        "elif n >= 0.76:\n",
        "    print(\"中吉\")\n",
        "elif n >= 0.60:\n",
        "    print(\"小吉\")\n",
        "elif n >= 0.42:\n",
        "    print(\"吉\")\n",
        "elif n >= 0.24:\n",
        "    print(\"末吉\")\n",
        "elif n >= 0.08:\n",
        "    print(\"凶\")\n",
        "else:\n",
        "    print(\"大凶\")\n"
      ],
      "metadata": {
        "id": "Ri9MkTTSlVvP"
      },
      "execution_count": null,
      "outputs": []
    }
  ]
}