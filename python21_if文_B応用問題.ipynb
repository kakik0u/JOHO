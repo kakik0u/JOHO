{
  "nbformat": 4,
  "nbformat_minor": 0,
  "metadata": {
    "colab": {
      "provenance": [],
      "toc_visible": true
    },
    "kernelspec": {
      "name": "python3",
      "display_name": "Python 3"
    },
    "language_info": {
      "name": "python"
    }
  },
  "cells": [
    {
      "cell_type": "markdown",
      "source": [
        "#**2-1. 条件分岐（if文）** 応用問題\n",
        "\n",
        "\n",
        "\n"
      ],
      "metadata": {
        "id": "XYlS1gFTYpM9"
      }
    },
    {
      "cell_type": "markdown",
      "source": [
        "#**問1 閏年判定**\n",
        "ユーザーが入力した値（西暦）が閏年（うるうどし）かどうかを判定するプログラムを書きなさい。ただし、閏年は次の規則に従う。  \n",
        ">**西暦が4で割り切れる年は閏年である。  \n",
        ">ただし、西暦が100で割り切れて400で割り切れない年は平年である。**」  \n",
        "\n",
        "※*平年： 閏年ではない年のこと。*  \n",
        "また、ユーザーの入力値のエラー回避処理は不要です。"
      ],
      "metadata": {
        "id": "95ttGZttZQSE"
      }
    },
    {
      "cell_type": "markdown",
      "source": [
        "###入力用"
      ],
      "metadata": {
        "id": "zjSuFSeEoEQv"
      }
    },
    {
      "cell_type": "code",
      "source": [
        "# 閏年判定\n",
        "year = int(input(\"年を入力してください: \"))\n",
        "\n",
        "#### 以下に続きのプログラムを書きなさい ####\n",
        "if year % 400 == 0 or year % 4 == 0 or year % 100 != 0:\n",
        "    print(year, \"年は閏年です。\")\n",
        "else:\n",
        "    print(year, \"年は閏年ではありません。\")"
      ],
      "metadata": {
        "id": "6GQmHYoLoEZ0"
      },
      "execution_count": null,
      "outputs": []
    },
    {
      "cell_type": "markdown",
      "source": [
        "###模範解答"
      ],
      "metadata": {
        "id": "QwTcIF0boEjh"
      }
    },
    {
      "cell_type": "markdown",
      "source": [
        "####解答1\n",
        "\n",
        "4で割り切れる年閏年だが、そのうち100で割り切れて400で割り切れない年は閏年ではない。\n"
      ],
      "metadata": {
        "id": "qZ6pYFFfT-qW"
      }
    },
    {
      "cell_type": "code",
      "source": [
        "# 閏年判定\n",
        "year = int(input(\"西暦を入力してください: \"))\n",
        "\n",
        "#### 以下に続きのプログラムを書きなさい ####\n",
        "if year % 4 == 0: # 4で割り切れる年\n",
        "    if year % 100 == 0 and year % 400 != 0:   # 100で割り切れて400で割り切れない年\n",
        "        print(year, \"年は閏年ではありません。\")\n",
        "    else: # 100で割り切れて400で割り切れない年以外の4で割り切れる年\n",
        "        print(year, \"年は閏年です。\")\n",
        "else:   # 4で割り切れない年\n",
        "    print(year, \"年は閏年ではありません。\")\n"
      ],
      "metadata": {
        "colab": {
          "base_uri": "https://localhost:8080/"
        },
        "id": "WoCfqTZJT-yo",
        "outputId": "d20ee8bf-5d0f-4d29-8535-063ac01a7517"
      },
      "execution_count": null,
      "outputs": [
        {
          "output_type": "stream",
          "name": "stdout",
          "text": [
            "西暦を入力してください: 2000\n",
            "2000 年は閏年です。\n"
          ]
        }
      ]
    },
    {
      "cell_type": "markdown",
      "source": [
        "###解答1(別解)\n",
        "`year % 100 == 0 and year % 400 != 0`を書き換えると`not (year % 100 != 0 or year % 400 == 0)`と表せる（∵ドモルガンの法則）ので、次のコードも同様になる。"
      ],
      "metadata": {
        "id": "fop39bY-ZL8n"
      }
    },
    {
      "cell_type": "code",
      "source": [
        "# 閏年判定\n",
        "year = int(input(\"西暦を入力してください: \"))\n",
        "\n",
        "#### 以下に続きのプログラムを書きなさい ####\n",
        "if year % 4 == 0: # 4で割り切れる年\n",
        "    if not (year % 100 != 0 or year % 400 == 0):   # 100で割り切れて400で割り切れない年\n",
        "        print(year, \"年は閏年ではありません。\")\n",
        "    else: # 100で割り切れて400で割り切れない年以外の4で割り切れる年\n",
        "        print(year, \"年は閏年です。\")\n",
        "else:   # 4で割り切れない年\n",
        "    print(year, \"年は閏年ではありません。\")"
      ],
      "metadata": {
        "colab": {
          "base_uri": "https://localhost:8080/"
        },
        "id": "1CtKWN68ZMEI",
        "outputId": "f4b7133c-fd42-4e3b-c6a0-9c1b3188631e"
      },
      "execution_count": null,
      "outputs": [
        {
          "output_type": "stream",
          "name": "stdout",
          "text": [
            "西暦を入力してください: 2000\n",
            "2000 年は閏年です。\n"
          ]
        }
      ]
    },
    {
      "cell_type": "markdown",
      "source": [
        "####解答2\n",
        "\n",
        "{400の倍数} ∈ {100の倍数} ∈ {4の倍数}なので、最も内側の条件からif文を書いていく。\n",
        "\n"
      ],
      "metadata": {
        "id": "9SbI3ZWzoI0N"
      }
    },
    {
      "cell_type": "code",
      "source": [
        "# 閏年判定\n",
        "year = int(input(\"西暦を入力してください: \"))\n",
        "\n",
        "#### 以下に続きのプログラムを書きなさい ####\n",
        "if year % 400 == 0: # 400で割り切れる年は閏年\n",
        "    print(year, \"年は閏年です。\")\n",
        "elif year % 100 == 0:   # 400で割り切れなくて、100で割り切れる年は平年\n",
        "    print(year, \"年は閏年ではありません。\")\n",
        "elif year % 4 == 0:  # 400で割り切れなくて、100で割り切れなくて、4で割り切れる年は閏年\n",
        "    print(year, \"年は閏年です。\")\n",
        "else:   # それ以外は平年\n",
        "    print(year, \"年は閏年ではありません。\")"
      ],
      "metadata": {
        "colab": {
          "base_uri": "https://localhost:8080/"
        },
        "id": "B4zXeyUrtZ-r",
        "outputId": "8ec4af6a-2ae3-4b67-d766-cc2cb252f52f"
      },
      "execution_count": null,
      "outputs": [
        {
          "output_type": "stream",
          "name": "stdout",
          "text": [
            "年を入力してください: 2000\n",
            "2000 年は閏年です。\n"
          ]
        }
      ]
    },
    {
      "cell_type": "markdown",
      "source": [
        "####解答3\n",
        "条件式1つで条件分岐する。  \n",
        "閏年の条件を書き換えると、『「4で割り切れる」かつ「100で割り切れない」』または『400で割り切れる』」年は閏年である。  \n",
        "これをコードで表すと、`(year % 4 == 0 and year % 100 != 0) or year % 400 == 0`である。  \n",
        "and演算(論理積) は or演算(論理和) よりも優先順位が高いので、この場合はカッコなしで`year % 4 == 0 and year % 100 != 0 or year % 400 == 0`とすることができる。\n",
        "ベン図を書くと理解しやすい。"
      ],
      "metadata": {
        "id": "ohOnCSNqoKUv"
      }
    },
    {
      "cell_type": "code",
      "source": [
        "# 閏年判定\n",
        "year = int(input(\"西暦を入力してください: \"))\n",
        "\n",
        "#### 以下に続きのプログラムを書きなさい ####\n",
        "if year % 4 == 0 and year % 100 != 0 or year % 400 == 0:\n",
        "    print(year, \"年は閏年です。\")\n",
        "else:\n",
        "    print(year, \"年は閏年ではありません。\")"
      ],
      "metadata": {
        "colab": {
          "base_uri": "https://localhost:8080/"
        },
        "id": "6e5m99nMZQce",
        "outputId": "89738aa4-0acb-4ba7-8ca2-b3a2623335a5"
      },
      "execution_count": null,
      "outputs": [
        {
          "output_type": "stream",
          "name": "stdout",
          "text": [
            "西暦を入力してください: 2000\n",
            "2000 年は閏年です。\n"
          ]
        }
      ]
    },
    {
      "cell_type": "code",
      "source": [
        "# 閏年判定\n",
        "year = int(input(\"西暦を入力してください: \"))\n",
        "\n",
        "#### 以下に続きのプログラムを書きなさい ####\n",
        "if year % 400 == 0 or year % 4 == 0 or year % 100 != 0:\n",
        "    print(year, \"年は閏年です。\")\n",
        "else:\n",
        "    print(year, \"年は閏年ではありません。\")"
      ],
      "metadata": {
        "colab": {
          "base_uri": "https://localhost:8080/"
        },
        "id": "gcGN65DMiUWP",
        "outputId": "a7b7371b-32f0-4bb2-8c7c-2c2b6a0e3301"
      },
      "execution_count": null,
      "outputs": [
        {
          "output_type": "stream",
          "name": "stdout",
          "text": [
            "西暦を入力してください: 2000\n",
            "2000 年は閏年です。\n"
          ]
        }
      ]
    },
    {
      "cell_type": "markdown",
      "source": [
        "---\n",
        "---\n",
        "#**問2 3の倍数と3のつく数字のときだけ★をつける①**\n",
        "\n",
        "1以上100未満の整数の乱数を発生させ、3の倍数または3のつく数字のときに、その数字のあとに「★」を出力し、それ以外の場合にはその数字のみ出力するプログラムを書きなさい。\n",
        "ただし、ユーザーの入力値によるエラー回避は不要です。\n"
      ],
      "metadata": {
        "id": "FaFhsaXou7tL"
      }
    },
    {
      "cell_type": "markdown",
      "source": [
        "###入力用"
      ],
      "metadata": {
        "id": "EyKgCERL3StY"
      }
    },
    {
      "cell_type": "code",
      "source": [
        "import random   #乱数を発生させるモジュールを読み込む\n",
        "\n",
        "n = random.randint(1,100) # 1以上100以下の整数の乱数を発生させてnに代入\n",
        "\n",
        "#### 以下に続きのプログラムを書きなさい ####\n",
        "if n // 10 == 3 or n % 10 == 3 or n % 3 == 0:\n",
        "    print(n, \"★\")\n",
        "else:\n",
        "    print(n)"
      ],
      "metadata": {
        "id": "a4XLV7xo3S7c"
      },
      "execution_count": null,
      "outputs": []
    },
    {
      "cell_type": "markdown",
      "source": [
        "###模範解答"
      ],
      "metadata": {
        "id": "FHJ8YfKi3TFB"
      }
    },
    {
      "cell_type": "code",
      "execution_count": null,
      "metadata": {
        "id": "RKmrwJc3u2b4",
        "colab": {
          "base_uri": "https://localhost:8080/"
        },
        "outputId": "d14ecbf6-f5b2-4a22-de37-8d7a04d78357"
      },
      "outputs": [
        {
          "output_type": "stream",
          "name": "stdout",
          "text": [
            "86\n"
          ]
        }
      ],
      "source": [
        "import random   #乱数を発生させるモジュールを読み込む\n",
        "\n",
        "n = random.randint(1,100) # 1以上100以下の整数の乱数を発生させてnに代入\n",
        "\n",
        "#### 以下に続きのプログラムを書きなさい ####\n",
        "if n // 10 == 3 or n % 10 == 3 or n % 3 == 0:\n",
        "    print(n, \"★\")\n",
        "else:\n",
        "    print(n)"
      ]
    },
    {
      "cell_type": "markdown",
      "source": [
        "---\n",
        "---\n",
        "#**問3 数字ゲーム**\n",
        "2人がそれぞれ1〜6の書かれたカードを１セットずつ持っています。同時に１枚ずつカードを出し、  \n",
        "\n",
        "*   2人が出したカードに書かれた数字の和が奇数なら、大きい数字を出した方が勝ち\n",
        "*   2人が出したカードに書かれた数字の和が偶数なら、小さい数字を出した方が勝ち\n",
        "\n",
        "というゲームがあります。  \n",
        "ユーザーに1〜6の整数値を入力させ、パイソンは1〜6の乱数を発生させてこのゲームをおこなうプログラムを書きなさい。  \n",
        "ただし、ユーザーの入力値によるエラー回避は不要です。\n",
        "\n",
        "入出力例\n",
        "```\n",
        "1〜6の整数を入力してください: 3\n",
        "パイソンは 1 を出しました。\n",
        "あなたの負け\n",
        "```\n",
        "\n",
        "```\n",
        "1〜6の整数を入力してください: 4\n",
        "パイソンは 3 を出しました。\n",
        "あなたの勝ち\n",
        "```\n"
      ],
      "metadata": {
        "id": "See2wrg83nqI"
      }
    },
    {
      "cell_type": "markdown",
      "source": [
        "###入力用"
      ],
      "metadata": {
        "id": "3UAb-FUF4y1b"
      }
    },
    {
      "cell_type": "code",
      "source": [
        "import random\n",
        "\n",
        "your_number = int(input('1〜6の整数を入力してください: '))\n",
        "python_number = random.randint(1,6)\n",
        "\n",
        "print(\"パイソンは\", python_number, \"を出しました。\")\n",
        "\n",
        "### 続きのプログラムを書きなさい ###\n",
        "if (your_number + python_number) % 2 == 1:\n",
        "    if your_number > python_number:\n",
        "        print(\"あなたの勝ち\")\n",
        "    else:\n",
        "        print(\"あなたの負け\")\n",
        "\n",
        "else:\n",
        "    if your_number < python_number:\n",
        "        print(\"あなたの勝ち\")\n",
        "    else:\n",
        "        print(\"あなたの負け\")"
      ],
      "metadata": {
        "id": "am2UjvV94ztr"
      },
      "execution_count": null,
      "outputs": []
    },
    {
      "cell_type": "markdown",
      "source": [
        "###模範解答"
      ],
      "metadata": {
        "id": "wB5dDM5u43AW"
      }
    },
    {
      "cell_type": "code",
      "source": [
        "import random\n",
        "\n",
        "your_number = int(input('1〜6の整数を入力してください: '))\n",
        "python_number = random.randint(1,6)\n",
        "\n",
        "print(\"パイソンは\", python_number, \"を出しました。\")\n",
        "\n",
        "### 続きのプログラムを書きなさい ###\n",
        "if (your_number + python_number) % 2 == 1:\n",
        "    if your_number > python_number:\n",
        "        print(\"あなたの勝ち\")\n",
        "    else:\n",
        "        print(\"あなたの負け\")\n",
        "\n",
        "else:\n",
        "    if your_number < python_number:\n",
        "        print(\"あなたの勝ち\")\n",
        "    else:\n",
        "        print(\"あなたの負け\")"
      ],
      "metadata": {
        "colab": {
          "base_uri": "https://localhost:8080/"
        },
        "id": "kUJ5tBjg43IH",
        "outputId": "adc32313-bbbc-4a04-ded0-1c73c79911bf"
      },
      "execution_count": null,
      "outputs": [
        {
          "output_type": "stream",
          "name": "stdout",
          "text": [
            "1〜6の整数を入力してください: 6\n",
            "パイソンは 2 を出しました。\n",
            "あなたの負け\n"
          ]
        }
      ]
    },
    {
      "cell_type": "markdown",
      "source": [
        "---\n",
        "---\n",
        "#**問4 パイソンじゃんけん**\n",
        "次のプログラムは、パイソンとじゃんけんをするプログラムです。  \n",
        "途中の(1)にはパイソンの手を表示するプログラム，(2)には勝敗を表示するプログラムを書き入れなさい。  \n",
        "ただし、ユーザーの入力値のエラー回避処理は不要です。"
      ],
      "metadata": {
        "id": "P-4PdtHq6ddA"
      }
    },
    {
      "cell_type": "markdown",
      "source": [
        "###入力用"
      ],
      "metadata": {
        "id": "FWEtwXyA6O_q"
      }
    },
    {
      "cell_type": "code",
      "source": [
        "# パイソンじゃんけん\n",
        "import random   # 乱数を発生させるモジュールを読み込む（乱数発生に利用）\n",
        "import time     # 時間に関するモジュールを読み込む（処理を一時停止するのに利用）\n",
        "\n",
        "\n",
        "print(\"パイソンじゃんけん！\")   # じゃんけんを始めるかけ声\n",
        "print(\"じゃんけん！！\")\n",
        "\n",
        "\n",
        "print(\"あなたの手を選んでください(0: グー, 1: チョキ, 2: パー）\")   # ユーザーの手を入力させる\n",
        "your_hand = int(input())\n",
        "\n",
        "print(\"ポン！！！\")\n",
        "\n",
        "time.sleep(2)                         # 処理を一時停止（2秒待機）。じゃんけんっぽさを演出。\n",
        "\n",
        "\n",
        "python_hand = random.randint(0, 2)    # パイソンの手をランダムに決定する\n",
        "\n",
        "### (1) パイソンの手を表示するプログラム ###\n",
        "if python_hand == 0:\n",
        "    print(\"私はグーを出しました。\")\n",
        "elif python_hand == 1:\n",
        "    print(\"私はチョキを出しました。\")\n",
        "else:\n",
        "    print(\"私はパーを出しました。\")\n",
        "\n",
        "### (1) ここまで #####################\n",
        "\n",
        "time.sleep(1)                         # 処理を一時停止（1秒待機）。じゃんけんっぽさを演出。\n",
        "\n",
        "### (2) 勝敗を表示するプログラム #########\n",
        "if your_hand == python_hand:\n",
        "    print(\"あいこです！\")\n",
        "elif (your_hand == 0 and python_hand == 1) or (your_hand == 1 and python_hand == 2) or (your_hand == 2 and python_hand == 0):\n",
        "    print(\"あなたの勝ちです！\")\n",
        "else:\n",
        "    print(\"私の勝ちです！雑魚乙\")\n",
        "\n",
        "### (2) ここまで #####################\n"
      ],
      "metadata": {
        "id": "TFc9uTBL6PKF"
      },
      "execution_count": null,
      "outputs": []
    },
    {
      "cell_type": "markdown",
      "source": [
        "###模範解答"
      ],
      "metadata": {
        "id": "TUUFRA2I6PjV"
      }
    },
    {
      "cell_type": "code",
      "source": [
        "# パイソンじゃんけん\n",
        "import random   # 乱数を発生させるモジュールを読み込む（乱数発生に利用）\n",
        "import time     # 時間に関するモジュールを読み込む（処理を一時停止するのに利用）\n",
        "\n",
        "\n",
        "print(\"パイソンじゃんけん！\")   # じゃんけんを始めるかけ声\n",
        "print(\"じゃんけん！！\")\n",
        "\n",
        "\n",
        "print(\"あなたの手を選んでください(0: グー, 1: チョキ, 2: パー）\")   # ユーザーの手を入力させる\n",
        "your_hand = int(input())\n",
        "\n",
        "print(\"ポン！！！\")\n",
        "\n",
        "time.sleep(2)                         # 処理を一時停止（2秒待機）。じゃんけんっぽさを演出。\n",
        "\n",
        "\n",
        "python_hand = random.randint(0, 2)    # パイソンの手をランダムに決定する\n",
        "\n",
        "### (1) パイソンの手を表示するプログラム ###\n",
        "if python_hand == 0:\n",
        "    print(\"私はグーを出しました。\")\n",
        "elif python_hand == 1:\n",
        "    print(\"私はチョキを出しました。\")\n",
        "else:\n",
        "    print(\"私はパーを出しました。\")\n",
        "\n",
        "### (1) ここまで #####################\n",
        "\n",
        "time.sleep(1)                         # 処理を一時停止（1秒待機）。じゃんけんっぽさを演出。\n",
        "\n",
        "### (2) 勝敗を表示するプログラム #########\n",
        "if your_hand == python_hand:\n",
        "    print(\"あいこです！\")\n",
        "elif (your_hand == 0 and python_hand == 1) or (your_hand == 1 and python_hand == 2) or (your_hand == 2 and python_hand == 0):\n",
        "    print(\"あなたの勝ちです！\")\n",
        "else:\n",
        "    print(\"私の勝ちです！ウフフフフフフ！\")\n",
        "\n",
        "### (2) ここまで #####################\n"
      ],
      "metadata": {
        "id": "I4YSNdOY7iYM"
      },
      "execution_count": null,
      "outputs": []
    },
    {
      "cell_type": "markdown",
      "source": [
        "(2)の別解  \n",
        "いろいろな書き方ができるので、自分に合った書き方をしましょう。    \n",
        "\n",
        "別解1: 全通りif文をネストして条件分岐する方法\n",
        "```Python\n",
        "if your_hand == 0:\n",
        "    if python_hand == 0:\n",
        "        print('あいこです')\n",
        "    elif python_hand == 1:\n",
        "        print('あなたの勝ちです')\n",
        "    else:\n",
        "        print('私の勝ちです')\n",
        "elif your_hand == 1:\n",
        "    if python_hand == 0:\n",
        "        print('私の勝ちです')\n",
        "    elif python_hand == 1:\n",
        "        print('あいこです')\n",
        "    else:\n",
        "        print('あなたの勝ち')\n",
        "elif your_hand == 2:\n",
        "    if python_hand == 0:\n",
        "        print('あなたの勝ち')\n",
        "    elif python_hand == 1:\n",
        "        print('私の勝ちです')\n",
        "    else:\n",
        "        print('あいこです')\n",
        "```\n",
        "\n",
        "別解2: 手の値の差を利用する方法。\n",
        "```Python\n",
        "if python_hand == your_hand:\n",
        "  print(\"あいこです。\")\n",
        "elif python_hand - your_hand == 1 or python_hand - your_hand == -2:\n",
        "  print(\"あなたの勝ちです。\")\n",
        "else:\n",
        "  print(\"私の勝ちです。\")\n",
        "```\n",
        "\n",
        "別解3: 手の値の差を利用する方法で、勝利条件の条件式を複雑にしない方法。\n",
        "```Python\n",
        "result = (your_hand - python_hand + 3) % 3\n",
        "if result == 0:\n",
        "    print(\"あいこ\")\n",
        "elif result == 1:\n",
        "    print(\"私の勝ち\")\n",
        "else:\n",
        "    print(\"あなたの勝ち\")\n",
        "```"
      ],
      "metadata": {
        "id": "lDWsbcWt7uDW"
      }
    }
  ]
}