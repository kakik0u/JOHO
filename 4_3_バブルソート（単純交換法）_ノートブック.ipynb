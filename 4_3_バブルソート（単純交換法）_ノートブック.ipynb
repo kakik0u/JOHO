{
  "nbformat": 4,
  "nbformat_minor": 0,
  "metadata": {
    "colab": {
      "provenance": [],
      "include_colab_link": true
    },
    "kernelspec": {
      "name": "python3",
      "display_name": "Python 3"
    },
    "language_info": {
      "name": "python"
    }
  },
  "cells": [
    {
      "cell_type": "markdown",
      "metadata": {
        "id": "view-in-github",
        "colab_type": "text"
      },
      "source": [
        "<a href=\"https://colab.research.google.com/github/kakik0u/JOHO/blob/main/4_3_%E3%83%90%E3%83%96%E3%83%AB%E3%82%BD%E3%83%BC%E3%83%88%EF%BC%88%E5%8D%98%E7%B4%94%E4%BA%A4%E6%8F%9B%E6%B3%95%EF%BC%89_%E3%83%8E%E3%83%BC%E3%83%88%E3%83%96%E3%83%83%E3%82%AF.ipynb\" target=\"_parent\"><img src=\"https://colab.research.google.com/assets/colab-badge.svg\" alt=\"Open In Colab\"/></a>"
      ]
    },
    {
      "cell_type": "code",
      "execution_count": null,
      "metadata": {
        "id": "PLVGVI_ao6PT"
      },
      "outputs": [],
      "source": [
        "# 交換前の値\n",
        "a = 5\n",
        "b = 7\n",
        "print(\"交換前: a=\",a,\", b=\",b, sep=\"\")  # 交換前の値を表示\n",
        "\n",
        "# 変数aとbの中身を交換\n",
        "tmp = a\n",
        "a = b\n",
        "b = tmp\n",
        "\n",
        "print(\"交換後: a=\",a,\", b=\",b, sep=\"\")  # 交換後の値を表示"
      ]
    },
    {
      "cell_type": "code",
      "source": [
        "# 交換前の値\n",
        "arr = [0, 1, 2, 3, 4, 5, 6, 7]\n",
        "print(arr)  # 交換前の値を表示\n",
        "\n",
        "# 3番目と5番目を入れ換える。\n",
        "tmp = arr[3]\n",
        "arr[3] = arr[5]\n",
        "arr[5] = tmp\n",
        "\n",
        "print(arr)  # 交換後の値を表示"
      ],
      "metadata": {
        "id": "zyqmTpQculVm"
      },
      "execution_count": null,
      "outputs": []
    },
    {
      "cell_type": "code",
      "source": [
        "# バブルソート\n",
        "arr = [6, 3, 2, 0, 7, 1, 4, 5]            # 元のリスト\n",
        "print(\"ソート前\", arr)                    # ソート前を出力\n",
        "n = len(arr)\n",
        "\n",
        "for i in range(n - 1):                    # 調べる範囲の開始位置を１つずつ後へ移動していく\n",
        "    for j in range(n - 2, i - 1, -1):     # 末尾から先頭に向かって、隣り合う２値を比較する\n",
        "        if arr[j] > arr[j + 1]:           # 隣り合う２値の末尾側が小さかったら交換する\n",
        "            tmp = arr[j]\n",
        "            arr[j] = arr[j + 1]\n",
        "            arr[j + 1] = tmp\n",
        "\n",
        "print(\"ソート後\", arr)                    # ソート後を出力"
      ],
      "metadata": {
        "id": "jzq2tCzAunZD"
      },
      "execution_count": null,
      "outputs": []
    },
    {
      "cell_type": "code",
      "source": [
        "# バブルソート（iとjの変化）\n",
        "n = 8\n",
        "print(\"i\", \"j\")\n",
        "for i in range(n - 1):                    # 調べる範囲の開始位置を１つずつ後へ移動していく\n",
        "    for j in range(n - 2, i - 1, -1):     # 末尾から先頭に向かって、隣り合う２値を比較する\n",
        "        print(i, j)"
      ],
      "metadata": {
        "id": "IevepIYbuqjf"
      },
      "execution_count": null,
      "outputs": []
    },
    {
      "cell_type": "code",
      "source": [
        "# バブルソート（途中経過を出力）\n",
        "arr = [6, 3, 2, 0, 7, 1, 4, 5]            # 元のリスト\n",
        "print(arr)                                # ソート前を出力\n",
        "n = len(arr)\n",
        "\n",
        "print(\"------------------------\")\n",
        "\n",
        "for i in range(n - 1):                    # 調べる範囲の開始位置を１つずつ後へ移動していく\n",
        "    for j in range(n - 2, i - 1, -1):     # 末尾から先頭に向かって、隣り合う２値を比較する\n",
        "        if arr[j] > arr[j + 1]:           # 隣り合う２値の末尾側が小さかったら交換する\n",
        "            tmp = arr[j]\n",
        "            arr[j] = arr[j + 1]\n",
        "            arr[j + 1] = tmp\n",
        "            print(arr)                    # 途中経過を出力\n",
        "\n",
        "print(\"------------------------\")\n",
        "print(arr)                                # ソート後を出力"
      ],
      "metadata": {
        "id": "cBrhWrccusBM"
      },
      "execution_count": null,
      "outputs": []
    }
  ]
}