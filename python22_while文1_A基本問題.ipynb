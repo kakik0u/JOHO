{
  "nbformat": 4,
  "nbformat_minor": 0,
  "metadata": {
    "colab": {
      "provenance": [],
      "toc_visible": true
    },
    "kernelspec": {
      "name": "python3",
      "display_name": "Python 3"
    },
    "language_info": {
      "name": "python"
    }
  },
  "cells": [
    {
      "cell_type": "markdown",
      "source": [
        "#**2-2. 繰り返し（while文）①** 基本問題\n",
        "\n"
      ],
      "metadata": {
        "id": "fVFSs1Jko59p"
      }
    },
    {
      "cell_type": "markdown",
      "source": [
        "#**問1 while文の基本**"
      ],
      "metadata": {
        "id": "uByLM4eEFVUT"
      }
    },
    {
      "cell_type": "markdown",
      "source": [
        "##**(1) while文の基本**\n",
        "\n",
        "次のプログラム中の{　　}に適する値や式を入れて、下記のように出力するプログラムを完成させなさい。\n",
        "\n",
        "```\n",
        "出力: 0 1 2 3 4 5\n",
        "```\n",
        "\n",
        "\n",
        "\n"
      ],
      "metadata": {
        "id": "DlgKFLOxFaKM"
      }
    },
    {
      "cell_type": "markdown",
      "source": [
        "###入力用  \n",
        "{...}を置き換える（カッコも不要）。"
      ],
      "metadata": {
        "id": "THP4GmyQGHg7"
      }
    },
    {
      "cell_type": "code",
      "source": [
        "# while文の基本（入力用）{ }のところを変更する（波カッコ自体も置き換える）\n",
        "n = 0\n",
        "while n <= 5:\n",
        "    print(n, end=\" \")     #「end=\" \"」は通常改行されるところを、改行せずに半角スペースを出力する方法\n",
        "    n = n +1\n"
      ],
      "metadata": {
        "id": "ESWIMTZBFh3I",
        "colab": {
          "base_uri": "https://localhost:8080/"
        },
        "outputId": "f544527d-bf33-490f-8c5d-a27672191540"
      },
      "execution_count": 1,
      "outputs": [
        {
          "output_type": "stream",
          "name": "stdout",
          "text": [
            "0 1 2 3 4 5 "
          ]
        }
      ]
    },
    {
      "cell_type": "markdown",
      "source": [
        "###模範解答"
      ],
      "metadata": {
        "id": "oGpM0ZU-GKuH"
      }
    },
    {
      "cell_type": "code",
      "source": [
        "# while文の基本（模範解答）\n",
        "n = 0\n",
        "while n <= 5:             # nが5未満のあいだ繰り返す（n＝5になったら終了）\n",
        "    print(n, end=\" \")     # nの値を出力する\n",
        "    n = n + 1             # nにn+1を代入する\n"
      ],
      "metadata": {
        "colab": {
          "base_uri": "https://localhost:8080/"
        },
        "id": "lIrhSLAJFiRs",
        "outputId": "b587611d-097d-405e-ddd9-2a98f7018f40"
      },
      "execution_count": null,
      "outputs": [
        {
          "output_type": "stream",
          "name": "stdout",
          "text": [
            "0 1 2 3 4 5 "
          ]
        }
      ]
    },
    {
      "cell_type": "markdown",
      "source": [
        "---\n",
        "##**(2) 等差数列の項**\n",
        "初項が1で、次の項が前の項を2倍して1加えてできる数列で、はじめて1000を超える項を求めるプログラムである。  \n",
        "{　　}に適する値や式を入れて、プログラムを完成させなさい。"
      ],
      "metadata": {
        "id": "kurURjrXGbkd"
      }
    },
    {
      "cell_type": "markdown",
      "source": [
        "###入力用  \n",
        "{...}を置き換える（カッコも不要）。"
      ],
      "metadata": {
        "id": "zldu2GGVGtKt"
      }
    },
    {
      "cell_type": "code",
      "source": [
        "# 等差数列の項\n",
        "a = 1\n",
        "\n",
        "while a<=1000:\n",
        "    a = a * 2 + 1\n",
        "\n",
        "print(a)"
      ],
      "metadata": {
        "id": "Zl4DKVpjGuY0",
        "colab": {
          "base_uri": "https://localhost:8080/"
        },
        "outputId": "97b7710a-1f60-4e43-b2a5-24c7a7fc55e5"
      },
      "execution_count": 2,
      "outputs": [
        {
          "output_type": "stream",
          "name": "stdout",
          "text": [
            "1023\n"
          ]
        }
      ]
    },
    {
      "cell_type": "markdown",
      "source": [
        "###模範解答"
      ],
      "metadata": {
        "id": "IdD-UDVcGuoc"
      }
    },
    {
      "cell_type": "code",
      "source": [
        "# 等差数列の項\n",
        "a = 1\n",
        "\n",
        "while a <= 1000:\n",
        "    a = a * 2 + 1\n",
        "\n",
        "print(a)"
      ],
      "metadata": {
        "colab": {
          "base_uri": "https://localhost:8080/"
        },
        "id": "gIOUPGm5GwCC",
        "outputId": "03e70335-6bb9-4686-b514-67eff0b73b69"
      },
      "execution_count": null,
      "outputs": [
        {
          "output_type": "stream",
          "name": "stdout",
          "text": [
            "1023\n"
          ]
        }
      ]
    },
    {
      "cell_type": "markdown",
      "source": [
        "---\n",
        "##**(3) 最小公倍数**\n",
        "6と8の最小公倍数を求めるプログラムである。  \n",
        "{　　}に適する値や式を入れて、プログラムを完成させなさい。"
      ],
      "metadata": {
        "id": "iNoq4DsvJFpO"
      }
    },
    {
      "cell_type": "markdown",
      "source": [
        "###入力用  \n",
        "{...}を置き換える（カッコも不要）。"
      ],
      "metadata": {
        "id": "uTDjZlemJZbU"
      }
    },
    {
      "cell_type": "code",
      "source": [
        "# 6と8の最小公倍数\n",
        "n = 1\n",
        "\n",
        "while n % 6 != 0 or n % 8 != 0:\n",
        "    n=n+1\n",
        "\n",
        "print(n)"
      ],
      "metadata": {
        "id": "xfPJsYJYJVeN",
        "colab": {
          "base_uri": "https://localhost:8080/"
        },
        "outputId": "d5dc99e0-12a2-4e19-9df0-ac183755cda9"
      },
      "execution_count": 3,
      "outputs": [
        {
          "output_type": "stream",
          "name": "stdout",
          "text": [
            "24\n"
          ]
        }
      ]
    },
    {
      "cell_type": "markdown",
      "source": [
        "###模範解答"
      ],
      "metadata": {
        "id": "KVjgadmCJYKk"
      }
    },
    {
      "cell_type": "markdown",
      "source": [
        "####解答1\n",
        "nの初期値を1として、「nが6で割り切れない」または「nが8で割り切れない」あいだ$n = 1, 2, 3, ...$と増やしていきます。  \n",
        "「nが6で割り切れる」かつ「nが8で割り切れる」とループを終了し、出力します。"
      ],
      "metadata": {
        "id": "W6TSpbCCJqTO"
      }
    },
    {
      "cell_type": "code",
      "source": [
        "# 6と8の最小公倍数\n",
        "n = 1       # nの初期値を1とする。\n",
        "\n",
        "while n % 6 != 0 or n % 8 != 0:\n",
        "    n = n + 1\n",
        "\n",
        "print(n)"
      ],
      "metadata": {
        "colab": {
          "base_uri": "https://localhost:8080/"
        },
        "id": "g02h20BbJYTK",
        "outputId": "2ebb9f3d-a14d-40df-da99-49d03d3d2a64"
      },
      "execution_count": null,
      "outputs": [
        {
          "output_type": "stream",
          "name": "stdout",
          "text": [
            "24\n"
          ]
        }
      ]
    },
    {
      "cell_type": "markdown",
      "source": [
        "####解答2\n",
        "解答1の条件式「n % 6 != 0 or n % 8 != 0」をドモルガンの法則を使って書き換えると、「not(n % 6 == 0 and n % 8 == 0)」になります。"
      ],
      "metadata": {
        "id": "VyS8kD_IJtjh"
      }
    },
    {
      "cell_type": "code",
      "source": [
        "# 6と8の最小公倍数\n",
        "n = 1       # nの初期値を1とする。\n",
        "\n",
        "while not(n % 6 == 0 and n % 8 == 0):\n",
        "    n = n + 1\n",
        "\n",
        "print(n)"
      ],
      "metadata": {
        "colab": {
          "base_uri": "https://localhost:8080/"
        },
        "id": "vhKoROVIJu7t",
        "outputId": "e60c6bcb-8edf-4884-e77d-27252b4812be"
      },
      "execution_count": null,
      "outputs": [
        {
          "output_type": "stream",
          "name": "stdout",
          "text": [
            "24\n"
          ]
        }
      ]
    },
    {
      "cell_type": "markdown",
      "source": [
        "####解答3\n",
        "nの初期値を8として、「nが6で割り切れない」あいだ$n = 8, 16, 24, ...$と8の倍数に増やしていきます（n = n + 8）。  \n",
        "「8の倍数」かつ「nが6で割り切れる」条件でループを終了し、出力します。"
      ],
      "metadata": {
        "id": "bKeL6XzuJ2nH"
      }
    },
    {
      "cell_type": "code",
      "source": [
        "# 6と8の最小公倍数\n",
        "n = 8       # nの初期値を8とする。\n",
        "\n",
        "while n % 6 != 0:\n",
        "    n = n + 8\n",
        "\n",
        "print(n)"
      ],
      "metadata": {
        "colab": {
          "base_uri": "https://localhost:8080/"
        },
        "id": "4HH22DC9J4JC",
        "outputId": "acaabb0d-8880-448e-d84b-581e5ef65dbc"
      },
      "execution_count": null,
      "outputs": [
        {
          "output_type": "stream",
          "name": "stdout",
          "text": [
            "24\n"
          ]
        }
      ]
    },
    {
      "cell_type": "markdown",
      "source": [
        "---\n",
        "##**(4) 整数値を下位から1桁ずつ逆順に出力**\n",
        "ユーザーが入力した整数を1桁ずつ逆順に表示するプログラムを書きなさい。ただし、ユーザーによる入力値のエラー回避は不要です。\n",
        "\n",
        "```\n",
        "数字を入力してください: 123456\n",
        "出力: 6 5 4 3 2 1\n",
        "```"
      ],
      "metadata": {
        "id": "5K0gQAZTfT3t"
      }
    },
    {
      "cell_type": "markdown",
      "source": [
        "###入力用  \n",
        "{...}を置き換える（カッコも不要）。"
      ],
      "metadata": {
        "id": "u7pHPFzugB6Y"
      }
    },
    {
      "cell_type": "code",
      "source": [
        "# 整数値を下位から1桁ずつ逆順に出力\n",
        "n = int(input(\"整数を入力してください: \"))\n",
        "\n",
        "while n>0:\n",
        "    print(n % 10, end=\" \")\n",
        "    n = n // 10"
      ],
      "metadata": {
        "id": "Fh1HEBmigFfA",
        "colab": {
          "base_uri": "https://localhost:8080/"
        },
        "outputId": "8590579b-cfc2-435a-bd3e-f648e1b60c21"
      },
      "execution_count": 4,
      "outputs": [
        {
          "output_type": "stream",
          "name": "stdout",
          "text": [
            "整数を入力してください: 123456\n",
            "6 5 4 3 2 1 "
          ]
        }
      ]
    },
    {
      "cell_type": "markdown",
      "source": [
        "###模範解答"
      ],
      "metadata": {
        "id": "j1V2zMoQgDR4"
      }
    },
    {
      "cell_type": "code",
      "source": [
        "# 整数値を下位から1桁ずつ逆順に出力\n",
        "n = int(input(\"整数を入力してください: \"))\n",
        "\n",
        "while n > 0:                  # nが0より大きいあいだ繰り返す（＝nが0になったらループ終了）\n",
        "    print(n % 10, end=\" \")    # nを10で割った余りを出力する\n",
        "    n = n // 10               # nを10で割って、次のループに続ける\n",
        "# 最後はn=1となり、10で割って商が0となり、whileの条件を満たさなくなるので終了する"
      ],
      "metadata": {
        "colab": {
          "base_uri": "https://localhost:8080/"
        },
        "id": "I-DO2B8ofxYS",
        "outputId": "5d868427-9113-4124-903a-d4019958c927"
      },
      "execution_count": null,
      "outputs": [
        {
          "output_type": "stream",
          "name": "stdout",
          "text": [
            "整数を入力してください: 123456\n",
            "6 5 4 3 2 1 "
          ]
        }
      ]
    },
    {
      "cell_type": "markdown",
      "source": [
        "---\n",
        "---\n",
        "#**問2 複利法**\n",
        "複利法とは、銀行口座などでお金を預ける際に、ある一定期間後の利息を元金に加えてその合計額を次の期間の新たな元金とし、またその期間後の利息を元金に加えて次の期間の元金とするように、逐次一期間中の利息を次期間の元金に加えていく利息計算法のことである。\n",
        "\n"
      ],
      "metadata": {
        "id": "NzZfeBL_o_HF"
      }
    },
    {
      "cell_type": "markdown",
      "source": [
        "##**(1) 複利法① 預入期間を指定する**\n",
        "利率0.2%で100万円を5年間預金すると、いくらになるか計算しなさい。\n",
        "\n",
        "出力例\n",
        "```\n",
        "1 年後: 1012060 円\n",
        "2 年後: 1012060 円\n",
        "3 年後: 1012060 円\n",
        "4 年後: 1012060 円\n",
        "5 年後: 1012060 円\n",
        "```\n"
      ],
      "metadata": {
        "id": "m7o2F6abVaOw"
      }
    },
    {
      "cell_type": "markdown",
      "source": [
        "###ヒント：  \n"
      ],
      "metadata": {
        "id": "845dWkDTP6Ep"
      }
    },
    {
      "cell_type": "markdown",
      "source": [
        "int関数は、小数値を整数値に変換する関数である。その際、小数点以下は切り捨てになる。  \n",
        "今回は、整数(int型)に浮動小数点数(float型)をかけるので、答えは浮動小数点数(float型)になる。  \n",
        "そこで、この答えをint関数に渡すことで、小数点以下を切り捨てて整数(int型)に変換する。  \n",
        "\n",
        "\n",
        "```\n",
        "左辺 = int(値)\n",
        "```\n",
        "\n",
        "金額を小数のまま扱うこともあるが、通常は小数点以下は切り捨てられる。"
      ],
      "metadata": {
        "id": "gkGetTsAQA8P"
      }
    },
    {
      "cell_type": "markdown",
      "source": [
        "###入力用（フリー）"
      ],
      "metadata": {
        "id": "wz-lw__6P1So"
      }
    },
    {
      "cell_type": "code",
      "source": [
        "# 複利法①\n",
        "rate = 0.002        # 利率\n",
        "amount = 1000000    # 金額：初期値は元金100万円\n",
        "years = 5           # 5年\n",
        "i = 0               # ループカウンター（繰り返しを数えるのに使う）\n",
        "\n",
        "### 続きのプログラムを書きなさい\n",
        "\n",
        "\n",
        "while i < years:\n",
        "    amount = int(amount * (1 + rate))\n",
        "    i = i + 1\n",
        "    print(i,\"年後:\",amount, \"円\")"
      ],
      "metadata": {
        "id": "dqcc_PGwI87j",
        "colab": {
          "base_uri": "https://localhost:8080/"
        },
        "outputId": "f6d34d7a-ef71-431f-beba-cb5663108828"
      },
      "execution_count": 7,
      "outputs": [
        {
          "output_type": "stream",
          "name": "stdout",
          "text": [
            "1 年後: 1002000 円\n",
            "2 年後: 1004004 円\n",
            "3 年後: 1006012 円\n",
            "4 年後: 1008024 円\n",
            "5 年後: 1010040 円\n"
          ]
        }
      ]
    },
    {
      "cell_type": "markdown",
      "source": [
        "###入力用（穴埋め）\n",
        "フリー入力で難しい人は、こちらの穴埋め式でやってみよう。"
      ],
      "metadata": {
        "id": "4xj8LUrjQc0G"
      }
    },
    {
      "cell_type": "code",
      "source": [
        "# 複利法①\n",
        "rate = 0.002        # 利率\n",
        "amount = 1000000    # 金額：初期値は元金100万円\n",
        "years = 5           # 5年\n",
        "i = 0               # ループカウンター（繰り返しを数えるのに使う）\n",
        "\n",
        "### 続きのプログラムを書きなさい\n",
        "while {_条件式_}:\n",
        "    amount = int({_式_})     # 端数を切り捨てるのにint関数を用いる\n",
        "    {_式_}\n",
        "    print({_出力内容_})\n"
      ],
      "metadata": {
        "id": "SGAYjwKQQe5u"
      },
      "execution_count": null,
      "outputs": []
    },
    {
      "cell_type": "markdown",
      "source": [
        "###模範解答"
      ],
      "metadata": {
        "id": "2NApnfBBPNCz"
      }
    },
    {
      "cell_type": "code",
      "execution_count": null,
      "metadata": {
        "id": "5b_PPmJ-o3hZ",
        "colab": {
          "base_uri": "https://localhost:8080/"
        },
        "outputId": "1d8251f8-4ece-41c0-eb40-f26aef80c586"
      },
      "outputs": [
        {
          "output_type": "stream",
          "name": "stdout",
          "text": [
            "1 年後: 1002000 円\n",
            "2 年後: 1004004 円\n",
            "3 年後: 1006012 円\n",
            "4 年後: 1008024 円\n",
            "5 年後: 1010040 円\n"
          ]
        }
      ],
      "source": [
        "# 複利法①\n",
        "rate = 0.002        # 利率\n",
        "amount = 1000000    # 金額：初期値は元金100万円\n",
        "years = 5           # 5年\n",
        "i = 0               # ループカウンター（繰り返しを数えるのに使う）\n",
        "\n",
        "### 続きのプログラムを書きなさい ###\n",
        "while i < years:\n",
        "    amount = int(amount * (1 + rate))     # 端数を切り捨てるのにint関数を用いる\n",
        "    i = i + 1\n",
        "    print(i, \"年後:\", amount, \"円\")\n"
      ]
    },
    {
      "cell_type": "markdown",
      "source": [
        "---\n",
        "##**(2) 複利法② 目標金額を指定する**\n",
        "利率0.2%で100万円を預金して110万円にするためには何年かかるか計算しなさい。  \n",
        "  \n",
        "出力<font color=\"gray\">（答えの{xxx}のところは実際に計算して確認してみよう）</font>\n",
        "```\n",
        "1 年後:  1002000 円\n",
        "2 年後:  1004004 円\n",
        "3 年後:  1006012 円\n",
        "(中略)\n",
        "答え： {xxx} 年かかります。\n",
        "```"
      ],
      "metadata": {
        "id": "HmWS4FHYpQiQ"
      }
    },
    {
      "cell_type": "markdown",
      "source": [
        "###入力用（フリー）"
      ],
      "metadata": {
        "id": "CgiCmTJKT4WZ"
      }
    },
    {
      "cell_type": "code",
      "source": [
        "# 複利法②\n",
        "rate = 0.002        # 利率\n",
        "amount = 1000000    # 金額：初期値は元金100万円\n",
        "goal = 1100000      # 目標110万円\n",
        "\n",
        "i = 0               # ループカウンター（繰り返しを数えるのに使う）\n",
        "\n",
        "### 続きのプログラムを書きなさい ##\n",
        "\n",
        "while amount < goal:\n",
        "    amount = int(amount*(1 + rate))\n",
        "    i = i + 1\n",
        "    print(i, \"年後: \", amount, \"円\")\n",
        "print(\"答え：\", i,\"年かかります。\")\n"
      ],
      "metadata": {
        "id": "x8F4CYhhT7Tf",
        "colab": {
          "base_uri": "https://localhost:8080/"
        },
        "outputId": "4e9eaae9-ab03-4671-f3df-6905465f00b5"
      },
      "execution_count": 6,
      "outputs": [
        {
          "output_type": "stream",
          "name": "stdout",
          "text": [
            "1 年後:  1002000 円\n",
            "2 年後:  1004004 円\n",
            "3 年後:  1006012 円\n",
            "4 年後:  1008024 円\n",
            "5 年後:  1010040 円\n",
            "6 年後:  1012060 円\n",
            "7 年後:  1014084 円\n",
            "8 年後:  1016112 円\n",
            "9 年後:  1018144 円\n",
            "10 年後:  1020180 円\n",
            "11 年後:  1022220 円\n",
            "12 年後:  1024264 円\n",
            "13 年後:  1026312 円\n",
            "14 年後:  1028364 円\n",
            "15 年後:  1030420 円\n",
            "16 年後:  1032480 円\n",
            "17 年後:  1034544 円\n",
            "18 年後:  1036613 円\n",
            "19 年後:  1038686 円\n",
            "20 年後:  1040763 円\n",
            "21 年後:  1042844 円\n",
            "22 年後:  1044929 円\n",
            "23 年後:  1047018 円\n",
            "24 年後:  1049112 円\n",
            "25 年後:  1051210 円\n",
            "26 年後:  1053312 円\n",
            "27 年後:  1055418 円\n",
            "28 年後:  1057528 円\n",
            "29 年後:  1059643 円\n",
            "30 年後:  1061762 円\n",
            "31 年後:  1063885 円\n",
            "32 年後:  1066012 円\n",
            "33 年後:  1068144 円\n",
            "34 年後:  1070280 円\n",
            "35 年後:  1072420 円\n",
            "36 年後:  1074564 円\n",
            "37 年後:  1076713 円\n",
            "38 年後:  1078866 円\n",
            "39 年後:  1081023 円\n",
            "40 年後:  1083185 円\n",
            "41 年後:  1085351 円\n",
            "42 年後:  1087521 円\n",
            "43 年後:  1089696 円\n",
            "44 年後:  1091875 円\n",
            "45 年後:  1094058 円\n",
            "46 年後:  1096246 円\n",
            "47 年後:  1098438 円\n",
            "48 年後:  1100634 円\n",
            "答え： 48 年かかります。\n"
          ]
        }
      ]
    },
    {
      "cell_type": "markdown",
      "source": [
        "###入力用（穴埋め）\n",
        "フリー入力で難しい人は、こちらの穴埋め式でやってみよう。\n",
        "  \n",
        "{...}を置き換える（カッコも不要）。"
      ],
      "metadata": {
        "id": "KqKGFNMTT9df"
      }
    },
    {
      "cell_type": "code",
      "source": [
        "# 複利法②\n",
        "rate = 0.002        # 利率\n",
        "amount = 1000000    # 金額：初期値は元金100万円\n",
        "goal = 1100000      # 目標110万円\n",
        "\n",
        "i = 0               # ループカウンター（繰り返しを数えるのに使う）\n",
        "\n",
        "### 続きのプログラムを書きなさい ###\n",
        "while {_条件式_}:\n",
        "    amount = int({_式_})         # 端数を切り捨てるのにint関数を用いる\n",
        "    {_式_}\n",
        "    print({_出力内容_})\n",
        "\n",
        "print({_出力内容_})"
      ],
      "metadata": {
        "id": "eZu17eTpUBf1",
        "colab": {
          "base_uri": "https://localhost:8080/",
          "height": 211
        },
        "outputId": "c9d55bb6-b6dd-466a-b86f-2929d141bbb4"
      },
      "execution_count": 5,
      "outputs": [
        {
          "output_type": "error",
          "ename": "NameError",
          "evalue": "name '_条件式_' is not defined",
          "traceback": [
            "\u001b[0;31m---------------------------------------------------------------------------\u001b[0m",
            "\u001b[0;31mNameError\u001b[0m                                 Traceback (most recent call last)",
            "\u001b[0;32m<ipython-input-5-80ec3b4d3998>\u001b[0m in \u001b[0;36m<cell line: 9>\u001b[0;34m()\u001b[0m\n\u001b[1;32m      7\u001b[0m \u001b[0;34m\u001b[0m\u001b[0m\n\u001b[1;32m      8\u001b[0m \u001b[0;31m### 続きのプログラムを書きなさい ###\u001b[0m\u001b[0;34m\u001b[0m\u001b[0;34m\u001b[0m\u001b[0m\n\u001b[0;32m----> 9\u001b[0;31m \u001b[0;32mwhile\u001b[0m \u001b[0;34m{\u001b[0m\u001b[0m_条件式_\u001b[0m\u001b[0;34m}\u001b[0m\u001b[0;34m:\u001b[0m\u001b[0;34m\u001b[0m\u001b[0;34m\u001b[0m\u001b[0m\n\u001b[0m\u001b[1;32m     10\u001b[0m     \u001b[0mamount\u001b[0m \u001b[0;34m=\u001b[0m \u001b[0mint\u001b[0m\u001b[0;34m(\u001b[0m\u001b[0;34m{\u001b[0m\u001b[0m_式_\u001b[0m\u001b[0;34m}\u001b[0m\u001b[0;34m)\u001b[0m         \u001b[0;31m# 端数を切り捨てるのにint関数を用いる\u001b[0m\u001b[0;34m\u001b[0m\u001b[0;34m\u001b[0m\u001b[0m\n\u001b[1;32m     11\u001b[0m     \u001b[0;34m{\u001b[0m\u001b[0m_式_\u001b[0m\u001b[0;34m}\u001b[0m\u001b[0;34m\u001b[0m\u001b[0;34m\u001b[0m\u001b[0m\n",
            "\u001b[0;31mNameError\u001b[0m: name '_条件式_' is not defined"
          ]
        }
      ]
    },
    {
      "cell_type": "markdown",
      "source": [
        "###模範解答"
      ],
      "metadata": {
        "id": "WeXS6FasUCFV"
      }
    },
    {
      "cell_type": "code",
      "source": [
        "# 複利法②\n",
        "rate = 0.002        # 利率\n",
        "amount = 1000000    # 金額：初期値は元金100万円\n",
        "goal = 1100000      # 目標110万円\n",
        "\n",
        "i = 0               # ループカウンター（繰り返しを数えるのに使う）\n",
        "\n",
        "### 続きのプログラムを書きなさい ###\n",
        "while amount < goal:\n",
        "    amount = int(amount*(1 + rate))         # 端数を切り捨てるのにint関数を用いる\n",
        "    i = i + 1\n",
        "    print(i, \"年後: \", amount, \"円\")\n",
        "\n",
        "print(\"答え：\", i,\"年かかります。\")"
      ],
      "metadata": {
        "id": "xEfHdESYqOkB",
        "colab": {
          "base_uri": "https://localhost:8080/"
        },
        "outputId": "624ca612-1004-4c70-c9a0-3221ad0f6aa9"
      },
      "execution_count": null,
      "outputs": [
        {
          "output_type": "stream",
          "name": "stdout",
          "text": [
            "1 年後:  1002000 円\n",
            "2 年後:  1004004 円\n",
            "3 年後:  1006012 円\n",
            "4 年後:  1008024 円\n",
            "5 年後:  1010040 円\n",
            "6 年後:  1012060 円\n",
            "7 年後:  1014084 円\n",
            "8 年後:  1016112 円\n",
            "9 年後:  1018144 円\n",
            "10 年後:  1020180 円\n",
            "11 年後:  1022220 円\n",
            "12 年後:  1024264 円\n",
            "13 年後:  1026312 円\n",
            "14 年後:  1028364 円\n",
            "15 年後:  1030420 円\n",
            "16 年後:  1032480 円\n",
            "17 年後:  1034544 円\n",
            "18 年後:  1036613 円\n",
            "19 年後:  1038686 円\n",
            "20 年後:  1040763 円\n",
            "21 年後:  1042844 円\n",
            "22 年後:  1044929 円\n",
            "23 年後:  1047018 円\n",
            "24 年後:  1049112 円\n",
            "25 年後:  1051210 円\n",
            "26 年後:  1053312 円\n",
            "27 年後:  1055418 円\n",
            "28 年後:  1057528 円\n",
            "29 年後:  1059643 円\n",
            "30 年後:  1061762 円\n",
            "31 年後:  1063885 円\n",
            "32 年後:  1066012 円\n",
            "33 年後:  1068144 円\n",
            "34 年後:  1070280 円\n",
            "35 年後:  1072420 円\n",
            "36 年後:  1074564 円\n",
            "37 年後:  1076713 円\n",
            "38 年後:  1078866 円\n",
            "39 年後:  1081023 円\n",
            "40 年後:  1083185 円\n",
            "41 年後:  1085351 円\n",
            "42 年後:  1087521 円\n",
            "43 年後:  1089696 円\n",
            "44 年後:  1091875 円\n",
            "45 年後:  1094058 円\n",
            "46 年後:  1096246 円\n",
            "47 年後:  1098438 円\n",
            "48 年後:  1100634 円\n",
            "答え： 48 年かかります。\n"
          ]
        }
      ]
    }
  ]
}