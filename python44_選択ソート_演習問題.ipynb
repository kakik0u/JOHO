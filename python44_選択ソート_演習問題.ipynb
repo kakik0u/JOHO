{
  "nbformat": 4,
  "nbformat_minor": 0,
  "metadata": {
    "colab": {
      "provenance": [],
      "include_colab_link": true
    },
    "kernelspec": {
      "name": "python3",
      "display_name": "Python 3"
    },
    "language_info": {
      "name": "python"
    }
  },
  "cells": [
    {
      "cell_type": "markdown",
      "metadata": {
        "id": "view-in-github",
        "colab_type": "text"
      },
      "source": [
        "<a href=\"https://colab.research.google.com/github/kakik0u/JOHO/blob/main/python44_%E9%81%B8%E6%8A%9E%E3%82%BD%E3%83%BC%E3%83%88_%E6%BC%94%E7%BF%92%E5%95%8F%E9%A1%8C.ipynb\" target=\"_parent\"><img src=\"https://colab.research.google.com/assets/colab-badge.svg\" alt=\"Open In Colab\"/></a>"
      ]
    },
    {
      "cell_type": "markdown",
      "source": [
        "#**4-4. 選択ソート（単純選択法） 演習問題**"
      ],
      "metadata": {
        "id": "x-AJvsoQRWrp"
      }
    },
    {
      "cell_type": "markdown",
      "source": [
        "#**問1 選択ソート**"
      ],
      "metadata": {
        "id": "wJnNnYZEWpeq"
      }
    },
    {
      "cell_type": "markdown",
      "source": [
        "##**(1) 選択ソート（昇順）**\n",
        "配列`arr`を選択ソートを用いて昇順に並び替えるプログラムを書きなさい。  \n",
        "```\n",
        "# 出力例\n",
        "ソート前 [6, 3, 2, 0, 7, 1, 4, 5]\n",
        "ソート後 [0, 1, 2, 3, 4, 5, 6, 7]\n",
        "```"
      ],
      "metadata": {
        "id": "6KTjPJvYWsuh"
      }
    },
    {
      "cell_type": "markdown",
      "source": [
        "###入力用"
      ],
      "metadata": {
        "id": "mNj7hB1FZPOK"
      }
    },
    {
      "cell_type": "code",
      "source": [
        "# 選択ソート（昇順）\n",
        "arr = [6, 3, 2, 0, 7, 1, 4, 5]      # 元のリスト\n",
        "print(\"ソート前\", arr)              # ソート前を出力\n",
        "n = len(arr)\n",
        "\n",
        "#### 続きのプログラムを書きなさい ####\n",
        "for i in range(n - 1):\n",
        "    min_index = i\n",
        "    for j in range(i + 1, n):\n",
        "        if arr[min_index] > arr[j]:\n",
        "            min_index = j\n",
        "    temp = arr[min_index]\n",
        "    arr[min_index] = arr[i]\n",
        "    arr[i] = temp\n",
        "#### ここまで ####\n",
        "print(\"ソート後\", arr)              # ソート後を出力"
      ],
      "metadata": {
        "id": "sajfDSMBZPVA",
        "colab": {
          "base_uri": "https://localhost:8080/"
        },
        "outputId": "00229aab-8a74-4ca4-b176-fc8eb91ef5db"
      },
      "execution_count": 2,
      "outputs": [
        {
          "output_type": "stream",
          "name": "stdout",
          "text": [
            "ソート前 [6, 3, 2, 0, 7, 1, 4, 5]\n",
            "ソート後 [0, 1, 2, 3, 4, 5, 6, 7]\n"
          ]
        }
      ]
    },
    {
      "cell_type": "markdown",
      "source": [
        "###模範解答"
      ],
      "metadata": {
        "id": "sDmxbMetZPcV"
      }
    },
    {
      "cell_type": "code",
      "source": [
        "# 選択ソート（昇順）\n",
        "arr = [6, 3, 2, 0, 7, 1, 4, 5]      # 元のリスト\n",
        "print(\"ソート前\", arr)              # ソート前を出力\n",
        "n = len(arr)\n",
        "\n",
        "#### 続きのプログラムを書きなさい ####\n",
        "for i in range(n - 1):              # 未整列の左端を1つずつ後にずらしていく（繰り返しインデックスの変数をiとする）\n",
        "    min_index = i                   # 暫定最小値の位置（初期値は未整列の先頭のインデックス=i）\n",
        "    for j in range(i + 1, n):       # 未整列の２番目(i+1)から末尾まで繰り返す（繰り返しインデックスの変数をjとする）\n",
        "        if arr[min_index] > arr[j]: # 暫定最小値よりもj番目の値が小さければ、\n",
        "            min_index = j           # 暫定最小値の位置をj番目とする\n",
        "                                    # この時点で、未整列の最小値がarr[min_index]と決まる\n",
        "    tmp = arr[min_index]            # i番目(arr[i])と未整列の最小値(arr[min_index])を交換\n",
        "    arr[min_index] = arr[i]\n",
        "    arr[i] = tmp\n",
        "#### ここまで ####\n",
        "print(\"ソート後\", arr)              # ソート後を出力"
      ],
      "metadata": {
        "colab": {
          "base_uri": "https://localhost:8080/"
        },
        "id": "Jvu5MeQ-ZPkT",
        "outputId": "a6c36593-d4db-4d4d-8a87-a54eff771077"
      },
      "execution_count": null,
      "outputs": [
        {
          "output_type": "stream",
          "name": "stdout",
          "text": [
            "[6, 3, 2, 0, 7, 1, 4, 5]\n",
            "[0, 1, 2, 3, 4, 5, 6, 7]\n"
          ]
        }
      ]
    },
    {
      "cell_type": "markdown",
      "source": [
        "##**(2) 選択ソート（降順）**\n",
        "配列`arr`を選択ソートを用いて降順に並び替えるプログラムを書きなさい。\n",
        "```\n",
        "# 出力例\n",
        "ソート前 [6, 3, 2, 0, 7, 1, 4, 5]\n",
        "ソート後 [7, 6, 5, 4, 3, 2, 1, 0]\n",
        "```"
      ],
      "metadata": {
        "id": "7K3mNOT2mWoq"
      }
    },
    {
      "cell_type": "markdown",
      "source": [
        "###入力用"
      ],
      "metadata": {
        "id": "U6yXrIvCmWo0"
      }
    },
    {
      "cell_type": "code",
      "source": [
        "# 選択ソート（降順）\n",
        "arr = [6, 3, 2, 0, 7, 1, 4, 5]      # 元のリスト\n",
        "print(\"ソート前\", arr)              # ソート前を出力\n",
        "n = len(arr)\n",
        "\n",
        "#### 続きのプログラムを書きなさい ####\n",
        "for i in range(n - 1):\n",
        "    max_index = i\n",
        "    for j in range(i + 1, n):\n",
        "        if arr[max_index] < arr[j]:\n",
        "            max_index = j\n",
        "    temp = arr[max_index]\n",
        "    arr[max_index] = arr[i]\n",
        "    arr[i] = temp\n",
        "\n",
        "#### ここまで ####\n",
        "print(\"ソート後\", arr)              # ソート後を出力"
      ],
      "metadata": {
        "id": "SAhw78WlmWo0",
        "colab": {
          "base_uri": "https://localhost:8080/"
        },
        "outputId": "f4fab8f4-3476-45fb-eecf-852a9d16c393"
      },
      "execution_count": 3,
      "outputs": [
        {
          "output_type": "stream",
          "name": "stdout",
          "text": [
            "ソート前 [6, 3, 2, 0, 7, 1, 4, 5]\n",
            "ソート後 [7, 6, 5, 4, 3, 2, 1, 0]\n"
          ]
        }
      ]
    },
    {
      "cell_type": "markdown",
      "source": [
        "###模範解答"
      ],
      "metadata": {
        "id": "J4u7O6lMmWo1"
      }
    },
    {
      "cell_type": "code",
      "source": [
        "# 選択ソート（降順）\n",
        "arr = [6, 3, 2, 0, 7, 1, 4, 5]      # 元のリスト\n",
        "print(\"ソート前\", arr)              # ソート前を出力\n",
        "n = len(arr)\n",
        "\n",
        "#### 続きのプログラムを書きなさい ####\n",
        "for i in range(n - 1):              # 未整列の左端を1つずつ後にずらしていく（繰り返しインデックスの変数をiとする）\n",
        "    max_index = i                   # 暫定最大値の位置（初期値は未整列の先頭のインデックス=i）\n",
        "    for j in range(i + 1, n):       # 未整列の２番目(i+1)から末尾まで繰り返す（繰り返しインデックスの変数をjとする）\n",
        "        if arr[max_index] < arr[j]: # 暫定最大値よりもj番目の値が小さければ、\n",
        "            max_index = j           # 暫定最大値の位置をj番目とする\n",
        "                                    # この時点で、未整列の最大値がarr[max_index]と決まる\n",
        "    tmp = arr[max_index]            # i番目(arr[i])と未整列の最大値(arr[max_index])を交換\n",
        "    arr[max_index] = arr[i]\n",
        "    arr[i] = tmp\n",
        "#### ここまで ####\n",
        "print(\"ソート後\", arr)              # ソート後を出力"
      ],
      "metadata": {
        "colab": {
          "base_uri": "https://localhost:8080/"
        },
        "id": "LyqLaJDomWo1",
        "outputId": "0db04f52-47cf-4c10-fc5e-2c65851de4b5"
      },
      "execution_count": null,
      "outputs": [
        {
          "output_type": "stream",
          "name": "stdout",
          "text": [
            "[6, 3, 2, 0, 7, 1, 4, 5]\n",
            "[7, 6, 5, 4, 3, 2, 1, 0]\n"
          ]
        }
      ]
    },
    {
      "cell_type": "markdown",
      "source": [
        "---\n",
        "---\n",
        "#**問2 途中経過の出力と比較・交換回数**\n",
        "**問1(1) 選択ソート（昇順）**のプログラムをもとにして、ソートの途中経過と比較・交換回数を表示するプログラムを書きなさい。\n",
        "\n",
        "\n"
      ],
      "metadata": {
        "id": "TRwqqsB1CMQW"
      }
    },
    {
      "cell_type": "markdown",
      "source": [
        "### 入力用"
      ],
      "metadata": {
        "id": "HYLRDAScDyGI"
      }
    },
    {
      "cell_type": "code",
      "source": [
        "# 選択ソート（途中経過の出力と比較・交換回数）\n",
        "## このプログラムの中の適当なところに、次の処理を追加しなさい。\n",
        "## ・途中経過を出力するための処理\n",
        "## ・比較回数と交換回数を数えるための処理\n",
        "arr = [6, 3, 2, 0, 7, 1, 4, 5]        # 元のリスト\n",
        "print(arr)                            # ソート前を出力\n",
        "n = len(arr)\n",
        "\n",
        "compare = 0                           # 比較回数を数えるための変数\n",
        "swap = 0                              # 交換回数を数えるための変数\n",
        "\n",
        "for i in range(n - 1):\n",
        "    min_index = i\n",
        "    for j in range(i + 1, n):\n",
        "        compare+=1\n",
        "        if arr[min_index] > arr[j]:\n",
        "            min_index = j\n",
        "\n",
        "    swap+=1\n",
        "    tmp = arr[min_index]\n",
        "    arr[min_index] = arr[i]\n",
        "    arr[i] = tmp\n",
        "    print(arr)\n",
        "\n",
        "print(\"比較回数:\", compare, \"\\t交換回数:\", swap)"
      ],
      "metadata": {
        "id": "9k5gAr7bDsD4",
        "colab": {
          "base_uri": "https://localhost:8080/"
        },
        "outputId": "762a004e-59fe-4129-95e0-eb6223265928"
      },
      "execution_count": 7,
      "outputs": [
        {
          "output_type": "stream",
          "name": "stdout",
          "text": [
            "[6, 3, 2, 0, 7, 1, 4, 5]\n",
            "[0, 3, 2, 6, 7, 1, 4, 5]\n",
            "[0, 1, 2, 6, 7, 3, 4, 5]\n",
            "[0, 1, 2, 6, 7, 3, 4, 5]\n",
            "[0, 1, 2, 3, 7, 6, 4, 5]\n",
            "[0, 1, 2, 3, 4, 6, 7, 5]\n",
            "[0, 1, 2, 3, 4, 5, 7, 6]\n",
            "[0, 1, 2, 3, 4, 5, 6, 7]\n",
            "比較回数: 28 \t交換回数: 7\n"
          ]
        }
      ]
    },
    {
      "cell_type": "markdown",
      "source": [
        "### 模範解答"
      ],
      "metadata": {
        "id": "wFO3IFgKDzj6"
      }
    },
    {
      "cell_type": "code",
      "source": [
        "# 選択ソート（途中経過の出力と比較・交換回数）\n",
        "## このプログラムの中の適当なところに、次の処理を追加しなさい。\n",
        "## ・途中経過を出力するための処理\n",
        "## ・比較回数と交換回数を数えるための処理\n",
        "arr = [6, 3, 2, 0, 7, 1, 4, 5]        # 元のリスト\n",
        "print(arr)                            # ソート前を出力\n",
        "n = len(arr)\n",
        "\n",
        "compare = 0                           # 比較回数を数えるための変数\n",
        "swap = 0                              # 交換回数を数えるための変数\n",
        "\n",
        "for i in range(n - 1):\n",
        "    min_index = i\n",
        "    for j in range(i + 1, n):\n",
        "        compare = compare + 1         # 比較回数を数える【問2ではこの行を追加】\n",
        "        if arr[min_index] > arr[j]:\n",
        "            min_index = j\n",
        "\n",
        "    swap = swap + 1                   # 交換回数を数える【問2ではこの行を追加】\n",
        "    tmp = arr[min_index]\n",
        "    arr[min_index] = arr[i]\n",
        "    arr[i] = tmp\n",
        "    print(arr)                        # 途中経過を出力【問2ではこの行を追加】\n",
        "\n",
        "print(\"比較回数:\", compare, \"\\t交換回数:\", swap)"
      ],
      "metadata": {
        "colab": {
          "base_uri": "https://localhost:8080/"
        },
        "id": "rhwJOu-cCnW6",
        "outputId": "c93a5b93-976b-4d58-8c30-98e7639dcfed"
      },
      "execution_count": 5,
      "outputs": [
        {
          "output_type": "stream",
          "name": "stdout",
          "text": [
            "[6, 3, 2, 0, 7, 1, 4, 5]\n",
            "[0, 3, 2, 6, 7, 1, 4, 5]\n",
            "[0, 1, 2, 6, 7, 3, 4, 5]\n",
            "[0, 1, 2, 6, 7, 3, 4, 5]\n",
            "[0, 1, 2, 3, 7, 6, 4, 5]\n",
            "[0, 1, 2, 3, 4, 6, 7, 5]\n",
            "[0, 1, 2, 3, 4, 5, 7, 6]\n",
            "[0, 1, 2, 3, 4, 5, 6, 7]\n",
            "比較回数: 28 \t交換回数: 7\n"
          ]
        }
      ]
    }
  ]
}