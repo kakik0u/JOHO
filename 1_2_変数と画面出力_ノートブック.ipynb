{
  "nbformat": 4,
  "nbformat_minor": 0,
  "metadata": {
    "colab": {
      "provenance": []
    },
    "kernelspec": {
      "name": "python3",
      "display_name": "Python 3"
    },
    "language_info": {
      "name": "python"
    }
  },
  "cells": [
    {
      "cell_type": "code",
      "execution_count": null,
      "metadata": {
        "id": "PLVGVI_ao6PT"
      },
      "outputs": [],
      "source": [
        "a = 500   # aに500を代入\n",
        "print(a)   # aを出力"
      ]
    },
    {
      "cell_type": "code",
      "source": [
        "a = 123   # aに123を代入\n",
        "b = a * 4   # aに4をかけてbに代入\n",
        "print(b)   # bを出力"
      ],
      "metadata": {
        "id": "zFUvn2j7grh9"
      },
      "execution_count": null,
      "outputs": []
    },
    {
      "cell_type": "code",
      "source": [
        "a = 5\n",
        "b = 8\n",
        "print(\"aの値:\", a)\n",
        "print(\"bの値:\", b)"
      ],
      "metadata": {
        "id": "ZqL1G419gtn0"
      },
      "execution_count": null,
      "outputs": []
    },
    {
      "cell_type": "code",
      "source": [
        "a = 3         # aに3を代入する\n",
        "a = 5         # aに5を代入する（このあと、aの値は5に更新される）\n",
        "\n",
        "print(\"a =\", a)"
      ],
      "metadata": {
        "id": "-KfjRCb1guzU"
      },
      "execution_count": null,
      "outputs": []
    },
    {
      "cell_type": "code",
      "source": [
        "a = 3         # aに3を代入する\n",
        "a = a + 5     # aの値(3)に5を加えて代入する\n",
        "\n",
        "print(\"a =\", a)"
      ],
      "metadata": {
        "id": "Jss5QKvvgwIg"
      },
      "execution_count": null,
      "outputs": []
    },
    {
      "cell_type": "code",
      "source": [
        "a = 3         # aに3を代入する\n",
        "a = a + 4     # aの値(3)に4を加えて、aに代入する\n",
        "a = a * 5     # aの値(7)に5をかけて、aに代入する\n",
        "\n",
        "print(\"a =\", a)"
      ],
      "metadata": {
        "id": "7CAwdn6lgxUk"
      },
      "execution_count": null,
      "outputs": []
    },
    {
      "cell_type": "code",
      "source": [
        "a = 3\n",
        "b = 5\n",
        "\n",
        "t = a   # aの値(3)が変数tに代入される\n",
        "a = b   # bの値(5)がaに代入される\n",
        "b = t   # 変数tに代入されていたaの元の値(3)がbに代入される\n",
        "\n",
        "print(\"a =\", a)\n",
        "print(\"b =\", b)"
      ],
      "metadata": {
        "id": "KILD6c9igyrP"
      },
      "execution_count": null,
      "outputs": []
    },
    {
      "cell_type": "code",
      "source": [
        "a = 3\n",
        "b = 5\n",
        "\n",
        "a = b   # 最初にbの値（5）がaに代入される。この時点でaもbも5になる\n",
        "b = a   # ここでaの値（すでに5になっている）がbに代入される。これによってbも5になる\n",
        "\n",
        "print(\"a =\", a)\n",
        "print(\"b =\", b)"
      ],
      "metadata": {
        "id": "j0PLuBNag0Ce"
      },
      "execution_count": null,
      "outputs": []
    },
    {
      "cell_type": "code",
      "source": [
        "height = 169.0   # height:身長[cm]\n",
        "weight = 56.0   # weight:体重[kg]\n",
        "\n",
        "# BMI ＝ 体重[kg] ÷ 身長[m]の２乗\n",
        "bmi = weight / (height/100.0)**2\n",
        "\n",
        "print(bmi)   # BMIを出力"
      ],
      "metadata": {
        "id": "trn75GmWg3bI"
      },
      "execution_count": null,
      "outputs": []
    },
    {
      "cell_type": "code",
      "source": [
        "a = 1   # 変数aがはじめて使われ、int型の1が代入される\n",
        "print(a)\n",
        "\n",
        "a = a / 5   # 計算結果(0.2)が小数になるので、aはfloat型になる\n",
        "print(a)\n",
        "\n",
        "a = a * 5   # 計算結果(1.0)は整数で表せるが、aの型はfloatのまま\n",
        "print(a)"
      ],
      "metadata": {
        "id": "kd8q0O6Ag53s"
      },
      "execution_count": null,
      "outputs": []
    },
    {
      "cell_type": "code",
      "source": [
        "junior_highschool = \"海城\" + \"中学\"    # 文字列どうしを足すと結合される\n",
        "print(junior_highschool)"
      ],
      "metadata": {
        "id": "ofJaFN80g6K5"
      },
      "execution_count": null,
      "outputs": []
    },
    {
      "cell_type": "code",
      "source": [
        "junior_highschool = \"海城\" + \"中学\"\n",
        "school_name = junior_highschool + \"高等学校\"\n",
        "print(school_name)"
      ],
      "metadata": {
        "id": "HUdE5HvQg77K"
      },
      "execution_count": null,
      "outputs": []
    },
    {
      "cell_type": "code",
      "source": [
        "grade = 4\n",
        "school_name = \"海城中学高等学校\"\n",
        "school_name_grade = school_name + str(grade) +\"年\"  # 数値は文字列に変換してから結合\n",
        "print(school_name_grade)"
      ],
      "metadata": {
        "id": "cfC_a2d8g9CS"
      },
      "execution_count": null,
      "outputs": []
    },
    {
      "cell_type": "code",
      "source": [
        "lyrics = \"朝に仰ぐ芙蓉峰\\n玲瓏千古かげ高し\\n夕に見やる太平洋\\n渺茫万里はてもなし\"\n",
        "print(lyrics)"
      ],
      "metadata": {
        "id": "mvfrdPvCg-Ok"
      },
      "execution_count": null,
      "outputs": []
    },
    {
      "cell_type": "code",
      "source": [
        "s = \"*\"\n",
        "s = s + s\n",
        "s = s + s\n",
        "s = s + s\n",
        "print(s)"
      ],
      "metadata": {
        "id": "OwdodXMQhAHJ"
      },
      "execution_count": null,
      "outputs": []
    },
    {
      "cell_type": "code",
      "source": [
        "a = \"apple\"\n",
        "b = \"banana\"\n",
        "c = \"cherry\"\n",
        "d = \"drian\"\n",
        "\n",
        "print(a)\n",
        "print(b)\n",
        "print(c)\n",
        "print(d)\n",
        "print(a, b, c, d)\n",
        "print(a, b, c, d, end=\".\")\n",
        "print(a, end=\"\")\n",
        "print(b, end=\"\")\n",
        "print(c, end=\"\")\n",
        "print(d, end=\"\")\n",
        "print(a, end=\" \")\n",
        "print(b, end=\" \")\n",
        "print(c, end=\" \")\n",
        "print(d, end=\" \")\n",
        "print(a, end=\", \")\n",
        "print(b, end=\", \")\n",
        "print(c, end=\", \")\n",
        "print(d, end=\", \")\n",
        "print(a, end=\"\")\n",
        "print()\n",
        "print(b, end=\"\")\n",
        "print(a, b, c, d, sep=\", \")\n",
        "print(a, b, c, d, sep=\"\")\n",
        "print(a, b, sep=\"\\t\")\n",
        "print(c, d, sep=\"\\t\")\n",
        "print(a, b, c, d, sep=\"\\n\")"
      ],
      "metadata": {
        "id": "dfdhWjAvhBtg"
      },
      "execution_count": null,
      "outputs": []
    },
    {
      "cell_type": "code",
      "source": [],
      "metadata": {
        "id": "t3y2-vZPhDaH"
      },
      "execution_count": null,
      "outputs": []
    }
  ]
}