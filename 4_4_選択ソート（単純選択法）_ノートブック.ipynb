{
  "nbformat": 4,
  "nbformat_minor": 0,
  "metadata": {
    "colab": {
      "provenance": [],
      "include_colab_link": true
    },
    "kernelspec": {
      "name": "python3",
      "display_name": "Python 3"
    },
    "language_info": {
      "name": "python"
    }
  },
  "cells": [
    {
      "cell_type": "markdown",
      "metadata": {
        "id": "view-in-github",
        "colab_type": "text"
      },
      "source": [
        "<a href=\"https://colab.research.google.com/github/kakik0u/JOHO/blob/main/4_4_%E9%81%B8%E6%8A%9E%E3%82%BD%E3%83%BC%E3%83%88%EF%BC%88%E5%8D%98%E7%B4%94%E9%81%B8%E6%8A%9E%E6%B3%95%EF%BC%89_%E3%83%8E%E3%83%BC%E3%83%88%E3%83%96%E3%83%83%E3%82%AF.ipynb\" target=\"_parent\"><img src=\"https://colab.research.google.com/assets/colab-badge.svg\" alt=\"Open In Colab\"/></a>"
      ]
    },
    {
      "cell_type": "code",
      "execution_count": 1,
      "metadata": {
        "id": "PLVGVI_ao6PT",
        "colab": {
          "base_uri": "https://localhost:8080/"
        },
        "outputId": "619078a0-fff4-4aa2-bb4c-e422d068a1a6"
      },
      "outputs": [
        {
          "output_type": "stream",
          "name": "stdout",
          "text": [
            "[6, 3, 2, 0, 7, 1, 4, 5]\n",
            "------------------------\n",
            "[0, 3, 2, 6, 7, 1, 4, 5]\n",
            "[0, 1, 2, 6, 7, 3, 4, 5]\n",
            "[0, 1, 2, 6, 7, 3, 4, 5]\n",
            "[0, 1, 2, 3, 7, 6, 4, 5]\n",
            "[0, 1, 2, 3, 4, 6, 7, 5]\n",
            "[0, 1, 2, 3, 4, 5, 7, 6]\n",
            "[0, 1, 2, 3, 4, 5, 6, 7]\n",
            "------------------------\n",
            "[0, 1, 2, 3, 4, 5, 6, 7]\n"
          ]
        }
      ],
      "source": [
        "arr = [6, 3, 2, 0, 7, 1, 4, 5] # 元のリスト\n",
        "print(arr)    # ソート前を出力\n",
        "n = len(arr)\n",
        "\n",
        "print(\"------------------------\")\n",
        "\n",
        "for i in range(n - 1):                # 未整列の左端を1つずつ後にずらしていく（繰り返しインデックスの変数をiとする）\n",
        "    min_index = i                     # 暫定最小値の位置（初期値は未整列の先頭のインデックス=i）\n",
        "    for j in range(i + 1, n):         # 未整列の２番目(i+1)から末尾まで繰り返す（繰り返しインデックスの変数をjとする）\n",
        "        if arr[min_index] > arr[j]:   # 暫定最小値よりもj番目の値が小さければ、\n",
        "            min_index = j             # 暫定最小値の位置をj番目とする\n",
        "                                        # この時点で、未整列の最小値がarr[min_index]と決まる\n",
        "    tmp = arr[min_index]              # i番目(arr[i])と未整列の最小値(arr[min_index])を交換\n",
        "    arr[min_index] = arr[i]\n",
        "    arr[i] = tmp\n",
        "    print(arr)                        # 途中経過を出力\n",
        "\n",
        "print(\"------------------------\")\n",
        "print(arr)    # ソート後を出力"
      ]
    },
    {
      "cell_type": "code",
      "source": [],
      "metadata": {
        "id": "dbLPxNqwxq1e"
      },
      "execution_count": null,
      "outputs": []
    }
  ]
}