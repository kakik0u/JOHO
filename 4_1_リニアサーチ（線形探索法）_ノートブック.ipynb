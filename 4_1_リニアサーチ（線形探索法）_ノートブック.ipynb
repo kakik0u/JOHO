{
  "nbformat": 4,
  "nbformat_minor": 0,
  "metadata": {
    "colab": {
      "provenance": [],
      "include_colab_link": true
    },
    "kernelspec": {
      "name": "python3",
      "display_name": "Python 3"
    },
    "language_info": {
      "name": "python"
    }
  },
  "cells": [
    {
      "cell_type": "markdown",
      "metadata": {
        "id": "view-in-github",
        "colab_type": "text"
      },
      "source": [
        "<a href=\"https://colab.research.google.com/github/kakimotokougyo/JOHO/blob/main/4_1_%E3%83%AA%E3%83%8B%E3%82%A2%E3%82%B5%E3%83%BC%E3%83%81%EF%BC%88%E7%B7%9A%E5%BD%A2%E6%8E%A2%E7%B4%A2%E6%B3%95%EF%BC%89_%E3%83%8E%E3%83%BC%E3%83%88%E3%83%96%E3%83%83%E3%82%AF.ipynb\" target=\"_parent\"><img src=\"https://colab.research.google.com/assets/colab-badge.svg\" alt=\"Open In Colab\"/></a>"
      ]
    },
    {
      "cell_type": "code",
      "execution_count": null,
      "metadata": {
        "id": "PLVGVI_ao6PT"
      },
      "outputs": [],
      "source": [
        "# リニアサーチ（線形探索法）\n",
        "arr = [10, 23, 45, 67, 89, 12, 3]\n",
        "print(arr)\n",
        "target = int(input(\"探索値: \"))   # 探索値を入力させる\n",
        "\n",
        "x = -1         # 探索値のインデックス番号（初期値: -1）\n",
        "n = len(arr)   # 配列の長さ\n",
        "\n",
        "for i in range(n):         # 配列の中を順番にループする\n",
        "    if arr[i] == target:     # i番目の要素と探索値が等しければ\n",
        "        x = i                  # xにiを代入する\n",
        "        break                  # ループを終了する\n",
        "\n",
        "if x != -1:                # xが-1ではない場合（探索値が見つかった場合）\n",
        "    print(target, \"のインデックス番号は\", x)\n",
        "else:                      # xが-1(初期値)の場合（探索値が存在しなかった場合）\n",
        "    print(target, \"は存在しません。\")\n"
      ]
    },
    {
      "cell_type": "code",
      "source": [
        "# 最大値の探索\n",
        "arr = [10, 23, 45, 67, 89, 12, 3]\n",
        "print(arr)\n",
        "\n",
        "n = len(arr)\n",
        "max_value = arr[0]                  # 0番目の値を暫定の最大値maxに入れる。\n",
        "\n",
        "for i in range(1, n):               # 1番目〜末尾まで繰り返す。\n",
        "    if max_value < arr[i]:          # 暫定の最大値よりarr[i]が大きければ、\n",
        "        max_value = arr[i]          # 暫定の最大値にarr[i]を代入する\n",
        "\n",
        "print(\"最大値は\", max_value)        # 配列を最後まで調べて、maxに入っている値が最大値と確定する"
      ],
      "metadata": {
        "id": "Fj9eT-3MoLHT"
      },
      "execution_count": null,
      "outputs": []
    },
    {
      "cell_type": "code",
      "source": [
        "# 最小値の探索\n",
        "arr = [10, 23, 45, 67, 89, 12, 3]\n",
        "print(arr)\n",
        "\n",
        "n = len(arr)\n",
        "min_value = arr[0]                  # 0番目の値を暫定の最小値minに入れる。\n",
        "\n",
        "for i in range(1, n):               # 1番目〜末尾まで繰り返す。\n",
        "    if min_value > arr[i]:          # 暫定の最小値よりarr[i]が小さければ、\n",
        "        min_value = arr[i]          # 暫定の最小値にarr[i]を代入する\n",
        "\n",
        "print(\"最小値は\", min_value)        # 配列を最後まで調べて、minに入っている値が最小値と確定する"
      ],
      "metadata": {
        "id": "IOizw3vfoM3z"
      },
      "execution_count": null,
      "outputs": []
    }
  ]
}