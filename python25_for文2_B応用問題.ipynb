{
  "nbformat": 4,
  "nbformat_minor": 0,
  "metadata": {
    "colab": {
      "provenance": [],
      "toc_visible": true
    },
    "kernelspec": {
      "name": "python3",
      "display_name": "Python 3"
    },
    "language_info": {
      "name": "python"
    }
  },
  "cells": [
    {
      "cell_type": "markdown",
      "source": [
        "#**2-4. 繰り返し（for文）②** 応用問題\n",
        "\n"
      ],
      "metadata": {
        "id": "wjzI1JYFgMw7"
      }
    },
    {
      "cell_type": "markdown",
      "source": [
        "#**問1 3の倍数と3のつく数字のときだけ★をつける②**\n",
        "1〜39の整数を順番に発生させ、3の倍数または3のつく数字のときに、その数字のあとに「★」を出力し、それ以外の場合にはその数字のみ出力するプログラムを書きなさい。\n",
        "ただし、ユーザーの入力値によるエラー回避は不要です。"
      ],
      "metadata": {
        "id": "spcT5KbQ21DK"
      }
    },
    {
      "cell_type": "markdown",
      "source": [
        "###入力用"
      ],
      "metadata": {
        "id": "4rrTQkYYQeCP"
      }
    },
    {
      "cell_type": "code",
      "source": [
        "#3の倍数と3のつく数字のときだけ★をつける②\n",
        "\n",
        "for i in range(1, 40):\n",
        "    if i % 3 == 0 or i // 10 == 3 or i % 10 == 3:\n",
        "        print(i, \"★\")\n",
        "    else:\n",
        "        print(i)\n"
      ],
      "metadata": {
        "id": "rig-2fTdQeL4"
      },
      "execution_count": null,
      "outputs": []
    },
    {
      "cell_type": "markdown",
      "source": [
        "###模範解答"
      ],
      "metadata": {
        "id": "GCoOs08dQeTb"
      }
    },
    {
      "cell_type": "code",
      "source": [
        "#3の倍数と3のつく数字のときだけ★をつける②\n",
        "\n",
        "for i in range(1, 40):\n",
        "    if i % 3 == 0 or i // 10 == 3 or i % 10 == 3:\n",
        "        print(i, \"★\")\n",
        "    else:\n",
        "        print(i)\n"
      ],
      "metadata": {
        "colab": {
          "base_uri": "https://localhost:8080/"
        },
        "id": "C9zKZ7ON264W",
        "outputId": "218bec1f-e881-4f53-86ac-b95546398af8"
      },
      "execution_count": null,
      "outputs": [
        {
          "output_type": "stream",
          "name": "stdout",
          "text": [
            "1\n",
            "2\n",
            "3 ★\n",
            "4\n",
            "5\n",
            "6 ★\n",
            "7\n",
            "8\n",
            "9 ★\n",
            "10\n",
            "11\n",
            "12 ★\n",
            "13 ★\n",
            "14\n",
            "15 ★\n",
            "16\n",
            "17\n",
            "18 ★\n",
            "19\n",
            "20\n",
            "21 ★\n",
            "22\n",
            "23 ★\n",
            "24 ★\n",
            "25\n",
            "26\n",
            "27 ★\n",
            "28\n",
            "29\n",
            "30 ★\n",
            "31 ★\n",
            "32 ★\n",
            "33 ★\n",
            "34 ★\n",
            "35 ★\n",
            "36 ★\n",
            "37 ★\n",
            "38 ★\n",
            "39 ★\n"
          ]
        }
      ]
    },
    {
      "cell_type": "markdown",
      "source": [
        "---\n",
        "---\n",
        "#**問2 円の内部に存在する格子点**\n",
        "半径2の円の内部に存在する格子点の座標をすべて表示するプログラムを書きなさい。  \n",
        "\n",
        "ただし、格子点とは、x座標とy座標がともに整数となる点である。\n",
        "\n",
        "出力するときは、`print(\"(\", x, \", \", y, \")\", sep=\"\")`と書くと、`(-1, 1)`のように表せる。  \n",
        "`sep`はprint関数のオプションで、カンマ区切りで出力する文字列を指定するときデフォルトでは半角スペースが入るが、`sep`を指定することで任意の区切り文字を指定することができる。`sep=\"\"`は区切りに何も指定しないことを意味する。"
      ],
      "metadata": {
        "id": "Sk7nymGxbHnm"
      }
    },
    {
      "cell_type": "markdown",
      "source": [
        "###入力用"
      ],
      "metadata": {
        "id": "LJG8s13kQpCL"
      }
    },
    {
      "cell_type": "code",
      "source": [
        "# 円の内部に存在する格子点\n",
        "r = 2\n",
        "\n",
        "### 続きのプログラムを書きなさい ###\n",
        "for x in range(-r, r+1):\n",
        "    for y in range(-r, r+1):\n",
        "        if x ** 2 + y ** 2 <= r ** 2:\n",
        "            print(\"(\", x, \", \", y, \")\", sep=\"\")"
      ],
      "metadata": {
        "id": "BvcAaRAdQpL2"
      },
      "execution_count": null,
      "outputs": []
    },
    {
      "cell_type": "markdown",
      "source": [
        "###模範解答"
      ],
      "metadata": {
        "id": "YUCdwJr3QpSU"
      }
    },
    {
      "cell_type": "code",
      "source": [
        "# 円の内部に存在する格子点\n",
        "r = 2\n",
        "\n",
        "### 続きのプログラムを書きなさい ###\n",
        "for x in range(-r, r+1):\n",
        "    for y in range(-r, r+1):\n",
        "        if x ** 2 + y ** 2 <= r ** 2:\n",
        "            print(\"(\", x, \", \", y, \")\", sep=\"\")\n"
      ],
      "metadata": {
        "colab": {
          "base_uri": "https://localhost:8080/"
        },
        "id": "SwpQeu7AbawF",
        "outputId": "d88f1eed-66b9-42c2-f834-ec5f49a10262"
      },
      "execution_count": null,
      "outputs": [
        {
          "output_type": "stream",
          "name": "stdout",
          "text": [
            "(-2, 0)\n",
            "(-1, -1)\n",
            "(-1, 0)\n",
            "(-1, 1)\n",
            "(0, -2)\n",
            "(0, -1)\n",
            "(0, 0)\n",
            "(0, 1)\n",
            "(0, 2)\n",
            "(1, -1)\n",
            "(1, 0)\n",
            "(1, 1)\n",
            "(2, 0)\n"
          ]
        }
      ]
    },
    {
      "cell_type": "markdown",
      "source": [
        "---\n",
        "---\n",
        "#**問3 ２つのサイコロの目の積と和**\n"
      ],
      "metadata": {
        "id": "mM9ipWyK4Al4"
      }
    },
    {
      "cell_type": "markdown",
      "source": [
        "２つのサイコロaとbを同時に振って、出た目の数の積が出た目の数の和で割り切れる場合をすべて出力し、全部で何通りあるか数えるプログラムを書きなさい。"
      ],
      "metadata": {
        "id": "YGIZ-lkDxro6"
      }
    },
    {
      "cell_type": "markdown",
      "source": [
        "###入力用"
      ],
      "metadata": {
        "id": "5Kt2OoDXQ1v-"
      }
    },
    {
      "cell_type": "code",
      "source": [
        "# ２つのサイコロの目の積と和\n",
        "cnt = 0   #nは求める場合の数\n",
        "\n",
        "#### 以下に続きのプログラムを書きなさい ####\n",
        "for a in range(1, 7):\n",
        "    for b in range(1, 7):\n",
        "        if (a * b) % (a + b) == 0:\n",
        "            print(a, b)\n",
        "            cnt = cnt + 1\n",
        "#### ここまで ####\n",
        "print(\"以上\", cnt, \"通り\")\n"
      ],
      "metadata": {
        "id": "lze8y167Q17-"
      },
      "execution_count": null,
      "outputs": []
    },
    {
      "cell_type": "markdown",
      "source": [
        "###模範解答"
      ],
      "metadata": {
        "id": "scflKw3PQ2CM"
      }
    },
    {
      "cell_type": "code",
      "source": [
        "# ２つのサイコロの目の積と和\n",
        "cnt = 0   #nは求める場合の数\n",
        "\n",
        "#### 以下に続きのプログラムを書きなさい ####\n",
        "for a in range(1, 7):\n",
        "    for b in range(1, 7):\n",
        "        if (a * b) % (a + b) == 0:\n",
        "            print(a, b)\n",
        "            cnt = cnt + 1\n",
        "\n",
        "#### ここまで ####\n",
        "print(\"以上\", cnt, \"通り\")\n"
      ],
      "metadata": {
        "colab": {
          "base_uri": "https://localhost:8080/"
        },
        "id": "fU_WSY4qrt-k",
        "outputId": "ddd26b8f-077e-4576-e9ac-42e3c2d268c2"
      },
      "execution_count": null,
      "outputs": [
        {
          "output_type": "stream",
          "name": "stdout",
          "text": [
            "2 2\n",
            "3 6\n",
            "4 4\n",
            "6 3\n",
            "6 6\n",
            "以上 5 通り\n"
          ]
        }
      ]
    },
    {
      "cell_type": "markdown",
      "source": [
        "---\n",
        "---\n",
        "#**問4 素数判定**\n",
        "ユーザーが入力した自然数が素数かどうかを判別するプログラムを書きなさい。ただし、ユーザーの入力値のエラー回避処理は不要です。"
      ],
      "metadata": {
        "id": "xe1JUG_LgNa5"
      }
    },
    {
      "cell_type": "markdown",
      "source": [
        "###入力用"
      ],
      "metadata": {
        "id": "TRDVcZrKRNyf"
      }
    },
    {
      "cell_type": "code",
      "source": [
        "# 素数判定\n",
        "num = int(input(\"自然数を入力してください: \"))\n",
        "\n",
        "is_prime = True     # 素数フラグ（素数ならTrue，それ以外ならFalse）\n",
        "\n",
        "#### 以下に続きのプログラムを書きなさい ####\n",
        "if num == 1:    # 1以下は素数ではない\n",
        "    is_prime = False\n",
        "elif num == 2:  # 2は素数\n",
        "    is_prime = True\n",
        "elif num % 2 == 0:  # 偶数は素数ではない\n",
        "    is_prime = False\n",
        "else:   # 3以上の奇数は、3からnumの平方根までの奇数で割り切れなければ素数である\n",
        "    for i in range(3, int(num ** 0.5) + 1, 2):\n",
        "        if num % i == 0:\n",
        "            is_prime = False\n",
        "            break\n",
        "#### ここまで ####\n",
        "if is_prime == True:\n",
        "    print(num, \"は素数です\")\n",
        "else:\n",
        "    print(num, \"は素数ではありません\")"
      ],
      "metadata": {
        "id": "YcScNFsaRN70"
      },
      "execution_count": null,
      "outputs": []
    },
    {
      "cell_type": "markdown",
      "source": [
        "###模範解答"
      ],
      "metadata": {
        "id": "ARxd163VROJQ"
      }
    },
    {
      "cell_type": "code",
      "source": [
        "# 素数判定\n",
        "num = int(input(\"自然数を入力してください: \"))\n",
        "\n",
        "is_prime = True     # 素数フラグ（素数ならTrue，それ以外ならFalse）\n",
        "\n",
        "#### 以下に続きのプログラムを書きなさい ####\n",
        "if num == 1:    # 1以下は素数ではない\n",
        "    is_prime = False\n",
        "elif num == 2:  # 2は素数\n",
        "    is_prime = True\n",
        "elif num % 2 == 0:  # 偶数は素数ではない\n",
        "    is_prime = False\n",
        "else:   # 3以上の奇数は、3からnumの平方根までの奇数で割り切れなければ素数である\n",
        "    for i in range(3, int(num ** 0.5) + 1, 2):\n",
        "        if num % i == 0:\n",
        "            is_prime = False\n",
        "            break\n",
        "\n",
        "#### ここまで ####\n",
        "if is_prime == True:\n",
        "    print(num, \"は素数です\")\n",
        "else:\n",
        "    print(num, \"は素数ではありません\")"
      ],
      "metadata": {
        "id": "mvgIH62KgNjL",
        "colab": {
          "base_uri": "https://localhost:8080/"
        },
        "outputId": "0e592f0c-8a60-4846-dea4-22bce09bcde3"
      },
      "execution_count": null,
      "outputs": [
        {
          "output_type": "stream",
          "name": "stdout",
          "text": [
            "自然数を入力してください: 113\n",
            "113 は素数です\n"
          ]
        }
      ]
    },
    {
      "cell_type": "markdown",
      "source": [
        "---\n",
        "---\n",
        "#**問5 横型カレンダー**\n",
        "西暦を入力すると、その年の横型のカレンダーを表示するプログラムを書きなさい。ただし、ユーザーの入力値のエラー回避処理は不要です。\n",
        "\n",
        "出力例：\n",
        "```\n",
        "西暦を入力してください：2024\n",
        "1 月 \t1  2  3  4  5  6  7  8  9  10  11  12  13  14  15  16  17  18  19  20  21  22  23  24  25  26  27  28  29  30  31  \n",
        "2 月 \t1  2  3  4  5  6  7  8  9  10  11  12  13  14  15  16  17  18  19  20  21  22  23  24  25  26  27  28  29  \n",
        "3 月 \t1  2  3  4  5  6  7  8  9  10  11  12  13  14  15  16  17  18  19  20  21  22  23  24  25  26  27  28  29  30  31  \n",
        "4 月 \t1  2  3  4  5  6  7  8  9  10  11  12  13  14  15  16  17  18  19  20  21  22  23  24  25  26  27  28  29  30  \n",
        "5 月 \t1  2  3  4  5  6  7  8  9  10  11  12  13  14  15  16  17  18  19  20  21  22  23  24  25  26  27  28  29  30  31  \n",
        "6 月 \t1  2  3  4  5  6  7  8  9  10  11  12  13  14  15  16  17  18  19  20  21  22  23  24  25  26  27  28  29  30  \n",
        "7 月 \t1  2  3  4  5  6  7  8  9  10  11  12  13  14  15  16  17  18  19  20  21  22  23  24  25  26  27  28  29  30  31  \n",
        "8 月 \t1  2  3  4  5  6  7  8  9  10  11  12  13  14  15  16  17  18  19  20  21  22  23  24  25  26  27  28  29  30  31  \n",
        "9 月 \t1  2  3  4  5  6  7  8  9  10  11  12  13  14  15  16  17  18  19  20  21  22  23  24  25  26  27  28  29  30  \n",
        "10 月 \t1  2  3  4  5  6  7  8  9  10  11  12  13  14  15  16  17  18  19  20  21  22  23  24  25  26  27  28  29  30  31  \n",
        "11 月 \t1  2  3  4  5  6  7  8  9  10  11  12  13  14  15  16  17  18  19  20  21  22  23  24  25  26  27  28  29  30  \n",
        "12 月 \t1  2  3  4  5  6  7  8  9  10  11  12  13  14  15  16  17  18  19  20  21  22  23  24  25  26  27  28  29  30  31\n",
        "```"
      ],
      "metadata": {
        "id": "W7mgAdxWOy3b"
      }
    },
    {
      "cell_type": "markdown",
      "source": [
        "###入力用"
      ],
      "metadata": {
        "id": "q6XpkclNRXuv"
      }
    },
    {
      "cell_type": "code",
      "source": [
        "# 横型カレンダー\n",
        "year = int(input(\"西暦を入力してください：\"))\n",
        "\n",
        "is_leap_year = False    # 閏年フラグ。閏年ならTrue，平年ならFalse。\n",
        "\n",
        "\n",
        "#### 以下に続きのプログラムを書きなさい ####\n",
        "# 閏年だったら is_leap_year を True にする\n",
        "if year % 4 == 0 and (year % 100 != 0 or year % 400 == 0):\n",
        "    is_leap_year = True\n",
        "\n",
        "# 1月〜12月まで繰り返す（range関数の範囲に注意）\n",
        "for month in range(1, 13):\n",
        "    if month == 2 and is_leap_year == True:\n",
        "        days_in_month = 29      # 2月は、閏年なら29日\n",
        "\n",
        "    elif month == 2:\n",
        "        days_in_month = 28      # 2月は、平年なら28日\n",
        "\n",
        "    elif (month < 8 and month % 2 == 0) or (month >= 8 and month % 2 == 1):\n",
        "        # 7月までで2月を除く偶数月は30日、8月以降で奇数月は30日\n",
        "        days_in_month = 30\n",
        "\n",
        "    else:\n",
        "        # その他は31日\n",
        "        days_in_month = 31\n",
        "\n",
        "\n",
        "    print(month, \"月\", end=\" \\t\")\n",
        "    # その月の1日から 月末までの日 を出力（range関数の範囲に注意）\n",
        "    for day in range(1, days_in_month + 1):\n",
        "        print(day, end=\"  \")    # 日を出力\n",
        "\n",
        "    print() # 改行を出力\n",
        "\n"
      ],
      "metadata": {
        "id": "mkCfcbGMRYOx"
      },
      "execution_count": null,
      "outputs": []
    },
    {
      "cell_type": "markdown",
      "source": [
        "###模範解答"
      ],
      "metadata": {
        "id": "1h5uj75FRYUf"
      }
    },
    {
      "cell_type": "code",
      "source": [
        "# 横型カレンダー\n",
        "year = int(input(\"西暦を入力してください：\"))\n",
        "\n",
        "is_leap_year = False    # 閏年フラグ。閏年ならTrue，平年ならFalse。\n",
        "\n",
        "\n",
        "#### 以下に続きのプログラムを書きなさい ####\n",
        "\n",
        "# 閏年だったら is_leap_year を True にする\n",
        "if year % 4 == 0 and (year % 100 != 0 or year % 400 == 0):\n",
        "    is_leap_year = True\n",
        "\n",
        "# 1月〜12月まで繰り返す（range関数の範囲に注意）\n",
        "for month in range(1, 13):\n",
        "    if month == 2 and is_leap_year == True:\n",
        "        days_in_month = 29      # 2月は、閏年なら29日\n",
        "\n",
        "    elif month == 2:\n",
        "        days_in_month = 28      # 2月は、平年なら28日\n",
        "\n",
        "    elif (month < 8 and month % 2 == 0) or (month >= 8 and month % 2 == 1):\n",
        "        # 7月までで2月を除く偶数月は30日、8月以降で奇数月は30日\n",
        "        days_in_month = 30\n",
        "\n",
        "    else:\n",
        "        # その他は31日\n",
        "        days_in_month = 31\n",
        "\n",
        "\n",
        "    print(month, \"月\", end=\" \\t\")\n",
        "    # その月の1日から 月末までの日 を出力（range関数の範囲に注意）\n",
        "    for day in range(1, days_in_month + 1):\n",
        "        print(day, end=\"  \")    # 日を出力\n",
        "\n",
        "    print() # 改行を出力\n"
      ],
      "metadata": {
        "colab": {
          "base_uri": "https://localhost:8080/"
        },
        "id": "Oc7nlAe9Z_9m",
        "outputId": "6d921b67-cfc9-4a8c-e792-e15158060e49"
      },
      "execution_count": null,
      "outputs": [
        {
          "output_type": "stream",
          "name": "stdout",
          "text": [
            "西暦を入力してください：2024\n",
            "1 月 \t1  2  3  4  5  6  7  8  9  10  11  12  13  14  15  16  17  18  19  20  21  22  23  24  25  26  27  28  29  30  31  \n",
            "2 月 \t1  2  3  4  5  6  7  8  9  10  11  12  13  14  15  16  17  18  19  20  21  22  23  24  25  26  27  28  29  \n",
            "3 月 \t1  2  3  4  5  6  7  8  9  10  11  12  13  14  15  16  17  18  19  20  21  22  23  24  25  26  27  28  29  30  31  \n",
            "4 月 \t1  2  3  4  5  6  7  8  9  10  11  12  13  14  15  16  17  18  19  20  21  22  23  24  25  26  27  28  29  30  \n",
            "5 月 \t1  2  3  4  5  6  7  8  9  10  11  12  13  14  15  16  17  18  19  20  21  22  23  24  25  26  27  28  29  30  31  \n",
            "6 月 \t1  2  3  4  5  6  7  8  9  10  11  12  13  14  15  16  17  18  19  20  21  22  23  24  25  26  27  28  29  30  \n",
            "7 月 \t1  2  3  4  5  6  7  8  9  10  11  12  13  14  15  16  17  18  19  20  21  22  23  24  25  26  27  28  29  30  31  \n",
            "8 月 \t1  2  3  4  5  6  7  8  9  10  11  12  13  14  15  16  17  18  19  20  21  22  23  24  25  26  27  28  29  30  31  \n",
            "9 月 \t1  2  3  4  5  6  7  8  9  10  11  12  13  14  15  16  17  18  19  20  21  22  23  24  25  26  27  28  29  30  \n",
            "10 月 \t1  2  3  4  5  6  7  8  9  10  11  12  13  14  15  16  17  18  19  20  21  22  23  24  25  26  27  28  29  30  31  \n",
            "11 月 \t1  2  3  4  5  6  7  8  9  10  11  12  13  14  15  16  17  18  19  20  21  22  23  24  25  26  27  28  29  30  \n",
            "12 月 \t1  2  3  4  5  6  7  8  9  10  11  12  13  14  15  16  17  18  19  20  21  22  23  24  25  26  27  28  29  30  31  \n"
          ]
        }
      ]
    }
  ]
}