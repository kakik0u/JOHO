{
  "nbformat": 4,
  "nbformat_minor": 0,
  "metadata": {
    "colab": {
      "provenance": [],
      "include_colab_link": true
    },
    "kernelspec": {
      "name": "python3",
      "display_name": "Python 3"
    },
    "language_info": {
      "name": "python"
    }
  },
  "cells": [
    {
      "cell_type": "markdown",
      "metadata": {
        "id": "view-in-github",
        "colab_type": "text"
      },
      "source": [
        "<a href=\"https://colab.research.google.com/github/kakik0u/JOHO/blob/main/4_5_%E6%8C%BF%E5%85%A5%E3%82%BD%E3%83%BC%E3%83%88%EF%BC%88%E5%8D%98%E7%B4%94%E6%8C%BF%E5%85%A5%E6%B3%95%EF%BC%89_%E3%83%8E%E3%83%BC%E3%83%88%E3%83%96%E3%83%83%E3%82%AF.ipynb\" target=\"_parent\"><img src=\"https://colab.research.google.com/assets/colab-badge.svg\" alt=\"Open In Colab\"/></a>"
      ]
    },
    {
      "cell_type": "code",
      "execution_count": null,
      "metadata": {
        "id": "PLVGVI_ao6PT"
      },
      "outputs": [],
      "source": [
        "arr = [6, 3, 2, 0, 7, 1, 4, 5] # 元のリスト\n",
        "print(arr)    # ソート前を出力\n",
        "n = len(arr)\n",
        "print(\"------------------------\")\n",
        "\n",
        "for i in range(1, n):              # 未整列部分から、順番に１つずつ値を取り出していく\n",
        "    tmp = arr[i]                   # 挿入する値を変数tmpに入れる\n",
        "    ins = 0                        # 挿入する位置の変数(初期値は暫定的に0)\n",
        "\n",
        "    for j in range(i - 1, -1, -1): # 整列済みのどこに挿入すればいいかを、後から前に向かって順番に比較していく\n",
        "        if arr[j] > tmp:           # もし挿入する値が小さければ、\n",
        "            arr[j + 1] = arr[j]    # 調べた値を１つずつ後にずらす\n",
        "        else:                      # そうでなければ、\n",
        "            ins = j + 1            # 挿入する位置をj+1に確定する\n",
        "            break                  # ずらす処理を止める\n",
        "\n",
        "    arr[ins] = tmp                 # ずらす処理が終わった位置に挿入する値を入れる\n",
        "    print(arr)                     # 途中経過を出力\n",
        "\n",
        "print(\"------------------------\")\n",
        "print(arr)     # ソート後"
      ]
    },
    {
      "cell_type": "code",
      "source": [
        "arr = [6, 3, 2, 0, 7, 1, 4, 5] # 元のリスト\n",
        "print(arr)    # ソート前を出力\n",
        "n = len(arr)\n",
        "print(\"------------------------\")\n",
        "\n",
        "for i in range(1, n):                  # 未整列部分から、順番に１つずつ値を取り出していく\n",
        "    tmp = arr[i]                   # 挿入する値を変数tmpに入れる\n",
        "    j = i - 1                      # jはiのひとつ前から先頭に向かって1ずつ減らしながら繰り返す\n",
        "    while j >= 0 and arr[j] > tmp: # jの値が正かつj番目の要素がtmpよりも大きいあいだ繰り返す\n",
        "        arr[j + 1] = arr[j]    # j番目の要素をひとつ右に移動する\n",
        "        j = j - 1              # jの値を1減らす（ひとつ前の要素を次の対象とする）\n",
        "    arr[j + 1] = tmp               # whileループが終わったら（tmpよりも大きい要素は１つずつ右に移動している）、j+1番目にtmpを代入する\n",
        "    print(arr)\n",
        "\n",
        "print(\"------------------------\")\n",
        "print(arr)     # ソート後"
      ],
      "metadata": {
        "id": "JE5SNHdX2R9T"
      },
      "execution_count": null,
      "outputs": []
    }
  ]
}