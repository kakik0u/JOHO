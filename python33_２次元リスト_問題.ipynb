{
  "nbformat": 4,
  "nbformat_minor": 0,
  "metadata": {
    "colab": {
      "provenance": [],
      "toc_visible": true,
      "include_colab_link": true
    },
    "kernelspec": {
      "name": "python3",
      "display_name": "Python 3"
    },
    "language_info": {
      "name": "python"
    }
  },
  "cells": [
    {
      "cell_type": "markdown",
      "metadata": {
        "id": "view-in-github",
        "colab_type": "text"
      },
      "source": [
        "<a href=\"https://colab.research.google.com/github/kakimotokougyo/JOHO/blob/main/python33_%EF%BC%92%E6%AC%A1%E5%85%83%E3%83%AA%E3%82%B9%E3%83%88_%E5%95%8F%E9%A1%8C.ipynb\" target=\"_parent\"><img src=\"https://colab.research.google.com/assets/colab-badge.svg\" alt=\"Open In Colab\"/></a>"
      ]
    },
    {
      "cell_type": "markdown",
      "source": [
        "#**3-3. 2次元リスト 問題**"
      ],
      "metadata": {
        "id": "x-AJvsoQRWrp"
      }
    },
    {
      "cell_type": "markdown",
      "source": [
        "#**問1 九九表**\n"
      ],
      "metadata": {
        "id": "6RM3MhyW8_S_"
      }
    },
    {
      "cell_type": "markdown",
      "source": [
        "##**(1) 九九表**\n",
        "九九表の２次元リストを作成し、それを出力するプログラムを書きなさい。  \n",
        "値と値のあいだはタブ文字`\\t`で区切るものとする（print関数に`end=\"\\t\"`を指定）。\n",
        "\n",
        "- 出力例\n",
        "```\n",
        "1\t2\t3\t4\t5\t6\t7\t8\t9\n",
        "2\t4\t6\t8\t10\t12\t14\t16\t18\n",
        "3\t6\t9\t12\t15\t18\t21\t24\t27\n",
        "4\t8\t12\t16\t20\t24\t28\t32\t36\n",
        "5\t10\t15\t20\t25\t30\t35\t40\t45\n",
        "6\t12\t18\t24\t30\t36\t42\t48\t54\n",
        "7\t14\t21\t28\t35\t42\t49\t56\t63\n",
        "8\t16\t24\t32\t40\t48\t56\t64\t72\n",
        "9\t18\t27\t36\t45\t54\t63\t72\t81\n",
        "```"
      ],
      "metadata": {
        "id": "fwrBZtexfrdQ"
      }
    },
    {
      "cell_type": "markdown",
      "source": [
        "###入力用"
      ],
      "metadata": {
        "id": "lDO-abpifs8C"
      }
    },
    {
      "cell_type": "code",
      "source": [
        "# 九九表①\n",
        "def print_matrix(matrix):\n",
        "    ### ２次元リストを出力するプログラム ###\n",
        "    for row in matrix:\n",
        "        for value in row:\n",
        "            print(value, end=\"\\t\")\n",
        "        print()\n",
        "    ### ここまで ###\n",
        "\n",
        "matrix = [\n",
        "    [0, 0, 0, 0, 0, 0, 0, 0, 0],\n",
        "    [0, 0, 0, 0, 0, 0, 0, 0, 0],\n",
        "    [0, 0, 0, 0, 0, 0, 0, 0, 0],\n",
        "    [0, 0, 0, 0, 0, 0, 0, 0, 0],\n",
        "    [0, 0, 0, 0, 0, 0, 0, 0, 0],\n",
        "    [0, 0, 0, 0, 0, 0, 0, 0, 0],\n",
        "    [0, 0, 0, 0, 0, 0, 0, 0, 0],\n",
        "    [0, 0, 0, 0, 0, 0, 0, 0, 0],\n",
        "    [0, 0, 0, 0, 0, 0, 0, 0, 0]\n",
        "  ]\n",
        "\n",
        "### ２次元リストの作成 ###\n",
        "for i in range(9):\n",
        "    for j in range(9):\n",
        "        matrix[i][j] = (i+1) * (j+1)\n",
        "### ここまで ###\n",
        "\n",
        "print_matrix(matrix)\n"
      ],
      "metadata": {
        "id": "ok_YjlZtfr7Q"
      },
      "execution_count": null,
      "outputs": []
    },
    {
      "cell_type": "markdown",
      "source": [
        "###模範解答"
      ],
      "metadata": {
        "id": "XcHMNClBfsMu"
      }
    },
    {
      "cell_type": "code",
      "source": [
        "# 九九表①\n",
        "def print_matrix(matrix):\n",
        "    ### ２次元リストを出力するプログラム ###\n",
        "    for row in matrix:\n",
        "        for value in row:\n",
        "            print(value, end=\"\\t\")\n",
        "        print()\n",
        "    ### ここまで ###\n",
        "\n",
        "matrix = [\n",
        "    [0, 0, 0, 0, 0, 0, 0, 0, 0],\n",
        "    [0, 0, 0, 0, 0, 0, 0, 0, 0],\n",
        "    [0, 0, 0, 0, 0, 0, 0, 0, 0],\n",
        "    [0, 0, 0, 0, 0, 0, 0, 0, 0],\n",
        "    [0, 0, 0, 0, 0, 0, 0, 0, 0],\n",
        "    [0, 0, 0, 0, 0, 0, 0, 0, 0],\n",
        "    [0, 0, 0, 0, 0, 0, 0, 0, 0],\n",
        "    [0, 0, 0, 0, 0, 0, 0, 0, 0],\n",
        "    [0, 0, 0, 0, 0, 0, 0, 0, 0]\n",
        "  ]\n",
        "\n",
        "### ２次元リストの作成 ###\n",
        "for i in range(9):\n",
        "    for j in range(9):\n",
        "        matrix[i][j] = (i+1) * (j+1)\n",
        "### ここまで ###\n",
        "\n",
        "print_matrix(matrix)\n"
      ],
      "metadata": {
        "colab": {
          "base_uri": "https://localhost:8080/"
        },
        "id": "dROHHkE45Mf-",
        "outputId": "84f3847b-3dd4-4d4a-b143-3df125a4dc66"
      },
      "execution_count": null,
      "outputs": [
        {
          "output_type": "stream",
          "name": "stdout",
          "text": [
            "1\t2\t3\t4\t5\t6\t7\t8\t9\t\n",
            "2\t4\t6\t8\t10\t12\t14\t16\t18\t\n",
            "3\t6\t9\t12\t15\t18\t21\t24\t27\t\n",
            "4\t8\t12\t16\t20\t24\t28\t32\t36\t\n",
            "5\t10\t15\t20\t25\t30\t35\t40\t45\t\n",
            "6\t12\t18\t24\t30\t36\t42\t48\t54\t\n",
            "7\t14\t21\t28\t35\t42\t49\t56\t63\t\n",
            "8\t16\t24\t32\t40\t48\t56\t64\t72\t\n",
            "9\t18\t27\t36\t45\t54\t63\t72\t81\t\n"
          ]
        }
      ]
    },
    {
      "cell_type": "markdown",
      "source": [
        "---\n",
        "##**(2) 九九表② 値の右揃え**\n",
        "(1)のプログラムを改良して、次のように表中の値が右揃えになるように出力するプログラムを書きなさい。  \n",
        "\n",
        "\n",
        "\n",
        "- 出力例   \n",
        "```\n",
        " 1  2  3  4  5  6  7  8  9\n",
        " 2  4  6  8 10 12 14 16 18\n",
        " 3  6  9 12 15 18 21 24 27\n",
        " 4  8 12 16 20 24 28 32 36\n",
        " 5 10 15 20 25 30 35 40 45\n",
        " 6 12 18 24 30 36 42 48 54\n",
        " 7 14 21 28 35 42 49 56 63\n",
        " 8 16 24 32 40 48 56 64 72\n",
        " 9 18 27 36 45 54 63 72 81\n",
        "```\n",
        "\n",
        "- ヒント  \n",
        "  - 九九表の２次元リスト`matrix`を作成する\n",
        "  - ２次元リストを出力する関数`print_matrix`に九九表の２次元リスト`matrix`をわたす\n",
        "  - `print_matrix`内のプログラム（引数：`matrix`）\n",
        "    - ２次元リスト`matrix`内の値を出力する\n",
        "      - 1桁と2桁の数字があるので、1桁の数字のときだけ値の前に半角スペースを１つ入れる\n",
        "      - 値を出力するときの末尾文字は半角スペース１つ"
      ],
      "metadata": {
        "id": "aLQKzN1d2HK7"
      }
    },
    {
      "cell_type": "markdown",
      "source": [
        "###入力用"
      ],
      "metadata": {
        "id": "FvNQpBXy2jbc"
      }
    },
    {
      "cell_type": "code",
      "source": [
        "# 九九表②\n",
        "def print_matrix(matrix):\n",
        "    ### ２次元リストを出力するプログラム ###\n",
        "    for row in matrix:\n",
        "        for value in row:\n",
        "            for i in range(2-len(str(value))):      # `len(str(value))`は、`value`の桁数を求めている。２から引くことで、値の前のスペースの数を決めている。\n",
        "                print(\" \", end=\"\")\n",
        "            print(value, end=\" \")\n",
        "        print()\n",
        "    ### ここまで ###\n",
        "\n",
        "matrix = [\n",
        "    [0, 0, 0, 0, 0, 0, 0, 0, 0],\n",
        "    [0, 0, 0, 0, 0, 0, 0, 0, 0],\n",
        "    [0, 0, 0, 0, 0, 0, 0, 0, 0],\n",
        "    [0, 0, 0, 0, 0, 0, 0, 0, 0],\n",
        "    [0, 0, 0, 0, 0, 0, 0, 0, 0],\n",
        "    [0, 0, 0, 0, 0, 0, 0, 0, 0],\n",
        "    [0, 0, 0, 0, 0, 0, 0, 0, 0],\n",
        "    [0, 0, 0, 0, 0, 0, 0, 0, 0],\n",
        "    [0, 0, 0, 0, 0, 0, 0, 0, 0]\n",
        "  ]\n",
        "\n",
        "### ２次元リストの作成 ###\n",
        "for i in range(9):\n",
        "    for j in range(9):\n",
        "        matrix[i][j] = (i+1) * (j+1)\n",
        "### ここまで ###\n",
        "\n",
        "print_matrix(matrix)\n"
      ],
      "metadata": {
        "id": "2NoqnQ0r2jjv"
      },
      "execution_count": null,
      "outputs": []
    },
    {
      "cell_type": "markdown",
      "source": [
        "###模範解答"
      ],
      "metadata": {
        "id": "aXFLe5S82jrE"
      }
    },
    {
      "cell_type": "code",
      "source": [
        "# 九九表②\n",
        "def print_matrix(matrix):\n",
        "    ### ２次元リストを出力するプログラム ###\n",
        "    for row in matrix:\n",
        "        for value in row:\n",
        "            for i in range(2-len(str(value))):      # `len(str(value))`は、`value`の桁数を求めている。２から引くことで、値の前のスペースの数を決めている。\n",
        "                print(\" \", end=\"\")\n",
        "            print(value, end=\" \")\n",
        "        print()\n",
        "    ### ここまで ###\n",
        "\n",
        "matrix = [\n",
        "    [0, 0, 0, 0, 0, 0, 0, 0, 0],\n",
        "    [0, 0, 0, 0, 0, 0, 0, 0, 0],\n",
        "    [0, 0, 0, 0, 0, 0, 0, 0, 0],\n",
        "    [0, 0, 0, 0, 0, 0, 0, 0, 0],\n",
        "    [0, 0, 0, 0, 0, 0, 0, 0, 0],\n",
        "    [0, 0, 0, 0, 0, 0, 0, 0, 0],\n",
        "    [0, 0, 0, 0, 0, 0, 0, 0, 0],\n",
        "    [0, 0, 0, 0, 0, 0, 0, 0, 0],\n",
        "    [0, 0, 0, 0, 0, 0, 0, 0, 0]\n",
        "  ]\n",
        "\n",
        "### ２次元リストの作成 ###\n",
        "for i in range(9):\n",
        "    for j in range(9):\n",
        "        matrix[i][j] = (i+1) * (j+1)\n",
        "### ここまで ###\n",
        "\n",
        "print_matrix(matrix)\n"
      ],
      "metadata": {
        "colab": {
          "base_uri": "https://localhost:8080/"
        },
        "id": "1WkdHZbc2j7w",
        "outputId": "2fe58e98-be13-43a1-b11b-686050ccd53f"
      },
      "execution_count": null,
      "outputs": [
        {
          "output_type": "stream",
          "name": "stdout",
          "text": [
            " 1  2  3  4  5  6  7  8  9 \n",
            " 2  4  6  8 10 12 14 16 18 \n",
            " 3  6  9 12 15 18 21 24 27 \n",
            " 4  8 12 16 20 24 28 32 36 \n",
            " 5 10 15 20 25 30 35 40 45 \n",
            " 6 12 18 24 30 36 42 48 54 \n",
            " 7 14 21 28 35 42 49 56 63 \n",
            " 8 16 24 32 40 48 56 64 72 \n",
            " 9 18 27 36 45 54 63 72 81 \n"
          ]
        }
      ]
    },
    {
      "cell_type": "markdown",
      "source": [
        "\n",
        "####別解‡\n",
        "授業では扱わない表記方法を用いると、次のように書ける。  \n",
        "Pythonのより高度な学習をしたい人向け。\n"
      ],
      "metadata": {
        "id": "Z8yI0fVk3-c9"
      }
    },
    {
      "cell_type": "code",
      "source": [
        "# 九九表‡ 内包表記とf-stringを使うと、次のように書ける。\n",
        "def print_matrix(matrix):\n",
        "    max_digit = max(len(str(item)) for row in matrix for item in row)\n",
        "    for row in matrix:\n",
        "        print(' '.join(f'{item:>{max_digit}}' for item in row))\n",
        "\n",
        "\n",
        "matrix = [[0 for _ in range(9)] for _ in range(9)]    # 初期の２次元リスト（この行はなくても、次の行で２次元リストを作成して値を格納している）\n",
        "matrix = [[(i + 1) * (j + 1) for j in range(9)] for i in range(9)]\n",
        "print_matrix(matrix)"
      ],
      "metadata": {
        "id": "vp3Zq7_sfsVk",
        "colab": {
          "base_uri": "https://localhost:8080/"
        },
        "outputId": "1acfcc46-8d79-4006-b666-67a3d1fcc97e"
      },
      "execution_count": null,
      "outputs": [
        {
          "output_type": "stream",
          "name": "stdout",
          "text": [
            " 1  2  3  4  5  6  7  8  9\n",
            " 2  4  6  8 10 12 14 16 18\n",
            " 3  6  9 12 15 18 21 24 27\n",
            " 4  8 12 16 20 24 28 32 36\n",
            " 5 10 15 20 25 30 35 40 45\n",
            " 6 12 18 24 30 36 42 48 54\n",
            " 7 14 21 28 35 42 49 56 63\n",
            " 8 16 24 32 40 48 56 64 72\n",
            " 9 18 27 36 45 54 63 72 81\n"
          ]
        }
      ]
    },
    {
      "cell_type": "markdown",
      "source": [
        "---\n",
        "---\n",
        "#**問2 最短経路の総数**"
      ],
      "metadata": {
        "id": "cHMYFTQi4qwZ"
      }
    },
    {
      "cell_type": "markdown",
      "source": [
        "##**(1) $9\\times5$ の格子状道路の最短経路の総数**\n",
        "$9\\times5$の格子状に道があり、頂点から対角にある頂点へ最短経路で行く方法は全部で何通りあるか。２次元リストを作成して求めなさい。\n",
        "\n",
        "- 出力例  \n",
        "```\n",
        "   1    1    1    1    1    1    1    1    1\n",
        "   1    2    3    4    5    6    7    8    9\n",
        "   1    3    6   10   15   21   28   36   45\n",
        "   1    4   10   20   35   56   84  120  165\n",
        "   1    5   15   35   70  126  210  330  495\n",
        "```\n",
        "\n",
        "- ヒント\n",
        "  - `print_matrix`内のプログラム（引数：`matrix`）\n",
        "    - 九九表のときは値の最大値は２桁の数であったが、今回は値が何桁になるかわからないので、最大値の桁数を求めて、その分半角スペースを入れて、出力する桁をそろえる。\n",
        "    - ２次元リスト`matrix`内の最大値を求め、変数`max`に代入する\n",
        "    - 最大値の桁数を求め、変数`digit`に代入する\n",
        "      - `max`を文字列に変換（`str(...)`）\n",
        "      -  その文字数を求める（`len(...)`）\n",
        "    - ２次元リスト`matrix`内の値を出力する\n",
        "      - 最大値の桁数`digit`から出力する値の桁数の差だけ半角スペースを出力してから値を出力する\n",
        "      - 値の末尾文字は半角スペース１つ"
      ],
      "metadata": {
        "id": "aliJCfs4gmNg"
      }
    },
    {
      "cell_type": "markdown",
      "source": [
        "###入力用"
      ],
      "metadata": {
        "id": "fGHNzsAOgz2K"
      }
    },
    {
      "cell_type": "code",
      "source": [
        "# 最短経路の総数 (1) 9×5の格子状道路\n",
        "def print_matrix(matrix):\n",
        "    ### (1) ２次元リストを出力するプログラム ###\n",
        "    max = matrix[0][0]\n",
        "    for row in matrix:\n",
        "        for value in row:\n",
        "            if max < value:\n",
        "                max = value\n",
        "    digit = len(str(max))\n",
        "\n",
        "    for row in matrix:\n",
        "        for value in row:\n",
        "            for i in range(digit-len(str(value))):\n",
        "                print(\" \", end=\"\")\n",
        "            print(value, end=\" \")\n",
        "        print()\n",
        "    ### (1) ここまで ###\n",
        "\n",
        "\n",
        "matrix = [\n",
        "    [0, 0, 0, 0, 0, 0, 0, 0, 0],\n",
        "    [0, 0, 0, 0, 0, 0, 0, 0, 0],\n",
        "    [0, 0, 0, 0, 0, 0, 0, 0, 0],\n",
        "    [0, 0, 0, 0, 0, 0, 0, 0, 0],\n",
        "    [0, 0, 0, 0, 0, 0, 0, 0, 0]\n",
        "  ]\n",
        "\n",
        "### (2) i行目j列目までの最短経路の総数を求め、２次元リスト`matrix`に格納する\n",
        "for i in range(len(matrix)):\n",
        "    for j in range(len(matrix[i])):\n",
        "        if i == 0 or j == 0:\n",
        "            matrix[i][j] = 1\n",
        "        else:\n",
        "            matrix[i][j] = matrix[i-1][j] + matrix[i][j-1]\n",
        "\n",
        "### (2) ここまで ###\n",
        "\n",
        "print_matrix(matrix)      # ２次元リストを出力する\n"
      ],
      "metadata": {
        "id": "4DiLq8Ssgz_y"
      },
      "execution_count": null,
      "outputs": []
    },
    {
      "cell_type": "markdown",
      "source": [
        "###模範解答"
      ],
      "metadata": {
        "id": "VURYHjzLg0Ha"
      }
    },
    {
      "cell_type": "code",
      "source": [
        "# 最短経路の総数 (1) 9×5の格子状道路\n",
        "def print_matrix(matrix):\n",
        "    ### (1) ２次元リストを出力するプログラム ###\n",
        "    max = matrix[0][0]\n",
        "    for row in matrix:\n",
        "        for value in row:\n",
        "            if max < value:\n",
        "                max = value\n",
        "    digit = len(str(max))\n",
        "\n",
        "    for row in matrix:\n",
        "        for value in row:\n",
        "            for i in range(digit-len(str(value))):\n",
        "                print(\" \", end=\"\")\n",
        "            print(value, end=\" \")\n",
        "        print()\n",
        "    ### (1) ここまで ###\n",
        "\n",
        "\n",
        "matrix = [\n",
        "    [0, 0, 0, 0, 0, 0, 0, 0, 0],\n",
        "    [0, 0, 0, 0, 0, 0, 0, 0, 0],\n",
        "    [0, 0, 0, 0, 0, 0, 0, 0, 0],\n",
        "    [0, 0, 0, 0, 0, 0, 0, 0, 0],\n",
        "    [0, 0, 0, 0, 0, 0, 0, 0, 0]\n",
        "  ]\n",
        "\n",
        "### (2) i行目j列目までの最短経路の総数を求め、２次元リスト`matrix`に格納する\n",
        "for i in range(len(matrix)):\n",
        "    for j in range(len(matrix[i])):\n",
        "        if i == 0 or j == 0:\n",
        "            matrix[i][j] = 1\n",
        "        else:\n",
        "            matrix[i][j] = matrix[i-1][j] + matrix[i][j-1]\n",
        "\n",
        "### (2) ここまで ###\n",
        "\n",
        "print_matrix(matrix)      # ２次元リストを出力する\n"
      ],
      "metadata": {
        "colab": {
          "base_uri": "https://localhost:8080/"
        },
        "id": "47kgqj3kg0Om",
        "outputId": "492e124b-47b4-432a-8d8e-a06f501bd22d"
      },
      "execution_count": null,
      "outputs": [
        {
          "output_type": "stream",
          "name": "stdout",
          "text": [
            "  1   1   1   1   1   1   1   1   1 \n",
            "  1   2   3   4   5   6   7   8   9 \n",
            "  1   3   6  10  15  21  28  36  45 \n",
            "  1   4  10  20  35  56  84 120 165 \n",
            "  1   5  15  35  70 126 210 330 495 \n"
          ]
        }
      ]
    },
    {
      "cell_type": "markdown",
      "source": [
        "---\n",
        "##**(2) $n \\times m$の格子状道路の最短経路の総数**\n",
        "\n",
        "(1)のプログラムを改良して、`n`と`m`を入力して$n \\times m$の格子状道路の最短経路の総数を求めるプログラムを書きなさい。"
      ],
      "metadata": {
        "id": "AwftOZqfREf3"
      }
    },
    {
      "cell_type": "markdown",
      "source": [
        "###入力用"
      ],
      "metadata": {
        "id": "u26MyUk8RR2P"
      }
    },
    {
      "cell_type": "code",
      "source": [
        "# 最短経路の総数 (1) 9×5の格子状道路\n",
        "def print_matrix(matrix):\n",
        "    ### (1) ２次元リストを出力するプログラム ###\n",
        "    max = matrix[0][0]\n",
        "    for row in matrix:\n",
        "        for value in row:\n",
        "            if max < value:\n",
        "                max = value\n",
        "    digit = len(str(max))\n",
        "\n",
        "    for row in matrix:\n",
        "        for value in row:\n",
        "            for i in range(digit-len(str(value))):\n",
        "                print(\" \", end=\"\")\n",
        "            print(value, end=\" \")\n",
        "        print()\n",
        "    ### (1) ここまで ###\n",
        "\n",
        "\n",
        "n = int(input(\"n =\")) # 横方向の道路の数`n`を入力\n",
        "m = int(input(\"m =\")) # 縦方向の道路の数`m`を入力\n",
        "\n",
        "matrix = []     # カラのリストを用意\n",
        "### (2) カラのリスト`matrix`に要素を追加してn×mの２次元リストを作成する\n",
        "for i in range(m):\n",
        "    row = []\n",
        "    for j in range(n):\n",
        "        row.append(0)\n",
        "    matrix.append(row)\n",
        "### (2) ここまで ###\n",
        "\n",
        "### (3) i行目j列目までの最短経路の総数を求め、２次元リスト`matrix`に格納する\n",
        "for i in range(len(matrix)):\n",
        "    for j in range(len(matrix[i])):\n",
        "        if i == 0 or j == 0:\n",
        "            matrix[i][j] = 1\n",
        "        else:\n",
        "            matrix[i][j] = matrix[i-1][j] + matrix[i][j-1]\n",
        "### (3) ここまで ###\n",
        "\n",
        "print_matrix(matrix)      # ２次元リストを出力する\n"
      ],
      "metadata": {
        "id": "to_w4W3GRSAo"
      },
      "execution_count": null,
      "outputs": []
    },
    {
      "cell_type": "markdown",
      "source": [
        "###模範解答"
      ],
      "metadata": {
        "id": "trkLYzWiRSRW"
      }
    },
    {
      "cell_type": "code",
      "source": [
        "# 最短経路の総数 (1) 9×5の格子状道路\n",
        "def print_matrix(matrix):\n",
        "    ### (1) ２次元リストを出力するプログラム ###\n",
        "    max = matrix[0][0]\n",
        "    for row in matrix:\n",
        "        for value in row:\n",
        "            if max < value:\n",
        "                max = value\n",
        "    digit = len(str(max))\n",
        "\n",
        "    for row in matrix:\n",
        "        for value in row:\n",
        "            for i in range(digit-len(str(value))):\n",
        "                print(\" \", end=\"\")\n",
        "            print(value, end=\" \")\n",
        "        print()\n",
        "    ### (1) ここまで ###\n",
        "\n",
        "\n",
        "n = int(input(\"n =\")) # 横方向の道路の数`n`を入力\n",
        "m = int(input(\"m =\")) # 縦方向の道路の数`m`を入力\n",
        "\n",
        "matrix = []     # カラのリストを用意\n",
        "### (2) カラのリスト`matrix`に要素を追加してn×mの２次元リストを作成する\n",
        "for i in range(m):\n",
        "    row = []\n",
        "    for j in range(n):\n",
        "        row.append(0)\n",
        "    matrix.append(row)\n",
        "### (2) ここまで ###\n",
        "\n",
        "### (3) i行目j列目までの最短経路の総数を求め、２次元リスト`matrix`に格納する\n",
        "for i in range(len(matrix)):\n",
        "    for j in range(len(matrix[i])):\n",
        "        if i == 0 or j == 0:\n",
        "            matrix[i][j] = 1\n",
        "        else:\n",
        "            matrix[i][j] = matrix[i-1][j] + matrix[i][j-1]\n",
        "### (3) ここまで ###\n",
        "\n",
        "print_matrix(matrix)      # ２次元リストを出力する\n"
      ],
      "metadata": {
        "colab": {
          "base_uri": "https://localhost:8080/"
        },
        "id": "0_yLKbnPRSX0",
        "outputId": "e7cd3b84-a89b-4aec-b9bc-0324a4d92713"
      },
      "execution_count": null,
      "outputs": [
        {
          "output_type": "stream",
          "name": "stdout",
          "text": [
            "n =10\n",
            "m =12\n",
            "     1      1      1      1      1      1      1      1      1      1 \n",
            "     1      2      3      4      5      6      7      8      9     10 \n",
            "     1      3      6     10     15     21     28     36     45     55 \n",
            "     1      4     10     20     35     56     84    120    165    220 \n",
            "     1      5     15     35     70    126    210    330    495    715 \n",
            "     1      6     21     56    126    252    462    792   1287   2002 \n",
            "     1      7     28     84    210    462    924   1716   3003   5005 \n",
            "     1      8     36    120    330    792   1716   3432   6435  11440 \n",
            "     1      9     45    165    495   1287   3003   6435  12870  24310 \n",
            "     1     10     55    220    715   2002   5005  11440  24310  48620 \n",
            "     1     11     66    286   1001   3003   8008  19448  43758  92378 \n",
            "     1     12     78    364   1365   4368  12376  31824  75582 167960 \n"
          ]
        }
      ]
    },
    {
      "cell_type": "markdown",
      "source": [
        "---\n",
        "---\n",
        "#**問3 将棋盤の初期配置**\n",
        "\n",
        "将棋盤の初期配置は次の通りである。  \n",
        "\n",
        "||1|2|3|4|5|6|7|8|9|\n",
        "|:---:|:---:|:---:|:---:|:---:|:---:|:---:|:---:|:---:|:---:|\n",
        "|**一**|香|桂|銀|金|王|金|銀|桂|香|\n",
        "|**二**||飛||||||角||\n",
        "|**三**|歩|歩|歩|歩|歩|歩|歩|歩|歩|\n",
        "|**四**||||||||||\n",
        "|**五**||||||||||\n",
        "|**六**||||||||||\n",
        "|**七**|歩|歩|歩|歩|歩|歩|歩|歩|歩|\n",
        "|**八**||角||||||飛||\n",
        "|**九**|香|桂|銀|金|玉|金|銀|桂|香|\n",
        "\n"
      ],
      "metadata": {
        "id": "7cR3Wc-ezd2s"
      }
    },
    {
      "cell_type": "markdown",
      "source": [
        "##**(1) 将棋盤の初期配置①**\n",
        "\n",
        "\n",
        "\n",
        "9×9の２次元リスト`board`が次のように与えられているとき、次の(1)〜(3)のプログラムを書きなさい。  \n",
        "```\n",
        "board = [\n",
        "    [\"□\",\"□\",\"□\",\"□\",\"□\",\"□\",\"□\",\"□\",\"□\"],\n",
        "    [\"□\",\"□\",\"□\",\"□\",\"□\",\"□\",\"□\",\"□\",\"□\"],\n",
        "    [\"□\",\"□\",\"□\",\"□\",\"□\",\"□\",\"□\",\"□\",\"□\"],\n",
        "    [\"□\",\"□\",\"□\",\"□\",\"□\",\"□\",\"□\",\"□\",\"□\"],\n",
        "    [\"□\",\"□\",\"□\",\"□\",\"□\",\"□\",\"□\",\"□\",\"□\"],\n",
        "    [\"□\",\"□\",\"□\",\"□\",\"□\",\"□\",\"□\",\"□\",\"□\"],\n",
        "    [\"□\",\"□\",\"□\",\"□\",\"□\",\"□\",\"□\",\"□\",\"□\"],\n",
        "    [\"□\",\"□\",\"□\",\"□\",\"□\",\"□\",\"□\",\"□\",\"□\"],\n",
        "    [\"□\",\"□\",\"□\",\"□\",\"□\",\"□\",\"□\",\"□\",\"□\"]\n",
        "]\n",
        "```\n",
        "\n",
        "- (1)盤面を表示させる  \n",
        "  - 盤面を表示させなさい。ただし、先頭行は１〜９の全角数字，先頭列は一〜九の漢数字を出力しなさい（一番左上は全角スペースでよい）。\n",
        "\n",
        "- (2) 王将・玉将・飛車・角行の配置  \n",
        "  - ２次元リスト`board`の要素を書き換えることで、王将(王)・玉将(玉)・飛車(飛)・角行(角)を配置させなさい。\n",
        "\n",
        "- (3) 金将・銀将・桂馬・香車・歩兵の配置  \n",
        "  - ２次元リスト`board`の要素を書き換えることで、金将(金)・銀将(銀)・桂馬(桂)・香車(香)・歩兵(歩)を配置させなさい。ただし、下記コードのとおり二重のforループの中に書くこと。\n",
        "\n",
        "\n",
        "\n",
        "- 出力例\n",
        "```\n",
        "香桂銀金王金銀桂香\n",
        "□飛□□□□□角□\n",
        "歩歩歩歩歩歩歩歩歩\n",
        "□□□□□□□□□\n",
        "□□□□□□□□□\n",
        "□□□□□□□□□\n",
        "歩歩歩歩歩歩歩歩歩\n",
        "□角□□□□□飛□\n",
        "香桂銀金玉金銀桂香\n",
        "```\n",
        "\n",
        "\n",
        "\n",
        "  \n"
      ],
      "metadata": {
        "id": "YKTtMofMt96s"
      }
    },
    {
      "cell_type": "markdown",
      "source": [
        "###入力用"
      ],
      "metadata": {
        "id": "tTV92PV6uERf"
      }
    },
    {
      "cell_type": "code",
      "source": [
        "# 将棋盤の初期配置①\n",
        "def print_board(board):   # 盤面を表示させる関数。2次元リスト`board`を引数とする。\n",
        "    #### (1)盤面を表示させる ####\n",
        "    for i in range(len(board)):         # 一行目〜九行目を表示\n",
        "        for j in range(len(board[i])):  # 各行の列を表示\n",
        "            print(board[i][j], end=\"\")  # 2次元リストの値`board[i][j]`を出力\n",
        "        print()                         # 各行の値を出力し終わったら、改行を入れる\n",
        "    #### (1)ここまで ####\n",
        "# print_board関数はここまで\n",
        "\n",
        "\n",
        "# 盤面の初期状態（何も配置されていない状態）\n",
        "board = [\n",
        "    [\"□\",\"□\",\"□\",\"□\",\"□\",\"□\",\"□\",\"□\",\"□\"],\n",
        "    [\"□\",\"□\",\"□\",\"□\",\"□\",\"□\",\"□\",\"□\",\"□\"],\n",
        "    [\"□\",\"□\",\"□\",\"□\",\"□\",\"□\",\"□\",\"□\",\"□\"],\n",
        "    [\"□\",\"□\",\"□\",\"□\",\"□\",\"□\",\"□\",\"□\",\"□\"],\n",
        "    [\"□\",\"□\",\"□\",\"□\",\"□\",\"□\",\"□\",\"□\",\"□\"],\n",
        "    [\"□\",\"□\",\"□\",\"□\",\"□\",\"□\",\"□\",\"□\",\"□\"],\n",
        "    [\"□\",\"□\",\"□\",\"□\",\"□\",\"□\",\"□\",\"□\",\"□\"],\n",
        "    [\"□\",\"□\",\"□\",\"□\",\"□\",\"□\",\"□\",\"□\",\"□\"],\n",
        "    [\"□\",\"□\",\"□\",\"□\",\"□\",\"□\",\"□\",\"□\",\"□\"]\n",
        "]\n",
        "\n",
        "#### (2) 王将・玉将・飛車・角行の配置 ####\n",
        "board[0][4] = \"王\"  # 王将（敵陣）の配置\n",
        "board[8][4] = \"玉\"  # 玉将（自陣）の配置\n",
        "board[1][1] = \"飛\"  # 飛車（敵陣）の配置\n",
        "board[7][7] = \"飛\"  # 飛車（自陣）の配置\n",
        "board[1][7] = \"角\"  # 角行（敵陣）の配置\n",
        "board[7][1] = \"角\"  # 角行（自陣）の配置\n",
        "#### (2)ここまで ####\n",
        "\n",
        "for i in range(len(board)):           # `len(board)`は`board`の行数（将棋盤は固定値で`9`）\n",
        "    for j in range(len(board[i])):    # `len(board[i])`は`board`の各行の列数（将棋盤は固定値で`9`）\n",
        "\n",
        "        #### (3) 金将・銀将・桂馬・香車・歩兵の配置 ####\n",
        "        if i == 0 or i == 8:\n",
        "            if j == 0 or j == 8:\n",
        "                board[i][j] = \"香\"\n",
        "            elif j == 1 or j == 7:\n",
        "                board[i][j] = \"桂\"\n",
        "            elif j == 2 or j == 6:\n",
        "                board[i][j] = \"銀\"\n",
        "            elif j == 3 or j == 5:\n",
        "                board[i][j] = \"金\"\n",
        "        elif i == 2 or i == 6:\n",
        "            board[i][j] = \"歩\"\n",
        "        #### (3)ここまで ####\n",
        "\n",
        "print_board(board)  # print_board関数の呼び出し\n"
      ],
      "metadata": {
        "id": "ApxG4Zl0w5s0"
      },
      "execution_count": null,
      "outputs": []
    },
    {
      "cell_type": "markdown",
      "source": [
        "###模範解答"
      ],
      "metadata": {
        "id": "oNSIQUUuzv3S"
      }
    },
    {
      "cell_type": "code",
      "source": [
        "# 将棋盤の初期配置①\n",
        "def print_board(board):   # 盤面を表示させる関数。2次元リスト`board`を引数とする。\n",
        "    #### (1)盤面を表示させる ####\n",
        "    for i in range(len(board)):         # 一行目〜九行目を表示\n",
        "        for j in range(len(board[i])):  # 各行の列を表示\n",
        "            print(board[i][j], end=\"\")  # 2次元リストの値`board[i][j]`を出力\n",
        "        print()                         # 各行の値を出力し終わったら、改行を入れる\n",
        "    #### (1)ここまで ####\n",
        "# print_board関数はここまで\n",
        "\n",
        "\n",
        "# 盤面の初期状態（何も配置されていない状態）\n",
        "board = [\n",
        "    [\"□\",\"□\",\"□\",\"□\",\"□\",\"□\",\"□\",\"□\",\"□\"],\n",
        "    [\"□\",\"□\",\"□\",\"□\",\"□\",\"□\",\"□\",\"□\",\"□\"],\n",
        "    [\"□\",\"□\",\"□\",\"□\",\"□\",\"□\",\"□\",\"□\",\"□\"],\n",
        "    [\"□\",\"□\",\"□\",\"□\",\"□\",\"□\",\"□\",\"□\",\"□\"],\n",
        "    [\"□\",\"□\",\"□\",\"□\",\"□\",\"□\",\"□\",\"□\",\"□\"],\n",
        "    [\"□\",\"□\",\"□\",\"□\",\"□\",\"□\",\"□\",\"□\",\"□\"],\n",
        "    [\"□\",\"□\",\"□\",\"□\",\"□\",\"□\",\"□\",\"□\",\"□\"],\n",
        "    [\"□\",\"□\",\"□\",\"□\",\"□\",\"□\",\"□\",\"□\",\"□\"],\n",
        "    [\"□\",\"□\",\"□\",\"□\",\"□\",\"□\",\"□\",\"□\",\"□\"]\n",
        "]\n",
        "\n",
        "#### (2) 王将・玉将・飛車・角行の配置 ####\n",
        "board[0][4] = \"王\"  # 王将（敵陣）の配置\n",
        "board[8][4] = \"玉\"  # 玉将（自陣）の配置\n",
        "board[1][1] = \"飛\"  # 飛車（敵陣）の配置\n",
        "board[7][7] = \"飛\"  # 飛車（自陣）の配置\n",
        "board[1][7] = \"角\"  # 角行（敵陣）の配置\n",
        "board[7][1] = \"角\"  # 角行（自陣）の配置\n",
        "#### (2)ここまで ####\n",
        "\n",
        "for i in range(len(board)):           # `len(board)`は`board`の行数（将棋盤は固定値で`9`）\n",
        "    for j in range(len(board[i])):    # `len(board[i])`は`board`の各行の列数（将棋盤は固定値で`9`）\n",
        "\n",
        "        #### (3) 金将・銀将・桂馬・香車・歩兵の配置 ####\n",
        "        if i == 0 or i == 8:\n",
        "            if j == 0 or j == 8:\n",
        "                board[i][j] = \"香\"\n",
        "            elif j == 1 or j == 7:\n",
        "                board[i][j] = \"桂\"\n",
        "            elif j == 2 or j == 6:\n",
        "                board[i][j] = \"銀\"\n",
        "            elif j == 3 or j == 5:\n",
        "                board[i][j] = \"金\"\n",
        "        elif i == 2 or i == 6:\n",
        "            board[i][j] = \"歩\"\n",
        "        #### (3)ここまで ####\n",
        "\n",
        "print_board(board)  # print_board関数の呼び出し\n"
      ],
      "metadata": {
        "colab": {
          "base_uri": "https://localhost:8080/"
        },
        "id": "EcB4UQkuzwGf",
        "outputId": "7276533d-9786-4fac-b438-788cbbb2d57b"
      },
      "execution_count": null,
      "outputs": [
        {
          "output_type": "stream",
          "name": "stdout",
          "text": [
            "香桂銀金王金銀桂香\n",
            "□飛□□□□□角□\n",
            "歩歩歩歩歩歩歩歩歩\n",
            "□□□□□□□□□\n",
            "□□□□□□□□□\n",
            "□□□□□□□□□\n",
            "歩歩歩歩歩歩歩歩歩\n",
            "□角□□□□□飛□\n",
            "香桂銀金玉金銀桂香\n"
          ]
        }
      ]
    },
    {
      "cell_type": "markdown",
      "source": [
        "---\n",
        "##**(2) 将棋盤の初期配置② 行列番号を表示**\n",
        "\n",
        "(1) の `print_board`関数を改良して、次のように出力するプログラムを書きなさい。\n",
        "```\n",
        "□１２３４５６７８９\n",
        "一香桂銀金王金銀桂香\n",
        "二□飛□□□□□角□\n",
        "三歩歩歩歩歩歩歩歩歩\n",
        "四□□□□□□□□□\n",
        "五□□□□□□□□□\n",
        "六□□□□□□□□□\n",
        "七歩歩歩歩歩歩歩歩歩\n",
        "八□角□□□□□飛□\n",
        "九香桂銀金玉金銀桂香\n",
        "```"
      ],
      "metadata": {
        "id": "6J5xC9OYz2UE"
      }
    },
    {
      "cell_type": "markdown",
      "source": [
        "###入力用"
      ],
      "metadata": {
        "id": "Swea1NdA0YGk"
      }
    },
    {
      "cell_type": "code",
      "source": [
        "# 将棋盤の初期配置② 行列番号を表示\n",
        "def print_board(board):   # 盤面を表示させる関数。2次元リスト`board`を引数とする。\n",
        "    kanji_num = [\"一\",\"二\",\"三\",\"四\",\"五\",\"六\",\"七\",\"八\",\"九\"]      # 漢数字のリスト\n",
        "    fullwidth_num = [\"１\",\"２\",\"３\",\"４\",\"５\",\"６\",\"７\",\"８\",\"９\"]  # 全角数字のリスト\n",
        "\n",
        "    #### (1)盤面を表示させる ####\n",
        "    print(\"□\", end=\"\")                 # 表の左上の空白セルを□で表示\n",
        "    for i in range(len(board[0])):      # 全角数字１〜９を表示。`len(board)`は`board`の行数（将棋盤は固定値で`9`）\n",
        "        print(fullwidth_num[i], end=\"\")\n",
        "    print()                             # 改行を入れる\n",
        "\n",
        "    for i in range(len(board)):         # 一行目〜九行目を表示\n",
        "        print(kanji_num[i], end=\"\")     # 各行の最初は漢数字を表示\n",
        "        for j in range(len(board[i])):  # 各行の列を表示\n",
        "            print(board[i][j], end=\"\")  # 2次元リストの値`board[i][j]`を出力\n",
        "        print()                         # 各行の値を出力し終わったら、改行を入れる\n",
        "    #### (1)ここまで ####\n",
        "# print_board関数はここまで\n",
        "\n",
        "\n",
        "# 盤面の初期状態（何も配置されていない状態）\n",
        "board = [\n",
        "    [\"□\",\"□\",\"□\",\"□\",\"□\",\"□\",\"□\",\"□\",\"□\"],\n",
        "    [\"□\",\"□\",\"□\",\"□\",\"□\",\"□\",\"□\",\"□\",\"□\"],\n",
        "    [\"□\",\"□\",\"□\",\"□\",\"□\",\"□\",\"□\",\"□\",\"□\"],\n",
        "    [\"□\",\"□\",\"□\",\"□\",\"□\",\"□\",\"□\",\"□\",\"□\"],\n",
        "    [\"□\",\"□\",\"□\",\"□\",\"□\",\"□\",\"□\",\"□\",\"□\"],\n",
        "    [\"□\",\"□\",\"□\",\"□\",\"□\",\"□\",\"□\",\"□\",\"□\"],\n",
        "    [\"□\",\"□\",\"□\",\"□\",\"□\",\"□\",\"□\",\"□\",\"□\"],\n",
        "    [\"□\",\"□\",\"□\",\"□\",\"□\",\"□\",\"□\",\"□\",\"□\"],\n",
        "    [\"□\",\"□\",\"□\",\"□\",\"□\",\"□\",\"□\",\"□\",\"□\"]\n",
        "]\n",
        "\n",
        "#### (2) 王将・玉将・飛車・角行の配置 ####\n",
        "board[0][4] = \"王\"  # 王将（敵陣）の配置\n",
        "board[8][4] = \"玉\"  # 玉将（自陣）の配置\n",
        "board[1][1] = \"飛\"  # 飛車（敵陣）の配置\n",
        "board[7][7] = \"飛\"  # 飛車（自陣）の配置\n",
        "board[1][7] = \"角\"  # 角行（敵陣）の配置\n",
        "board[7][1] = \"角\"  # 角行（自陣）の配置\n",
        "#### (2)ここまで ####\n",
        "\n",
        "for i in range(len(board)):           # `len(board)`は`board`の行数（将棋盤は固定値で`9`）\n",
        "    for j in range(len(board[i])):    # `len(board[i])`は`board`の各行の列数（将棋盤は固定値で`9`）\n",
        "\n",
        "        #### (3) 金将・銀将・桂馬・香車・歩兵の配置 ####\n",
        "        if i == 0 or i == 8:\n",
        "            if j == 0 or j == 8:\n",
        "                board[i][j] = \"香\"\n",
        "            elif j == 1 or j == 7:\n",
        "                board[i][j] = \"桂\"\n",
        "            elif j == 2 or j == 6:\n",
        "                board[i][j] = \"銀\"\n",
        "            elif j == 3 or j == 5:\n",
        "                board[i][j] = \"金\"\n",
        "        elif i == 2 or i == 6:\n",
        "            board[i][j] = \"歩\"\n",
        "        #### (3)ここまで ####\n",
        "\n",
        "print_board(board)  # print_board関数の呼び出し\n"
      ],
      "metadata": {
        "id": "alpBLtCv0YT2"
      },
      "execution_count": null,
      "outputs": []
    },
    {
      "cell_type": "markdown",
      "source": [
        "###模範解答"
      ],
      "metadata": {
        "id": "25fjAMErw51e"
      }
    },
    {
      "cell_type": "code",
      "source": [
        "# 将棋盤の初期配置② 行列番号を表示\n",
        "def print_board(board):   # 盤面を表示させる関数。2次元リスト`board`を引数とする。\n",
        "    kanji_num = [\"一\",\"二\",\"三\",\"四\",\"五\",\"六\",\"七\",\"八\",\"九\"]      # 漢数字のリスト\n",
        "    fullwidth_num = [\"１\",\"２\",\"３\",\"４\",\"５\",\"６\",\"７\",\"８\",\"９\"]  # 全角数字のリスト\n",
        "\n",
        "    #### (1)盤面を表示させる ####\n",
        "    print(\"□\", end=\"\")                 # 表の左上の空白セルを□で表示\n",
        "    for i in range(len(board[0])):      # 全角数字１〜９を表示。`len(board)`は`board`の行数（将棋盤は固定値で`9`）\n",
        "        print(fullwidth_num[i], end=\"\")\n",
        "    print()                             # 改行を入れる\n",
        "\n",
        "    for i in range(len(board)):         # 一行目〜九行目を表示\n",
        "        print(kanji_num[i], end=\"\")     # 各行の最初は漢数字を表示\n",
        "        for j in range(len(board[i])):  # 各行の列を表示\n",
        "            print(board[i][j], end=\"\")  # 2次元リストの値`board[i][j]`を出力\n",
        "        print()                         # 各行の値を出力し終わったら、改行を入れる\n",
        "    #### (1)ここまで ####\n",
        "# print_board関数はここまで\n",
        "\n",
        "\n",
        "# 盤面の初期状態（何も配置されていない状態）\n",
        "board = [\n",
        "    [\"□\",\"□\",\"□\",\"□\",\"□\",\"□\",\"□\",\"□\",\"□\"],\n",
        "    [\"□\",\"□\",\"□\",\"□\",\"□\",\"□\",\"□\",\"□\",\"□\"],\n",
        "    [\"□\",\"□\",\"□\",\"□\",\"□\",\"□\",\"□\",\"□\",\"□\"],\n",
        "    [\"□\",\"□\",\"□\",\"□\",\"□\",\"□\",\"□\",\"□\",\"□\"],\n",
        "    [\"□\",\"□\",\"□\",\"□\",\"□\",\"□\",\"□\",\"□\",\"□\"],\n",
        "    [\"□\",\"□\",\"□\",\"□\",\"□\",\"□\",\"□\",\"□\",\"□\"],\n",
        "    [\"□\",\"□\",\"□\",\"□\",\"□\",\"□\",\"□\",\"□\",\"□\"],\n",
        "    [\"□\",\"□\",\"□\",\"□\",\"□\",\"□\",\"□\",\"□\",\"□\"],\n",
        "    [\"□\",\"□\",\"□\",\"□\",\"□\",\"□\",\"□\",\"□\",\"□\"]\n",
        "]\n",
        "\n",
        "#### (2) 王将・玉将・飛車・角行の配置 ####\n",
        "board[0][4] = \"王\"  # 王将（敵陣）の配置\n",
        "board[8][4] = \"玉\"  # 玉将（自陣）の配置\n",
        "board[1][1] = \"飛\"  # 飛車（敵陣）の配置\n",
        "board[7][7] = \"飛\"  # 飛車（自陣）の配置\n",
        "board[1][7] = \"角\"  # 角行（敵陣）の配置\n",
        "board[7][1] = \"角\"  # 角行（自陣）の配置\n",
        "#### (2)ここまで ####\n",
        "\n",
        "for i in range(len(board)):           # `len(board)`は`board`の行数（将棋盤は固定値で`9`）\n",
        "    for j in range(len(board[i])):    # `len(board[i])`は`board`の各行の列数（将棋盤は固定値で`9`）\n",
        "\n",
        "        #### (3) 金将・銀将・桂馬・香車・歩兵の配置 ####\n",
        "        if i == 0 or i == 8:\n",
        "            if j == 0 or j == 8:\n",
        "                board[i][j] = \"香\"\n",
        "            elif j == 1 or j == 7:\n",
        "                board[i][j] = \"桂\"\n",
        "            elif j == 2 or j == 6:\n",
        "                board[i][j] = \"銀\"\n",
        "            elif j == 3 or j == 5:\n",
        "                board[i][j] = \"金\"\n",
        "        elif i == 2 or i == 6:\n",
        "            board[i][j] = \"歩\"\n",
        "        #### (3)ここまで ####\n",
        "\n",
        "print_board(board)  # print_board関数の呼び出し\n"
      ],
      "metadata": {
        "colab": {
          "base_uri": "https://localhost:8080/"
        },
        "id": "aChTUqv7uEeU",
        "outputId": "c3ae48be-5f3a-426d-c3a7-5cddd3b65a43"
      },
      "execution_count": null,
      "outputs": [
        {
          "output_type": "stream",
          "name": "stdout",
          "text": [
            "□１２３４５６７８９\n",
            "一香桂銀金王金銀桂香\n",
            "二□飛□□□□□角□\n",
            "三歩歩歩歩歩歩歩歩歩\n",
            "四□□□□□□□□□\n",
            "五□□□□□□□□□\n",
            "六□□□□□□□□□\n",
            "七歩歩歩歩歩歩歩歩歩\n",
            "八□角□□□□□飛□\n",
            "九香桂銀金玉金銀桂香\n"
          ]
        }
      ]
    },
    {
      "cell_type": "markdown",
      "source": [
        "---\n",
        "---\n",
        "#**問4 魔方陣の答え合わせ**\n",
        "\n",
        "魔方陣とは、$n \\times n$個の正方形の方陣に数字を配置し、縦・横・対角線のいずれの列についても、その列の数字の合計が同じになるもののことである。特に1から方陣のマスの総数 $n^2$ までの数字を1つずつ過不足なく使ったものを言う。"
      ],
      "metadata": {
        "id": "xeppWUHnRceN"
      }
    },
    {
      "cell_type": "markdown",
      "source": [
        "##**(1) ３×３の魔方陣の答え合わせ**  \n",
        "次の方陣が魔方陣となっていれば「魔方陣です」、そうでなければ「魔方陣ではありません」と出力しなさい。  \n",
        "\n",
        "||||\n",
        "|:---:|:---:|:---:|\n",
        "|8|1|6|\n",
        "|3|5|7|\n",
        "|4|9|2|\n",
        "\n"
      ],
      "metadata": {
        "id": "uuEjUl3TA_BT"
      }
    },
    {
      "cell_type": "markdown",
      "source": [
        "###入力用"
      ],
      "metadata": {
        "id": "QJa7KLhYBJPK"
      }
    },
    {
      "cell_type": "code",
      "source": [
        "# 3×3の魔方陣の答え合わせ\n",
        "def calculate_row_sum(matrix):  # 各行の和を求める関数\n",
        "    row_sum = [0, 0, 0]           # row_sum = [`1行目の和`, `2行目の和`, `3行目の和`]\n",
        "\n",
        "    ### (1) 各行の和を求める ###\n",
        "    for i in range(3):\n",
        "        for j in range(3):\n",
        "            row_sum[i] = row_sum[i] + matrix[i][j]\n",
        "\n",
        "    ### (1) ここまで ###\n",
        "    return row_sum\n",
        "\n",
        "\n",
        "def calculate_col_sum(matrix):  # 各列の和を求める関数\n",
        "    col_sum = [0, 0, 0]           # col_sum = [`1列目の和`, `2行列の和`, `3行列の和`]\n",
        "\n",
        "    ### (2) 各列の和を求める ###\n",
        "    for i in range(3):\n",
        "        for j in range(3):\n",
        "            col_sum[j] = col_sum[j] + matrix[i][j]\n",
        "\n",
        "    ### (2) ここまで ###\n",
        "    return col_sum\n",
        "\n",
        "\n",
        "def calculate_diagonal_sum(matrix):  # 対角線の和を求める関数\n",
        "    diagonal_sum = [0, 0]              # diagonal_sum = [`左上から右下の対角線＼の和`, `右上から左下の対角線／の和`]\n",
        "\n",
        "    ### (3) 各対角線の和を求める ###\n",
        "    for i in range(3):\n",
        "        diagonal_sum[0] = diagonal_sum[0] + matrix[i][i]\n",
        "        diagonal_sum[1] = diagonal_sum[1] + matrix[2-i][i\n",
        "\n",
        "    ### (3) ここまで ###\n",
        "    return diagonal_sum\n",
        "\n",
        "\n",
        "def is_magic_square(matrix):    # 魔方陣かどうかを判定する関数。魔方陣が成立していれば`True`を返し、成立していなければ`False`を返す\n",
        "  sums = calculate_row_sum(matrix) + calculate_col_sum(matrix) + calculate_diagonal_sum(matrix) # 各行の和のリストと各列の和のリストと各対角線の和のリストを結合してリスト`sum`に代入\n",
        "\n",
        "  ### (4) すべての和を比較し、条件によって`True`または`False`を返す ###\n",
        "    # この上の行で、行・列・対角線方向それぞれの和のリストを結合して、１つの１次元リストとなっている。\n",
        "    # １次元リストの中の要素がすべて同じ値なら魔方陣が成立している。\n",
        "    for i in range(len(sums)):\n",
        "        if sums[0] != sums[i]:\n",
        "            return False\n",
        "    return True\n",
        "\n",
        "  ### (4) ここまで ###\n",
        "\n",
        "\n",
        "matrix = [[8, 1, 6],\n",
        "          [3, 5, 7],\n",
        "          [4, 9, 2]]          # ２次元配列\n",
        "\n",
        "if is_magic_square(matrix):   # 魔方陣かどうかを判定する関数に２次元リストを渡して返ってきた値を判定する。\n",
        "    print(\"魔方陣です\")\n",
        "else:\n",
        "    print(\"魔方陣ではありません\")\n",
        "\n"
      ],
      "metadata": {
        "id": "PMyzCNpCBJW-"
      },
      "execution_count": null,
      "outputs": []
    },
    {
      "cell_type": "markdown",
      "source": [
        "###模範解答"
      ],
      "metadata": {
        "id": "KXFpKivIBJh9"
      }
    },
    {
      "cell_type": "code",
      "source": [
        "# 3×3の魔方陣の答え合わせ\n",
        "def calculate_row_sum(matrix):  # 各行の和を求める関数\n",
        "    row_sum = [0, 0, 0]           # row_sum = [`1行目の和`, `2行目の和`, `3行目の和`]\n",
        "\n",
        "    ### (1) 各行の和を求める ###\n",
        "    for i in range(3):\n",
        "        for j in range(3):\n",
        "            row_sum[i] = row_sum[i] + matrix[i][j]\n",
        "    ### (1) ここまで ###\n",
        "    return row_sum\n",
        "\n",
        "\n",
        "def calculate_col_sum(matrix):  # 各列の和を求める関数\n",
        "    col_sum = [0, 0, 0]           # col_sum = [`1列目の和`, `2行列の和`, `3行列の和`]\n",
        "\n",
        "    ### (2) 各列の和を求める ###\n",
        "    for i in range(3):\n",
        "        for j in range(3):\n",
        "            col_sum[j] = col_sum[j] + matrix[i][j]\n",
        "    ### (2) ここまで ###\n",
        "    return col_sum\n",
        "\n",
        "\n",
        "def calculate_diagonal_sum(matrix):  # 対角線の和を求める関数\n",
        "    diagonal_sum = [0, 0]              # diagonal_sum = [`左上から右下の対角線＼の和`, `右上から左下の対角線／の和`]\n",
        "\n",
        "    ### (3) 各対角線の和を求める ###\n",
        "    for i in range(3):\n",
        "        diagonal_sum[0] = diagonal_sum[0] + matrix[i][i]\n",
        "        diagonal_sum[1] = diagonal_sum[1] + matrix[2-i][i]\n",
        "    ### (3) ここまで ###\n",
        "    return diagonal_sum\n",
        "\n",
        "\n",
        "def is_magic_square(matrix):    # 魔方陣かどうかを判定する関数。魔方陣が成立していれば`True`を返し、成立していなければ`False`を返す\n",
        "    sums = calculate_row_sum(matrix) + calculate_col_sum(matrix) + calculate_diagonal_sum(matrix) # 各行の和のリストと各列の和のリストと各対角線の和のリストを結合してリスト`sum`に代入\n",
        "\n",
        "    ### (4) すべての和を比較し、条件によって`True`または`False`を返す ###\n",
        "      # この上の行で、行・列・対角線方向それぞれの和のリストを結合して、１つの１次元リストとなっている。\n",
        "      # １次元リストの中の要素がすべて同じ値なら魔方陣が成立している。\n",
        "    for i in range(len(sums)):\n",
        "        if sums[0] != sums[i]:\n",
        "            return False\n",
        "    return True\n",
        "    ### (4) ここまで ###\n",
        "\n",
        "\n",
        "matrix = [[8, 1, 6],\n",
        "          [3, 5, 7],\n",
        "          [4, 9, 2]]          # ２次元配列\n",
        "\n",
        "if is_magic_square(matrix):   # 魔方陣かどうかを判定する関数に２次元リストを渡して返ってきた値を判定する。\n",
        "    print(\"魔方陣です\")\n",
        "else:\n",
        "    print(\"魔方陣ではありません\")\n",
        "\n"
      ],
      "metadata": {
        "colab": {
          "base_uri": "https://localhost:8080/"
        },
        "id": "302_qMcRBJza",
        "outputId": "5befbc1b-4b84-42a4-8bbc-b138f0c6cbbe"
      },
      "execution_count": null,
      "outputs": [
        {
          "output_type": "stream",
          "name": "stdout",
          "text": [
            "魔方陣です\n"
          ]
        }
      ]
    },
    {
      "cell_type": "markdown",
      "source": [
        "##**(2) $n \\times n$の魔方陣の答え合わせ**\n",
        "(1)のプログラムを改良して、 $n \\times n$の魔方陣の答え合わせをするプログラムを書きなさい。  \n",
        "また、次の方陣が魔方陣となっているかを判定しなさい。    \n",
        "\n",
        "|||||\n",
        "|:--:|:--:|:--:|:--:|\n",
        "|1|2|15|16|\n",
        "|13|14|3|4|\n",
        "|12|7|10|5|\n",
        "|8|11|6|9|"
      ],
      "metadata": {
        "id": "SHb5VEvx1cmo"
      }
    },
    {
      "cell_type": "markdown",
      "source": [
        "###入力用"
      ],
      "metadata": {
        "id": "zhPANiBgYX1J"
      }
    },
    {
      "cell_type": "code",
      "source": [
        "# n×nの魔方陣の答え合わせ\n",
        "def calculate_row_sum(matrix):  # 各行の和を求める関数\n",
        "    row_sum = []           # row_sum = [`1行目の和`, `2行目の和`, `3行目の和`, ...]\n",
        "\n",
        "    ### (1) 各行の和を求める ###\n",
        "    n = len(matrix)\n",
        "    for i in range(n):\n",
        "        row_sum.append(0)\n",
        "\n",
        "    for i in range(n):\n",
        "        for j in range(n):\n",
        "            row_sum[i] = row_sum[i] + matrix[i][j]\n",
        "    ### (1) ここまで ###\n",
        "    return row_sum\n",
        "\n",
        "\n",
        "def calculate_col_sum(matrix):  # 各列の和を求める関数\n",
        "    col_sum = []           # col_sum = [`1列目の和`, `2行列の和`, `3行列の和`, ...]\n",
        "\n",
        "    ### (2) 各列の和を求める ###\n",
        "    n = len(matrix)\n",
        "    for i in range(n):\n",
        "        col_sum.append(0)\n",
        "    for i in range(n):\n",
        "        for j in range(n):\n",
        "            col_sum[j] = col_sum[j] + matrix[i][j]\n",
        "    ### (2) ここまで ###\n",
        "    return col_sum\n",
        "\n",
        "\n",
        "def calculate_diagonal_sum(matrix):  # 対角線の和を求める関数\n",
        "    diagonal_sum = [0, 0]              # diagonal_sum = [`左上から右下の対角線＼の和`, `右上から左下の対角線／の和`]\n",
        "\n",
        "    ### (3) 各対角線の和を求める ###\n",
        "    n = len(matrix)\n",
        "    for i in range(n):\n",
        "        diagonal_sum[0] = diagonal_sum[0] + matrix[i][i]\n",
        "        diagonal_sum[1] = diagonal_sum[1] + matrix[n-1-i][i]\n",
        "    ### (3) ここまで ###\n",
        "    return diagonal_sum\n",
        "\n",
        "\n",
        "def is_magic_square(matrix):    # 魔方陣かどうかを判定する関数。魔方陣が成立していれば`True`を返し、成立していなければ`False`を返す\n",
        "    sums = calculate_row_sum(matrix) + calculate_col_sum(matrix) + calculate_diagonal_sum(matrix) # 各行の和のリストと各列の和のリストと各対角線の和のリストを結合してリスト`sum`に代入\n",
        "\n",
        "    ### (4) すべての和を比較し、条件によって`True`または`False`を返す ###\n",
        "      # この上の行で、行・列・対角線方向それぞれの和のリストを結合して、１つの１次元リストとなっている。\n",
        "      # １次元リストの中の要素がすべて同じ値なら魔方陣が成立している。\n",
        "    for i in range(len(sums)):\n",
        "        if sums[0] != sums[i]:\n",
        "            return False\n",
        "    return True\n",
        "    ### (4) ここまで ###\n",
        "\n",
        "\n",
        "matrix = [[ 1,  2, 15, 16],\n",
        "          [13, 14,  3,  4],\n",
        "          [12,  7, 10,  5],\n",
        "          [ 8, 11,  6,  9]]          # ２次元配列\n",
        "\n",
        "if is_magic_square(matrix):   # 魔方陣かどうかを判定する関数に２次元リストを渡して返ってきた値を判定する。\n",
        "    print(\"魔方陣です\")\n",
        "else:\n",
        "    print(\"魔方陣ではありません\")\n",
        "\n"
      ],
      "metadata": {
        "id": "BSLK9wX7YYdk"
      },
      "execution_count": null,
      "outputs": []
    },
    {
      "cell_type": "markdown",
      "source": [
        "###模範解答"
      ],
      "metadata": {
        "id": "vrMWvRhTYYky"
      }
    },
    {
      "cell_type": "code",
      "source": [
        "# n×nの魔方陣の答え合わせ\n",
        "def calculate_row_sum(matrix):  # 各行の和を求める関数\n",
        "    row_sum = []           # row_sum = [`1行目の和`, `2行目の和`, `3行目の和`, ...]\n",
        "\n",
        "    ### (1) 各行の和を求める ###\n",
        "    n = len(matrix)\n",
        "    for i in range(n):\n",
        "        row_sum.append(0)\n",
        "\n",
        "    for i in range(n):\n",
        "        for j in range(n):\n",
        "            row_sum[i] = row_sum[i] + matrix[i][j]\n",
        "    ### (1) ここまで ###\n",
        "    return row_sum\n",
        "\n",
        "\n",
        "def calculate_col_sum(matrix):  # 各列の和を求める関数\n",
        "    col_sum = []           # col_sum = [`1列目の和`, `2行列の和`, `3行列の和`, ...]\n",
        "\n",
        "    ### (2) 各列の和を求める ###\n",
        "    n = len(matrix)\n",
        "    for i in range(n):\n",
        "        col_sum.append(0)\n",
        "    for i in range(n):\n",
        "        for j in range(n):\n",
        "            col_sum[j] = col_sum[j] + matrix[i][j]\n",
        "    ### (2) ここまで ###\n",
        "    return col_sum\n",
        "\n",
        "\n",
        "def calculate_diagonal_sum(matrix):  # 対角線の和を求める関数\n",
        "    diagonal_sum = [0, 0]              # diagonal_sum = [`左上から右下の対角線＼の和`, `右上から左下の対角線／の和`]\n",
        "\n",
        "    ### (3) 各対角線の和を求める ###\n",
        "    n = len(matrix)\n",
        "    for i in range(n):\n",
        "        diagonal_sum[0] = diagonal_sum[0] + matrix[i][i]\n",
        "        diagonal_sum[1] = diagonal_sum[1] + matrix[n-1-i][i]\n",
        "    ### (3) ここまで ###\n",
        "    return diagonal_sum\n",
        "\n",
        "\n",
        "def is_magic_square(matrix):    # 魔方陣かどうかを判定する関数。魔方陣が成立していれば`True`を返し、成立していなければ`False`を返す\n",
        "    sums = calculate_row_sum(matrix) + calculate_col_sum(matrix) + calculate_diagonal_sum(matrix) # 各行の和のリストと各列の和のリストと各対角線の和のリストを結合してリスト`sum`に代入\n",
        "\n",
        "    ### (4) すべての和を比較し、条件によって`True`または`False`を返す ###\n",
        "      # この上の行で、行・列・対角線方向それぞれの和のリストを結合して、１つの１次元リストとなっている。\n",
        "      # １次元リストの中の要素がすべて同じ値なら魔方陣が成立している。\n",
        "    for i in range(len(sums)):\n",
        "        if sums[0] != sums[i]:\n",
        "            return False\n",
        "    return True\n",
        "    ### (4) ここまで ###\n",
        "\n",
        "\n",
        "matrix = [[ 1,  2, 15, 16],\n",
        "          [13, 14,  3,  4],\n",
        "          [12,  7, 10,  5],\n",
        "          [ 8, 11,  6,  9]]          # ２次元配列\n",
        "\n",
        "if is_magic_square(matrix):   # 魔方陣かどうかを判定する関数に２次元リストを渡して返ってきた値を判定する。\n",
        "    print(\"魔方陣です\")\n",
        "else:\n",
        "    print(\"魔方陣ではありません\")\n",
        "\n"
      ],
      "metadata": {
        "colab": {
          "base_uri": "https://localhost:8080/"
        },
        "id": "9vCqR_QAWCwo",
        "outputId": "875d0bbb-f96f-4452-87e9-9fa1f25360a2"
      },
      "execution_count": null,
      "outputs": [
        {
          "output_type": "stream",
          "name": "stdout",
          "text": [
            "魔方陣です\n"
          ]
        }
      ]
    }
  ]
}