{
  "nbformat": 4,
  "nbformat_minor": 0,
  "metadata": {
    "colab": {
      "provenance": [],
      "include_colab_link": true
    },
    "kernelspec": {
      "name": "python3",
      "display_name": "Python 3"
    },
    "language_info": {
      "name": "python"
    }
  },
  "cells": [
    {
      "cell_type": "markdown",
      "metadata": {
        "id": "view-in-github",
        "colab_type": "text"
      },
      "source": [
        "<a href=\"https://colab.research.google.com/github/kakimotokougyo/JOHO/blob/main/3_3_2%E6%AC%A1%E5%85%83%E3%83%AA%E3%82%B9%E3%83%88_%E3%83%8E%E3%83%BC%E3%83%88%E3%83%96%E3%83%83%E3%82%AF.ipynb\" target=\"_parent\"><img src=\"https://colab.research.google.com/assets/colab-badge.svg\" alt=\"Open In Colab\"/></a>"
      ]
    },
    {
      "cell_type": "code",
      "execution_count": null,
      "metadata": {
        "id": "PLVGVI_ao6PT"
      },
      "outputs": [],
      "source": [
        "data = [\n",
        "    [11, 12, 13, 14],\n",
        "    [21, 22, 23, 24],\n",
        "    [31, 32, 33, 34]\n",
        "    ]\n",
        "num = data[1][2]\n",
        "print(num)"
      ]
    },
    {
      "cell_type": "code",
      "source": [
        "data = [\n",
        "    [11, 12, 13, 14],\n",
        "    [21, 22, 23, 24],\n",
        "    [31, 32, 33, 34]\n",
        "    ]\n",
        "row = data[1]\n",
        "print(row)"
      ],
      "metadata": {
        "id": "cd3aQUD3hahX"
      },
      "execution_count": null,
      "outputs": []
    },
    {
      "cell_type": "code",
      "source": [
        "data = [\n",
        "    [11, 12, 13, 14],\n",
        "    [21, 22, 23, 24],\n",
        "    [31, 32, 33, 34]\n",
        "    ]\n",
        "data[1][2] = 99   # 1行目，2列目の値を99にする。\n",
        "print(data)"
      ],
      "metadata": {
        "id": "7DL2P5S0hcIa"
      },
      "execution_count": null,
      "outputs": []
    },
    {
      "cell_type": "code",
      "source": [
        "data = [\n",
        "    [11, 12, 13, 14],\n",
        "    [21, 22, 23, 24],\n",
        "    [31, 32, 33, 34]\n",
        "    ]\n",
        "print(len(data))"
      ],
      "metadata": {
        "id": "mc7YsvFUhfnn"
      },
      "execution_count": null,
      "outputs": []
    },
    {
      "cell_type": "code",
      "source": [
        "data = [\n",
        "    [11, 12, 13, 14],\n",
        "    [21, 22, 23, 24],\n",
        "    [31, 32, 33, 34]\n",
        "    ]\n",
        "print(len(data[2]))"
      ],
      "metadata": {
        "id": "D_8wqpavhmvF"
      },
      "execution_count": null,
      "outputs": []
    },
    {
      "cell_type": "code",
      "source": [
        "data = [\n",
        "    [11, 12, 13, 14],\n",
        "    [21, 22, 23, 24],\n",
        "    [31, 32, 33, 34]\n",
        "    ]\n",
        "\n",
        "for i in range(len(data)):           # iを0からdataの要素数-1までループする\n",
        "    for j in range(len(data[i])):    # jを0からi行目のリストの要素数-1までループする\n",
        "        print(data[i][j], end=\"\\t\")  # i行目j列目の要素(data[i][j])を出力し、タブ文字\\tで区切る（\\はoption⌥＋¥）\n",
        "    print()                          # 内側のループが終わったら改行を入れる"
      ],
      "metadata": {
        "id": "QC-T6CjEhp-7"
      },
      "execution_count": null,
      "outputs": []
    },
    {
      "cell_type": "code",
      "source": [
        "data = [\n",
        "    [11, 12, 13, 14],\n",
        "    [21, 22, 23, 24],\n",
        "    [31, 32, 33, 34]\n",
        "    ]\n",
        "\n",
        "for i in range(len(data)):\n",
        "    print(data[i])"
      ],
      "metadata": {
        "id": "XleakVaRhr2s"
      },
      "execution_count": null,
      "outputs": []
    },
    {
      "cell_type": "code",
      "source": [
        "data = [\n",
        "    [11, 12, 13, 14],\n",
        "    [21, 22, 23, 24],\n",
        "    [31, 32, 33, 34]\n",
        "    ]\n",
        "\n",
        "for row in data:           # data内の配列を順番にリストrowに入れる\n",
        "    for x in row:\n",
        "        print(x, end=\"\\t\") # タブ文字\\tで区切る（\\はoption⌥＋¥）\n",
        "    print()                # 内側のループが終わったら改行を入れる"
      ],
      "metadata": {
        "id": "mF4sKW1MhucU"
      },
      "execution_count": null,
      "outputs": []
    },
    {
      "cell_type": "code",
      "source": [
        "data = [\n",
        "    [11, 12, 13, 14],\n",
        "    [21, 22, 23, 24],\n",
        "    [31, 32, 33, 34]\n",
        "    ]\n",
        "\n",
        "for row in data:  # data内の配列を順番にrowに入れる\n",
        "    print(row)    # rowを表示"
      ],
      "metadata": {
        "id": "LcvQhD3phwos"
      },
      "execution_count": null,
      "outputs": []
    }
  ]
}