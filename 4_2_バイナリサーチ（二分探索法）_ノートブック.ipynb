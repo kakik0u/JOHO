{
  "nbformat": 4,
  "nbformat_minor": 0,
  "metadata": {
    "colab": {
      "provenance": [],
      "include_colab_link": true
    },
    "kernelspec": {
      "name": "python3",
      "display_name": "Python 3"
    },
    "language_info": {
      "name": "python"
    }
  },
  "cells": [
    {
      "cell_type": "markdown",
      "metadata": {
        "id": "view-in-github",
        "colab_type": "text"
      },
      "source": [
        "<a href=\"https://colab.research.google.com/github/kakik0u/JOHO/blob/main/4_2_%E3%83%90%E3%82%A4%E3%83%8A%E3%83%AA%E3%82%B5%E3%83%BC%E3%83%81%EF%BC%88%E4%BA%8C%E5%88%86%E6%8E%A2%E7%B4%A2%E6%B3%95%EF%BC%89_%E3%83%8E%E3%83%BC%E3%83%88%E3%83%96%E3%83%83%E3%82%AF.ipynb\" target=\"_parent\"><img src=\"https://colab.research.google.com/assets/colab-badge.svg\" alt=\"Open In Colab\"/></a>"
      ]
    },
    {
      "cell_type": "code",
      "execution_count": null,
      "metadata": {
        "id": "PLVGVI_ao6PT"
      },
      "outputs": [],
      "source": [
        "arr = [1, 3, 5, 7, 9, 11, 13, 15, 17, 19]\n",
        "print(arr)\n",
        "target = int(input(\"探索値:\"))\n",
        "\n",
        "x = -1          # 探索値のインデックス番号（初期値: -1）\n",
        "n = len(arr)\n",
        "\n",
        "left = 0        # 探索範囲の左端の位置\n",
        "right = n - 1   # 探索範囲の右端の位置\n",
        "\n",
        "while left <= right:                # 探索範囲の左端と右端の間にデータがある限り繰り返す\n",
        "    mid = (left + right) // 2       # 探索範囲の中央の位置\n",
        "    if arr[mid] == target:          # 中央値＝探索値のとき\n",
        "        x = mid                     # xに中央の位置を代入して終了\n",
        "        break\n",
        "    elif arr[mid] < target:         # 探索値＜中央値のとき、左端を中央の位置より１つ右に移動する\n",
        "        left = mid + 1\n",
        "    else:                           # 探索値＞中央値のとき、右端を中央の位置より１つ左に移動する\n",
        "        right = mid - 1\n",
        "\n",
        "if x != -1:\n",
        "    print(target, \"のインデックス番号は\", x)\n",
        "else:\n",
        "    print(target, \"は存在しません。\")"
      ]
    },
    {
      "cell_type": "code",
      "source": [
        "def binary_search(arr, target):\n",
        "    # binary_search関数：\n",
        "    #   配列arrと探索値targetを受け取り、探索値のインデックス番号を返す。\n",
        "    #   探索値が存在しない場合は -1を返す。\n",
        "    left, right = 0, len(arr) - 1\n",
        "\n",
        "    while left <= right:\n",
        "        mid = (left + right) // 2\n",
        "        if arr[mid] == target:\n",
        "            return mid  # targetのインデックスを返す\n",
        "        elif arr[mid] < target:\n",
        "            left = mid + 1\n",
        "        else:\n",
        "            right = mid - 1\n",
        "    return -1  # targetが存在しない場合、-1を返す\n",
        "\n",
        "\n",
        "arr = [1, 3, 5, 7, 9, 11, 13, 15, 17, 19]\n",
        "print(arr)\n",
        "target = int(input(\"探索値:\"))\n",
        "x = binary_search(arr, target)  # binary_search関数の呼び出し\n",
        "\n",
        "if x != -1:\n",
        "    print(target, \"のインデックス番号は\", x)\n",
        "else:\n",
        "    print(target, \"は存在しません。\")"
      ],
      "metadata": {
        "id": "mncU0ekIskkj"
      },
      "execution_count": null,
      "outputs": []
    }
  ]
}