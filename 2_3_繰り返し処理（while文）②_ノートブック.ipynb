{
  "nbformat": 4,
  "nbformat_minor": 0,
  "metadata": {
    "colab": {
      "provenance": []
    },
    "kernelspec": {
      "name": "python3",
      "display_name": "Python 3"
    },
    "language_info": {
      "name": "python"
    }
  },
  "cells": [
    {
      "cell_type": "code",
      "execution_count": null,
      "metadata": {
        "id": "PLVGVI_ao6PT"
      },
      "outputs": [],
      "source": [
        "n = 1\n",
        "\n",
        "while n % 4 != 0 or n % 5 != 0:\n",
        "    if n % 4 ==0:\n",
        "        print(n, \"は4で割り切れます\")\n",
        "    elif n % 5 ==0:\n",
        "        print(n, \"は5で割り切れます\")\n",
        "    else:\n",
        "        print(n, \"は4でも5でも割り切れません\")\n",
        "    n = n + 1\n",
        "print(\"よって、\", n, \"は4と5で割り切れます。\")\n"
      ]
    },
    {
      "cell_type": "code",
      "source": [
        "n = 6\n",
        "print(n)\n",
        "\n",
        "while n > 1:\n",
        "    if n % 2 == 0:\n",
        "        n = n // 2\n",
        "    else:\n",
        "        n = 3 * n + 1\n",
        "    print(n)\n"
      ],
      "metadata": {
        "id": "3yM0xQrTq-_j"
      },
      "execution_count": null,
      "outputs": []
    },
    {
      "cell_type": "code",
      "source": [
        "# iが3になったらbreakする\n",
        "i = 0\n",
        "while i < 10:\n",
        "    if i == 3:   # iが3になったら\n",
        "        break\n",
        "    print(i, end=\" \")\n",
        "    i = i + 1"
      ],
      "metadata": {
        "id": "6SkdJtcIrB35"
      },
      "execution_count": null,
      "outputs": []
    },
    {
      "cell_type": "code",
      "source": [
        "a = 0\n",
        "\n",
        "while True:          # （break文が現れるまで）無限に繰り返す\n",
        "    print(a)         # aの値を出力\n",
        "    a = a * 2 + 1    # aを2倍して1を足す\n",
        "    if a > 100:      # aが100より大きくなったら\n",
        "        break        # 繰り返しを終了\n",
        "\n",
        "print(a, end=\" \")             # 最後にaを出力（この時点で100を超えている）"
      ],
      "metadata": {
        "id": "LlxE7sNVrCPp"
      },
      "execution_count": null,
      "outputs": []
    },
    {
      "cell_type": "code",
      "source": [
        "while True:\n",
        "    user_input = input(\"何か入力してください（exitで終了）: \")\n",
        "    if user_input == exit:\n",
        "        break\n",
        "    print(\"あなたが入力したのは:\", user_input)"
      ],
      "metadata": {
        "id": "ux1vTcCsrEpA"
      },
      "execution_count": null,
      "outputs": []
    }
  ]
}