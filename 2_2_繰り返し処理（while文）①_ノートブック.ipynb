{
  "nbformat": 4,
  "nbformat_minor": 0,
  "metadata": {
    "colab": {
      "provenance": []
    },
    "kernelspec": {
      "name": "python3",
      "display_name": "Python 3"
    },
    "language_info": {
      "name": "python"
    }
  },
  "cells": [
    {
      "cell_type": "code",
      "execution_count": null,
      "metadata": {
        "id": "PLVGVI_ao6PT"
      },
      "outputs": [],
      "source": [
        "i = 1\n",
        "while i <= 5:\n",
        "    print(i, end=\" \")  # ※1\n",
        "    i = i + 1"
      ]
    },
    {
      "cell_type": "code",
      "source": [
        "n = 100\n",
        "while n % 19 != 0:   # 19で割って余りが0ではないあいだ繰り返す\n",
        "    n = n + 1         # nに1つ大きくする\n",
        "print(n)"
      ],
      "metadata": {
        "id": "gTot1F-nrwoI"
      },
      "execution_count": null,
      "outputs": []
    },
    {
      "cell_type": "code",
      "source": [
        "n = 25\n",
        "\n",
        "while n > 0:\n",
        "    print(n % 2)\n",
        "    n = n // 2"
      ],
      "metadata": {
        "id": "p0uu-_Kgrwqx"
      },
      "execution_count": null,
      "outputs": []
    }
  ]
}