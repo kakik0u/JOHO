{
  "nbformat": 4,
  "nbformat_minor": 0,
  "metadata": {
    "colab": {
      "provenance": []
    },
    "kernelspec": {
      "name": "python3",
      "display_name": "Python 3"
    },
    "language_info": {
      "name": "python"
    }
  },
  "cells": [
    {
      "cell_type": "markdown",
      "source": [
        "#**2-3. 繰り返し（while文）②** 基本問題\n",
        "\n"
      ],
      "metadata": {
        "id": "fVFSs1Jko59p"
      }
    },
    {
      "cell_type": "markdown",
      "source": [
        "#**問1 while True:**"
      ],
      "metadata": {
        "id": "NzZfeBL_o_HF"
      }
    },
    {
      "cell_type": "markdown",
      "source": [
        "##**(1) 5と7の最小公倍数**\n",
        "5と7の最小公倍数を求めるプログラムを書きなさい。  \n",
        "ただし、while True:を用いること。"
      ],
      "metadata": {
        "id": "OMtioY2YJgY5"
      }
    },
    {
      "cell_type": "markdown",
      "source": [
        "###入力用"
      ],
      "metadata": {
        "id": "aNOdMXOLLTHM"
      }
    },
    {
      "cell_type": "code",
      "source": [
        "# 5と7の最小公倍数\n",
        "n = 1\n",
        "\n",
        "while True:\n",
        "    if n % 5 == 0 and n % 7 == 0:\n",
        "        break\n",
        "    n = n + 1\n",
        "print(n)"
      ],
      "metadata": {
        "colab": {
          "base_uri": "https://localhost:8080/"
        },
        "id": "GP4vjE9hJusH",
        "outputId": "c1839d0b-4565-404d-d03e-47687b6eabb9"
      },
      "execution_count": null,
      "outputs": [
        {
          "output_type": "stream",
          "name": "stdout",
          "text": [
            "35\n"
          ]
        }
      ]
    },
    {
      "cell_type": "markdown",
      "source": [
        "###模範解答"
      ],
      "metadata": {
        "id": "J73CDduLLSQx"
      }
    },
    {
      "cell_type": "code",
      "source": [
        "# 5と7の最小公倍数\n",
        "n = 1\n",
        "\n",
        "while True:\n",
        "    if n % 5 == 0 and n % 7 == 0:\n",
        "        break\n",
        "    n = n + 1\n",
        "print(n)"
      ],
      "metadata": {
        "colab": {
          "base_uri": "https://localhost:8080/"
        },
        "id": "yT1T_kxMLWcd",
        "outputId": "fd24ecc5-d9a7-47bf-e43a-8036ddd72dec"
      },
      "execution_count": null,
      "outputs": [
        {
          "output_type": "stream",
          "name": "stdout",
          "text": [
            "35\n"
          ]
        }
      ]
    },
    {
      "cell_type": "markdown",
      "source": [
        "while文の条件式を指定する場合は、次のように書きます。  \n",
        "\n",
        "\n",
        "```\n",
        "while n % 5 != 0 or n % 7 != 0:\n",
        "    n = n + 1\n",
        "print(n)\n",
        "```\n",
        "\n",
        "```\n",
        "while not(n % 5 == 0 and n % 7 == 0):\n",
        "    n = n + 1\n",
        "print(n)\n",
        "```"
      ],
      "metadata": {
        "id": "BCrCu9G1LdH2"
      }
    },
    {
      "cell_type": "markdown",
      "source": [
        "---\n",
        "##**(2) ユーザーの入力値によるエラー回避**\n",
        "パイソンじゃんけんで、ユーザーが 0, 1, 2 以外の数字を入力した場合に、繰り返し入力を求めるようなプログラムを書きなさい。  \n",
        "ただし、数字以外（文字列など）が入力された場合のエラー回避は不要です。"
      ],
      "metadata": {
        "id": "5h4bG5oFLyRF"
      }
    },
    {
      "cell_type": "markdown",
      "source": [
        "###入力用"
      ],
      "metadata": {
        "id": "N22lhO4XNhS5"
      }
    },
    {
      "cell_type": "code",
      "source": [
        "while True:\n",
        "    print(\"あなたの手を選んでください(0: グー, 1: チョキ, 2: パー）\")   # ユーザーの手の入力を促す\n",
        "    your_hand = int(input())\n",
        "\n",
        "    ### 続きのプログラムを書きなさい ###\n",
        "    if your_hand == 0 or your_hand == 1 or your_hand == 2:\n",
        "        break\n",
        "    else:\n",
        "        print(\"0, 1, 2 のいずれかを入力してください。\\n\")\n",
        "\n",
        "\n",
        "\n",
        "    ### プログラムの入力ここまで ###\n",
        "\n",
        "if your_hand == 0:\n",
        "    print(\"あなたはグーを出しました。\")\n",
        "elif your_hand == 1:\n",
        "    print(\"あなたはチョキを出しました。\")\n",
        "else:\n",
        "    print(\"あなたはパーを出しました。\")\n"
      ],
      "metadata": {
        "id": "thoAT7BHNhch"
      },
      "execution_count": null,
      "outputs": []
    },
    {
      "cell_type": "markdown",
      "source": [
        "###模範解答"
      ],
      "metadata": {
        "id": "mRFdPKcJNhlG"
      }
    },
    {
      "cell_type": "code",
      "source": [
        "while True:\n",
        "    print(\"あなたの手を選んでください(0: グー, 1: チョキ, 2: パー）\")   # ユーザーの手の入力を促す\n",
        "    your_hand = int(input())\n",
        "\n",
        "    ### 続きのプログラムを書きなさい ###\n",
        "    if your_hand == 0 or your_hand == 1 or your_hand == 2:\n",
        "        break\n",
        "    else:\n",
        "        print(\"0, 1, 2 のいずれかを入力してください。\\n\")\n",
        "\n",
        "    ### プログラムの入力ここまで ###\n",
        "\n",
        "if your_hand == 0:\n",
        "    print(\"あなたはグーを出しました。\")\n",
        "elif your_hand == 1:\n",
        "    print(\"あなたはチョキを出しました。\")\n",
        "else:\n",
        "    print(\"あなたはパーを出しました。\")\n"
      ],
      "metadata": {
        "colab": {
          "base_uri": "https://localhost:8080/"
        },
        "id": "NS_Thz3kKh1t",
        "outputId": "eaea66ce-7277-4ec5-f342-10a97015db8b"
      },
      "execution_count": null,
      "outputs": [
        {
          "output_type": "stream",
          "name": "stdout",
          "text": [
            "あなたの手を選んでください(0: グー, 1: チョキ, 2: パー）\n",
            "1\n",
            "あなたはチョキを出しました。\n"
          ]
        }
      ]
    },
    {
      "cell_type": "markdown",
      "source": [
        "---\n",
        "---\n",
        "#**問2 条件を満たす整数の列挙**\n",
        "「7の倍数」かつ「5で割ると1余る」自然数を小さい順に5つ出力せよ。"
      ],
      "metadata": {
        "id": "sJ5xMDZcPxTe"
      }
    },
    {
      "cell_type": "markdown",
      "source": [
        "###入力用"
      ],
      "metadata": {
        "id": "ZcXUy9ISP6zi"
      }
    },
    {
      "cell_type": "code",
      "source": [
        "# 「7の倍数」かつ「5で割ると1余る」自然数を小さい順に5つ出力せよ\n",
        "n = 1\n",
        "count = 0\n",
        "\n",
        "### 続きのプログラムを書きなさい ###\n",
        "while count < 5:\n",
        "    if n % 7 == 0 and n % 5 == 1:\n",
        "        print(n)\n",
        "        count = count + 1\n",
        "    n = n + 1\n",
        "\n"
      ],
      "metadata": {
        "id": "HMWQAJclP7Z5"
      },
      "execution_count": null,
      "outputs": []
    },
    {
      "cell_type": "markdown",
      "source": [
        "###模範解答"
      ],
      "metadata": {
        "id": "ETVzWcr4P7h6"
      }
    },
    {
      "cell_type": "code",
      "source": [
        "# 「7の倍数」かつ「5で割ると1余る」自然数を小さい順に5つ出力せよ\n",
        "n = 1\n",
        "count = 0\n",
        "\n",
        "### 続きのプログラムを書きなさい ###\n",
        "while count < 5:\n",
        "    if n % 7 == 0 and n % 5 == 1:\n",
        "        print(n)\n",
        "        count = count + 1\n",
        "    n = n + 1\n"
      ],
      "metadata": {
        "id": "0ayXf0N-P4MY"
      },
      "execution_count": null,
      "outputs": []
    },
    {
      "cell_type": "markdown",
      "source": [
        "次のようにwhile文にwhile文をネストしても書ける。\n",
        "```python\n",
        "while count < 5:\n",
        "    while n % 7 != 0 or n % 5 != 1:\n",
        "        n = n + 1\n",
        "    print(n)\n",
        "    n = n + 1\n",
        "    count = count + 1\n",
        "```\n",
        "\n"
      ],
      "metadata": {
        "id": "aDiU4_PGQSJT"
      }
    },
    {
      "cell_type": "markdown",
      "source": [
        "---\n",
        "---\n",
        "#**問3 コラッツ予想**\n",
        "ユーザーが入力した自然数について、以下のコラッツ予想の操作を実行し、繰り返しごとに値を出力するプログラムを書きなさい。ただし、ユーザーの入力値のエラー回避は不要です。\n",
        "\n",
        "\n",
        "\n",
        ">コラッツ予想（3n+1問題）は、1937年ロタール・コラッツによって提案された整数に関する未解決問題のひとつである。  \n",
        ">\n",
        ">任意の正の整数 nに対して、以下の操作を行う。  \n",
        ">・nが偶数なら、nを2で割る。  \n",
        ">・nが奇数なら、nを3倍して1を足す。    \n",
        ">これを繰り返し行うと、どんな初期値(n)から始めても、必ず1になる。  \n",
        ">\n",
        ">例えば、n=6から始めると、  \n",
        ">6 → 3 → 10 → 5 → 16 → 8 → 4 → 2 → 1  \n",
        ">となる。\n",
        ">\n",
        ">コラッツ予想はコンピュータによる解析的に多くの数字で成り立つことがわかっているが、数学的に証明されていないため、未解決の問題であるとされる。\n"
      ],
      "metadata": {
        "id": "HJ9U_NY-RsAe"
      }
    },
    {
      "cell_type": "markdown",
      "source": [
        "###入力用"
      ],
      "metadata": {
        "id": "f3hmm2D5RyxT"
      }
    },
    {
      "cell_type": "code",
      "source": [
        "# コラッツ予想\n",
        "n = int(input(\"n = \"))\n",
        "\n",
        "#### 以下に続きのプログラムを書きなさい ####\n",
        "while n > 1:\n",
        "    if n % 2 == 0:\n",
        "        n = n // 2\n",
        "    else:\n",
        "        n = 3 * n + 1\n",
        "    print(\" →\", n, end=\"\")\n"
      ],
      "metadata": {
        "id": "Iz0e1fPQR0JE"
      },
      "execution_count": null,
      "outputs": []
    },
    {
      "cell_type": "markdown",
      "source": [
        "###模範解答"
      ],
      "metadata": {
        "id": "Uc143Y3LR0Q3"
      }
    },
    {
      "cell_type": "code",
      "source": [
        "# コラッツ予想\n",
        "n = int(input(\"n = \"))\n",
        "print(n, end=\"\")\n",
        "\n",
        "#### 以下に続きのプログラムを書きなさい ####\n",
        "while n > 1:\n",
        "    if n % 2 == 0:\n",
        "        n = n // 2\n",
        "    else:\n",
        "        n = 3 * n + 1\n",
        "    print(\" →\", n, end=\"\")\n"
      ],
      "metadata": {
        "colab": {
          "base_uri": "https://localhost:8080/"
        },
        "id": "87qZ-U72RrQB",
        "outputId": "32446ab9-3f8b-4756-cb17-eefd403d5597"
      },
      "execution_count": null,
      "outputs": [
        {
          "output_type": "stream",
          "name": "stdout",
          "text": [
            "n = 6\n",
            "6 → 3 → 10 → 5 → 16 → 8 → 4 → 2 → 1"
          ]
        }
      ]
    },
    {
      "cell_type": "markdown",
      "source": [
        "---\n",
        "---\n",
        "#**問4 ローンの返済**\n",
        "500万円の商品を、年利5%のローンを組んで購入した。  \n",
        "毎月10万円ずつ返済した場合、購入して何ヶ月後に全額返済できるか。  \n",
        "ただし、利息は購入後12ヶ月後から、12ヶ月ごとに残金の利息が加算されるものとする。  \n",
        "\n",
        "年利を残高に乗算するとき、小数点以下は切り上げる。  \n",
        "その場合は、int関数を使うと、小数点以下は切り捨てになるので、int関数の値に1を足して切り上げる。  \n",
        "```\n",
        "int(残高×年利) + 1\n",
        "```\n",
        "  \n",
        "出力例  \n",
        "```\n",
        "1 ヶ月目: 残高は 4900000 円\n",
        "2 ヶ月目: 残高は 4800000 円\n",
        "3 ヶ月目: 残高は 4700000 円\n",
        "（中略）\n",
        "xx ヶ月目: 残高は xxxxxx 円\n",
        "xx ヶ月目: 残高は 0 円\n",
        "答： xx ヶ月後\n",
        "```\n"
      ],
      "metadata": {
        "id": "ILNQ4D72Sjmp"
      }
    },
    {
      "cell_type": "markdown",
      "source": [
        "###入力用（フリー）"
      ],
      "metadata": {
        "id": "Cb6okvrhoTu9"
      }
    },
    {
      "cell_type": "code",
      "source": [
        "rate = 0.05           # rate(年利)： 5 %\n",
        "balance = 5000000     # balance(残高)： 初期値は500万円\n",
        "payment = 100000      # payment(返済額)： 月10万円返済する\n",
        "\n",
        "month = 0             # 経過月をカウントする変数\n",
        "\n",
        "### 続きのプログラムを書きなさい ###\n",
        "while balance > 0:\n",
        "    balance = balance - payment\n",
        "    month = month + 1\n",
        "\n",
        "    if month % 12 == 0:\n",
        "        balance = int(balance * (1 + rate) + 0.999)   # 整数×小数はfloat型になるので、int型に戻す※\n",
        "\n",
        "    if balance < 0:\n",
        "        balance = 0\n",
        "\n",
        "    print(month, \"ヶ月目: 残高は\", balance, \"円\")\n",
        "\n",
        "print(\"答：\", month, \"ヶ月後\")"
      ],
      "metadata": {
        "id": "LIlK_5KFoT4Y"
      },
      "execution_count": null,
      "outputs": []
    },
    {
      "cell_type": "markdown",
      "source": [
        "###入力用（穴埋め）"
      ],
      "metadata": {
        "id": "NkvTGeZfod_S"
      }
    },
    {
      "cell_type": "code",
      "source": [
        "rate = 0.05           # rate(年利)： 5 %\n",
        "balance = 5000000     # balance(残高)： 初期値は500万円\n",
        "payment = 100000      # payment(返済額)： 月10万円返済する\n",
        "\n",
        "month = 0             # 経過月をカウントする変数\n",
        "\n",
        "### 続きのプログラムを書きなさい ###\n",
        "while {_条件式_}:\n",
        "    balance = {_式_}\n",
        "    month = {_式_}\n",
        "\n",
        "    if {_条件式_}:\n",
        "        balance = int({_式_})   # 整数×小数はfloat型になるので、int型に戻す\n",
        "\n",
        "    if {_条件式_}:\n",
        "        balance = 0\n",
        "\n",
        "    print(month, \"ヶ月目: 残高は\", balance, \"円\")\n",
        "\n",
        "print(\"答：\", month, \"ヶ月後\")"
      ],
      "metadata": {
        "id": "2K-yj1CfoeHm"
      },
      "execution_count": null,
      "outputs": []
    },
    {
      "cell_type": "markdown",
      "source": [
        "###模範解答"
      ],
      "metadata": {
        "id": "XAon9VwOoUA6"
      }
    },
    {
      "cell_type": "code",
      "source": [
        "rate = 0.05           # rate(年利)： 5 %\n",
        "balance = 5000000     # balance(残高)： 初期値は500万円\n",
        "payment = 100000      # payment(返済額)： 月10万円返済する\n",
        "\n",
        "month = 0             # 経過月をカウントする変数\n",
        "\n",
        "### 続きのプログラムを書きなさい ###\n",
        "while balance > 0:\n",
        "    balance = balance - payment\n",
        "    month = month + 1\n",
        "\n",
        "    if month % 12 == 0:\n",
        "        balance = int(balance * (1 + rate) + 0.999)   # 整数×小数はfloat型になるので、int型に戻す※\n",
        "\n",
        "    if balance < 0:\n",
        "        balance = 0\n",
        "\n",
        "    print(month, \"ヶ月目: 残高は\", balance, \"円\")\n",
        "\n",
        "print(\"答：\", month, \"ヶ月後\")"
      ],
      "metadata": {
        "colab": {
          "base_uri": "https://localhost:8080/"
        },
        "id": "hHxXSkz7j20C",
        "outputId": "1d7f43ea-eb3a-49be-97be-42a9067a0ae5"
      },
      "execution_count": null,
      "outputs": [
        {
          "output_type": "stream",
          "name": "stdout",
          "text": [
            "1 ヶ月目: 残高は 4900000 円\n",
            "2 ヶ月目: 残高は 4800000 円\n",
            "3 ヶ月目: 残高は 4700000 円\n",
            "4 ヶ月目: 残高は 4600000 円\n",
            "5 ヶ月目: 残高は 4500000 円\n",
            "6 ヶ月目: 残高は 4400000 円\n",
            "7 ヶ月目: 残高は 4300000 円\n",
            "8 ヶ月目: 残高は 4200000 円\n",
            "9 ヶ月目: 残高は 4100000 円\n",
            "10 ヶ月目: 残高は 4000000 円\n",
            "11 ヶ月目: 残高は 3900000 円\n",
            "12 ヶ月目: 残高は 3990000 円\n",
            "13 ヶ月目: 残高は 3890000 円\n",
            "14 ヶ月目: 残高は 3790000 円\n",
            "15 ヶ月目: 残高は 3690000 円\n",
            "16 ヶ月目: 残高は 3590000 円\n",
            "17 ヶ月目: 残高は 3490000 円\n",
            "18 ヶ月目: 残高は 3390000 円\n",
            "19 ヶ月目: 残高は 3290000 円\n",
            "20 ヶ月目: 残高は 3190000 円\n",
            "21 ヶ月目: 残高は 3090000 円\n",
            "22 ヶ月目: 残高は 2990000 円\n",
            "23 ヶ月目: 残高は 2890000 円\n",
            "24 ヶ月目: 残高は 2929500 円\n",
            "25 ヶ月目: 残高は 2829500 円\n",
            "26 ヶ月目: 残高は 2729500 円\n",
            "27 ヶ月目: 残高は 2629500 円\n",
            "28 ヶ月目: 残高は 2529500 円\n",
            "29 ヶ月目: 残高は 2429500 円\n",
            "30 ヶ月目: 残高は 2329500 円\n",
            "31 ヶ月目: 残高は 2229500 円\n",
            "32 ヶ月目: 残高は 2129500 円\n",
            "33 ヶ月目: 残高は 2029500 円\n",
            "34 ヶ月目: 残高は 1929500 円\n",
            "35 ヶ月目: 残高は 1829500 円\n",
            "36 ヶ月目: 残高は 1815975 円\n",
            "37 ヶ月目: 残高は 1715975 円\n",
            "38 ヶ月目: 残高は 1615975 円\n",
            "39 ヶ月目: 残高は 1515975 円\n",
            "40 ヶ月目: 残高は 1415975 円\n",
            "41 ヶ月目: 残高は 1315975 円\n",
            "42 ヶ月目: 残高は 1215975 円\n",
            "43 ヶ月目: 残高は 1115975 円\n",
            "44 ヶ月目: 残高は 1015975 円\n",
            "45 ヶ月目: 残高は 915975 円\n",
            "46 ヶ月目: 残高は 815975 円\n",
            "47 ヶ月目: 残高は 715975 円\n",
            "48 ヶ月目: 残高は 646774 円\n",
            "49 ヶ月目: 残高は 546774 円\n",
            "50 ヶ月目: 残高は 446774 円\n",
            "51 ヶ月目: 残高は 346774 円\n",
            "52 ヶ月目: 残高は 246774 円\n",
            "53 ヶ月目: 残高は 146774 円\n",
            "54 ヶ月目: 残高は 46774 円\n",
            "55 ヶ月目: 残高は 0 円\n",
            "答： 55 ヶ月後\n"
          ]
        }
      ]
    },
    {
      "cell_type": "markdown",
      "source": [
        "####※補足\n",
        "「# 整数×小数はfloat型になるので、int型に戻す。」のところについて、\n",
        "int関数は整数型に変換するとともに、小数部分を切り捨てます。  \n",
        "細かい話ですが、実際のローン返済は端数は切り上げになるので、+0.999を足してint関数を使うことにより切り上げます。  \n",
        "（今回はそこまで細かいことは気にしなくても構いません。）"
      ],
      "metadata": {
        "id": "QpefeTv4hfLl"
      }
    }
  ]
}