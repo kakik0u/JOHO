{
  "nbformat": 4,
  "nbformat_minor": 0,
  "metadata": {
    "colab": {
      "provenance": []
    },
    "kernelspec": {
      "name": "python3",
      "display_name": "Python 3"
    },
    "language_info": {
      "name": "python"
    }
  },
  "cells": [
    {
      "cell_type": "markdown",
      "source": [
        "#**2-5. 繰り返し（for文）②** 基本問題\n",
        "\n"
      ],
      "metadata": {
        "id": "fVFSs1Jko59p"
      }
    },
    {
      "cell_type": "markdown",
      "source": [
        "#**問1 FizzBuzzゲーム**\n",
        "FizzBuzzゲームにおいて、1から100までの発言を出力するプログラムを書きなさい。\n",
        "FizzBuzzゲームとは、英語圏で長距離ドライブ中や飲み会の時に行われる言葉遊びです。最初のプレイヤーは「1」と数字を発言する。次のプレイヤーは直前のプレイヤーの発言した数字に1を足した数字を発言していきます。ただし、3の倍数の場合は「Fizz」、5の倍数の場合は「Buzz」、3の倍数かつ5の倍数の場合は「Fizz Buzz」を数の代わりに発言します。"
      ],
      "metadata": {
        "id": "NzZfeBL_o_HF"
      }
    },
    {
      "cell_type": "markdown",
      "source": [
        "###入力用"
      ],
      "metadata": {
        "id": "pEUp1bxeO7MK"
      }
    },
    {
      "cell_type": "code",
      "source": [
        "#FizzBuzzゲーム（続きのプログラムを書きなさい）\n",
        "for i in range(1,101):\n",
        "    if i % 3 == 0 and i % 5 == 0:\n",
        "        print(\"FizzBuzz\")\n",
        "    elif i % 3 == 0:\n",
        "        print(\"Fizz\")\n",
        "    elif i % 5 == 0:\n",
        "        print(\"Buzz\")\n",
        "    else:\n",
        "        print(i)\n"
      ],
      "metadata": {
        "id": "-p7nPjd0O7Yc"
      },
      "execution_count": null,
      "outputs": []
    },
    {
      "cell_type": "markdown",
      "source": [
        "###模範解答"
      ],
      "metadata": {
        "id": "yBUAuL2_O7fu"
      }
    },
    {
      "cell_type": "code",
      "execution_count": null,
      "metadata": {
        "id": "5b_PPmJ-o3hZ"
      },
      "outputs": [],
      "source": [
        "#FizzBuzzゲーム\n",
        "for i in range(1,101):\n",
        "    if i % 3 == 0 and i % 5 == 0:\n",
        "        print(\"FizzBuzz\")\n",
        "    elif i % 3 == 0:\n",
        "        print(\"Fizz\")\n",
        "    elif i % 5 == 0:\n",
        "        print(\"Buzz\")\n",
        "    else:\n",
        "        print(i)\n"
      ]
    },
    {
      "cell_type": "markdown",
      "source": [
        "---\n",
        "---\n",
        "#**問2 九九表**\n",
        "\n"
      ],
      "metadata": {
        "id": "gM2hJBFOqv7p"
      }
    },
    {
      "cell_type": "markdown",
      "source": [
        "##**(1) 九九表①**  \n",
        "次のように九九表を出力するプログラムを書きなさい。  \n",
        "\n",
        "```\n",
        "1 2 3 4 5 6 7 8 9\n",
        "2 4 6 8 10 12 14 16 18\n",
        "3 6 9 12 15 18 21 24 27\n",
        "4 8 12 16 20 24 28 32 36\n",
        "5 10 15 20 25 30 35 40 45\n",
        "6 12 18 24 30 36 42 48 54\n",
        "7 14 21 28 35 42 49 56 63\n",
        "8 16 24 32 40 48 56 64 72\n",
        "9 18 27 36 45 54 63 72 81\n",
        "```"
      ],
      "metadata": {
        "id": "e7aBP5TfeC-H"
      }
    },
    {
      "cell_type": "markdown",
      "source": [
        "###入力用"
      ],
      "metadata": {
        "id": "xsIJ8NTJeQvM"
      }
    },
    {
      "cell_type": "code",
      "source": [
        "# 九九表①\n",
        "for i in range(1, 10):\n",
        "    for j in range(1, 10):\n",
        "        print(i * j, end=\" \")\n",
        "    print()"
      ],
      "metadata": {
        "id": "z2xxMAXbeQ-C"
      },
      "execution_count": null,
      "outputs": []
    },
    {
      "cell_type": "markdown",
      "source": [
        "###模範解答"
      ],
      "metadata": {
        "id": "z0ThrnPTeRFV"
      }
    },
    {
      "cell_type": "code",
      "source": [
        "# 九九表①\n",
        "for i in range(1, 10):\n",
        "    for j in range(1, 10):\n",
        "        print(i * j, end=\" \")\n",
        "    print()\n"
      ],
      "metadata": {
        "colab": {
          "base_uri": "https://localhost:8080/"
        },
        "id": "K9RAEDjReRNj",
        "outputId": "6f04e1a5-8dd4-4953-aa3f-a86fc68a942c"
      },
      "execution_count": null,
      "outputs": [
        {
          "output_type": "stream",
          "name": "stdout",
          "text": [
            "1 2 3 4 5 6 7 8 9 \n",
            "2 4 6 8 10 12 14 16 18 \n",
            "3 6 9 12 15 18 21 24 27 \n",
            "4 8 12 16 20 24 28 32 36 \n",
            "5 10 15 20 25 30 35 40 45 \n",
            "6 12 18 24 30 36 42 48 54 \n",
            "7 14 21 28 35 42 49 56 63 \n",
            "8 16 24 32 40 48 56 64 72 \n",
            "9 18 27 36 45 54 63 72 81 \n"
          ]
        }
      ]
    },
    {
      "cell_type": "markdown",
      "source": [
        "---\n",
        "##**(2) 九九表②**  \n",
        "次のように、九九表を出力するプログラムを書きなさい。  \n",
        "ただし、1桁の値のときは数字の前にアンダースコア`_`を出力し、桁がそろうように出力すること。  \n",
        "\n",
        "```\n",
        "_1 _2 _3 _4 _5 _6 _7 _8 _9\n",
        "_2 _4 _6 _8 10 12 14 16 18\n",
        "_3 _6 _9 12 15 18 21 24 27\n",
        "_4 _8 12 16 20 24 28 32 36\n",
        "_5 10 15 20 25 30 35 40 45\n",
        "_6 12 18 24 30 36 42 48 54\n",
        "_7 14 21 28 35 42 49 56 63\n",
        "_8 16 24 32 40 48 56 64 72\n",
        "_9 18 27 36 45 54 63 72 81\n",
        "```"
      ],
      "metadata": {
        "id": "xyZBkBdReReZ"
      }
    },
    {
      "cell_type": "markdown",
      "source": [
        "###入力用"
      ],
      "metadata": {
        "id": "uKAkpMY8PGPt"
      }
    },
    {
      "cell_type": "code",
      "source": [
        "# 九九表（続きのプログラムを書きなさい）\n",
        "for i in range(1, 10):\n",
        "    for j in range(1, 10):\n",
        "        if i * j < 10:\n",
        "            print(\"_\", end=\"\")\n",
        "        print(i * j, end=\" \")\n",
        "    print()"
      ],
      "metadata": {
        "id": "F32wYmJZPGYh"
      },
      "execution_count": null,
      "outputs": []
    },
    {
      "cell_type": "markdown",
      "source": [
        "###模範解答"
      ],
      "metadata": {
        "id": "7fQINgn6PGf6"
      }
    },
    {
      "cell_type": "code",
      "source": [
        "# 九九表\n",
        "for i in range(1, 10):\n",
        "    for j in range(1, 10):\n",
        "        if i * j < 10:\n",
        "            print(\"_\", end=\"\")\n",
        "        print(i * j, end=\" \")\n",
        "    print()\n"
      ],
      "metadata": {
        "colab": {
          "base_uri": "https://localhost:8080/"
        },
        "id": "Nv3xyoAbq2xr",
        "outputId": "79ad298f-1594-45c6-c718-e96c5ccdd114"
      },
      "execution_count": null,
      "outputs": [
        {
          "output_type": "stream",
          "name": "stdout",
          "text": [
            "_1 _2 _3 _4 _5 _6 _7 _8 _9 \n",
            "_2 _4 _6 _8 10 12 14 16 18 \n",
            "_3 _6 _9 12 15 18 21 24 27 \n",
            "_4 _8 12 16 20 24 28 32 36 \n",
            "_5 10 15 20 25 30 35 40 45 \n",
            "_6 12 18 24 30 36 42 48 54 \n",
            "_7 14 21 28 35 42 49 56 63 \n",
            "_8 16 24 32 40 48 56 64 72 \n",
            "_9 18 27 36 45 54 63 72 81 \n"
          ]
        }
      ]
    },
    {
      "cell_type": "markdown",
      "source": [
        "---\n",
        "---\n",
        "#**問3 for文を使った出力**\n"
      ],
      "metadata": {
        "id": "00f1xHG35eKO"
      }
    },
    {
      "cell_type": "markdown",
      "source": [
        "##**(1) for文とif文を使った`*`出力①**  \n",
        "次のように出力するプログラムを書きなさい。  \n",
        "```\n",
        "*........\n",
        ".*.......\n",
        "..*......\n",
        "...*.....\n",
        "....*....\n",
        ".....*...\n",
        "......*..\n",
        ".......*.\n",
        "........*\n",
        "```"
      ],
      "metadata": {
        "id": "8orbNwnEPMq9"
      }
    },
    {
      "cell_type": "markdown",
      "source": [
        "###入力用"
      ],
      "metadata": {
        "id": "AiFRhLYvPONl"
      }
    },
    {
      "cell_type": "code",
      "source": [
        "##for文とif文を使った`*`出力①\n",
        "for i in range(9):\n",
        "    for j in range(9):\n",
        "        if i == j:\n",
        "            print(\"*\", end=\"\")\n",
        "        else:\n",
        "            print(\".\", end=\"\")\n",
        "    print()\n"
      ],
      "metadata": {
        "id": "3clCv8RdPNCn"
      },
      "execution_count": null,
      "outputs": []
    },
    {
      "cell_type": "markdown",
      "source": [
        "###模範解答"
      ],
      "metadata": {
        "id": "HQLkR-XlPWwQ"
      }
    },
    {
      "cell_type": "code",
      "source": [
        "##for文とif文を使った`*`出力①\n",
        "\n",
        "for i in range(9):\n",
        "    for j in range(9):\n",
        "        if i == j:\n",
        "            print(\"*\", end=\"\")\n",
        "        else:\n",
        "            print(\".\", end=\"\")\n",
        "    print()\n"
      ],
      "metadata": {
        "colab": {
          "base_uri": "https://localhost:8080/"
        },
        "id": "S4Ve6Fp95enn",
        "outputId": "74c2de30-55fe-471a-dcb2-75b6cf60a3c4"
      },
      "execution_count": null,
      "outputs": [
        {
          "output_type": "stream",
          "name": "stdout",
          "text": [
            "*........\n",
            ".*.......\n",
            "..*......\n",
            "...*.....\n",
            "....*....\n",
            ".....*...\n",
            "......*..\n",
            ".......*.\n",
            "........*\n"
          ]
        }
      ]
    },
    {
      "cell_type": "markdown",
      "source": [
        "---\n",
        "##**(2) for文とif文を使った`*`出力②**  \n",
        "次のように出力するプログラムを書きなさい。  \n",
        "```\n",
        "........*\n",
        ".......*.\n",
        "......*..\n",
        ".....*...\n",
        "....*....\n",
        "...*.....\n",
        "..*......\n",
        ".*.......\n",
        "*........\n",
        "```"
      ],
      "metadata": {
        "id": "F-zYZYMCPZGx"
      }
    },
    {
      "cell_type": "markdown",
      "source": [
        "###入力用"
      ],
      "metadata": {
        "id": "fcrV7r63PZOW"
      }
    },
    {
      "cell_type": "code",
      "source": [
        "##for文とif文を使った`*`出力②\n",
        "for i in range(9):\n",
        "    for j in range(9):\n",
        "        if 8 - i == j:\n",
        "            print(\"*\", end=\"\")\n",
        "        else:\n",
        "            print(\".\", end=\"\")\n",
        "    print()"
      ],
      "metadata": {
        "id": "rh1GqPlePZX-"
      },
      "execution_count": null,
      "outputs": []
    },
    {
      "cell_type": "markdown",
      "source": [
        "###模範解答"
      ],
      "metadata": {
        "id": "d2K4LH6FPZjd"
      }
    },
    {
      "cell_type": "code",
      "source": [
        "##for文とif文を使った`*`出力②\n",
        "\n",
        "for i in range(9):\n",
        "    for j in range(9):\n",
        "        if 8 - i == j:\n",
        "            print(\"*\", end=\"\")\n",
        "        else:\n",
        "            print(\".\", end=\"\")\n",
        "    print()\n"
      ],
      "metadata": {
        "colab": {
          "base_uri": "https://localhost:8080/"
        },
        "id": "HuaFweNE5iTj",
        "outputId": "22579dec-da97-4e30-a2d8-ecbac8329297"
      },
      "execution_count": null,
      "outputs": [
        {
          "output_type": "stream",
          "name": "stdout",
          "text": [
            "........*\n",
            ".......*.\n",
            "......*..\n",
            ".....*...\n",
            "....*....\n",
            "...*.....\n",
            "..*......\n",
            ".*.......\n",
            "*........\n"
          ]
        }
      ]
    },
    {
      "cell_type": "markdown",
      "source": [
        "---\n",
        "##**(3) for文とif文を使った`*`出力③**  \n",
        "次のように出力するプログラムを書きなさい。  \n",
        "```\n",
        "*********\n",
        ".......*.\n",
        "......*..\n",
        ".....*...\n",
        "....*....\n",
        "...*.....\n",
        "..*......\n",
        ".*.......\n",
        "*********\n",
        "```"
      ],
      "metadata": {
        "id": "cP0D7hKlPaHp"
      }
    },
    {
      "cell_type": "markdown",
      "source": [
        "###入力用"
      ],
      "metadata": {
        "id": "47arwbmPPaNT"
      }
    },
    {
      "cell_type": "code",
      "source": [
        "##for文とif文を使った`*`出力③\n",
        "\n",
        "for i in range(9):\n",
        "    for j in range(9):\n",
        "        if 8 - i == j or i == 0 or i == 8:\n",
        "            print(\"*\", end=\"\")\n",
        "        else:\n",
        "            print(\".\", end=\"\")\n",
        "    print()"
      ],
      "metadata": {
        "id": "J25kZLzZPaU7"
      },
      "execution_count": null,
      "outputs": []
    },
    {
      "cell_type": "markdown",
      "source": [
        "###模範解答"
      ],
      "metadata": {
        "id": "CkjNLmnqPabo"
      }
    },
    {
      "cell_type": "code",
      "source": [
        "##for文とif文を使った`*`出力③\n",
        "\n",
        "for i in range(9):\n",
        "    for j in range(9):\n",
        "        if 8 - i == j or i == 0 or i == 8:\n",
        "            print(\"*\", end=\"\")\n",
        "        else:\n",
        "            print(\".\", end=\"\")\n",
        "    print()\n"
      ],
      "metadata": {
        "colab": {
          "base_uri": "https://localhost:8080/"
        },
        "id": "IOwvFhF65lag",
        "outputId": "06fcf1ea-addb-4724-d5ab-fd510c8562be"
      },
      "execution_count": null,
      "outputs": [
        {
          "output_type": "stream",
          "name": "stdout",
          "text": [
            "*********\n",
            ".......*.\n",
            "......*..\n",
            ".....*...\n",
            "....*....\n",
            "...*.....\n",
            "..*......\n",
            ".*.......\n",
            "*********\n"
          ]
        }
      ]
    },
    {
      "cell_type": "markdown",
      "source": [
        "---\n",
        "##**(4) for文とif文を使った`*`出力④**  \n",
        "次のように出力するプログラムを書きなさい。  \n",
        "```\n",
        "*.......*\n",
        ".*.....*.\n",
        "..*...*..\n",
        "...*.*...\n",
        "....*....\n",
        "...*.*...\n",
        "..*...*..\n",
        ".*.....*.\n",
        "*.......*\n",
        "```"
      ],
      "metadata": {
        "id": "RE5jM6OePbSG"
      }
    },
    {
      "cell_type": "markdown",
      "source": [
        "###入力用"
      ],
      "metadata": {
        "id": "o-YEtRkkPbWS"
      }
    },
    {
      "cell_type": "code",
      "source": [
        "##for文とif文を使った`*`出力④\n",
        "\n",
        "for i in range(9):\n",
        "    for j in range(9):\n",
        "        if 8 - i == j or i == j:\n",
        "            print(\"*\", end=\"\")\n",
        "        else:\n",
        "            print(\".\", end=\"\")\n",
        "    print()"
      ],
      "metadata": {
        "id": "0MbTR-XRPbfU"
      },
      "execution_count": null,
      "outputs": []
    },
    {
      "cell_type": "markdown",
      "source": [
        "###模範解答"
      ],
      "metadata": {
        "id": "pblPqQWiPbma"
      }
    },
    {
      "cell_type": "code",
      "source": [
        "##for文とif文を使った`*`出力④\n",
        "\n",
        "for i in range(9):\n",
        "    for j in range(9):\n",
        "        if 8 - i == j or i == j:\n",
        "            print(\"*\", end=\"\")\n",
        "        else:\n",
        "            print(\".\", end=\"\")\n",
        "    print()\n"
      ],
      "metadata": {
        "colab": {
          "base_uri": "https://localhost:8080/"
        },
        "id": "gHwmxNrX5oiy",
        "outputId": "38f7246f-a1ba-4c98-fdef-042c5416c091"
      },
      "execution_count": null,
      "outputs": [
        {
          "output_type": "stream",
          "name": "stdout",
          "text": [
            "*.......*\n",
            ".*.....*.\n",
            "..*...*..\n",
            "...*.*...\n",
            "....*....\n",
            "...*.*...\n",
            "..*...*..\n",
            ".*.....*.\n",
            "*.......*\n"
          ]
        }
      ]
    }
  ]
}