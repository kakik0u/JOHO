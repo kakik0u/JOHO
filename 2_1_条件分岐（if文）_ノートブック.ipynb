{
  "nbformat": 4,
  "nbformat_minor": 0,
  "metadata": {
    "colab": {
      "provenance": []
    },
    "kernelspec": {
      "name": "python3",
      "display_name": "Python 3"
    },
    "language_info": {
      "name": "python"
    }
  },
  "cells": [
    {
      "cell_type": "code",
      "execution_count": null,
      "metadata": {
        "id": "PLVGVI_ao6PT"
      },
      "outputs": [],
      "source": [
        "age = 16    # ageに16を代入\n",
        "\n",
        "if age < 15:\n",
        "    print('15歳未満です')\n",
        "else:\n",
        "    print('15歳以上です')  #（＝15歳未満ではありません）"
      ]
    },
    {
      "cell_type": "code",
      "source": [
        "print(1 < 2)    #1は2より小さいか\n",
        "print(1 > 2)    #1は2より大きいか"
      ],
      "metadata": {
        "id": "bzfSzSVTrRFr"
      },
      "execution_count": null,
      "outputs": []
    },
    {
      "cell_type": "code",
      "source": [
        "import random              # 乱数を発生させるためのモジュールを読み込む\n",
        "n = random.randint(0, 9)   # 0以上9以下の整数の乱数を発生させて、nに代入する\n",
        "\n",
        "if n > 5:\n",
        "    print(\"あたり\")\n",
        "else:\n",
        "    print(\"はずれ\")"
      ],
      "metadata": {
        "id": "eabI24eOrRH_"
      },
      "execution_count": null,
      "outputs": []
    },
    {
      "cell_type": "code",
      "source": [
        "num = 9  #代入するときは「=」\n",
        "if num % 3 == 0:   #比較するときは「==」\n",
        "    print('３の倍数です。')\n",
        "else:\n",
        "    print('３の倍数ではありません。')"
      ],
      "metadata": {
        "id": "-HCjQr_UrRKV"
      },
      "execution_count": null,
      "outputs": []
    },
    {
      "cell_type": "code",
      "source": [
        "age = 15\n",
        "if age >= 13 and age < 20:  #ageが13以上かつ20未満なら\n",
        "    print('Teenagerです。')\n",
        "else:\n",
        "    print('Teenagerではありません。')\n"
      ],
      "metadata": {
        "id": "-ZJnJ6NnrRM7"
      },
      "execution_count": null,
      "outputs": []
    },
    {
      "cell_type": "code",
      "source": [
        "x = int(input('整数を入力してください： '))\n",
        "\n",
        "if x == 0:  #等しいときの比較演算子は「==」\n",
        "    #0(ゼロ)のとき\n",
        "    print(\"入力された値は、0(ゼロ)です。\")\n",
        "elif x > 0:\n",
        "    #0より大きいとき\n",
        "    print(\"入力された値は、正の数です。\")\n",
        "else:\n",
        "    #0より小さいとき\n",
        "    print(\"入力された値は、負の数です。\")"
      ],
      "metadata": {
        "id": "IOBWEInrrRPT"
      },
      "execution_count": null,
      "outputs": []
    },
    {
      "cell_type": "code",
      "source": [
        "age = 1   #ageに年齢を入力（ここでは1歳を代入）\n",
        "is_on_lap = True   #膝の上に座るかどうか（ここではTrueを代入）\n",
        "\n",
        "if age >= 12:\n",
        "    #12歳以上\n",
        "    print(\"通常運賃\")\n",
        "elif age >= 3:\n",
        "    #3歳以上12歳未満\n",
        "    print(\"子どもは小児運賃\")\n",
        "else:\n",
        "    #3歳未満\n",
        "    if is_on_lap == True:\n",
        "        #膝の上に座る場合\n",
        "        print(\"子どもは無料\")\n",
        "    else:\n",
        "        #膝の上に座らずに座席を確保する場合\n",
        "        print(\"子どもは小児運賃\")"
      ],
      "metadata": {
        "id": "n8Ra8y7PrYYk"
      },
      "execution_count": null,
      "outputs": []
    }
  ]
}