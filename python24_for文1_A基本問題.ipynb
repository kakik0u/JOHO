{
  "nbformat": 4,
  "nbformat_minor": 0,
  "metadata": {
    "colab": {
      "provenance": []
    },
    "kernelspec": {
      "name": "python3",
      "display_name": "Python 3"
    },
    "language_info": {
      "name": "python"
    }
  },
  "cells": [
    {
      "cell_type": "markdown",
      "source": [
        "#**2-4. 繰り返し（for文）①** 基本問題\n",
        "\n"
      ],
      "metadata": {
        "id": "fVFSs1Jko59p"
      }
    },
    {
      "cell_type": "markdown",
      "source": [
        "#**問1 for文の基本**"
      ],
      "metadata": {
        "id": "qW3XlOa1cDWk"
      }
    },
    {
      "cell_type": "markdown",
      "source": [
        "##**(1) `range(n)` の使い方**\n",
        "次のように出力するプログラムを書きなさい。  \n",
        "ただし、`range(n)`を用いること。\n",
        "```python\n",
        "for i in range(n):  # nの値を変更する\n",
        "    print(i, end=\" \")\n",
        "```\n",
        "```\n",
        "0 1 2 3 4 5 6 7 8 9 10\n",
        "```"
      ],
      "metadata": {
        "id": "niegnGGnarbM"
      }
    },
    {
      "cell_type": "markdown",
      "source": [
        "###入力用"
      ],
      "metadata": {
        "id": "BPWCCnxqazRy"
      }
    },
    {
      "cell_type": "code",
      "source": [
        "# range(n)の使い方\n",
        "for i in range(11):\n",
        "    print(i, end=\" \")"
      ],
      "metadata": {
        "id": "vNTstnWvbBay",
        "colab": {
          "base_uri": "https://localhost:8080/"
        },
        "outputId": "1e41ce8a-5455-4f1c-841c-40242bd9dc62"
      },
      "execution_count": 1,
      "outputs": [
        {
          "output_type": "stream",
          "name": "stdout",
          "text": [
            "0 1 2 3 4 5 6 7 8 9 10 "
          ]
        }
      ]
    },
    {
      "cell_type": "markdown",
      "source": [
        "###模範解答"
      ],
      "metadata": {
        "id": "zFh-mZcFbBi2"
      }
    },
    {
      "cell_type": "code",
      "source": [
        "# range(n)の使い方\n",
        "for i in range(11):\n",
        "    print(i, end=\" \")"
      ],
      "metadata": {
        "colab": {
          "base_uri": "https://localhost:8080/"
        },
        "id": "p9od9BWYbBqJ",
        "outputId": "3f7bed9c-bcc8-4f83-9b42-4e0cb5cc81af"
      },
      "execution_count": null,
      "outputs": [
        {
          "output_type": "stream",
          "name": "stdout",
          "text": [
            "0 1 2 3 4 5 6 7 8 9 10 "
          ]
        }
      ]
    },
    {
      "cell_type": "markdown",
      "source": [
        "---\n",
        "##**(2) `range(a, b)` の使い方**\n",
        "次のように出力するプログラムを書きなさい。  \n",
        "ただし、`range(a, b)`を用いること。\n",
        "```python\n",
        "for i in range(a, b):  # a, bの値を変更する\n",
        "    print(i, end=\" \")\n",
        "```\n",
        "```\n",
        "3 4 5 6 7 8 9 10 11 12 13 14 15\n",
        "```"
      ],
      "metadata": {
        "id": "4OAg9JPXcWW-"
      }
    },
    {
      "cell_type": "markdown",
      "source": [
        "###入力用"
      ],
      "metadata": {
        "id": "yLhsi0Yacpek"
      }
    },
    {
      "cell_type": "code",
      "source": [
        "# range(a, b)の使い方\n",
        "for i in range(3, 16):\n",
        "    print(i, end=\" \")"
      ],
      "metadata": {
        "id": "Ir01RPnKco1v",
        "colab": {
          "base_uri": "https://localhost:8080/"
        },
        "outputId": "c08a10fe-912f-4988-a593-02bf620c0ddf"
      },
      "execution_count": 2,
      "outputs": [
        {
          "output_type": "stream",
          "name": "stdout",
          "text": [
            "3 4 5 6 7 8 9 10 11 12 13 14 15 "
          ]
        }
      ]
    },
    {
      "cell_type": "markdown",
      "source": [
        "###模範解答"
      ],
      "metadata": {
        "id": "-8x0mQdgcr1W"
      }
    },
    {
      "cell_type": "code",
      "source": [
        "# range(a, b)の使い方\n",
        "for i in range(3, 16):\n",
        "    print(i, end=\" \")"
      ],
      "metadata": {
        "colab": {
          "base_uri": "https://localhost:8080/"
        },
        "id": "9GWjKKIucr-R",
        "outputId": "519e5394-13a2-40b1-8cfd-139081690e2d"
      },
      "execution_count": null,
      "outputs": [
        {
          "output_type": "stream",
          "name": "stdout",
          "text": [
            "3 4 5 6 7 8 9 10 11 12 13 14 15 "
          ]
        }
      ]
    },
    {
      "cell_type": "markdown",
      "source": [
        "---\n",
        "##**(3) `range(a, b, c)` の使い方**\n",
        "次のように出力するプログラムを書きなさい。  \n",
        "ただし、`range(a, b, c)`を用いること。\n",
        "```python\n",
        "for i in range(a, b, c):  # a, b, cの値を変更する\n",
        "    print(i, end=\" \")\n",
        "```\n",
        "```\n",
        "3 6 9 12 15 18\n",
        "```"
      ],
      "metadata": {
        "id": "NuFSLMJtdD1k"
      }
    },
    {
      "cell_type": "markdown",
      "source": [
        "###入力用"
      ],
      "metadata": {
        "id": "bVTOsxRcdJD9"
      }
    },
    {
      "cell_type": "code",
      "source": [
        "# range(a, b, c)の使い方\n",
        "for i in range(3, 20, 3):\n",
        "    print(i, end=\" \")"
      ],
      "metadata": {
        "id": "6oLIiuDXdK3k",
        "colab": {
          "base_uri": "https://localhost:8080/"
        },
        "outputId": "32d63d92-5477-4b24-ad4e-c3cb8bdb98a8"
      },
      "execution_count": 3,
      "outputs": [
        {
          "output_type": "stream",
          "name": "stdout",
          "text": [
            "3 6 9 12 15 18 "
          ]
        }
      ]
    },
    {
      "cell_type": "markdown",
      "source": [
        "###模範解答"
      ],
      "metadata": {
        "id": "YnTEJZYFdK_9"
      }
    },
    {
      "cell_type": "code",
      "source": [
        "# range(a, b, c)の使い方\n",
        "for i in range(3, 20, 3):\n",
        "    print(i, end=\" \")"
      ],
      "metadata": {
        "colab": {
          "base_uri": "https://localhost:8080/"
        },
        "id": "tFoRbSnsdLIw",
        "outputId": "074419e2-c473-4f7d-c811-4c49197b8508"
      },
      "execution_count": null,
      "outputs": [
        {
          "output_type": "stream",
          "name": "stdout",
          "text": [
            "3 6 9 12 15 18 "
          ]
        }
      ]
    },
    {
      "cell_type": "markdown",
      "source": [
        "---\n",
        "---\n",
        "#**問2 数列の和**\n"
      ],
      "metadata": {
        "id": "NzZfeBL_o_HF"
      }
    },
    {
      "cell_type": "markdown",
      "source": [
        "##**(1) 1から10までの整数の和**\n",
        "1から10までの整数の和を求めるプログラムを書きなさい。  \n",
        "ただし、for文の条件は `range(a, b)` を用いること。"
      ],
      "metadata": {
        "id": "aLO2qT1Czzxl"
      }
    },
    {
      "cell_type": "markdown",
      "source": [
        "###入力用"
      ],
      "metadata": {
        "id": "uLOYmH7d_WfU"
      }
    },
    {
      "cell_type": "code",
      "source": [
        "# １からnまでの整数の和を求める\n",
        "sum = 0     # 和を入れておく変数\n",
        "\n",
        "#### 以下に続きのプログラムを書きなさい ####\n",
        "for i in range(1, 11):\n",
        "    sum = sum + i\n",
        "\n",
        "print(sum)"
      ],
      "metadata": {
        "id": "34RbI_wM_WuO",
        "colab": {
          "base_uri": "https://localhost:8080/"
        },
        "outputId": "a8aff04d-6e48-4259-cfa1-139258bf146d"
      },
      "execution_count": 4,
      "outputs": [
        {
          "output_type": "stream",
          "name": "stdout",
          "text": [
            "55\n"
          ]
        }
      ]
    },
    {
      "cell_type": "markdown",
      "source": [
        "###模範解答"
      ],
      "metadata": {
        "id": "jwt0IqbF_W9l"
      }
    },
    {
      "cell_type": "code",
      "execution_count": null,
      "metadata": {
        "id": "5b_PPmJ-o3hZ",
        "colab": {
          "base_uri": "https://localhost:8080/"
        },
        "outputId": "dceffaa4-2532-4eb5-d2e3-15801be911cd"
      },
      "outputs": [
        {
          "output_type": "stream",
          "name": "stdout",
          "text": [
            "55\n"
          ]
        }
      ],
      "source": [
        "# １からnまでの整数の和を求める\n",
        "sum = 0     # 和を入れておく変数\n",
        "\n",
        "#### 以下に続きのプログラムを書きなさい ####\n",
        "for i in range(1, 11):\n",
        "    sum = sum + i\n",
        "\n",
        "print(sum)\n"
      ]
    },
    {
      "cell_type": "markdown",
      "source": [
        "---\n",
        "##**(2) 1から10までの整数の和**\n",
        "1から10までの整数の和を求めるプログラムを書きなさい。  \n",
        "ただし、for文の条件は `range(n)` を用いること。"
      ],
      "metadata": {
        "id": "p19mpnFukPa4"
      }
    },
    {
      "cell_type": "markdown",
      "source": [
        "###入力用"
      ],
      "metadata": {
        "id": "wB9nV0az_f4p"
      }
    },
    {
      "cell_type": "code",
      "source": [
        "# １からnまでの整数の和を求める\n",
        "sum = 0     # 和を入れておく変数\n",
        "\n",
        "#### 以下に続きのプログラムを書きなさい ####\n",
        "for i in range(10):\n",
        "    sum = sum + (i + 1)\n",
        "\n",
        "print(sum)\n"
      ],
      "metadata": {
        "id": "s5ulq6JC_gJ4",
        "colab": {
          "base_uri": "https://localhost:8080/"
        },
        "outputId": "324c8605-bf60-4296-a316-8713e26db492"
      },
      "execution_count": 5,
      "outputs": [
        {
          "output_type": "stream",
          "name": "stdout",
          "text": [
            "55\n"
          ]
        }
      ]
    },
    {
      "cell_type": "markdown",
      "source": [
        "###模範解答"
      ],
      "metadata": {
        "id": "xVUdbNdX_gTx"
      }
    },
    {
      "cell_type": "code",
      "source": [
        "# １からnまでの整数の和を求める\n",
        "sum = 0     # 和を入れておく変数\n",
        "\n",
        "#### 以下に続きのプログラムを書きなさい ####\n",
        "for i in range(10):\n",
        "    sum = sum + (i + 1)\n",
        "\n",
        "print(sum)\n"
      ],
      "metadata": {
        "id": "hD7yLk7mYUZu",
        "colab": {
          "base_uri": "https://localhost:8080/"
        },
        "outputId": "9c07a2e2-9cee-4e85-c98a-636a26d60854"
      },
      "execution_count": null,
      "outputs": [
        {
          "output_type": "stream",
          "name": "stdout",
          "text": [
            "55\n"
          ]
        }
      ]
    },
    {
      "cell_type": "markdown",
      "source": [
        "---\n",
        "---\n",
        "#**問3 for文を使った出力**\n"
      ],
      "metadata": {
        "id": "bG0JsrJdYYrM"
      }
    },
    {
      "cell_type": "markdown",
      "source": [
        "##**(1) `*`出力①**\n",
        "次のように出力するプログラムを書きなさい。\n",
        "\n",
        "```\n",
        "*\n",
        "**\n",
        "***\n",
        "****\n",
        "*****\n",
        "```"
      ],
      "metadata": {
        "id": "--0GtqnauxJ7"
      }
    },
    {
      "cell_type": "markdown",
      "source": [
        "###入力用"
      ],
      "metadata": {
        "id": "kVOuwcafGlzE"
      }
    },
    {
      "cell_type": "code",
      "source": [
        "# *出力①\n",
        "s = \"\"              # 文字列変数 *を格納する。初期値は空文字。\n",
        "\n",
        "#### 以下に続きのプログラムを書きなさい ####\n",
        "for i in range(5):\n",
        "    s = s + \"*\"\n",
        "    print(s)"
      ],
      "metadata": {
        "id": "3Hie36h_GmEN",
        "colab": {
          "base_uri": "https://localhost:8080/"
        },
        "outputId": "65df8490-4eea-48ee-fdec-b63a9de36a31"
      },
      "execution_count": 6,
      "outputs": [
        {
          "output_type": "stream",
          "name": "stdout",
          "text": [
            "*\n",
            "**\n",
            "***\n",
            "****\n",
            "*****\n"
          ]
        }
      ]
    },
    {
      "cell_type": "markdown",
      "source": [
        "###模範解答"
      ],
      "metadata": {
        "id": "NGcSVHAeGmYh"
      }
    },
    {
      "cell_type": "code",
      "source": [
        "# *出力①\n",
        "s = \"\"              # 文字列変数 *を格納する。初期値は空文字。\n",
        "\n",
        "#### 以下に続きのプログラムを書きなさい ####\n",
        "for i in range(5):  # 5回繰り返す\n",
        "    s = s + \"*\"    # sに*を１つ結合する\n",
        "    print(s)        # sを出力"
      ],
      "metadata": {
        "colab": {
          "base_uri": "https://localhost:8080/"
        },
        "id": "EdKjhzYwpJ9A",
        "outputId": "b80dc51b-75a6-4ab1-a664-4dc1e3334209"
      },
      "execution_count": null,
      "outputs": [
        {
          "output_type": "stream",
          "name": "stdout",
          "text": [
            "*\n",
            "**\n",
            "***\n",
            "****\n",
            "*****\n"
          ]
        }
      ]
    },
    {
      "cell_type": "markdown",
      "source": [
        "---\n",
        "##**(2) レピュニット数の出力**\n",
        "次のように出力するプログラムを書きなさい。\n",
        "\n",
        "```\n",
        "1\n",
        "11\n",
        "111\n",
        "1111\n",
        "11111\n",
        "```\n",
        "※$1, 11, 111, 1111, ... $のように全ての桁の数字が 1 である自然数を**レピュニット数**という（名前の由来は**rep**eated **unit**の略）。"
      ],
      "metadata": {
        "id": "2zl8yLPvwLm-"
      }
    },
    {
      "cell_type": "markdown",
      "source": [
        "###入力用"
      ],
      "metadata": {
        "id": "IstTFkJGHzEX"
      }
    },
    {
      "cell_type": "markdown",
      "source": [],
      "metadata": {
        "id": "qZvFR_v3uE2c"
      }
    },
    {
      "cell_type": "code",
      "source": [
        "# レピュニット数の出力\n",
        "n = 0                   # 値を入れる変数\n",
        "\n",
        "#### 以下に続きのプログラムを書きなさい ####\n",
        "for i in range(1, 6):\n",
        "    n = n * 10 + 1\n",
        "    print(n)"
      ],
      "metadata": {
        "id": "OwdPNTPDHzNg",
        "colab": {
          "base_uri": "https://localhost:8080/"
        },
        "outputId": "60f0a451-524d-40e7-e65e-619610d54b39"
      },
      "execution_count": 7,
      "outputs": [
        {
          "output_type": "stream",
          "name": "stdout",
          "text": [
            "1\n",
            "11\n",
            "111\n",
            "1111\n",
            "11111\n"
          ]
        }
      ]
    },
    {
      "cell_type": "markdown",
      "source": [
        "###模範解答"
      ],
      "metadata": {
        "id": "eh1zk6xRHzUN"
      }
    },
    {
      "cell_type": "code",
      "source": [
        "# レピュニット数の出力\n",
        "n = 0                   # 値を入れる変数\n",
        "\n",
        "#### 以下に続きのプログラムを書きなさい ####\n",
        "for i in range(1, 6):   # iを1から5まで繰り返す\n",
        "    n = n * 10 + 1      # nに10をかけて1を足してnに代入\n",
        "    print(n)\n"
      ],
      "metadata": {
        "id": "pVw62pRhwP7P",
        "outputId": "ce9dd6a1-3ad2-40f8-997f-9f131167053c",
        "colab": {
          "base_uri": "https://localhost:8080/"
        }
      },
      "execution_count": 8,
      "outputs": [
        {
          "output_type": "stream",
          "name": "stdout",
          "text": [
            "1\n",
            "11\n",
            "111\n",
            "1111\n",
            "11111\n"
          ]
        }
      ]
    },
    {
      "cell_type": "markdown",
      "source": [
        "---\n",
        "##**(3) 連番数の出力**\n",
        "次のように出力するプログラムを書きなさい。\n",
        "\n",
        "```\n",
        "1\n",
        "12\n",
        "123\n",
        "1234\n",
        "12345\n",
        "```"
      ],
      "metadata": {
        "id": "3OuWpp1_viJG"
      }
    },
    {
      "cell_type": "markdown",
      "source": [
        "###入力用"
      ],
      "metadata": {
        "id": "jxRuXWYCINoI"
      }
    },
    {
      "cell_type": "code",
      "source": [
        "# 連番数の出力\n",
        "n = 0                   # 値を入れる変数\n",
        "\n",
        "#### 以下に続きのプログラムを書きなさい ####\n",
        "for i in range(1, 6):\n",
        "    n = n * 10 + i\n",
        "    print(n)"
      ],
      "metadata": {
        "id": "wGiHGs89INxK",
        "colab": {
          "base_uri": "https://localhost:8080/"
        },
        "outputId": "a47b5c9e-d0bd-42e3-8096-ab7cc3aead59"
      },
      "execution_count": 9,
      "outputs": [
        {
          "output_type": "stream",
          "name": "stdout",
          "text": [
            "1\n",
            "12\n",
            "123\n",
            "1234\n",
            "12345\n"
          ]
        }
      ]
    },
    {
      "cell_type": "markdown",
      "source": [
        "###模範解答"
      ],
      "metadata": {
        "id": "UHhTGJYNIN5T"
      }
    },
    {
      "cell_type": "code",
      "source": [
        "# 連番数の出力\n",
        "n = 0                   # 値を入れる変数\n",
        "\n",
        "#### 以下に続きのプログラムを書きなさい ####\n",
        "for i in range(1, 6):   # iを1から5まで繰り返す\n",
        "    n = n * 10 + i      # nに10をかけてiを足してnに代入\n",
        "    print(n)\n"
      ],
      "metadata": {
        "colab": {
          "base_uri": "https://localhost:8080/"
        },
        "id": "k8JDGtIjvu8W",
        "outputId": "b4257d78-2ada-4e1f-fd39-77e0dc521adf"
      },
      "execution_count": null,
      "outputs": [
        {
          "output_type": "stream",
          "name": "stdout",
          "text": [
            "1\n",
            "12\n",
            "123\n",
            "1234\n",
            "12345\n"
          ]
        }
      ]
    }
  ]
}