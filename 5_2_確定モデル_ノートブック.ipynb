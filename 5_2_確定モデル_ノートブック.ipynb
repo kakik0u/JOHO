{
  "nbformat": 4,
  "nbformat_minor": 0,
  "metadata": {
    "colab": {
      "provenance": [],
      "include_colab_link": true
    },
    "kernelspec": {
      "name": "python3",
      "display_name": "Python 3"
    },
    "language_info": {
      "name": "python"
    }
  },
  "cells": [
    {
      "cell_type": "markdown",
      "metadata": {
        "id": "view-in-github",
        "colab_type": "text"
      },
      "source": [
        "<a href=\"https://colab.research.google.com/github/kakik0u/JOHO/blob/main/5_2_%E7%A2%BA%E5%AE%9A%E3%83%A2%E3%83%87%E3%83%AB_%E3%83%8E%E3%83%BC%E3%83%88%E3%83%96%E3%83%83%E3%82%AF.ipynb\" target=\"_parent\"><img src=\"https://colab.research.google.com/assets/colab-badge.svg\" alt=\"Open In Colab\"/></a>"
      ]
    },
    {
      "cell_type": "code",
      "execution_count": null,
      "metadata": {
        "id": "Y6BJFCXtt4N6"
      },
      "outputs": [],
      "source": [
        "# matplotlibを日本語化するためのライブラリをインストールします。\n",
        "# このファイルを開いたら、まずはこのコードセルを実行してください。\n",
        "# 今後「import japanize_matplotlib」の行でエラーが出たら、このコードセルを実行し直してください。\n",
        "!pip install japanize-matplotlib"
      ]
    },
    {
      "cell_type": "code",
      "source": [
        "# 実習1 複利法の数式モデル\n",
        "import matplotlib.pyplot as plt # matplotlib: グラフを表示するためのライブラリ\n",
        "import japanize_matplotlib      # japanize_matplotlib: matplotlibを日本語化するためのライブラリ\n",
        "\n",
        "amount = 10000    # 初期預金額\n",
        "rate = 0.05       # 利率\n",
        "years = 10        # 期間\n",
        "\n",
        "# 初期値（0年目）\n",
        "x = [0]           # リスト型変数xの0番目の要素に0\n",
        "y = [amount]      # リスト型変数yの0番目の要素に変数amount\n",
        "\n",
        "# 年ごとの残高を計算\n",
        "for i in range(years):\n",
        "    interest = int(amount * rate) # 利息 = 前年の金額 * 利率\n",
        "    amount = amount + interest  # 今年の金額 = 前年の金額 + 利息\n",
        "    x.append(i + 1)\n",
        "    y.append(amount)\n",
        "    print(i + 1, \"年目:\\t\", amount, \"円\")\n",
        "\n",
        "# グラフを描画\n",
        "plt.plot(x, y, marker=\"o\")\n",
        "plt.title(\"複利計算のグラフ\")\n",
        "plt.xlabel(\"年数\")\n",
        "plt.ylabel(\"残高\")\n",
        "plt.grid(True)\n",
        "\n",
        "plt.show()"
      ],
      "metadata": {
        "id": "IZZljrmypjKy"
      },
      "execution_count": null,
      "outputs": []
    },
    {
      "cell_type": "code",
      "source": [
        "# 実習2 人口予測モデル\n",
        "import matplotlib.pyplot as plt # matplotlib: グラフを表示するためのライブラリ\n",
        "import japanize_matplotlib      # japanize_matplotlib: matplotlibを日本語化するためのライブラリ\n",
        "\n",
        "n = 20  # 20年間のシミュレーション\n",
        "\n",
        "x = [0]\n",
        "y1 = [24] # リスト型変数y1: 年ごとのA市の人口のリスト（初期値24万人）\n",
        "y2 = [16] # リスト型変数y2: 年ごとのB市の人口のリスト（初期値16万人）\n",
        "rate1 = 0.01  # A市の人口増加率 1%\n",
        "rate2 = 0.05  # B市の人口増加率 5%\n",
        "\n",
        "for i in range(n):\n",
        "    x.append(i + 1)\n",
        "    y1.append(y1[len(y1) - 1] * (1 + rate1)) # A市の人口をy1に追加： y1[len(y1) - 1]は前年のA市の人口。\n",
        "    y2.append(y2[len(y2) - 1] * (1 + rate2)) # B市の人口をy2に追加： y2[len(y1) - 1]は前年のB市の人口。\n",
        "\n",
        "\n",
        "# グラフを描画\n",
        "plt.plot(x, y1, marker=\"o\", label=\"A市\")\n",
        "plt.plot(x, y2, marker=\"o\", label=\"B市\")\n",
        "plt.title(\"人口予測\")\n",
        "plt.xlabel(\"年数\")\n",
        "plt.ylabel(\"人口[万人]\")\n",
        "plt.grid(True)\n",
        "plt.legend()\n",
        "\n",
        "plt.show()"
      ],
      "metadata": {
        "id": "RGnEGnbjpqWk"
      },
      "execution_count": null,
      "outputs": []
    },
    {
      "cell_type": "code",
      "source": [
        "# 実習3 ロジスティック成長モデル\n",
        "import numpy as np  # numpyライブラリのインポート\n",
        "import matplotlib.pyplot as plt  # matplotlibのpyplotモジュールのインポート\n",
        "\n",
        "# パラメータ\n",
        "r = 0.01  # 増加率（1単位時間あたりの個体数の増加割合）\n",
        "K = 1000  # 環境収容力（環境が支えられる最大個体数）\n",
        "T = 1000  # シミュレーションの総時間（総ステップ数）\n",
        "N = 10    # 初期個体数\n",
        "\n",
        "# 時間と個体数の記録用のリスト\n",
        "times = [0]  # 時間の記録用リスト（初期値0）\n",
        "populations = [N]  # 個体数の記録用リスト（初期値N）\n",
        "\n",
        "# シミュレーションの実行\n",
        "for i in range(T):  # T回シミュレーションを実行\n",
        "    increase = N * r  # 個体数の増加分を計算\n",
        "    decrease = (N / K * r) * N # 個体数の減少分を計算\n",
        "    N = N + increase - decrease  # 個体数を更新（増加分 - 減少分）\n",
        "\n",
        "    times.append(i + 1)  # 時間のリストに新しい時間を追加\n",
        "    populations.append(N)  # 個体数のリストに新しい個体数を追加\n",
        "\n",
        "# 結果のプロット\n",
        "plt.figure(figsize=(10, 6))  # プロットのフィギュアのサイズを設定\n",
        "plt.plot(times, populations)  # 時間に対する個体数をプロット\n",
        "plt.xlabel(\"時間\")  # x軸のラベルを設定\n",
        "plt.ylabel(\"個体数\")  # y軸のラベルを設定\n",
        "plt.title(\"ロジスティック成長モデル\")  # プロットのタイトルを設定\n",
        "plt.grid(True)  # グリッドを表示\n",
        "\n",
        "plt.show()  # プロットを表示"
      ],
      "metadata": {
        "id": "Xj-7erQZpt_T"
      },
      "execution_count": null,
      "outputs": []
    },
    {
      "cell_type": "code",
      "source": [
        "# 実習4 疾病感染者数のシミュレーション\n",
        "import numpy as np\n",
        "import matplotlib.pyplot as plt\n",
        "import japanize_matplotlib\n",
        "\n",
        "# シミュレーションパラメータ\n",
        "beta = 0.3   # 伝染率\n",
        "gamma = 0.1  # 回復率\n",
        "T = 100       # シミュレーション期間\n",
        "dt = 0.1       # 時間間隔\n",
        "\n",
        "# 初期条件\n",
        "S = 0.99  # 未感染者の割合\n",
        "I = 0.01  # 感染者の割合\n",
        "R = 0.0   # 回復者の割合\n",
        "\n",
        "# 結果を保存するリスト。初期値を代入しておく。\n",
        "S_list = [S]\n",
        "I_list = [I]\n",
        "R_list = [R]\n",
        "t_list = [0]\n",
        "\n",
        "# シミュレーションの実行\n",
        "steps = int(T / dt)\n",
        "for i in range(steps):\n",
        "    dS = -beta * S * I * dt\n",
        "    dI = (beta * S * I - gamma * I) * dt\n",
        "    dR = gamma * I * dt\n",
        "\n",
        "    S = S + dS\n",
        "    I = I + dI\n",
        "    R = R + dR\n",
        "\n",
        "    S_list.append(S)\n",
        "    I_list.append(I)\n",
        "    R_list.append(R)\n",
        "    t_list.append((i + 1) * dt)\n",
        "\n",
        "# 結果のプロット\n",
        "plt.figure(figsize=(8, 5))\n",
        "plt.xlim(0,100)\n",
        "plt.ylim(0,1)\n",
        "plt.plot(t_list, S_list, label=\"$S$ (Susceptible) 感受性保持者\")\n",
        "plt.plot(t_list, I_list, label=\"$I$ (Infected) 感染者\")\n",
        "plt.plot(t_list, R_list, label=\"$R$ (Recovered) 免疫保持者\")\n",
        "plt.xlabel(\"時間[日]\")\n",
        "plt.ylabel(\"割合\")\n",
        "plt.legend()\n",
        "plt.title(\"SIRモデル（疾病感染者数のシミュレーション）\")\n",
        "plt.savefig(\"グラフ.png\", bbox_inches='tight', transparent=True)\n",
        "\n",
        "plt.show()"
      ],
      "metadata": {
        "id": "RtkBQkSmpxJR"
      },
      "execution_count": null,
      "outputs": []
    }
  ]
}