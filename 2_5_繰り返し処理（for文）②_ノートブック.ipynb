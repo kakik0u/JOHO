{
  "nbformat": 4,
  "nbformat_minor": 0,
  "metadata": {
    "colab": {
      "provenance": []
    },
    "kernelspec": {
      "name": "python3",
      "display_name": "Python 3"
    },
    "language_info": {
      "name": "python"
    }
  },
  "cells": [
    {
      "cell_type": "code",
      "execution_count": null,
      "metadata": {
        "id": "PLVGVI_ao6PT"
      },
      "outputs": [],
      "source": [
        "for i in range(10):\n",
        "    if i % 3 == 0:\n",
        "        print(i)"
      ]
    },
    {
      "cell_type": "code",
      "source": [
        "# 九九表\n",
        "for i in range(1, 10):\n",
        "    for j in range(1, 10):\n",
        "        if i * j < 10:       # 積が10未満の場合十の位を空欄にする ※1\n",
        "            print(\" \", end=\"\")    # ※2\n",
        "        print(i * j, end=\"␣\")\n",
        "    print()    # ※3"
      ],
      "metadata": {
        "id": "er7jRurVxZp4"
      },
      "execution_count": null,
      "outputs": []
    },
    {
      "cell_type": "code",
      "source": [
        "year = 2024\n",
        "\n",
        "is_leap_year = False  #閏年フラグ\n",
        "\n",
        "if year % 4 == 0: #① 4で割り切れれば閏年フラグをTrueに\n",
        "    is_leap_year = True\n",
        "\n",
        "if year % 100 == 0: #② 100で割り切れれば閏年フラグをFalseに\n",
        "    is_leap_year = False\n",
        "\n",
        "if year % 400 == 0: #③ 400で割り切れれば閏年フラグをTrueに\n",
        "    is_leap_year = True\n",
        "\n",
        "\n",
        "if is_leap_year == True:\n",
        "    print(year, \"年は、閏年です\")\n",
        "else:\n",
        "    print(year, \"年は、平年です\")"
      ],
      "metadata": {
        "id": "k01B4nM1xbNU"
      },
      "execution_count": null,
      "outputs": []
    }
  ]
}
