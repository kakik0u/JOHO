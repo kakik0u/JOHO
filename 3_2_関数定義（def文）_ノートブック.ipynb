{
  "nbformat": 4,
  "nbformat_minor": 0,
  "metadata": {
    "colab": {
      "provenance": []
    },
    "kernelspec": {
      "name": "python3",
      "display_name": "Python 3"
    },
    "language_info": {
      "name": "python"
    }
  },
  "cells": [
    {
      "cell_type": "code",
      "execution_count": 1,
      "metadata": {
        "id": "PLVGVI_ao6PT",
        "colab": {
          "base_uri": "https://localhost:8080/"
        },
        "outputId": "f9b40361-281a-4cfb-b830-740a39fb6cad"
      },
      "outputs": [
        {
          "output_type": "stream",
          "name": "stdout",
          "text": [
            "6.0\n"
          ]
        }
      ],
      "source": [
        "def triangle_area(base, height):\n",
        "    area = base * height / 2\n",
        "    return area\n",
        "\n",
        "area = triangle_area(3, 4)\n",
        "print(area)"
      ]
    },
    {
      "cell_type": "code",
      "source": [
        "def celsius_to_fahrenheit(x):\n",
        "    y = x * 9 / 5 + 32\n",
        "    return y\n",
        "\n",
        "celsius = float(input(\"セ氏温度 = \"))\n",
        "fahrenheit = celsius_to_fahrenheit(celsius)\n",
        "print(\"セ氏\", celsius, \"度 は、華氏\", fahrenheit, \"度 です。\")"
      ],
      "metadata": {
        "colab": {
          "base_uri": "https://localhost:8080/"
        },
        "id": "faqV5YrTzvoU",
        "outputId": "bd7769ae-3e61-470f-a2bd-5c7dc1ac7e5c"
      },
      "execution_count": 4,
      "outputs": [
        {
          "output_type": "stream",
          "name": "stdout",
          "text": [
            "セ氏温度 = 36.4\n",
            "セ氏 36.4 度 は、華氏 97.52 度 です。\n"
          ]
        }
      ]
    },
    {
      "cell_type": "code",
      "source": [
        "def quadratic_formula(a, b, c):\n",
        "    discriminant = b ** 2 - 4 * a * c\n",
        "\n",
        "    if discriminant < 0:\n",
        "        return False\n",
        "    elif discriminant == 0:\n",
        "        return -b / (2 * a)\n",
        "    else:\n",
        "        x1 = (-b - discriminant ** 0.5) / (2 * a)\n",
        "        x2 = (-b + discriminant ** 0.5) / (2 * a)\n",
        "        return [x1, x2]\n",
        "\n",
        "\n",
        "a = float(input('a = '))\n",
        "b = float(input('b = '))\n",
        "c = float(input('c = '))\n",
        "\n",
        "x = quadratic_formula(a, b, c)\n",
        "\n",
        "\n",
        "if x == False:\n",
        "    print(\"解なし\")\n",
        "elif type(x) == float:\n",
        "    print(\"x =\", x, \"（重解）\")\n",
        "else:\n",
        "    print(\"x =\", x[0], \", \", x[1])"
      ],
      "metadata": {
        "colab": {
          "base_uri": "https://localhost:8080/"
        },
        "id": "BsaKIiNCzxg3",
        "outputId": "1a403465-78fc-449c-9c66-8d34c0180fb2"
      },
      "execution_count": 5,
      "outputs": [
        {
          "output_type": "stream",
          "name": "stdout",
          "text": [
            "a = 1\n",
            "b = -5\n",
            "c = 6\n",
            "x = 2.0 ,  3.0\n"
          ]
        }
      ]
    },
    {
      "cell_type": "code",
      "source": [],
      "metadata": {
        "id": "oHcO8Ge10Es-"
      },
      "execution_count": null,
      "outputs": []
    }
  ]
}