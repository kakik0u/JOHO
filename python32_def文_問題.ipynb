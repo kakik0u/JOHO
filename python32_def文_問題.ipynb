{
  "nbformat": 4,
  "nbformat_minor": 0,
  "metadata": {
    "colab": {
      "provenance": [],
      "toc_visible": true
    },
    "kernelspec": {
      "name": "python3",
      "display_name": "Python 3"
    },
    "language_info": {
      "name": "python"
    }
  },
  "cells": [
    {
      "cell_type": "markdown",
      "source": [
        "#**3-2. 関数定義（def文） 問題**"
      ],
      "metadata": {
        "id": "x-AJvsoQRWrp"
      }
    },
    {
      "cell_type": "markdown",
      "source": [
        "#**問1 def文の基本**\n"
      ],
      "metadata": {
        "id": "xeppWUHnRceN"
      }
    },
    {
      "cell_type": "markdown",
      "source": [
        "##**(1) 三角形の面積**\n",
        "底辺`base`と高さ`height`の値から、三角形の面積を求めるユーザー定義関数`triangle_area`を作成しなさい。"
      ],
      "metadata": {
        "id": "fwrBZtexfrdQ"
      }
    },
    {
      "cell_type": "markdown",
      "source": [
        "###入力用"
      ],
      "metadata": {
        "id": "lDO-abpifs8C"
      }
    },
    {
      "cell_type": "code",
      "source": [
        "# 三角形の面積\n",
        "\n",
        "#### ここにプログラムを書きなさい ####\n",
        "def triangle_area(base, height):\n",
        "    area = base * height / 2\n",
        "    return area\n",
        "\n",
        "#### ここまで ####\n",
        "\n",
        "area = triangle_area(3, 4)\n",
        "print(area)"
      ],
      "metadata": {
        "colab": {
          "base_uri": "https://localhost:8080/"
        },
        "id": "ok_YjlZtfr7Q",
        "outputId": "699d0dee-ce99-4c77-a5ce-8d41673b10b3"
      },
      "execution_count": 1,
      "outputs": [
        {
          "output_type": "stream",
          "name": "stdout",
          "text": [
            "6.0\n"
          ]
        }
      ]
    },
    {
      "cell_type": "markdown",
      "source": [
        "###模範解答"
      ],
      "metadata": {
        "id": "XcHMNClBfsMu"
      }
    },
    {
      "cell_type": "code",
      "source": [
        "# 三角形の面積\n",
        "\n",
        "#### ここにプログラムを書きなさい ####\n",
        "def triangle_area(base, height):\n",
        "    area = base * height / 2\n",
        "    return area\n",
        "\n",
        "#### ここまで ####\n",
        "\n",
        "area = triangle_area(3, 4)\n",
        "print(area)"
      ],
      "metadata": {
        "id": "vp3Zq7_sfsVk"
      },
      "execution_count": null,
      "outputs": []
    },
    {
      "cell_type": "markdown",
      "source": [
        "---\n",
        "##**(2) ヘロンの公式**\n",
        "３辺の長さから三角形の面積を求めるプログラムを書きなさい。ただし、３辺の長さ`a`, `b`, `c`から半周長を求める関数`semi_perimeter`とヘロンの公式を用いて面積を求める関数`heron_area`を定義しなさい。\n",
        "\n",
        "関数`semi_perimeter`と関数`heron_area`の引数はいずれも`a, b, c`とすること。  \n",
        "\n",
        "- ヘロンの公式  \n",
        "  - ヘロンの公式は、半周長$s$を次のように表したとき、  \n",
        "    - 半周長 $s = \\frac{a+b+c}{2}$  \n",
        "  - 三角形の面積は次のように求めることができる。  \n",
        "    - 三角形の面積 $S = \\sqrt{s(s-a)(s-b)(s-c)}$\n",
        "  "
      ],
      "metadata": {
        "id": "aliJCfs4gmNg"
      }
    },
    {
      "cell_type": "markdown",
      "source": [
        "###入力用"
      ],
      "metadata": {
        "id": "fGHNzsAOgz2K"
      }
    },
    {
      "cell_type": "code",
      "source": [
        "# ヘロンの公式\n",
        "\n",
        "#### ここにプログラムを書きなさい ####\n",
        "def semi_perimeter(a, b, c):\n",
        "    return (a + b + c) / 2\n",
        "\n",
        "def heron_area(a, b, c):\n",
        "    s = semi_perimeter(a, b, c)\n",
        "    area = (s * (s-a) * (s-b) * (s-c))**0.5\n",
        "\n",
        "    return area\n",
        "#### ここまで ####\n",
        "\n",
        "a = 5\n",
        "b = 12\n",
        "c = 13\n",
        "\n",
        "print(\"半周長: \", semi_perimeter(a, b, c))\n",
        "print(\"面　積: \", heron_area(a, b, c))"
      ],
      "metadata": {
        "id": "4DiLq8Ssgz_y",
        "colab": {
          "base_uri": "https://localhost:8080/"
        },
        "outputId": "c7d08150-767a-4e7b-8b2c-4d48fdcc0f69"
      },
      "execution_count": 2,
      "outputs": [
        {
          "output_type": "stream",
          "name": "stdout",
          "text": [
            "半周長:  15.0\n",
            "面　積:  30.0\n"
          ]
        }
      ]
    },
    {
      "cell_type": "markdown",
      "source": [
        "###模範解答"
      ],
      "metadata": {
        "id": "VURYHjzLg0Ha"
      }
    },
    {
      "cell_type": "code",
      "source": [
        "# ヘロンの公式\n",
        "\n",
        "#### ここにプログラムを書きなさい ####\n",
        "def semi_perimeter(a, b, c):  # 半周長を求める関数\n",
        "    return (a + b + c) / 2\n",
        "\n",
        "def heron_area(a, b, c):      # ヘロンの公式で面積を求める関数\n",
        "    s = semi_perimeter(a, b, c)\n",
        "    area = (s * (s-a) * (s-b) * (s-c))**0.5\n",
        "\n",
        "    return area\n",
        "#### ここまで ####\n",
        "\n",
        "a = 5\n",
        "b = 12\n",
        "c = 13\n",
        "\n",
        "print(\"半周長: \", semi_perimeter(a, b, c))\n",
        "print(\"面　積: \", heron_area(a, b, c))"
      ],
      "metadata": {
        "colab": {
          "base_uri": "https://localhost:8080/"
        },
        "id": "47kgqj3kg0Om",
        "outputId": "7cb3e028-ec12-4cb3-f7bd-c4b563305317"
      },
      "execution_count": null,
      "outputs": [
        {
          "output_type": "stream",
          "name": "stdout",
          "text": [
            "半周長 15.0\n",
            "面　積 30.0\n"
          ]
        }
      ]
    },
    {
      "cell_type": "markdown",
      "source": [
        "---\n",
        "---\n",
        "#**問2 順列・組み合わせの総数**\n"
      ],
      "metadata": {
        "id": "7X9iN-tlubdJ"
      }
    },
    {
      "cell_type": "markdown",
      "source": [
        "##**(1) 階乗**\n",
        "階乗を求める関数`factorial`を定義して、ユーザーが入力した`n`の階乗を求めるプログラムを書きなさい。ただし、$n$の階乗は次式で示される。また、ユーザーの入力値のエラー回避は不要です。\n",
        "\n",
        "\\begin{equation}\n",
        "n! = n \\times (n-1) \\times (n-2) \\times \\cdots \\times 1\n",
        "\\end{equation}\n"
      ],
      "metadata": {
        "id": "5dSp1Toe7T9y"
      }
    },
    {
      "cell_type": "markdown",
      "source": [
        "###入力用"
      ],
      "metadata": {
        "id": "fJydvtRxv3ty"
      }
    },
    {
      "cell_type": "code",
      "source": [
        "# 階乗\n",
        "\n",
        "#### (1) 関数の定義 ####\n",
        "def factorial(n):\n",
        "    ans = 1\n",
        "    for i in range(1, n + 1):\n",
        "        ans = ans * i\n",
        "    return ans\n",
        "#### (1) ここまで ####\n",
        "\n",
        "print(\"自然数n を入力すると、nの階乗（n!）を求めます。\")\n",
        "n = int(input(\"n = \"))\n",
        "print(n, \"!\", \" = \", sep=\"\", end=\"\")   # 「n! = 」と出力する\n",
        "\n",
        "#### (2) 以下に続きのプログラムを書きなさい ####\n",
        "ans = factorial(n)\n",
        "print(ans)"
      ],
      "metadata": {
        "id": "sm4jzxF4v33c",
        "colab": {
          "base_uri": "https://localhost:8080/"
        },
        "outputId": "3a13566f-8a94-4d80-84d5-bcb5760c9b04"
      },
      "execution_count": 3,
      "outputs": [
        {
          "output_type": "stream",
          "name": "stdout",
          "text": [
            "自然数n を入力すると、nの階乗（n!）を求めます。\n",
            "n = 50\n",
            "50! = 30414093201713378043612608166064768844377641568960512000000000000\n"
          ]
        }
      ]
    },
    {
      "cell_type": "markdown",
      "source": [
        "####模範解答"
      ],
      "metadata": {
        "id": "8b10p7fGBapQ"
      }
    },
    {
      "cell_type": "code",
      "source": [
        "# 階乗\n",
        "\n",
        "#### (1) 関数の定義 ####\n",
        "def factorial(n):\n",
        "    ans = 1\n",
        "    for i in range(1, n + 1):\n",
        "        ans = ans * i\n",
        "    return ans\n",
        "#### (1) ここまで ####\n",
        "\n",
        "print(\"自然数n を入力すると、nの階乗（n!）を求めます。\")\n",
        "n = int(input(\"n = \"))\n",
        "print(n, \"!\", \" = \", sep=\"\", end=\"\")   # 「n! = 」と出力する\n",
        "\n",
        "#### (2) 以下に続きのプログラムを書きなさい ####\n",
        "ans = factorial(n)\n",
        "print(ans)\n",
        "\n"
      ],
      "metadata": {
        "colab": {
          "base_uri": "https://localhost:8080/"
        },
        "id": "klxUw5rNBazx",
        "outputId": "bdd7d205-e65a-46aa-dbce-b186a662eb4a"
      },
      "execution_count": null,
      "outputs": [
        {
          "output_type": "stream",
          "name": "stdout",
          "text": [
            "自然数n を入力すると、nの階乗（n!）を求めます。\n",
            "n = 5\n",
            "5! = 120\n"
          ]
        }
      ]
    },
    {
      "cell_type": "markdown",
      "source": [
        "##**(2) 順列の総数**\n",
        "順列の総数 $_nP_r$ を求める関数`permutation`を定義し、ユーザーが入力した`n`と`r`の値から順列の総数を求めるプログラムを書きなさい。関数`factorial`を用いても構わないが、その場合はこのコードセルにも記載すること。  \n",
        "\n",
        "$_nP_r$ は次式で示される。  \n",
        "\\begin{equation}\n",
        "{}_{n}P_{r} = \\frac{n!}{(n-r)!} = n \\times (n-1) \\times (n-2) \\times \\cdots \\times (n-r+1)\n",
        "\\end{equation}\n",
        "\n",
        "また、ユーザーの入力値のエラー回避は不要です。\n",
        "\n",
        "\n"
      ],
      "metadata": {
        "id": "85voV8zT7xa3"
      }
    },
    {
      "cell_type": "markdown",
      "source": [
        "###入力用"
      ],
      "metadata": {
        "id": "9Dz04tzb9PrL"
      }
    },
    {
      "cell_type": "code",
      "source": [
        "# 順列の総数②\n",
        "\n",
        "#### (1) 関数の定義 ####\n",
        "def factorial(n):\n",
        "    ans = 1\n",
        "    for i in range(1, n + 1):\n",
        "        ans = ans * i\n",
        "    return ans\n",
        "\n",
        "def permutation(n, r):\n",
        "    return factorial(n) // factorial(n - r)\n",
        "#### (1) ここまで ####\n",
        "\n",
        "print(\"自然数n, r (n ≧ r) を入力すると、その順列の総数（nPr）を求めます。\")\n",
        "n = int(input(\"n = \"))\n",
        "r = int(input(\"r = \"))\n",
        "print(n, \"P\", r, \" = \", sep=\"\", end=\"\")   # 「nPr = 」と出力する\n",
        "\n",
        "#### (2) 以下に続きのプログラムを書きなさい ####\n",
        "ans = permutation(n, r)\n",
        "print(ans)\n"
      ],
      "metadata": {
        "id": "S_kR_8Qq9Pya",
        "colab": {
          "base_uri": "https://localhost:8080/"
        },
        "outputId": "fbf12e7c-8077-4be5-e069-36dea5fdce53"
      },
      "execution_count": 4,
      "outputs": [
        {
          "output_type": "stream",
          "name": "stdout",
          "text": [
            "自然数n, r (n ≧ r) を入力すると、その順列の総数（nPr）を求めます。\n",
            "n = 10\n",
            "r = 6\n",
            "10P6 = 151200\n"
          ]
        }
      ]
    },
    {
      "cell_type": "markdown",
      "source": [
        "####模範解答"
      ],
      "metadata": {
        "id": "cUFef2g1Bd6q"
      }
    },
    {
      "cell_type": "code",
      "source": [
        "# 順列の総数②\n",
        "\n",
        "#### (1) 関数の定義 ####\n",
        "def factorial(n):\n",
        "    ans = 1\n",
        "    for i in range(1, n + 1):\n",
        "        ans = ans * i\n",
        "    return ans\n",
        "\n",
        "def permutation(n, r):\n",
        "    return factorial(n) // factorial(n - r)\n",
        "#### (1) ここまで ####\n",
        "\n",
        "print(\"自然数n, r (n ≧ r) を入力すると、その順列の総数（nPr）を求めます。\")\n",
        "n = int(input(\"n = \"))\n",
        "r = int(input(\"r = \"))\n",
        "print(n, \"P\", r, \" = \", sep=\"\", end=\"\")   # 「nPr = 」と出力する\n",
        "\n",
        "#### (2) 以下に続きのプログラムを書きなさい ####\n",
        "ans = permutation(n, r)\n",
        "print(ans)\n"
      ],
      "metadata": {
        "colab": {
          "base_uri": "https://localhost:8080/"
        },
        "id": "MB9TqKbWBeB5",
        "outputId": "166cb5e3-ebbf-4ae6-d13e-d13df076bf22"
      },
      "execution_count": null,
      "outputs": [
        {
          "output_type": "stream",
          "name": "stdout",
          "text": [
            "自然数n, r (n ≧ r) を入力すると、その順列の総数（nPr）を求めます。\n",
            "n = 6\n",
            "r = 4\n",
            "6P4 = 360\n"
          ]
        }
      ]
    },
    {
      "cell_type": "markdown",
      "source": [
        "##**(3) 組み合わせの総数**\n",
        "組み合わせの総数 $_nC_r$ を求める関数`combination`を定義し、ユーザーが入力した`n`と`r`の値から、をプログラムを書きなさい。関数`factorial`と関数`permutation`を用いても構わないが、その場合はこのコードセルにも記載すること。  \n",
        "ただし、$_nC_r$ は次式で示される。  \n",
        "\\begin{equation}\n",
        "    {}_{n}C_{r} = \\frac{{}_{n}P_{r}}{r!} = \\frac{n \\times (n-1) \\times (n-2) \\times \\cdots \\times (n-r+1)}{r \\times (r-1) \\times (r-2) \\times \\cdots \\times 1}\n",
        "\\end{equation}\n",
        "\n",
        "また、ユーザーの入力値のエラー回避は不要です。\n"
      ],
      "metadata": {
        "id": "1DWk1rct8T82"
      }
    },
    {
      "cell_type": "markdown",
      "source": [
        "###入力用"
      ],
      "metadata": {
        "id": "hQNVGScU9NCV"
      }
    },
    {
      "cell_type": "code",
      "source": [
        "# 組み合わせの総数\n",
        "\n",
        "#### (1) 関数の定義 ####\n",
        "def factorial(n):\n",
        "    ans = 1\n",
        "    for i in range(1, n + 1):\n",
        "        ans = ans * i\n",
        "    return ans\n",
        "\n",
        "def permutation(n, r):\n",
        "    return factorial(n) // factorial(n - r)\n",
        "\n",
        "def combination(n, r):\n",
        "    return permutation(n, r) // factorial(r)\n",
        "#### (1) ここまで ####\n",
        "\n",
        "print(\"自然数n, r (n ≧ r) を入力すると、その組み合わせの総数（nCr）を求めます。\")\n",
        "n = int(input(\"n = \"))\n",
        "r = int(input(\"r = \"))\n",
        "print(n, \"C\", r, \" = \", sep=\"\", end=\"\")   # 「nCr = 」と出力する\n",
        "\n",
        "#### (2) 以下に続きのプログラムを書きなさい ####\n",
        "ans = combination(n, r)\n",
        "print(ans)\n",
        "\n",
        "\n"
      ],
      "metadata": {
        "colab": {
          "base_uri": "https://localhost:8080/"
        },
        "id": "uaWcyQec9NOL",
        "outputId": "2d194a6e-ac13-4a5c-c455-29cca5ae4a47"
      },
      "execution_count": 5,
      "outputs": [
        {
          "output_type": "stream",
          "name": "stdout",
          "text": [
            "自然数n, r (n ≧ r) を入力すると、その組み合わせの総数（nCr）を求めます。\n",
            "n = 6\n",
            "r = 4\n",
            "6C4 = 15\n"
          ]
        }
      ]
    },
    {
      "cell_type": "markdown",
      "source": [
        "####模範解答"
      ],
      "metadata": {
        "id": "A27XTU2fBex4"
      }
    },
    {
      "cell_type": "markdown",
      "source": [
        "#####解答1"
      ],
      "metadata": {
        "id": "ECztAiDZzQr9"
      }
    },
    {
      "cell_type": "code",
      "source": [
        "# 組み合わせの総数(解答1)\n",
        "\n",
        "#### (1) 関数の定義 ####\n",
        "def factorial(n):\n",
        "    ans = 1\n",
        "    for i in range(1, n + 1):\n",
        "        ans = ans * i\n",
        "    return ans\n",
        "\n",
        "def permutation(n, r):\n",
        "    return factorial(n) // factorial(n - r)\n",
        "\n",
        "def combination(n, r):\n",
        "    return permutation(n, r) // factorial(r)\n",
        "#### (1) ここまで ####\n",
        "\n",
        "print(\"自然数n, r (n ≧ r) を入力すると、その組み合わせの総数（nCr）を求めます。\")\n",
        "n = int(input(\"n = \"))\n",
        "r = int(input(\"r = \"))\n",
        "print(n, \"C\", r, \" = \", sep=\"\", end=\"\")   # 「nCr = 」と出力する\n",
        "\n",
        "#### (2) 以下に続きのプログラムを書きなさい ####\n",
        "ans = combination(n, r)\n",
        "print(ans)\n",
        "\n"
      ],
      "metadata": {
        "colab": {
          "base_uri": "https://localhost:8080/"
        },
        "id": "MTP35Ic4Be6L",
        "outputId": "2e7146a5-1046-45e2-8699-0757f0b469ba"
      },
      "execution_count": null,
      "outputs": [
        {
          "output_type": "stream",
          "name": "stdout",
          "text": [
            "自然数n, r (n ≧ r) を入力すると、その組み合わせの総数（nCr）を求めます。\n",
            "n = 6\n",
            "r = 4\n",
            "6C4 = 15\n"
          ]
        }
      ]
    },
    {
      "cell_type": "markdown",
      "source": [
        "#####解答2"
      ],
      "metadata": {
        "id": "tiR_nynpzUcU"
      }
    },
    {
      "cell_type": "code",
      "source": [
        "# 組み合わせの総数(解答2)\n",
        "\n",
        "#### (1) 関数の定義 ####\n",
        "def factorial(n):\n",
        "    ans = 1\n",
        "    for i in range(1, n + 1):\n",
        "        ans = ans * i\n",
        "    return ans\n",
        "\n",
        "def combination(n, r):\n",
        "    return factorial(n) // (factorial(n - r) * factorial(r))\n",
        "#### (1) ここまで ####\n",
        "\n",
        "print(\"自然数n, r (n ≧ r) を入力すると、その組み合わせの総数（nCr）を求めます。\")\n",
        "n = int(input(\"n = \"))\n",
        "r = int(input(\"r = \"))\n",
        "print(n, \"C\", r, \" = \", sep=\"\", end=\"\")   # 「nCr = 」と出力する\n",
        "\n",
        "#### (2) 以下に続きのプログラムを書きなさい ####\n",
        "ans = combination(n, r)\n",
        "print(ans)\n",
        "\n"
      ],
      "metadata": {
        "colab": {
          "base_uri": "https://localhost:8080/"
        },
        "id": "SF3nRW3ozUl7",
        "outputId": "47d2a763-02d1-4308-b8fc-dcfdfa4b99d3"
      },
      "execution_count": null,
      "outputs": [
        {
          "output_type": "stream",
          "name": "stdout",
          "text": [
            "自然数n, r (n ≧ r) を入力すると、その組み合わせの総数（nCr）を求めます。\n",
            "n = 6\n",
            "r = 4\n",
            "6C4 = 15\n"
          ]
        }
      ]
    },
    {
      "cell_type": "markdown",
      "source": [
        "---\n",
        "---\n",
        "#**問3 同じ誕生日の二人組がいる確率**\n",
        "$n$人の中に同じ誕生日の二人組がいる確率を求める関数を定義し、$n$が2〜70人のときの確率をそれぞれ求めなさい。  \n",
        "ただし、閏年は考慮せず1年は365日であるとし、誕生日がどの日になる確率も$1/365$とする。  \n",
        "\n",
        "- 手順\n",
        "  - (1)  関数 birthday_probability を定義\n",
        "    - $n$人の中に同じ誕生日の二人組がいる確率を求める関数 birthday_probability を定義する。\n",
        "    - 引数はint型変数`n` とし、戻り値はfloat型変数の確率とする。\n",
        "\n",
        "  - (2) `n`を2〜70人に変えて、それぞれの確率を出力する\n",
        "    - `for i in range(...)`を使って、2〜70人のときの確率を出力する。\n",
        "\n",
        "\n",
        "- ヒント\n",
        " - （全員の誕生日がバラバラになる確率）  \n",
        "  $= （二人目が一人目と異なる確率） × （三人目が最初の二人と異なる確率）\n",
        "× ⋯ × （n 人目も異なる確率）$  \n",
        "  $=\\frac{364}{365} \\times \\frac{363}{365} \\times \\cdots \\times \\frac{365-n+1}{365}$\n",
        "\n",
        " - （同じ誕生日の2人組がいる確率）  \n",
        "   $=$ （全員の誕生日がバラバラになる確率の余事象）  \n",
        "   $= 1 - $（全員の誕生日がバラバラになる確率）  \n",
        "\n",
        "\n",
        "- 考察\n",
        "  - 確率が50%を超えるのは何人のときか。\n",
        "  - 40人いたら、何%の確率で誕生日が同じ人がいることになるか。\n",
        "  - 実際クラスの中に同じ誕生日の人はいますか？\n",
        "\n",
        "- 出力例（`print(人数, \"人の中に同じ誕生日の人がいる確率：\", 確率)`）\n",
        "```\n",
        "2 人の中に同じ誕生日の人がいる確率： 0.002739726027397249\n",
        "3 人の中に同じ誕生日の人がいる確率： 0.008204165884781456\n",
        "4 人の中に同じ誕生日の人がいる確率： 0.016355912466550326\n",
        "（中略）\n",
        "70 人の中に同じ誕生日の人がいる確率： 0.xxxxxxxx\n",
        "```"
      ],
      "metadata": {
        "id": "EpfzGgWEjbZy"
      }
    },
    {
      "cell_type": "markdown",
      "source": [
        "###入力用"
      ],
      "metadata": {
        "id": "aNwlS4XAmkgp"
      }
    },
    {
      "cell_type": "code",
      "source": [
        "# n人の中に同じ誕生日の二人組がいる確率\n",
        "\n",
        "#### (1) 関数birthday_probabilityの定義 ####\n",
        "def birthday_probability(n):\n",
        "    probability = 1\n",
        "    for i in range(n):\n",
        "        probability = probability * (365 - i) / 365\n",
        "    return 1 - probability\n",
        "#### (1) ここまで ####\n",
        "\n",
        "\n",
        "#### (2) 2〜70人の場合の出力 ####\n",
        "for i in range(2, 71):\n",
        "    print(i, \"人の中に同じ誕生日の人がいる確率：\", birthday_probability(i))\n",
        "#### (2) ここまで ####"
      ],
      "metadata": {
        "id": "Lu1B9rgPml_s",
        "colab": {
          "base_uri": "https://localhost:8080/"
        },
        "outputId": "d08807f6-e792-41a8-fc8c-60c0161e9aee"
      },
      "execution_count": 6,
      "outputs": [
        {
          "output_type": "stream",
          "name": "stdout",
          "text": [
            "2 人の中に同じ誕生日の人がいる確率： 0.002739726027397249\n",
            "3 人の中に同じ誕生日の人がいる確率： 0.008204165884781456\n",
            "4 人の中に同じ誕生日の人がいる確率： 0.016355912466550326\n",
            "5 人の中に同じ誕生日の人がいる確率： 0.02713557369979369\n",
            "6 人の中に同じ誕生日の人がいる確率： 0.04046248364911165\n",
            "7 人の中に同じ誕生日の人がいる確率： 0.05623570309597559\n",
            "8 人の中に同じ誕生日の人がいる確率： 0.07433529235166925\n",
            "9 人の中に同じ誕生日の人がいる確率： 0.09462383388916695\n",
            "10 人の中に同じ誕生日の人がいる確率： 0.1169481777110779\n",
            "11 人の中に同じ誕生日の人がいる確率： 0.14114137832173335\n",
            "12 人の中に同じ誕生日の人がいる確率： 0.1670247888380647\n",
            "13 人の中に同じ誕生日の人がいる確率： 0.19441027523242982\n",
            "14 人の中に同じ誕生日の人がいる確率： 0.22310251200497344\n",
            "15 人の中に同じ誕生日の人がいる確率： 0.2529013197636867\n",
            "16 人の中に同じ誕生日の人がいる確率： 0.28360400525285023\n",
            "17 人の中に同じ誕生日の人がいる確率： 0.3150076652965609\n",
            "18 人の中に同じ誕生日の人がいる確率： 0.3469114178717895\n",
            "19 人の中に同じ誕生日の人がいる確率： 0.37911852603153684\n",
            "20 人の中に同じ誕生日の人がいる確率： 0.41143838358058016\n",
            "21 人の中に同じ誕生日の人がいる確率： 0.4436883351652059\n",
            "22 人の中に同じ誕生日の人がいる確率： 0.4756953076625502\n",
            "23 人の中に同じ誕生日の人がいる確率： 0.5072972343239855\n",
            "24 人の中に同じ誕生日の人がいる確率： 0.5383442579145289\n",
            "25 人の中に同じ誕生日の人がいる確率： 0.568699703969464\n",
            "26 人の中に同じ誕生日の人がいる確率： 0.598240820135939\n",
            "27 人の中に同じ誕生日の人がいる確率： 0.6268592822632421\n",
            "28 人の中に同じ誕生日の人がいる確率： 0.6544614723423995\n",
            "29 人の中に同じ誕生日の人がいる確率： 0.680968537477777\n",
            "30 人の中に同じ誕生日の人がいる確率： 0.7063162427192686\n",
            "31 人の中に同じ誕生日の人がいる確率： 0.7304546337286438\n",
            "32 人の中に同じ誕生日の人がいる確率： 0.7533475278503207\n",
            "33 人の中に同じ誕生日の人がいる確率： 0.774971854175772\n",
            "34 人の中に同じ誕生日の人がいる確率： 0.7953168646201543\n",
            "35 人の中に同じ誕生日の人がいる確率： 0.8143832388747152\n",
            "36 人の中に同じ誕生日の人がいる確率： 0.8321821063798795\n",
            "37 人の中に同じ誕生日の人がいる確率： 0.8487340082163846\n",
            "38 人の中に同じ誕生日の人がいる確率： 0.8640678210821209\n",
            "39 人の中に同じ誕生日の人がいる確率： 0.878219664366722\n",
            "40 人の中に同じ誕生日の人がいる確率： 0.891231809817949\n",
            "41 人の中に同じ誕生日の人がいる確率： 0.9031516114817354\n",
            "42 人の中に同じ誕生日の人がいる確率： 0.9140304715618692\n",
            "43 人の中に同じ誕生日の人がいる確率： 0.9239228556561199\n",
            "44 人の中に同じ誕生日の人がいる確率： 0.9328853685514263\n",
            "45 人の中に同じ誕生日の人がいる確率： 0.9409758994657749\n",
            "46 人の中に同じ誕生日の人がいる確率： 0.9482528433672547\n",
            "47 人の中に同じ誕生日の人がいる確率： 0.9547744028332993\n",
            "48 人の中に同じ誕生日の人がいる確率： 0.9605979728794224\n",
            "49 人の中に同じ誕生日の人がいる確率： 0.9657796093226765\n",
            "50 人の中に同じ誕生日の人がいる確率： 0.9703735795779884\n",
            "51 人の中に同じ誕生日の人がいる確率： 0.9744319933344283\n",
            "52 人の中に同じ誕生日の人がいる確率： 0.9780045093342753\n",
            "53 人の中に同じ誕生日の人がいる確率： 0.9811381134839128\n",
            "54 人の中に同じ誕生日の人がいる確率： 0.9838769627588515\n",
            "55 人の中に同じ誕生日の人がいる確率： 0.9862622888164461\n",
            "56 人の中に同じ誕生日の人がいる確率： 0.9883323548852008\n",
            "57 人の中に同じ誕生日の人がいる確率： 0.9901224593411699\n",
            "58 人の中に同じ誕生日の人がいる確率： 0.9916649793892612\n",
            "59 人の中に同じ誕生日の人がいる確率： 0.992989448417817\n",
            "60 人の中に同じ誕生日の人がいる確率： 0.994122660865348\n",
            "61 人の中に同じ誕生日の人がいる確率： 0.9950887988052908\n",
            "62 人の中に同じ誕生日の人がいる確率： 0.9959095748953655\n",
            "63 人の中に同じ誕生日の人がいる確率： 0.9966043868309472\n",
            "64 人の中に同じ誕生日の人がいる確率： 0.9971904789669755\n",
            "65 人の中に同じ誕生日の人がいる確率： 0.9976831073124921\n",
            "66 人の中に同じ誕生日の人がいる確率： 0.9980957046404045\n",
            "67 人の中に同じ誕生日の人がいる確率： 0.9984400429793998\n",
            "68 人の中に同じ誕生日の人がいる確率： 0.9987263912544141\n",
            "69 人の中に同じ誕生日の人がいる確率： 0.9989636663083863\n",
            "70 人の中に同じ誕生日の人がいる確率： 0.9991595759651571\n"
          ]
        }
      ]
    },
    {
      "cell_type": "markdown",
      "source": [
        "###模範解答"
      ],
      "metadata": {
        "id": "UtsTL1NemmIB"
      }
    },
    {
      "cell_type": "code",
      "source": [
        "# n人の中に同じ誕生日の二人組がいる確率\n",
        "\n",
        "#### (1) 関数birthday_probabilityの定義 ####\n",
        "def birthday_probability(n):\n",
        "    probability = 1\n",
        "    for i in range(n):\n",
        "        probability = probability * (365 - i) / 365\n",
        "    return 1 - probability\n",
        "#### (1) ここまで ####\n",
        "\n",
        "\n",
        "#### (2) 2〜70人の場合の出力 ####\n",
        "for i in range(2, 71):\n",
        "    print(i, \"人の中に同じ誕生日の人がいる確率：\", birthday_probability(i))\n",
        "#### (2) ここまで ####"
      ],
      "metadata": {
        "colab": {
          "base_uri": "https://localhost:8080/"
        },
        "id": "S5erFWXba1Ly",
        "outputId": "263728a0-5a43-4194-9c12-dd49685486be"
      },
      "execution_count": null,
      "outputs": [
        {
          "output_type": "stream",
          "name": "stdout",
          "text": [
            "2 人の中に同じ誕生日の人がいる確率： 0.002739726027397249\n",
            "3 人の中に同じ誕生日の人がいる確率： 0.008204165884781456\n",
            "4 人の中に同じ誕生日の人がいる確率： 0.016355912466550326\n",
            "5 人の中に同じ誕生日の人がいる確率： 0.02713557369979369\n",
            "6 人の中に同じ誕生日の人がいる確率： 0.04046248364911165\n",
            "7 人の中に同じ誕生日の人がいる確率： 0.05623570309597559\n",
            "8 人の中に同じ誕生日の人がいる確率： 0.07433529235166925\n",
            "9 人の中に同じ誕生日の人がいる確率： 0.09462383388916695\n",
            "10 人の中に同じ誕生日の人がいる確率： 0.1169481777110779\n",
            "11 人の中に同じ誕生日の人がいる確率： 0.14114137832173335\n",
            "12 人の中に同じ誕生日の人がいる確率： 0.1670247888380647\n",
            "13 人の中に同じ誕生日の人がいる確率： 0.19441027523242982\n",
            "14 人の中に同じ誕生日の人がいる確率： 0.22310251200497344\n",
            "15 人の中に同じ誕生日の人がいる確率： 0.2529013197636867\n",
            "16 人の中に同じ誕生日の人がいる確率： 0.28360400525285023\n",
            "17 人の中に同じ誕生日の人がいる確率： 0.3150076652965609\n",
            "18 人の中に同じ誕生日の人がいる確率： 0.3469114178717895\n",
            "19 人の中に同じ誕生日の人がいる確率： 0.37911852603153684\n",
            "20 人の中に同じ誕生日の人がいる確率： 0.41143838358058016\n",
            "21 人の中に同じ誕生日の人がいる確率： 0.4436883351652059\n",
            "22 人の中に同じ誕生日の人がいる確率： 0.4756953076625502\n",
            "23 人の中に同じ誕生日の人がいる確率： 0.5072972343239855\n",
            "24 人の中に同じ誕生日の人がいる確率： 0.5383442579145289\n",
            "25 人の中に同じ誕生日の人がいる確率： 0.568699703969464\n",
            "26 人の中に同じ誕生日の人がいる確率： 0.598240820135939\n",
            "27 人の中に同じ誕生日の人がいる確率： 0.6268592822632421\n",
            "28 人の中に同じ誕生日の人がいる確率： 0.6544614723423995\n",
            "29 人の中に同じ誕生日の人がいる確率： 0.680968537477777\n",
            "30 人の中に同じ誕生日の人がいる確率： 0.7063162427192686\n",
            "31 人の中に同じ誕生日の人がいる確率： 0.7304546337286438\n",
            "32 人の中に同じ誕生日の人がいる確率： 0.7533475278503207\n",
            "33 人の中に同じ誕生日の人がいる確率： 0.774971854175772\n",
            "34 人の中に同じ誕生日の人がいる確率： 0.7953168646201543\n",
            "35 人の中に同じ誕生日の人がいる確率： 0.8143832388747152\n",
            "36 人の中に同じ誕生日の人がいる確率： 0.8321821063798795\n",
            "37 人の中に同じ誕生日の人がいる確率： 0.8487340082163846\n",
            "38 人の中に同じ誕生日の人がいる確率： 0.8640678210821209\n",
            "39 人の中に同じ誕生日の人がいる確率： 0.878219664366722\n",
            "40 人の中に同じ誕生日の人がいる確率： 0.891231809817949\n",
            "41 人の中に同じ誕生日の人がいる確率： 0.9031516114817354\n",
            "42 人の中に同じ誕生日の人がいる確率： 0.9140304715618692\n",
            "43 人の中に同じ誕生日の人がいる確率： 0.9239228556561199\n",
            "44 人の中に同じ誕生日の人がいる確率： 0.9328853685514263\n",
            "45 人の中に同じ誕生日の人がいる確率： 0.9409758994657749\n",
            "46 人の中に同じ誕生日の人がいる確率： 0.9482528433672547\n",
            "47 人の中に同じ誕生日の人がいる確率： 0.9547744028332993\n",
            "48 人の中に同じ誕生日の人がいる確率： 0.9605979728794224\n",
            "49 人の中に同じ誕生日の人がいる確率： 0.9657796093226765\n",
            "50 人の中に同じ誕生日の人がいる確率： 0.9703735795779884\n",
            "51 人の中に同じ誕生日の人がいる確率： 0.9744319933344283\n",
            "52 人の中に同じ誕生日の人がいる確率： 0.9780045093342753\n",
            "53 人の中に同じ誕生日の人がいる確率： 0.9811381134839128\n",
            "54 人の中に同じ誕生日の人がいる確率： 0.9838769627588515\n",
            "55 人の中に同じ誕生日の人がいる確率： 0.9862622888164461\n",
            "56 人の中に同じ誕生日の人がいる確率： 0.9883323548852008\n",
            "57 人の中に同じ誕生日の人がいる確率： 0.9901224593411699\n",
            "58 人の中に同じ誕生日の人がいる確率： 0.9916649793892612\n",
            "59 人の中に同じ誕生日の人がいる確率： 0.992989448417817\n",
            "60 人の中に同じ誕生日の人がいる確率： 0.994122660865348\n",
            "61 人の中に同じ誕生日の人がいる確率： 0.9950887988052908\n",
            "62 人の中に同じ誕生日の人がいる確率： 0.9959095748953655\n",
            "63 人の中に同じ誕生日の人がいる確率： 0.9966043868309472\n",
            "64 人の中に同じ誕生日の人がいる確率： 0.9971904789669755\n",
            "65 人の中に同じ誕生日の人がいる確率： 0.9976831073124921\n",
            "66 人の中に同じ誕生日の人がいる確率： 0.9980957046404045\n",
            "67 人の中に同じ誕生日の人がいる確率： 0.9984400429793998\n",
            "68 人の中に同じ誕生日の人がいる確率： 0.9987263912544141\n",
            "69 人の中に同じ誕生日の人がいる確率： 0.9989636663083863\n",
            "70 人の中に同じ誕生日の人がいる確率： 0.9991595759651571\n"
          ]
        }
      ]
    },
    {
      "cell_type": "markdown",
      "source": [
        "---\n",
        "---\n",
        "#**問4 素数リスト**\n",
        "2から100までの素数をリスト型変数prime_listに格納するプログラムを書きなさい。\n",
        "- (1) 素数判定関数`is_prime`の定義\n",
        "  - 関数`is_prime`を次のように定義する。\n",
        "  - 引数にint型変数`num`とリスト型変数`prime_list`を受け取る。\n",
        "  - `num`が`prime_list`内の数値で割りきれるかどうかをチェックし、割り切れるなら`num`は素数ではないので、関数は`False`を返す。\n",
        "  - `num`が`prime_list`内のすべての数値で割りきれなかった場合、`num`は素数なので、関数は`True`を返す。\n",
        "\n",
        "- (2) 素数の探索\n",
        "  - `prime_list`の初期値は最初の素数`2`を含んで、`prime_list = [2]`(要素数が1つのリスト)とする。\n",
        "  - 3から100までの各奇数について、`for i in range(...)`でループし、関数`is_prime`を呼び出し、`i`が素数なら`prime_list`に追加する。\n"
      ],
      "metadata": {
        "id": "MoTa4TfusGc1"
      }
    },
    {
      "cell_type": "markdown",
      "source": [
        "###入力用"
      ],
      "metadata": {
        "id": "_RrJ7dYg1o9X"
      }
    },
    {
      "cell_type": "code",
      "source": [
        "# 素数のリスト\n",
        "\n",
        "#### (1) 関数is_primeの定義 ####\n",
        "def is_prime(num, prime_list):\n",
        "    for p in prime_list:\n",
        "        if num % p == 0:\n",
        "            return False\n",
        "    return True\n",
        "#### (1) ここまで ####\n",
        "\n",
        "#### (2) 素数の探索 ####\n",
        "prime_list = [2]    #prine_listの初期値\n",
        "\n",
        "for i in range(3, 101, 2):\n",
        "    if is_prime(i, prime_list) == True:\n",
        "        prime_list.append(i)\n",
        "\n",
        "#### (2) ここまで #####\n",
        "print(prime_list)   #prime_listを画面出力"
      ],
      "metadata": {
        "id": "ZedSDGca1pSe",
        "colab": {
          "base_uri": "https://localhost:8080/"
        },
        "outputId": "0d342eca-7796-4c86-8584-1c76ac0aced0"
      },
      "execution_count": 7,
      "outputs": [
        {
          "output_type": "stream",
          "name": "stdout",
          "text": [
            "[2, 3, 5, 7, 11, 13, 17, 19, 23, 29, 31, 37, 41, 43, 47, 53, 59, 61, 67, 71, 73, 79, 83, 89, 97]\n"
          ]
        }
      ]
    },
    {
      "cell_type": "markdown",
      "source": [
        "###模範解答"
      ],
      "metadata": {
        "id": "yWSpxwxz1pk7"
      }
    },
    {
      "cell_type": "code",
      "source": [
        "# 素数のリスト\n",
        "\n",
        "#### (1) 関数is_primeの定義 ####\n",
        "def is_prime(num, prime_list):\n",
        "    for p in prime_list:\n",
        "        if num % p == 0:\n",
        "            return False\n",
        "    return True\n",
        "#### (1) ここまで ####\n",
        "\n",
        "#### (2) 素数の探索 ####\n",
        "prime_list = [2]    #prine_listの初期値\n",
        "\n",
        "for i in range(3, 101, 2):\n",
        "    if is_prime(i, prime_list) == True:\n",
        "        prime_list.append(i)\n",
        "\n",
        "#### (2) ここまで #####\n",
        "print(prime_list)   #prime_listを画面出力"
      ],
      "metadata": {
        "colab": {
          "base_uri": "https://localhost:8080/"
        },
        "id": "rcaU3Dl1sPJo",
        "outputId": "5852cfdd-e225-499e-ec71-f9750bd86be6"
      },
      "execution_count": null,
      "outputs": [
        {
          "output_type": "stream",
          "name": "stdout",
          "text": [
            "[2, 3, 5, 7, 11, 13, 17, 19, 23, 29, 31, 37, 41, 43, 47, 53, 59, 61, 67, 71, 73, 79, 83, 89, 97]\n"
          ]
        }
      ]
    }
  ]
}