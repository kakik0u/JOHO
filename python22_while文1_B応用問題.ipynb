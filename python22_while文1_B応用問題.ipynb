{
  "nbformat": 4,
  "nbformat_minor": 0,
  "metadata": {
    "colab": {
      "provenance": [],
      "toc_visible": true
    },
    "kernelspec": {
      "name": "python3",
      "display_name": "Python 3"
    },
    "language_info": {
      "name": "python"
    }
  },
  "cells": [
    {
      "cell_type": "markdown",
      "source": [
        "#**2-2. 繰り返し（while文）①** 応用問題\n",
        "\n"
      ],
      "metadata": {
        "id": "IP7oTrdRnssM"
      }
    },
    {
      "cell_type": "markdown",
      "source": [
        "#**問1 whileの基本**"
      ],
      "metadata": {
        "id": "kRMRKdTsFLO8"
      }
    },
    {
      "cell_type": "markdown",
      "source": [
        "---\n",
        "##**(1) 1000未満の平方数の最大値**\n",
        "1000未満の平方数の最大値を求めよ。"
      ],
      "metadata": {
        "id": "QoTVAvF-HMP9"
      }
    },
    {
      "cell_type": "markdown",
      "source": [
        "###入力用"
      ],
      "metadata": {
        "id": "y70WKJU9rQ-1"
      }
    },
    {
      "cell_type": "code",
      "source": [
        "# 1000未満の平方数の最大値\n",
        "n = 1\n",
        "\n",
        "### 続きのプログラムを書きなさい ###\n",
        "while n ** 2 <= 1000:\n",
        "    n = n + 1\n",
        "print((n-1) ** 2)"
      ],
      "metadata": {
        "id": "SW3A9X14rUaq",
        "colab": {
          "base_uri": "https://localhost:8080/"
        },
        "outputId": "8a08f32b-474a-49b5-93f8-f3e3dd526018"
      },
      "execution_count": null,
      "outputs": [
        {
          "output_type": "stream",
          "name": "stdout",
          "text": [
            "961\n"
          ]
        }
      ]
    },
    {
      "cell_type": "markdown",
      "source": [
        "###模範解答"
      ],
      "metadata": {
        "id": "fQIs7_b-rNZK"
      }
    },
    {
      "cell_type": "code",
      "source": [
        "# 1000未満の平方数の最大値\n",
        "n = 1\n",
        "\n",
        "### 続きのプログラムを書きなさい ###\n",
        "while n ** 2 <= 1000:\n",
        "    n = n + 1\n",
        "\n",
        "print((n-1) ** 2)   # n**2が1000を超えたところでループが終了するので、その1つ前のものを表示する"
      ],
      "metadata": {
        "colab": {
          "base_uri": "https://localhost:8080/"
        },
        "id": "eVBi4i5wHMaF",
        "outputId": "6197e4c2-bf9f-406f-d1f2-ef7baa42b813"
      },
      "execution_count": null,
      "outputs": [
        {
          "output_type": "stream",
          "name": "stdout",
          "text": [
            "961\n"
          ]
        }
      ]
    },
    {
      "cell_type": "code",
      "source": [],
      "metadata": {
        "id": "Zcg0mw6wrmoZ"
      },
      "execution_count": null,
      "outputs": []
    },
    {
      "cell_type": "markdown",
      "source": [
        "---\n",
        "##**(2)「7の倍数」かつ「5で割ると1余る」最小の自然数**\n",
        "「7の倍数」かつ「5で割ると1余る」最小の自然数を求めよ。"
      ],
      "metadata": {
        "id": "q-E02AlONcS_"
      }
    },
    {
      "cell_type": "markdown",
      "source": [
        "###入力用"
      ],
      "metadata": {
        "id": "sHxrXCNQrpNY"
      }
    },
    {
      "cell_type": "code",
      "source": [
        "# 「7の倍数」かつ「5で割ると1余る」最小の自然数\n",
        "n = 1\n",
        "\n",
        "### 続きのプログラムを書きなさい ###\n",
        "while n % 7 != 0 or n % 5 != 1:\n",
        "    n = n + 1\n",
        "print(n)\n"
      ],
      "metadata": {
        "id": "2pQ2RfXBrqrH",
        "colab": {
          "base_uri": "https://localhost:8080/"
        },
        "outputId": "f1484b4a-bccc-4a5b-8fe4-08f87c1cae84"
      },
      "execution_count": null,
      "outputs": [
        {
          "output_type": "stream",
          "name": "stdout",
          "text": [
            "21\n"
          ]
        }
      ]
    },
    {
      "cell_type": "markdown",
      "source": [
        "###模範解答"
      ],
      "metadata": {
        "id": "t6P1rReOrrLs"
      }
    },
    {
      "cell_type": "markdown",
      "source": [
        "####解答1"
      ],
      "metadata": {
        "id": "A1caHLK5rsgB"
      }
    },
    {
      "cell_type": "code",
      "source": [
        "# 「7の倍数」かつ「5で割ると1余る」最小の自然数\n",
        "n = 1\n",
        "\n",
        "### 続きのプログラムを書きなさい ###\n",
        "while n % 7 != 0 or n % 5 != 1:\n",
        "    n = n + 1\n",
        "print(n)"
      ],
      "metadata": {
        "colab": {
          "base_uri": "https://localhost:8080/"
        },
        "id": "0UpVNFkQNcbl",
        "outputId": "de6005d9-82e4-4c8a-fb68-5bf9cc2987f5"
      },
      "execution_count": null,
      "outputs": [
        {
          "output_type": "stream",
          "name": "stdout",
          "text": [
            "21\n"
          ]
        }
      ]
    },
    {
      "cell_type": "markdown",
      "source": [
        "####解答2"
      ],
      "metadata": {
        "id": "grpFOCr5rt-l"
      }
    },
    {
      "cell_type": "code",
      "source": [
        "# 「7の倍数」かつ「5で割ると1余る」最小の自然数\n",
        "n = 1\n",
        "\n",
        "### 続きのプログラムを書きなさい ###\n",
        "while not(n % 7 == 0 and n % 5 == 1):\n",
        "    n = n + 1\n",
        "print(n)"
      ],
      "metadata": {
        "colab": {
          "base_uri": "https://localhost:8080/"
        },
        "id": "yoORuWbqZfGr",
        "outputId": "36f267e3-e588-4a04-98e1-c0add85511d4"
      },
      "execution_count": null,
      "outputs": [
        {
          "output_type": "stream",
          "name": "stdout",
          "text": [
            "21\n"
          ]
        }
      ]
    },
    {
      "cell_type": "markdown",
      "source": [
        "####解答3"
      ],
      "metadata": {
        "id": "vGfWf-Z6rxCs"
      }
    },
    {
      "cell_type": "code",
      "source": [
        "# 「7の倍数」かつ「5で割ると1余る」最小の自然数\n",
        "n = 7\n",
        "\n",
        "### 続きのプログラムを書きなさい ###\n",
        "while n % 5 != 1:\n",
        "    n = n + 7\n",
        "print(n)"
      ],
      "metadata": {
        "colab": {
          "base_uri": "https://localhost:8080/"
        },
        "id": "nGChQH5hrxKw",
        "outputId": "a92534e1-80e8-4429-9059-4677d5231f14"
      },
      "execution_count": null,
      "outputs": [
        {
          "output_type": "stream",
          "name": "stdout",
          "text": [
            "21\n"
          ]
        }
      ]
    },
    {
      "cell_type": "markdown",
      "source": [
        "---\n",
        "##**(3) 整数値を下位から1桁ずつ逆順に出力（位の出力あり）**\n",
        "ユーザーが入力した整数を1桁ずつ逆順に表示するプログラムを書きなさい。  \n",
        "ただし、ユーザーによる入力値のエラー回避は不要です。\n",
        "\n",
        "```\n",
        "数字を入力してください: 12345\n",
        "1 の位 5\n",
        "10 の位 4\n",
        "100 の位 3\n",
        "1000 の位 2\n",
        "10000 の位 1\n",
        "```"
      ],
      "metadata": {
        "id": "1MH9KNcYeKH2"
      }
    },
    {
      "cell_type": "markdown",
      "source": [
        "### 入力用"
      ],
      "metadata": {
        "id": "WSRvq6AijhQI"
      }
    },
    {
      "cell_type": "code",
      "source": [
        "n = int(input(\"数字を入力してください: \"))\n",
        "digit = 1       # digit: 桁\n",
        "\n",
        "### 続きのプログラムを書きなさい ###\n",
        "\n",
        "while n > 0:\n",
        "    print(digit, \"の位\", n % 10)\n",
        "    n = n // 10\n",
        "    digit = digit * 10"
      ],
      "metadata": {
        "id": "ebcVjBzyjhg7",
        "colab": {
          "base_uri": "https://localhost:8080/"
        },
        "outputId": "529d16ec-5f4d-42ec-c80d-82067fd97364"
      },
      "execution_count": null,
      "outputs": [
        {
          "output_type": "stream",
          "name": "stdout",
          "text": [
            "数字を入力してください: 1234\n",
            "1 の位 4\n",
            "10 の位 3\n",
            "100 の位 2\n",
            "1000 の位 1\n"
          ]
        }
      ]
    },
    {
      "cell_type": "markdown",
      "source": [
        "### 模範解答"
      ],
      "metadata": {
        "id": "M8wNXbkYjhtI"
      }
    },
    {
      "cell_type": "code",
      "source": [
        "n = int(input(\"数字を入力してください: \"))\n",
        "digit = 1       # digit: 桁\n",
        "\n",
        "### 続きのプログラムを書きなさい ###\n",
        "while n > 0:\n",
        "    print(digit, \"の位\", n % 10)\n",
        "    n = n // 10\n",
        "    digit = digit * 10"
      ],
      "metadata": {
        "colab": {
          "base_uri": "https://localhost:8080/"
        },
        "id": "SWbUuJRGeKQd",
        "outputId": "4cc5bd6c-eefa-446b-992e-b6427562319f"
      },
      "execution_count": null,
      "outputs": [
        {
          "output_type": "stream",
          "name": "stdout",
          "text": [
            "数字を入力してください12345\n",
            "1 の位 5\n",
            "10 の位 4\n",
            "100 の位 3\n",
            "1000 の位 2\n",
            "10000 の位 1\n"
          ]
        }
      ]
    },
    {
      "cell_type": "markdown",
      "source": [
        "---\n",
        "##**(4) 数値を逆順に変換**\n",
        "例えば「12345」と入力したら、「54321」という数値に変換して出力する。  \n",
        "ただし、ユーザーによる入力値のエラー回避は不要です。\n",
        "\n",
        "```\n",
        "数字を入力してください: 1234\n",
        "4321\n",
        "```"
      ],
      "metadata": {
        "id": "o9QVnaSIRkjO"
      }
    },
    {
      "cell_type": "markdown",
      "source": [
        "### 入力用"
      ],
      "metadata": {
        "id": "BHIv987RjnU-"
      }
    },
    {
      "cell_type": "code",
      "source": [
        "# 数値を桁に分解\n",
        "n = int(input(\"数字を入力してください: \"))\n",
        "m = 0       # 変換後の数値\n",
        "\n",
        "### 続きのプログラムを書きなさい ###\n",
        "\n",
        "while n > 0:\n",
        "    m = m * 10 + n % 10\n",
        "    n = n // 10\n",
        "print(m)"
      ],
      "metadata": {
        "id": "EUyc_id4jndE",
        "colab": {
          "base_uri": "https://localhost:8080/"
        },
        "outputId": "0d4869fe-a325-4833-f50e-d5a83f7cfec7"
      },
      "execution_count": null,
      "outputs": [
        {
          "output_type": "stream",
          "name": "stdout",
          "text": [
            "数字を入力してください: 1234\n",
            "4321\n"
          ]
        }
      ]
    },
    {
      "cell_type": "markdown",
      "source": [
        "### 模範解答"
      ],
      "metadata": {
        "id": "OqCVhjsxjnkd"
      }
    },
    {
      "cell_type": "code",
      "source": [
        "# 数値を桁に分解\n",
        "n = int(input(\"数字を入力してください: \"))\n",
        "m = 0       # 変換後の数値\n",
        "\n",
        "### 続きのプログラムを書きなさい ###\n",
        "while n > 0:\n",
        "    m = m * 10 + n % 10\n",
        "    n = n // 10\n",
        "print(m)"
      ],
      "metadata": {
        "colab": {
          "base_uri": "https://localhost:8080/"
        },
        "id": "JIUu4UfPRkrd",
        "outputId": "8e7f4f27-071a-4975-9a74-b4161bab5acb"
      },
      "execution_count": null,
      "outputs": [
        {
          "output_type": "stream",
          "name": "stdout",
          "text": [
            "数字を入力してください: 1234\n",
            "4321\n"
          ]
        }
      ]
    },
    {
      "cell_type": "markdown",
      "source": [
        "---\n",
        "---\n",
        "#**問2 10進数から2進数の変換**\n",
        "10進数の自然数を2進数に変換するプログラムを書きなさい。  \n",
        "ただし、ユーザーの入力値のエラー回避は不要です。\n",
        "\n",
        "<details>\n",
        "  <summary>ヒント</summary>\n",
        "変数binaryは2進数の結果を格納する文字列型変数（str型変数）です。<br>\n",
        "文字列どうしの結合は、「文字列1 + 文字列2」のように書きます。<br>\n",
        "このとき、数字を文字列と結合する場合は、数字を文字列に変換してから結合します。<br>\n",
        "「str(数値) + 文字列」または「文字列 + str(数値)」<br>\n",
        "</details>\n",
        "\n",
        "\n"
      ],
      "metadata": {
        "id": "rcMUZ_aqOQYq"
      }
    },
    {
      "cell_type": "markdown",
      "source": [
        "###入力用（フリー）"
      ],
      "metadata": {
        "id": "s7nSN3aPtw8S"
      }
    },
    {
      "cell_type": "code",
      "source": [
        "# 10進数の自然数を2進数に変換\n",
        "decimal = int(input(\"自然数を入力してください： \"))  # 変換したい10進数を入力する\n",
        "binary = \"\"  # 2進数の結果を格納する変数(str型)\n",
        "\n",
        "#### 続きのプログラムを書きなさい ####\n",
        "while decimal > 0:                      # decimalが0より大きいあいだ繰り返す\n",
        "    remainder = decimal % 2             # 2で割った余りをremainderに代入\n",
        "    binary = str(remainder) + binary    # 余りを結果の先頭に追加\n",
        "    decimal = decimal // 2\n",
        "\n",
        "#### プログラムを書くのはここまで ####\n",
        "print(binary)   #binaryを出力する"
      ],
      "metadata": {
        "id": "oCrqDu6Lt1UP",
        "colab": {
          "base_uri": "https://localhost:8080/"
        },
        "outputId": "ed3246a9-a8ac-406f-a329-60e8740e69af"
      },
      "execution_count": null,
      "outputs": [
        {
          "output_type": "stream",
          "name": "stdout",
          "text": [
            "自然数を入力してください： 1234\n",
            "10011010010\n"
          ]
        }
      ]
    },
    {
      "cell_type": "markdown",
      "source": [
        "###入力用（穴埋め）\n",
        "入力用（フリー）が難しい人は、穴埋め式で考えてみましょう。  \n",
        "以下に難易度別に穴埋めを用意したので、難しい人は、より下の穴埋め式で考えましょう。"
      ],
      "metadata": {
        "id": "U_DDnC4vvGCm"
      }
    },
    {
      "cell_type": "markdown",
      "source": [
        "####入力用（穴埋め）難易度：★★★  \n",
        "{...}を置き換える（カッコも不要）。"
      ],
      "metadata": {
        "id": "oJNA3teAxL9n"
      }
    },
    {
      "cell_type": "code",
      "source": [
        "# 10進数の自然数を2進数に変換\n",
        "decimal = int(input(\"自然数を入力してください： \"))  # 変換したい10進数を入力する\n",
        "binary = \"\"  # 2進数の結果を格納する変数(str型)\n",
        "\n",
        "#### 続きのプログラムを書きなさい ####\n",
        "while {_条件式_}:\n",
        "    remainder = {_式_}    # remainder: 2で割った余り\n",
        "    {_式_}\n",
        "    {_式_}\n",
        "\n",
        "#### プログラムを書くのはここまで ####\n",
        "print(binary)   #binaryを出力する"
      ],
      "metadata": {
        "id": "ylHhEDpdvwaT"
      },
      "execution_count": null,
      "outputs": []
    },
    {
      "cell_type": "markdown",
      "source": [
        "####入力用（穴埋め）難易度：★★☆  \n",
        "{...}を置き換える（カッコも不要）。"
      ],
      "metadata": {
        "id": "hVwV9qfRv7la"
      }
    },
    {
      "cell_type": "code",
      "source": [
        "# 10進数の自然数を2進数に変換\n",
        "decimal = int(input(\"自然数を入力してください： \"))  # 変換したい10進数を入力する\n",
        "binary = \"\"  # 2進数の結果を格納する変数(str型)\n",
        "\n",
        "#### 続きのプログラムを書きなさい ####\n",
        "while {_条件式_}:\n",
        "    remainder = {_式_}    # remainder: 2で割った余り\n",
        "    binary = {_式_}\n",
        "    decimal = {_式_}\n",
        "\n",
        "#### プログラムを書くのはここまで ####\n",
        "print(binary)   #binaryを出力する"
      ],
      "metadata": {
        "id": "uYa1H6EYwEI0"
      },
      "execution_count": null,
      "outputs": []
    },
    {
      "cell_type": "markdown",
      "source": [
        "####入力用（穴埋め）難易度：★☆☆  \n",
        "{...}を置き換える（カッコも不要）。"
      ],
      "metadata": {
        "id": "e68GCS72wETO"
      }
    },
    {
      "cell_type": "code",
      "source": [
        "# 10進数の自然数を2進数に変換\n",
        "decimal = int(input(\"自然数を入力してください： \"))  # 変換したい10進数を入力する\n",
        "binary = \"\"  # 2進数の結果を格納する変数(str型)\n",
        "\n",
        "#### 続きのプログラムを書きなさい ####\n",
        "while {_条件式_}:\n",
        "    remainder = {_式_}    # remainder: 2で割った余り\n",
        "    binary = {_式_}       # 余り(remainder)を結果の先頭に追加\n",
        "    decimal = {_式_}      # 次のループのためにdecimalを設定\n",
        "\n",
        "#### プログラムを書くのはここまで ####\n",
        "print(binary)   #binaryを出力する"
      ],
      "metadata": {
        "id": "TCtmSaCRvIJf"
      },
      "execution_count": null,
      "outputs": []
    },
    {
      "cell_type": "markdown",
      "source": [
        "####入力用（穴埋め）難易度：☆☆☆  \n",
        "{...}を置き換える（カッコも不要）。"
      ],
      "metadata": {
        "id": "wZCirRErwZQE"
      }
    },
    {
      "cell_type": "code",
      "source": [
        "# 10進数の自然数を2進数に変換\n",
        "decimal = int(input(\"自然数を入力してください： \"))  # 変換したい10進数を入力する\n",
        "binary = \"\"  # 2進数の結果を格納する変数(str型)\n",
        "\n",
        "#### 続きのプログラムを書きなさい ####\n",
        "while decimal > 0:                   # decimalが0より大きいあいだ繰り返す\n",
        "    remainder = {_変数_} % 2          # 2で割った余りをremainderに代入\n",
        "    binary = str({_変数_}) + binary   # 余りを文字列に変換して、結果の先頭に追加\n",
        "    decimal = {_式_}                  # decimalを2で割った商をdecimalに代入\n",
        "\n",
        "#### プログラムを書くのはここまで ####\n",
        "print(binary)   #binaryはstr型の変数で、２進数を文字列として格納する。"
      ],
      "metadata": {
        "id": "v7dTCwGUwZYJ"
      },
      "execution_count": null,
      "outputs": []
    },
    {
      "cell_type": "markdown",
      "source": [
        "###模範解答"
      ],
      "metadata": {
        "id": "R0brqhVRt1aR"
      }
    },
    {
      "cell_type": "code",
      "source": [
        "# 10進数の自然数を2進数に変換\n",
        "decimal = int(input(\"自然数を入力してください： \"))  # 変換したい10進数を入力する\n",
        "binary = \"\"  # 2進数の結果を格納する変数(str型)\n",
        "\n",
        "#### 続きのプログラムを書きなさい ####\n",
        "while decimal > 0:                      # decimalが0より大きいあいだ繰り返す\n",
        "    remainder = decimal % 2             # 2で割った余りをremainderに代入\n",
        "    binary = str(remainder) + binary    # 余りを結果の先頭に追加\n",
        "    decimal = decimal // 2              # decimalを2で割った商をdecimalに代入\n",
        "\n",
        "#### プログラムを書くのはここまで ####\n",
        "print(binary)   #binaryはstr型の変数で、２進数を文字列として格納する。"
      ],
      "metadata": {
        "colab": {
          "base_uri": "https://localhost:8080/"
        },
        "id": "oCfEc1-ROlE-",
        "outputId": "89d7d7a4-839f-44e6-b8d6-7007518f404d"
      },
      "execution_count": null,
      "outputs": [
        {
          "output_type": "stream",
          "name": "stdout",
          "text": [
            "自然数を入力してください：20\n",
            "10100\n"
          ]
        }
      ]
    },
    {
      "cell_type": "markdown",
      "source": [
        "---\n",
        "---\n",
        "#**問3 ユークリッドの互除法**\n",
        "**ユークリッドの互除法**を用いて、自然数*a*, *b* (*a* ≧ *b*) を入力すると、その最大公約数を求めるプログラムを書きなさい。  \n",
        "ただし、ユーザーの入力値のエラー回避は不要です。  \n",
        "\n",
        ">**ユークリッドの互除法**  \n",
        ">2 つの自然数 *a*, *b* (*a* ≧ *b*) について、*a* の *b* による剰余を *r* とすると、 *a* と *b* との最大公約数は *b* と *r* との最大公約数に等しいという性質が成り立つ。  \n",
        ">この性質を利用して、 *b* を *r* で割った剰余、 除数 *r* をその剰余で割った剰余を求める計算を逐次繰り返すと、剰余が 0 になった時の除数が *a* と *b* との最大公約数となる。  \n",
        ">明示的に記述された最古のアルゴリズムとしても知られ、紀元前300年頃に記されたユークリッドの『原論』第 7 巻、命題 1 から 3 がそれである。  \n",
        ">  \n",
        ">(例) 1071 と 1029 の最大公約数を求める。  \n",
        "* 1071 を 1029 で割った余りは 42  \n",
        "* 1029 を 42 で割った余りは 21  \n",
        "* 42 を 21 で割った余りは 0  \n",
        "よって、最大公約数は21である。  \n",
        ">[Wikipedia ユークリッドの互除法](https://ja.wikipedia.org/wiki/%E3%83%A6%E3%83%BC%E3%82%AF%E3%83%AA%E3%83%83%E3%83%89%E3%81%AE%E4%BA%92%E9%99%A4%E6%B3%95) より\n",
        "\n",
        "\n",
        "入出力の例\n",
        "```\n",
        "自然数a, b (a ≧ b) を入力すると、その最大公約数を求めます。\n",
        "自然数 a = 1071\n",
        "自然数 b = 1029\n",
        "最大公約数は 21\n",
        "```\n",
        "\n"
      ],
      "metadata": {
        "id": "A1C-0m6ZiFk3"
      }
    },
    {
      "cell_type": "markdown",
      "source": [
        "###入力用（フリー）"
      ],
      "metadata": {
        "id": "7xK7dyAhxeYi"
      }
    },
    {
      "cell_type": "code",
      "source": [
        "# ユークリッドの互除法\n",
        "print(\"自然数a, b (a ≧ b) を入力すると、その最大公約数を求めます。\")\n",
        "a = int(input(\"自然数 a = \"))\n",
        "b = int(input(\"自然数 b = \"))\n",
        "\n",
        "#### 以下に続きのプログラムを書きなさい ####\n",
        "\n",
        "while b > 0:\n",
        "    r = a % b\n",
        "    a = b\n",
        "    b = r\n",
        "print(\"最大公約数は\", a)"
      ],
      "metadata": {
        "id": "YSid5k9Sxhjq",
        "colab": {
          "base_uri": "https://localhost:8080/"
        },
        "outputId": "2faee668-f9e9-42ba-8253-1f6c6c74439a"
      },
      "execution_count": null,
      "outputs": [
        {
          "output_type": "stream",
          "name": "stdout",
          "text": [
            "自然数a, b (a ≧ b) を入力すると、その最大公約数を求めます。\n",
            "自然数 a = 3\n",
            "自然数 b = 5\n",
            "最大公約数は 1\n",
            "最大公約数は 1\n"
          ]
        }
      ]
    },
    {
      "cell_type": "markdown",
      "source": [
        "###入力用（穴埋め）"
      ],
      "metadata": {
        "id": "x5KQ2I0Dxh1E"
      }
    },
    {
      "cell_type": "code",
      "source": [
        "# ユークリッドの互除法\n",
        "print(\"自然数a, b (a ≧ b) を入力すると、その最大公約数を求めます。\")\n",
        "a = int(input(\"自然数 a = \"))\n",
        "b = int(input(\"自然数 b = \"))\n",
        "\n",
        "#### 以下に続きのプログラムを書きなさい ####\n",
        "while {_条件式_}:\n",
        "    r = {_式_}      # rは余り\n",
        "    {_式_}\n",
        "    {_式_}\n",
        "\n",
        "print(\"最大公約数は\", {_変数_})"
      ],
      "metadata": {
        "id": "3-RFR-90xiMx",
        "colab": {
          "base_uri": "https://localhost:8080/",
          "height": 391
        },
        "outputId": "cb5dbbdf-5c76-48ac-a5c3-44bd99293206"
      },
      "execution_count": null,
      "outputs": [
        {
          "name": "stdout",
          "output_type": "stream",
          "text": [
            "自然数a, b (a ≧ b) を入力すると、その最大公約数を求めます。\n",
            "自然数 a = 1234\n"
          ]
        },
        {
          "output_type": "error",
          "ename": "KeyboardInterrupt",
          "evalue": "Interrupted by user",
          "traceback": [
            "\u001b[0;31m---------------------------------------------------------------------------\u001b[0m",
            "\u001b[0;31mKeyboardInterrupt\u001b[0m                         Traceback (most recent call last)",
            "\u001b[0;32m<ipython-input-1-016248669e61>\u001b[0m in \u001b[0;36m<cell line: 4>\u001b[0;34m()\u001b[0m\n\u001b[1;32m      2\u001b[0m \u001b[0mprint\u001b[0m\u001b[0;34m(\u001b[0m\u001b[0;34m\"自然数a, b (a ≧ b) を入力すると、その最大公約数を求めます。\"\u001b[0m\u001b[0;34m)\u001b[0m\u001b[0;34m\u001b[0m\u001b[0;34m\u001b[0m\u001b[0m\n\u001b[1;32m      3\u001b[0m \u001b[0ma\u001b[0m \u001b[0;34m=\u001b[0m \u001b[0mint\u001b[0m\u001b[0;34m(\u001b[0m\u001b[0minput\u001b[0m\u001b[0;34m(\u001b[0m\u001b[0;34m\"自然数 a = \"\u001b[0m\u001b[0;34m)\u001b[0m\u001b[0;34m)\u001b[0m\u001b[0;34m\u001b[0m\u001b[0;34m\u001b[0m\u001b[0m\n\u001b[0;32m----> 4\u001b[0;31m \u001b[0mb\u001b[0m \u001b[0;34m=\u001b[0m \u001b[0mint\u001b[0m\u001b[0;34m(\u001b[0m\u001b[0minput\u001b[0m\u001b[0;34m(\u001b[0m\u001b[0;34m\"自然数 b = \"\u001b[0m\u001b[0;34m)\u001b[0m\u001b[0;34m)\u001b[0m\u001b[0;34m\u001b[0m\u001b[0;34m\u001b[0m\u001b[0m\n\u001b[0m\u001b[1;32m      5\u001b[0m \u001b[0;34m\u001b[0m\u001b[0m\n\u001b[1;32m      6\u001b[0m \u001b[0;31m#### 以下に続きのプログラムを書きなさい ####\u001b[0m\u001b[0;34m\u001b[0m\u001b[0;34m\u001b[0m\u001b[0m\n",
            "\u001b[0;32m/usr/local/lib/python3.10/dist-packages/ipykernel/kernelbase.py\u001b[0m in \u001b[0;36mraw_input\u001b[0;34m(self, prompt)\u001b[0m\n\u001b[1;32m    849\u001b[0m                 \u001b[0;34m\"raw_input was called, but this frontend does not support input requests.\"\u001b[0m\u001b[0;34m\u001b[0m\u001b[0;34m\u001b[0m\u001b[0m\n\u001b[1;32m    850\u001b[0m             )\n\u001b[0;32m--> 851\u001b[0;31m         return self._input_request(str(prompt),\n\u001b[0m\u001b[1;32m    852\u001b[0m             \u001b[0mself\u001b[0m\u001b[0;34m.\u001b[0m\u001b[0m_parent_ident\u001b[0m\u001b[0;34m,\u001b[0m\u001b[0;34m\u001b[0m\u001b[0;34m\u001b[0m\u001b[0m\n\u001b[1;32m    853\u001b[0m             \u001b[0mself\u001b[0m\u001b[0;34m.\u001b[0m\u001b[0m_parent_header\u001b[0m\u001b[0;34m,\u001b[0m\u001b[0;34m\u001b[0m\u001b[0;34m\u001b[0m\u001b[0m\n",
            "\u001b[0;32m/usr/local/lib/python3.10/dist-packages/ipykernel/kernelbase.py\u001b[0m in \u001b[0;36m_input_request\u001b[0;34m(self, prompt, ident, parent, password)\u001b[0m\n\u001b[1;32m    893\u001b[0m             \u001b[0;32mexcept\u001b[0m \u001b[0mKeyboardInterrupt\u001b[0m\u001b[0;34m:\u001b[0m\u001b[0;34m\u001b[0m\u001b[0;34m\u001b[0m\u001b[0m\n\u001b[1;32m    894\u001b[0m                 \u001b[0;31m# re-raise KeyboardInterrupt, to truncate traceback\u001b[0m\u001b[0;34m\u001b[0m\u001b[0;34m\u001b[0m\u001b[0m\n\u001b[0;32m--> 895\u001b[0;31m                 \u001b[0;32mraise\u001b[0m \u001b[0mKeyboardInterrupt\u001b[0m\u001b[0;34m(\u001b[0m\u001b[0;34m\"Interrupted by user\"\u001b[0m\u001b[0;34m)\u001b[0m \u001b[0;32mfrom\u001b[0m \u001b[0;32mNone\u001b[0m\u001b[0;34m\u001b[0m\u001b[0;34m\u001b[0m\u001b[0m\n\u001b[0m\u001b[1;32m    896\u001b[0m             \u001b[0;32mexcept\u001b[0m \u001b[0mException\u001b[0m \u001b[0;32mas\u001b[0m \u001b[0me\u001b[0m\u001b[0;34m:\u001b[0m\u001b[0;34m\u001b[0m\u001b[0;34m\u001b[0m\u001b[0m\n\u001b[1;32m    897\u001b[0m                 \u001b[0mself\u001b[0m\u001b[0;34m.\u001b[0m\u001b[0mlog\u001b[0m\u001b[0;34m.\u001b[0m\u001b[0mwarning\u001b[0m\u001b[0;34m(\u001b[0m\u001b[0;34m\"Invalid Message:\"\u001b[0m\u001b[0;34m,\u001b[0m \u001b[0mexc_info\u001b[0m\u001b[0;34m=\u001b[0m\u001b[0;32mTrue\u001b[0m\u001b[0;34m)\u001b[0m\u001b[0;34m\u001b[0m\u001b[0;34m\u001b[0m\u001b[0m\n",
            "\u001b[0;31mKeyboardInterrupt\u001b[0m: Interrupted by user"
          ]
        }
      ]
    },
    {
      "cell_type": "markdown",
      "source": [
        "###模範解答"
      ],
      "metadata": {
        "id": "AL_bthr5xl85"
      }
    },
    {
      "cell_type": "markdown",
      "source": [
        "####解答1"
      ],
      "metadata": {
        "id": "ERxLYFKjxnQv"
      }
    },
    {
      "cell_type": "code",
      "source": [
        "# ユークリッドの互除法\n",
        "print(\"自然数a, b (a ≧ b) を入力すると、その最大公約数を求めます。\")\n",
        "a = int(input(\"自然数 a = \"))\n",
        "b = int(input(\"自然数 b = \"))\n",
        "\n",
        "#### 以下に続きのプログラムを書きなさい ####\n",
        "while b > 0:    # bが0になるまでループする（「b != 0」でも可）。\n",
        "    r = a % b   # aをbで割った余りをrに代入\n",
        "    a = b       # bの値をaに代入\n",
        "    b = r       # r（余り）の値をbに代入\n",
        "\n",
        "print(\"最大公約数は\", a)"
      ],
      "metadata": {
        "colab": {
          "base_uri": "https://localhost:8080/"
        },
        "id": "3z69iIZLiJZp",
        "outputId": "22e6cd45-d576-43ac-ad35-10e78c1ce781"
      },
      "execution_count": null,
      "outputs": [
        {
          "output_type": "stream",
          "name": "stdout",
          "text": [
            "自然数a, b (a ≧ b) を入力すると、その最大公約数を求めます。\n",
            "自然数 a = 1071\n",
            "自然数 b = 1029\n",
            "最大公約数は 21\n"
          ]
        }
      ]
    },
    {
      "cell_type": "markdown",
      "source": [
        "####解答2\n",
        "次のように、bの値をいったん別の変数(tmp)に入れておき、bにaをbで割った余り、aにtmpを代入することでも書けますが、解答1のように余りを入れておく変数を用意した方が理解しやすいでしょう。"
      ],
      "metadata": {
        "id": "y_V3h9TAxrMT"
      }
    },
    {
      "cell_type": "code",
      "source": [
        "# ユークリッドの互除法\n",
        "print(\"自然数a, b (a ≧ b) を入力すると、その最大公約数を求めます。\")\n",
        "a = int(input(\"自然数 a = \"))\n",
        "b = int(input(\"自然数 b = \"))\n",
        "\n",
        "#### 以下に続きのプログラムを書きなさい ####\n",
        "while b > 0:    # bが0になるまでループする（「b != 0」でも可）。\n",
        "    tmp = b     # tmpにbを代入\n",
        "    b = a % b   # bにa÷bの余りを代入（bの値が書き換わる）\n",
        "    a = tmp     # aにtmpを代入\n",
        "\n",
        "print(\"最大公約数は\", a)"
      ],
      "metadata": {
        "colab": {
          "base_uri": "https://localhost:8080/"
        },
        "id": "hQFdOSB0VMTN",
        "outputId": "e813ddc1-1fd5-4a8d-cec6-423edf56cd98"
      },
      "execution_count": null,
      "outputs": [
        {
          "output_type": "stream",
          "name": "stdout",
          "text": [
            "自然数a, b (a ≧ b) を入力すると、その最大公約数を求めます。\n",
            "自然数 a = 1071\n",
            "自然数 b = 1029\n",
            "最大公約数は 21\n"
          ]
        }
      ]
    }
  ]
}
