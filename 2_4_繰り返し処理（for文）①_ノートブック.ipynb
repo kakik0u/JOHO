{
  "nbformat": 4,
  "nbformat_minor": 0,
  "metadata": {
    "colab": {
      "provenance": []
    },
    "kernelspec": {
      "name": "python3",
      "display_name": "Python 3"
    },
    "language_info": {
      "name": "python"
    }
  },
  "cells": [
    {
      "cell_type": "code",
      "execution_count": 2,
      "metadata": {
        "id": "PLVGVI_ao6PT",
        "colab": {
          "base_uri": "https://localhost:8080/"
        },
        "outputId": "b8b094b7-9df1-453b-87d1-774a0fedc82d"
      },
      "outputs": [
        {
          "output_type": "stream",
          "name": "stdout",
          "text": [
            "0\n",
            "1\n",
            "2\n",
            "3\n",
            "4\n"
          ]
        }
      ],
      "source": [
        "for i in range(5):\n",
        "    print(i)\n"
      ]
    },
    {
      "cell_type": "code",
      "source": [
        "for i in range(11):\n",
        "    print(i, end=\" \")  # ※1"
      ],
      "metadata": {
        "colab": {
          "base_uri": "https://localhost:8080/"
        },
        "id": "vn2gV0IktJPX",
        "outputId": "3e599221-a8fe-4214-84dc-5b7d9668d717"
      },
      "execution_count": 3,
      "outputs": [
        {
          "output_type": "stream",
          "name": "stdout",
          "text": [
            "0 1 2 3 4 5 6 7 8 9 10 "
          ]
        }
      ]
    },
    {
      "cell_type": "code",
      "source": [
        "for i in range(5):\n",
        "    print(i, end=\" \")"
      ],
      "metadata": {
        "colab": {
          "base_uri": "https://localhost:8080/"
        },
        "id": "aDRapKaPtK2N",
        "outputId": "bf78a0f7-56f2-4055-f22f-fd974e7c6aff"
      },
      "execution_count": 4,
      "outputs": [
        {
          "output_type": "stream",
          "name": "stdout",
          "text": [
            "0 1 2 3 4 "
          ]
        }
      ]
    },
    {
      "cell_type": "code",
      "source": [
        "for i in range(10, 20, 3):\n",
        "    print(i, end=\" \")"
      ],
      "metadata": {
        "colab": {
          "base_uri": "https://localhost:8080/"
        },
        "id": "EF2GHijCtMVP",
        "outputId": "651a1f9e-882d-4ff4-f2c4-c9893dcd1223"
      },
      "execution_count": 5,
      "outputs": [
        {
          "output_type": "stream",
          "name": "stdout",
          "text": [
            "10 13 16 19 "
          ]
        }
      ]
    },
    {
      "cell_type": "code",
      "source": [
        "for i in range(5, -1, -1):\n",
        "    print(i, end=\" \")"
      ],
      "metadata": {
        "colab": {
          "base_uri": "https://localhost:8080/"
        },
        "id": "29jBbvYstNpG",
        "outputId": "f8c3c789-ef2e-456c-f6bf-07aac645ec22"
      },
      "execution_count": 6,
      "outputs": [
        {
          "output_type": "stream",
          "name": "stdout",
          "text": [
            "5 4 3 2 1 0 "
          ]
        }
      ]
    },
    {
      "cell_type": "code",
      "source": [
        "sum = 0     # 和を入れておく変数\n",
        "\n",
        "for i in range(1, 11):   # 1〜10を順に i に代入する\n",
        "    sum = sum + i       # sumに i を加えて sum に代入する（for文の中なのでインデントを１つ下げる）\n",
        "\n",
        "print(sum)           # sumを出力する（for文の外なので、インデントを戻す）"
      ],
      "metadata": {
        "colab": {
          "base_uri": "https://localhost:8080/"
        },
        "id": "9sSulyURtPap",
        "outputId": "38f566b1-d14b-441d-fd1d-2cc4e18cbcc0"
      },
      "execution_count": 7,
      "outputs": [
        {
          "output_type": "stream",
          "name": "stdout",
          "text": [
            "55\n"
          ]
        }
      ]
    },
    {
      "cell_type": "code",
      "source": [
        "s = \"\"              # 文字列変数 *を格納する。初期値は空文字。\n",
        "\n",
        "for i in range(5):  # 5回繰り返す\n",
        "    s = s + \"*\"     # sに*を１つ結合する\n",
        "    print(s)        # sを出力\n",
        ""
      ],
      "metadata": {
        "colab": {
          "base_uri": "https://localhost:8080/"
        },
        "id": "FslWsOFstRCh",
        "outputId": "f5d4dcd4-cfda-43e1-a630-988f99644b3f"
      },
      "execution_count": 1,
      "outputs": [
        {
          "output_type": "stream",
          "name": "stdout",
          "text": [
            "*\n",
            "**\n",
            "***\n",
            "****\n",
            "*****\n"
          ]
        }
      ]
    }
  ]
}