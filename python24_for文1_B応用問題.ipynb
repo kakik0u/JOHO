{
  "nbformat": 4,
  "nbformat_minor": 0,
  "metadata": {
    "colab": {
      "provenance": []
    },
    "kernelspec": {
      "name": "python3",
      "display_name": "Python 3"
    },
    "language_info": {
      "name": "python"
    }
  },
  "cells": [
    {
      "cell_type": "markdown",
      "source": [
        "#**2-4. 繰り返し（for文）②** 応用問題\n",
        "\n"
      ],
      "metadata": {
        "id": "wjzI1JYFgMw7"
      }
    },
    {
      "cell_type": "markdown",
      "source": [
        "#**問1 順列の総数** $_nP_r$\n",
        "2つの自然数 $n$, $r$（$n \\geqq r$）を入力すると、その順列（ $n$ 個の中から $r$ 個を取り出して並べる方法）の総数を求めるプログラムを書きなさい。  \n",
        "\n",
        "ただし、$_nP_r$ は、  \n",
        "$_nP_r = n \\times (n-1) \\times (n-2) \\times \\cdots \\times (n-r+1)$  \n",
        "のように、$n$ から $(n-r+1)$ までの自然数（計 $r$ 個）の積で表される。  \n",
        "また、ユーザーの入力値のエラー回避は不要です。"
      ],
      "metadata": {
        "id": "RY29DE0wuCsg"
      }
    },
    {
      "cell_type": "markdown",
      "source": [
        "###入力用"
      ],
      "metadata": {
        "id": "VJV82UkZI0U8"
      }
    },
    {
      "cell_type": "code",
      "source": [
        "#順列nPrを求める\n",
        "print(\"自然数n, r (n ≧ r) を入力すると、その順列の総数（nPr）を求めます。\")\n",
        "n = int(input(\"n = \"))\n",
        "r = int(input(\"r = \"))\n",
        "print(n, \"P\", r, \" = \", sep=\"\", end=\"\")\n",
        "ans = 1 # 求める答を代入する変数。初期値は1。\n",
        "\n",
        "#### 以下に続きのプログラムを書きなさい ####\n",
        "\n",
        "for i in range(r):\n",
        "    ans = ans * (n - i)\n",
        "#### ここまで ####\n",
        "\n",
        "print(ans)\n"
      ],
      "metadata": {
        "id": "BwHkP4j6I0dt",
        "colab": {
          "base_uri": "https://localhost:8080/"
        },
        "outputId": "cfb37ab5-41e6-449b-ea54-b60b0c8531c8"
      },
      "execution_count": 1,
      "outputs": [
        {
          "output_type": "stream",
          "name": "stdout",
          "text": [
            "自然数n, r (n ≧ r) を入力すると、その順列の総数（nPr）を求めます。\n",
            "n = 1\n",
            "r = 1\n",
            "1P1 = 1\n"
          ]
        }
      ]
    },
    {
      "cell_type": "markdown",
      "source": [
        "###模範解答"
      ],
      "metadata": {
        "id": "8PCKn7nDI0qW"
      }
    },
    {
      "cell_type": "markdown",
      "source": [
        "####解法1"
      ],
      "metadata": {
        "id": "BQdYpAc3I6d3"
      }
    },
    {
      "cell_type": "code",
      "source": [
        "#順列nPrを求める（解法1）\n",
        "print(\"自然数n, r (n ≧ r) を入力すると、その順列の総数（nPr）を求めます。\")\n",
        "n = int(input(\"n = \"))\n",
        "r = int(input(\"r = \"))\n",
        "print(n, \"P\", r, \" = \", sep=\"\", end=\"\")\n",
        "ans = 1 # 求める答を代入する変数。初期値は1。\n",
        "\n",
        "#### 以下に続きのプログラムを書きなさい ####\n",
        "for i in range(r):  # iの値を0からr-1まで、1ずつ増やしていく\n",
        "    ans = ans * (n - i)\n",
        "\n",
        "#### ここまで ####\n",
        "print(ans)\n"
      ],
      "metadata": {
        "colab": {
          "base_uri": "https://localhost:8080/"
        },
        "id": "2-RKwpdMuFPU",
        "outputId": "9b862688-246f-4c61-b70e-27fbc3c33ccd"
      },
      "execution_count": null,
      "outputs": [
        {
          "output_type": "stream",
          "name": "stdout",
          "text": [
            "自然数n, r (n ≧ r) を入力すると、その順列の総数（nPr）を求めます。\n",
            "n = 4\n",
            "r = 3\n",
            "4P3 = 24\n"
          ]
        }
      ]
    },
    {
      "cell_type": "markdown",
      "source": [
        "####解法2"
      ],
      "metadata": {
        "id": "rUiktnDsI9Dx"
      }
    },
    {
      "cell_type": "code",
      "source": [
        "#順列nPrを求める（解法２）\n",
        "print(\"自然数n, r (n ≧ r) を入力すると、その順列の総数（nPr）を求めます。\")\n",
        "n = int(input(\"n = \"))\n",
        "r = int(input(\"r = \"))\n",
        "print(n, \"P\", r, \" = \", sep=\"\", end=\"\")\n",
        "ans = 1 # 求める答を代入する変数。初期値は1。\n",
        "\n",
        "#### 以下に続きのプログラムを書きなさい ####\n",
        "for i in range(n-r+1, n+1): # iの値をn-r+1からnまで、1ずつ増やしていく\n",
        "    ans = ans * i\n",
        "\n",
        "#### ここまで ####\n",
        "print(ans)\n"
      ],
      "metadata": {
        "colab": {
          "base_uri": "https://localhost:8080/"
        },
        "id": "8mtTKkOSuGtl",
        "outputId": "1be2254d-bddb-4d98-d8f2-2fa6ea2db66c"
      },
      "execution_count": null,
      "outputs": [
        {
          "output_type": "stream",
          "name": "stdout",
          "text": [
            "自然数n, r (n ≧ r) を入力すると、その順列の総数（nPr）を求めます。\n",
            "自然数 n = 5\n",
            "自然数 r = 3\n",
            "5P3 = 60\n"
          ]
        }
      ]
    },
    {
      "cell_type": "markdown",
      "source": [
        "####解法3"
      ],
      "metadata": {
        "id": "5gYT0EXMI96L"
      }
    },
    {
      "cell_type": "code",
      "source": [
        "#順列nPrを求める（解法3）\n",
        "print(\"自然数n, r (n ≧ r) を入力すると、その順列の総数（nPr）を求めます。\")\n",
        "n = int(input(\"n = \"))\n",
        "r = int(input(\"r = \"))\n",
        "print(n, \"P\", r, \" = \", sep=\"\", end=\"\")\n",
        "ans = 1 # 求める答を代入する変数。初期値は1。\n",
        "\n",
        "#### 以下に続きのプログラムを書きなさい ####\n",
        "for i in range(n, n-r, -1): # iの値をnからn-r+1まで、1ずつ減らしていく\n",
        "    ans = ans * i\n",
        "\n",
        "#### ここまで ####\n",
        "print(ans)\n"
      ],
      "metadata": {
        "colab": {
          "base_uri": "https://localhost:8080/"
        },
        "id": "jg71QQfPuH-E",
        "outputId": "56b9e318-3f3e-4703-801f-f980438020de"
      },
      "execution_count": null,
      "outputs": [
        {
          "output_type": "stream",
          "name": "stdout",
          "text": [
            "自然数n, r (n ≧ r) を入力すると、その順列の総数（nPr）を求めます。\n",
            "自然数 n = 5\n",
            "自然数 r = 3\n",
            "5P3 = 60\n"
          ]
        }
      ]
    },
    {
      "cell_type": "markdown",
      "source": [
        "#**問2 フィボナッチ数列**\n",
        "自然数 $n$ を入力すると、第 $n$ 項までのフィボナッチ数列を表示するプログラムを書きなさい。  \n",
        "ただし、ユーザーの入力値のエラー回避は不要です。  \n",
        "なお、フィボナッチ数列とは、1, 1, 2, 3, 5, 8, 13, ...と続く数列のことで、前の２項の和がその項の値になる数列です。\n"
      ],
      "metadata": {
        "id": "dlUgcMY3H7Xf"
      }
    },
    {
      "cell_type": "markdown",
      "source": [
        "###入力用"
      ],
      "metadata": {
        "id": "Y4IbwasgOmda"
      }
    },
    {
      "cell_type": "code",
      "source": [
        "# フィボナッチ数列\n",
        "n = int(input(\"自然数 n = \"))\n",
        "\n",
        "a = 0\n",
        "b = 1\n",
        "\n",
        "#### 以下に続きのプログラムを書きなさい ####\n",
        "for i in range(n):\n",
        "    print(b, end=\" \")\n",
        "    tmp = b\n",
        "    b = a + b\n",
        "    a = tmp\n"
      ],
      "metadata": {
        "id": "jth6jGQsOmlX",
        "colab": {
          "base_uri": "https://localhost:8080/"
        },
        "outputId": "852f0257-3015-4c94-988c-744ac5e88aef"
      },
      "execution_count": 3,
      "outputs": [
        {
          "output_type": "stream",
          "name": "stdout",
          "text": [
            "自然数 n = 10\n",
            "1 1 2 3 5 8 13 21 34 55 "
          ]
        }
      ]
    },
    {
      "cell_type": "markdown",
      "source": [
        "###模範解答"
      ],
      "metadata": {
        "id": "66HI0akROms_"
      }
    },
    {
      "cell_type": "code",
      "source": [
        "# フィボナッチ数列\n",
        "n = int(input(\"自然数 n = \"))\n",
        "\n",
        "a = 0\n",
        "b = 1\n",
        "\n",
        "#### 以下に続きのプログラムを書きなさい ####\n",
        "for i in range(n):\n",
        "    print(b, end=\" \")\n",
        "    tmp = b\n",
        "    b = a + b\n",
        "    a = tmp\n"
      ],
      "metadata": {
        "colab": {
          "base_uri": "https://localhost:8080/"
        },
        "id": "3OXR3kSZH7pu",
        "outputId": "ea1557d6-2fca-4109-e894-277112f22f90"
      },
      "execution_count": 2,
      "outputs": [
        {
          "output_type": "stream",
          "name": "stdout",
          "text": [
            "自然数 n = 1\n",
            "1 "
          ]
        }
      ]
    }
  ]
}