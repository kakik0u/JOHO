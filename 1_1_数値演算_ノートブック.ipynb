{
  "nbformat": 4,
  "nbformat_minor": 0,
  "metadata": {
    "colab": {
      "provenance": []
    },
    "kernelspec": {
      "name": "python3",
      "display_name": "Python 3"
    },
    "language_info": {
      "name": "python"
    }
  },
  "cells": [
    {
      "cell_type": "code",
      "execution_count": null,
      "metadata": {
        "id": "PLVGVI_ao6PT"
      },
      "outputs": [],
      "source": [
        "123 + 456"
      ]
    },
    {
      "cell_type": "code",
      "source": [
        "789 - 123"
      ],
      "metadata": {
        "id": "U0VdF9IPf9_D"
      },
      "execution_count": null,
      "outputs": []
    },
    {
      "cell_type": "code",
      "source": [
        "456 * 789"
      ],
      "metadata": {
        "id": "VWzOxOo_f_nR"
      },
      "execution_count": null,
      "outputs": []
    },
    {
      "cell_type": "code",
      "source": [
        "123 / 5"
      ],
      "metadata": {
        "id": "gqa4hCWXgA1H"
      },
      "execution_count": null,
      "outputs": []
    },
    {
      "cell_type": "code",
      "source": [
        "123 / 0"
      ],
      "metadata": {
        "id": "AksGGY97gDtU"
      },
      "execution_count": null,
      "outputs": []
    },
    {
      "cell_type": "code",
      "source": [
        "123 // 5"
      ],
      "metadata": {
        "id": "k3X8xWFpgEHi"
      },
      "execution_count": null,
      "outputs": []
    },
    {
      "cell_type": "code",
      "source": [
        "123 % 5"
      ],
      "metadata": {
        "id": "fI5B7jKGgFZk"
      },
      "execution_count": null,
      "outputs": []
    },
    {
      "cell_type": "code",
      "source": [
        "2 ** 10"
      ],
      "metadata": {
        "id": "tEZYN7pOgGzK"
      },
      "execution_count": null,
      "outputs": []
    },
    {
      "cell_type": "code",
      "source": [
        "123 + 456  #足し算を実行します。"
      ],
      "metadata": {
        "id": "TIEMLqLmgJRA"
      },
      "execution_count": null,
      "outputs": []
    },
    {
      "cell_type": "code",
      "source": [
        "#引き算を実行します。\n",
        "789 - 123"
      ],
      "metadata": {
        "id": "YzzgzeEkgLPB"
      },
      "execution_count": null,
      "outputs": []
    },
    {
      "cell_type": "code",
      "source": [
        "98 - 7 * 6   # かけ算から先に計算します。"
      ],
      "metadata": {
        "colab": {
          "base_uri": "https://localhost:8080/"
        },
        "id": "cAmkBXlNgMYu",
        "outputId": "6a246fce-f284-4797-bdf8-45d8892e2d57"
      },
      "execution_count": null,
      "outputs": [
        {
          "output_type": "execute_result",
          "data": {
            "text/plain": [
              "56"
            ]
          },
          "metadata": {},
          "execution_count": 2
        }
      ]
    },
    {
      "cell_type": "code",
      "source": [
        "(98 - 7) * 6 #先にカッコ内を計算します。"
      ],
      "metadata": {
        "colab": {
          "base_uri": "https://localhost:8080/"
        },
        "id": "2ZEoad1IgRc8",
        "outputId": "78f40688-05be-4409-fdc4-3d6bd9fe0ad6"
      },
      "execution_count": null,
      "outputs": [
        {
          "output_type": "execute_result",
          "data": {
            "text/plain": [
              "546"
            ]
          },
          "metadata": {},
          "execution_count": 3
        }
      ]
    },
    {
      "cell_type": "code",
      "source": [
        "(3 + 5) * (2 - 4) / 2"
      ],
      "metadata": {
        "id": "yx9EQYRCgSF1"
      },
      "execution_count": null,
      "outputs": []
    },
    {
      "cell_type": "code",
      "source": [
        "4 * (2 + (3 - 1) * 5) / 2"
      ],
      "metadata": {
        "id": "3jdGJPtdgWWu"
      },
      "execution_count": null,
      "outputs": []
    },
    {
      "cell_type": "code",
      "source": [
        "(10 - (3 + 2) * 4) / 2"
      ],
      "metadata": {
        "id": "d8Dx3P8mgXg-"
      },
      "execution_count": null,
      "outputs": []
    }
  ]
}