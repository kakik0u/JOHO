{
  "nbformat": 4,
  "nbformat_minor": 0,
  "metadata": {
    "colab": {
      "provenance": []
    },
    "kernelspec": {
      "name": "python3",
      "display_name": "Python 3"
    },
    "language_info": {
      "name": "python"
    }
  },
  "cells": [
    {
      "cell_type": "code",
      "execution_count": null,
      "metadata": {
        "id": "PLVGVI_ao6PT"
      },
      "outputs": [],
      "source": [
        "print(\"Hello, World!\")"
      ]
    },
    {
      "cell_type": "code",
      "source": [
        "type(18)"
      ],
      "metadata": {
        "id": "Ar9m3VoxqkBT"
      },
      "execution_count": null,
      "outputs": []
    },
    {
      "cell_type": "code",
      "source": [
        "type(1.66)"
      ],
      "metadata": {
        "id": "mqLluIjKqmJf"
      },
      "execution_count": null,
      "outputs": []
    },
    {
      "cell_type": "code",
      "source": [
        "type(\"Hydrogen\")"
      ],
      "metadata": {
        "id": "6KJ3rRjQqmaq"
      },
      "execution_count": null,
      "outputs": []
    },
    {
      "cell_type": "code",
      "source": [
        "a = 123\n",
        "print(type(a))  # 変数aの型を出力"
      ],
      "metadata": {
        "id": "8SmNpzxhqmdh"
      },
      "execution_count": null,
      "outputs": []
    },
    {
      "cell_type": "code",
      "source": [
        "a = 123\n",
        "a = str(a)  # 変数aをstr型に変換\n",
        "print(type(a))  # 変数aの型を出力"
      ],
      "metadata": {
        "id": "N4RFrYUZqmgH"
      },
      "execution_count": null,
      "outputs": []
    },
    {
      "cell_type": "code",
      "source": [
        "name = input(\"あなたのなまえは？\")   # ユーザーからの入力を変数nameに代入\n",
        "print(\"\\n\")    # 入力と出力のあいだに空行を入れる\n",
        "message = \"ふむ・・・\\n\" + name + \"　と　いうんだな！\"\n",
        "print(message)\n"
      ],
      "metadata": {
        "id": "jkN2xNd0qmie"
      },
      "execution_count": null,
      "outputs": []
    },
    {
      "cell_type": "code",
      "source": [
        "from random import randint\n",
        "num=randint(1,10)\n",
        "print(num)"
      ],
      "metadata": {
        "id": "Tp8vBR8iqmlV"
      },
      "execution_count": null,
      "outputs": []
    },
    {
      "cell_type": "code",
      "source": [
        "import math   # mathモジュールを読み込む\n",
        "value = 3.14\n",
        "num = math.ceil(value)  # 3.14の小数点以下を切り上げる\n",
        "print(num)"
      ],
      "metadata": {
        "id": "oP7WWSDxq4CV"
      },
      "execution_count": null,
      "outputs": []
    },
    {
      "cell_type": "code",
      "source": [
        "import random as r    # 乱数を発生させるモジュールを読み込む\n",
        "num = r.randint(1,10)   # 1〜10の間の数値をランダムに発生させる\n",
        "print(num)"
      ],
      "metadata": {
        "id": "vaywIvawq4D1"
      },
      "execution_count": null,
      "outputs": []
    },
    {
      "cell_type": "code",
      "source": [
        "from math import *  # mathモジュールのすべての関数を読み込む\n",
        "print(sqrt(2))    # sqrt：平方根を返す\n",
        "print(pi)         # piは円周率πの値\n",
        "print(sin(pi/6))  # sin関数：サインsinの値を返す。引数の単位はラジアン。\n",
        "print(cos(pi/6))  # cos関数：コサインの値を返す。引数の単位はラジアン。\n",
        "print(log(32, 2)) # log(真数,底)：対数を返す。この例は2を底とする32の対数を返す。\n",
        "1.4142135623730951"
      ],
      "metadata": {
        "id": "-Mk7x67pq4HN"
      },
      "execution_count": null,
      "outputs": []
    }
  ]
}