{
  "nbformat": 4,
  "nbformat_minor": 0,
  "metadata": {
    "colab": {
      "provenance": [],
      "toc_visible": true,
      "include_colab_link": true
    },
    "kernelspec": {
      "name": "python3",
      "display_name": "Python 3"
    },
    "language_info": {
      "name": "python"
    }
  },
  "cells": [
    {
      "cell_type": "markdown",
      "metadata": {
        "id": "view-in-github",
        "colab_type": "text"
      },
      "source": [
        "<a href=\"https://colab.research.google.com/github/kakik0u/JOHO/blob/main/python45_%E6%8C%BF%E5%85%A5%E3%82%BD%E3%83%BC%E3%83%88_%E6%BC%94%E7%BF%92%E5%95%8F%E9%A1%8C.ipynb\" target=\"_parent\"><img src=\"https://colab.research.google.com/assets/colab-badge.svg\" alt=\"Open In Colab\"/></a>"
      ]
    },
    {
      "cell_type": "markdown",
      "source": [
        "#**4-5. 挿入ソート（単純挿入法） 演習問題**"
      ],
      "metadata": {
        "id": "x-AJvsoQRWrp"
      }
    },
    {
      "cell_type": "markdown",
      "source": [
        "#**問1 選択ソート**"
      ],
      "metadata": {
        "id": "wJnNnYZEWpeq"
      }
    },
    {
      "cell_type": "markdown",
      "source": [
        "##**(1) 挿入ソート（for文）**\n",
        "配列`arr`を挿入ソートを用いて昇順に並び替えるプログラムを書きなさい。  \n",
        "ただし、挿入位置を探すためのループはfor文を用いること。  \n",
        "```\n",
        "# 出力例\n",
        "ソート前 [6, 3, 2, 0, 7, 1, 4, 5]\n",
        "ソート後 [0, 1, 2, 3, 4, 5, 6, 7]\n",
        "```"
      ],
      "metadata": {
        "id": "6KTjPJvYWsuh"
      }
    },
    {
      "cell_type": "markdown",
      "source": [
        "###入力用"
      ],
      "metadata": {
        "id": "mNj7hB1FZPOK"
      }
    },
    {
      "cell_type": "code",
      "source": [
        "# 挿入ソート（for文）\n",
        "arr = [6, 3, 2, 0, 7, 1, 4, 5]      #元のリスト\n",
        "print(\"ソート前\", arr)              # ソート前を出力\n",
        "n = len(arr)\n",
        "\n",
        "#### 続きのプログラムを書きなさい ####\n",
        "for i in range(1,n):\n",
        "\ttmp=arr[i];ins=0\n",
        "\tfor j in range(i-1,-1,-1):\n",
        "\t\tif arr[j]>tmp:arr[j+1]=arr[j]\n",
        "\t\telse:ins=j+1;break\n",
        "\tarr[ins]=tmp\n",
        "#### ここまで ####\n",
        "print(\"ソート後\", arr)              # ソート後を出力"
      ],
      "metadata": {
        "id": "sajfDSMBZPVA",
        "colab": {
          "base_uri": "https://localhost:8080/"
        },
        "outputId": "0c05da96-cc5e-49dc-813d-1ae71ea78d99"
      },
      "execution_count": 6,
      "outputs": [
        {
          "output_type": "stream",
          "name": "stdout",
          "text": [
            "ソート前 [6, 3, 2, 0, 7, 1, 4, 5]\n",
            "ソート後 [0, 1, 2, 3, 4, 5, 6, 7]\n"
          ]
        }
      ]
    },
    {
      "cell_type": "markdown",
      "source": [
        "###模範解答"
      ],
      "metadata": {
        "id": "sDmxbMetZPcV"
      }
    },
    {
      "cell_type": "code",
      "source": [
        "# 挿入ソート（for文）\n",
        "arr = [6, 3, 2, 0, 7, 1, 4, 5]      # 元のリスト\n",
        "print(\"ソート前\", arr)              # ソート前を出力\n",
        "n = len(arr)\n",
        "\n",
        "#### 続きのプログラムを書きなさい ####\n",
        "for i in range(1, n):               # 未整列部分から、順番に１つずつ値を取り出していく\n",
        "    tmp = arr[i]                    # 挿入する値を変数tmpに入れる\n",
        "    ins = 0                         # 挿入する位置の変数(初期値は暫定的に0)\n",
        "\n",
        "    for j in range(i - 1, -1, -1):  # 整列済みのどこに挿入すればいいかを、後から前に向かって順番に比較していく\n",
        "        if arr[j] > tmp:            # もし挿入する値が小さければ、\n",
        "            arr[j + 1] = arr[j]     # 調べた値を１つずつ後にずらす\n",
        "        else:                       # そうでなければ、\n",
        "            ins = j + 1             # 挿入する位置をj+1に確定する\n",
        "            break                   # ずらす処理を止める\n",
        "\n",
        "    arr[ins] = tmp                  # ずらす処理が終わった位置に挿入する値を入れる\n",
        "#### ここまで ####\n",
        "print(\"ソート後\", arr)              # ソート後を出力"
      ],
      "metadata": {
        "colab": {
          "base_uri": "https://localhost:8080/"
        },
        "id": "Jvu5MeQ-ZPkT",
        "outputId": "7725e54c-b9d2-4628-da35-c9082fbc71a9"
      },
      "execution_count": 3,
      "outputs": [
        {
          "output_type": "stream",
          "name": "stdout",
          "text": [
            "ソート前 [6, 3, 2, 0, 7, 1, 4, 5]\n",
            "ソート後 [0, 1, 2, 3, 4, 5, 6, 7]\n"
          ]
        }
      ]
    },
    {
      "cell_type": "markdown",
      "source": [
        "##**(2) 挿入ソート（while文）**\n",
        "配列`arr`を挿入ソートを用いて昇順に並び替えるプログラムを書きなさい。  \n",
        "ただし、挿入位置を探すためのループはwhile文を用いること。  \n",
        "```\n",
        "# 出力例\n",
        "ソート前 [6, 3, 2, 0, 7, 1, 4, 5]\n",
        "ソート後 [7, 6, 5, 4, 3, 2, 1, 0]\n",
        "```"
      ],
      "metadata": {
        "id": "7K3mNOT2mWoq"
      }
    },
    {
      "cell_type": "markdown",
      "source": [
        "###入力用"
      ],
      "metadata": {
        "id": "U6yXrIvCmWo0"
      }
    },
    {
      "cell_type": "code",
      "source": [
        "# 挿入ソート（while文）\n",
        "arr = [6, 3, 2, 0, 7, 1, 4, 5]      # 元のリスト\n",
        "print(\"ソート前\", arr)              # ソート前を出力\n",
        "n = len(arr)\n",
        "\n",
        "#### 続きのプログラムを書きなさい ####\n",
        "for i in range(1,n):\n",
        "\ttmp=arr[i];j=i-1\n",
        "\twhile j>=0 and arr[j]>tmp:arr[j+1]=arr[j];j=j-1\n",
        "\tarr[j+1]=tmp\n",
        "#### ここまで ####\n",
        "print(\"ソート後\", arr)              # ソート後を出力"
      ],
      "metadata": {
        "id": "SAhw78WlmWo0",
        "colab": {
          "base_uri": "https://localhost:8080/"
        },
        "outputId": "068d61dc-8f10-49b8-9654-716003c594ca"
      },
      "execution_count": 7,
      "outputs": [
        {
          "output_type": "stream",
          "name": "stdout",
          "text": [
            "ソート前 [6, 3, 2, 0, 7, 1, 4, 5]\n",
            "ソート後 [0, 1, 2, 3, 4, 5, 6, 7]\n"
          ]
        }
      ]
    },
    {
      "cell_type": "markdown",
      "source": [
        "###模範解答"
      ],
      "metadata": {
        "id": "J4u7O6lMmWo1"
      }
    },
    {
      "cell_type": "code",
      "source": [
        "# 挿入ソート（while文）\n",
        "arr = [6, 3, 2, 0, 7, 1, 4, 5]      # 元のリスト\n",
        "print(\"ソート前\", arr)              # ソート前を出力\n",
        "n = len(arr)\n",
        "\n",
        "#### 続きのプログラムを書きなさい ####\n",
        "for i in range(1, n):               # 未整列部分から、順番に１つずつ値を取り出していく\n",
        "    tmp = arr[i]                    # 挿入する値を変数tmpに入れる\n",
        "    j = i - 1                       # jはiのひとつ前から先頭に向かって1ずつ減らしながら繰り返す\n",
        "    while j >= 0 and arr[j] > tmp:  # jの値が正かつj番目の要素がtmpよりも大きいあいだ繰り返す\n",
        "        arr[j + 1] = arr[j]         # j番目の要素をひとつ右に移動する\n",
        "        j = j - 1                   # jの値を1減らす（ひとつ前の要素を次の対象とする）\n",
        "    arr[j + 1] = tmp                # whileループが終わったら（tmpよりも大きい要素は１つずつ右に移動している）、j+1番目にtmpを代入する\n",
        "\n",
        "#### ここまで ####\n",
        "print(\"ソート後\", arr)              # ソート後を出力"
      ],
      "metadata": {
        "colab": {
          "base_uri": "https://localhost:8080/"
        },
        "id": "LyqLaJDomWo1",
        "outputId": "57daf3fd-16cc-4a8b-ae71-9e22f369b945"
      },
      "execution_count": null,
      "outputs": [
        {
          "output_type": "stream",
          "name": "stdout",
          "text": [
            "ソート前 [6, 3, 2, 0, 7, 1, 4, 5]\n",
            "ソート後 [0, 1, 2, 3, 4, 5, 6, 7]\n"
          ]
        }
      ]
    },
    {
      "cell_type": "markdown",
      "source": [
        "---\n",
        "---\n",
        "#**問2 途中経過の出力と比較・交換回数**\n",
        "**問1(1) 選択ソート（昇順）**のプログラムをもとにして、ソートの途中経過と比較・交換回数を表示するプログラムを書きなさい。\n",
        "\n",
        "\n"
      ],
      "metadata": {
        "id": "TRwqqsB1CMQW"
      }
    },
    {
      "cell_type": "markdown",
      "source": [
        "### 入力用"
      ],
      "metadata": {
        "id": "HYLRDAScDyGI"
      }
    },
    {
      "cell_type": "code",
      "source": [
        "# 挿入ソート（途中経過の出力と比較・交換回数）\n",
        "## このプログラムの中の適当なところに、次の処理を追加しなさい。\n",
        "## ・途中経過を出力するための処理\n",
        "## ・比較回数と交換回数を数えるための処理\n",
        "arr = [6, 3, 2, 0, 7, 1, 4, 5]          # 元のリスト\n",
        "print(arr)                              # ソート前を出力\n",
        "n = len(arr)\n",
        "\n",
        "compare = 0                             # 比較回数を数えるための変数\n",
        "swap = 0                                # 交換回数を数えるための変数\n",
        "\n",
        "for i in range(1, n):\n",
        "    tmp = arr[i]\n",
        "    ins = 0\n",
        "\n",
        "    for j in range(i - 1, -1, -1):\n",
        "        compare+=1\n",
        "        if arr[j] > tmp:\n",
        "            arr[j + 1] = arr[j]\n",
        "            swap+=1\n",
        "        else:\n",
        "            ins = j + 1\n",
        "            break\n",
        "\n",
        "    arr[ins] = tmp\n",
        "    print(arr)\n",
        "\n",
        "print(\"比較回数:\", compare, \"\\t交換回数:\", swap)"
      ],
      "metadata": {
        "id": "9k5gAr7bDsD4",
        "colab": {
          "base_uri": "https://localhost:8080/"
        },
        "outputId": "26843628-c81d-4f76-c120-821a4ef276cb"
      },
      "execution_count": 8,
      "outputs": [
        {
          "output_type": "stream",
          "name": "stdout",
          "text": [
            "[6, 3, 2, 0, 7, 1, 4, 5]\n",
            "[3, 6, 2, 0, 7, 1, 4, 5]\n",
            "[2, 3, 6, 0, 7, 1, 4, 5]\n",
            "[0, 2, 3, 6, 7, 1, 4, 5]\n",
            "[0, 2, 3, 6, 7, 1, 4, 5]\n",
            "[0, 1, 2, 3, 6, 7, 4, 5]\n",
            "[0, 1, 2, 3, 4, 6, 7, 5]\n",
            "[0, 1, 2, 3, 4, 5, 6, 7]\n",
            "比較回数: 18 \t交換回数: 14\n"
          ]
        }
      ]
    },
    {
      "cell_type": "markdown",
      "source": [
        "### 模範解答"
      ],
      "metadata": {
        "id": "wFO3IFgKDzj6"
      }
    },
    {
      "cell_type": "code",
      "source": [
        "# 挿入ソート（途中経過の出力と比較・交換回数）\n",
        "## このプログラムの中の適当なところに、次の処理を追加しなさい。\n",
        "## ・途中経過を出力するための処理\n",
        "## ・比較回数と交換回数を数えるための処理\n",
        "arr = [6, 3, 2, 0, 7, 1, 4, 5]          # 元のリスト\n",
        "print(arr)                              # ソート前を出力\n",
        "n = len(arr)\n",
        "\n",
        "compare = 0                             # 比較回数を数えるための変数\n",
        "swap = 0                                # 交換回数を数えるための変数\n",
        "\n",
        "for i in range(1, n):\n",
        "    tmp = arr[i]\n",
        "    ins = 0\n",
        "\n",
        "    for j in range(i - 1, -1, -1):\n",
        "        compare = compare + 1           # 比較回数を数える【問2ではこの行を追加】\n",
        "        if arr[j] > tmp:\n",
        "            arr[j + 1] = arr[j]\n",
        "            swap = swap + 1             # 交換回数を数える【問2ではこの行を追加】\n",
        "        else:\n",
        "            ins = j + 1\n",
        "            break\n",
        "\n",
        "    arr[ins] = tmp\n",
        "    print(arr)                          # 途中経過を出力【問2ではこの行を追加】\n",
        "\n",
        "print(\"比較回数:\", compare, \"\\t交換回数:\", swap)"
      ],
      "metadata": {
        "colab": {
          "base_uri": "https://localhost:8080/"
        },
        "id": "rhwJOu-cCnW6",
        "outputId": "f3c33725-e14f-45b5-c275-266e92a2dbc5"
      },
      "execution_count": null,
      "outputs": [
        {
          "output_type": "stream",
          "name": "stdout",
          "text": [
            "[6, 3, 2, 0, 7, 1, 4, 5]\n",
            "[3, 6, 2, 0, 7, 1, 4, 5]\n",
            "[2, 3, 6, 0, 7, 1, 4, 5]\n",
            "[0, 2, 3, 6, 7, 1, 4, 5]\n",
            "[0, 2, 3, 6, 7, 1, 4, 5]\n",
            "[0, 1, 2, 3, 6, 7, 4, 5]\n",
            "[0, 1, 2, 3, 4, 6, 7, 5]\n",
            "[0, 1, 2, 3, 4, 5, 6, 7]\n",
            "比較回数: 18 \t交換回数: 14\n"
          ]
        }
      ]
    }
  ]
}