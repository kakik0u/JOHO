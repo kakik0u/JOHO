{
  "nbformat": 4,
  "nbformat_minor": 0,
  "metadata": {
    "colab": {
      "provenance": [],
      "toc_visible": true,
      "include_colab_link": true
    },
    "kernelspec": {
      "name": "python3",
      "display_name": "Python 3"
    },
    "language_info": {
      "name": "python"
    }
  },
  "cells": [
    {
      "cell_type": "markdown",
      "metadata": {
        "id": "view-in-github",
        "colab_type": "text"
      },
      "source": [
        "<a href=\"https://colab.research.google.com/github/kakimotokougyo/JOHO/blob/main/python41_%E3%83%AA%E3%83%8B%E3%82%A2%E3%82%B5%E3%83%BC%E3%83%81_%E6%BC%94%E7%BF%92%E5%95%8F%E9%A1%8C.ipynb\" target=\"_parent\"><img src=\"https://colab.research.google.com/assets/colab-badge.svg\" alt=\"Open In Colab\"/></a>"
      ]
    },
    {
      "cell_type": "markdown",
      "source": [
        "#**4-1. リニアサーチ（線形探索法） 演習問題**"
      ],
      "metadata": {
        "id": "x-AJvsoQRWrp"
      }
    },
    {
      "cell_type": "markdown",
      "source": [
        "#**問1 リニアサーチ**\n",
        "リスト型変数`arr`の中から、リニアサーチを用いてユーザーが入力した探索値のインデックス番号を表示するプログラムを作成しなさい。  \n",
        "ただし、探索値のインデックス番号を格納する変数として`x`，配列の長さを格納する変数として`n`を用いること。  \n",
        "また、探索値が存在しなかった場合は、「存在しません。」と表示すること。\n",
        "\n",
        "\n",
        "\n",
        "```\n",
        "# 実行例\n",
        "[10, 23, 45, 67, 89, 12, 3]\n",
        "探索値: 45\n",
        "45 のインデックス番号は 2\n",
        "```\n",
        "\n",
        "※ `arr`は、**配列**の英語*array*の略（Pythonでは**リスト**というが、他言語では配列という）。\n",
        "\n",
        "\n"
      ],
      "metadata": {
        "id": "fwrBZtexfrdQ"
      }
    },
    {
      "cell_type": "markdown",
      "source": [
        "###入力用"
      ],
      "metadata": {
        "id": "lDO-abpifs8C"
      }
    },
    {
      "cell_type": "code",
      "source": [
        "# リニアサーチ（線形探索法）\n",
        "arr = [10, 23, 45, 67, 89, 12, 3]\n",
        "print(arr)\n",
        "target = int(input(\"探索値: \"))       # 探索値を入力させる\n",
        "\n",
        "#### 続きのプログラムを書きなさい #####\n",
        "x= -1\n",
        "n= len(arr)\n",
        "\n",
        "for i in range(n):\n",
        "    if arr[i] == target:\n",
        "        x=i\n",
        "        break\n",
        "if x != -1:\n",
        "    print(target,\"のインデックス番号は\",x)\n",
        "else:\n",
        "    print(target,\"は存在しません\")\n",
        "\n"
      ],
      "metadata": {
        "id": "ok_YjlZtfr7Q",
        "colab": {
          "base_uri": "https://localhost:8080/"
        },
        "outputId": "c1cec991-19b0-4274-8bf7-f94dfeb9f6fd"
      },
      "execution_count": 2,
      "outputs": [
        {
          "output_type": "stream",
          "name": "stdout",
          "text": [
            "[10, 23, 45, 67, 89, 12, 3]\n",
            "探索値: 23\n",
            "23 のインデックス番号は 1\n"
          ]
        }
      ]
    },
    {
      "cell_type": "markdown",
      "source": [
        "###模範解答"
      ],
      "metadata": {
        "id": "XcHMNClBfsMu"
      }
    },
    {
      "cell_type": "code",
      "source": [
        "# リニアサーチ（線形探索法）\n",
        "arr = [10, 23, 45, 67, 89, 12, 3]\n",
        "print(arr)\n",
        "target = int(input(\"探索値: \"))       # 探索値を入力させる\n",
        "\n",
        "#### 続きのプログラムを書きなさい #####\n",
        "x = -1                                # 探索値のインデックス番号(初期値は-1)\n",
        "n = len(arr)                          # 配列の長さ\n",
        "\n",
        "for i in range(n):                    # 配列の中を順番にループする\n",
        "    if arr[i] == target:              # i番目の要素と探索値が等しければ\n",
        "        x = i                         # xにiを代入する\n",
        "        break                         # ループを終了する\n",
        "\n",
        "if x != -1:                           # xが-1ではない場合（探索値が見つかった場合）\n",
        "    print(target, \"のインデックス番号は\", x)\n",
        "else:                                 # xが-1(初期値)の場合（探索値が見つからなかった場合）\n",
        "    print(target, \"は存在しません。\")\n"
      ],
      "metadata": {
        "id": "vp3Zq7_sfsVk",
        "colab": {
          "base_uri": "https://localhost:8080/"
        },
        "outputId": "3369e9fb-766c-4feb-b04c-afafd5932546"
      },
      "execution_count": null,
      "outputs": [
        {
          "output_type": "stream",
          "name": "stdout",
          "text": [
            "[10, 23, 45, 67, 89, 12, 3]\n",
            "探索値: 45\n",
            "45 のインデックス番号は 2\n"
          ]
        }
      ]
    },
    {
      "cell_type": "markdown",
      "source": [
        "---\n",
        "---\n",
        "#**問2 最大値・最小値の探索**\n"
      ],
      "metadata": {
        "id": "EpfzGgWEjbZy"
      }
    },
    {
      "cell_type": "markdown",
      "source": [
        "##**(1) 最大値の探索**\n",
        "リスト型変数`arr`の中から、最大値を表示するプログラムを書きなさい。  \n",
        "ただし、最大値を格納する変数として`max_value`，配列の長さを格納する変数として`n`を用いること。    "
      ],
      "metadata": {
        "id": "dTrEYIi3Z-f3"
      }
    },
    {
      "cell_type": "markdown",
      "source": [
        "###入力用"
      ],
      "metadata": {
        "id": "aNwlS4XAmkgp"
      }
    },
    {
      "cell_type": "code",
      "source": [
        "# 最大値の探索\n",
        "arr = [10, 23, 45, 67, 89, 12, 3]\n",
        "print(arr)\n",
        "\n",
        "#### 続きのプログラムを書きなさい #####\n",
        "n = len(arr)\n",
        "min_value = arr[0]\n",
        "\n",
        "for i in range(1, n):\n",
        "    if min_value < arr[i]:\n",
        "        min_value = arr[i]\n",
        "\n",
        "print(\"最大値は\", min_value)\n"
      ],
      "metadata": {
        "id": "Lu1B9rgPml_s",
        "colab": {
          "base_uri": "https://localhost:8080/"
        },
        "outputId": "398b92ab-e992-442e-ad5e-d1db8ed52822"
      },
      "execution_count": 13,
      "outputs": [
        {
          "output_type": "stream",
          "name": "stdout",
          "text": [
            "[10, 23, 45, 67, 89, 12, 3]\n",
            "最大値は 89\n"
          ]
        }
      ]
    },
    {
      "cell_type": "markdown",
      "source": [
        "###模範解答"
      ],
      "metadata": {
        "id": "UtsTL1NemmIB"
      }
    },
    {
      "cell_type": "code",
      "source": [
        "# 最大値の探索\n",
        "arr = [10, 23, 45, 67, 89, 12, 3]\n",
        "print(arr)\n",
        "\n",
        "#### 続きのプログラムを書きなさい #####\n",
        "n = len(arr)\n",
        "max_value = arr[0]                  # 0番目の値を暫定の最大値maxに入れる。\n",
        "\n",
        "for i in range(1, n):               # 1番目〜末尾まで繰り返す。\n",
        "    if max_value > arr[i]:          # 暫定の最大値よりarr[i]が大きければ、\n",
        "        max_value = arr[i]          # 暫定の最大値にarr[i]を代入する\n",
        "\n",
        "print(\"最大値は\", max_value)        # 配列を最後まで調べて、maxに入っている値が最大値と確定する\n"
      ],
      "metadata": {
        "colab": {
          "base_uri": "https://localhost:8080/"
        },
        "id": "S5erFWXba1Ly",
        "outputId": "60b2915f-0b2c-4666-c583-3e25d6e60f59"
      },
      "execution_count": 14,
      "outputs": [
        {
          "output_type": "stream",
          "name": "stdout",
          "text": [
            "[10, 23, 45, 67, 89, 12, 3]\n",
            "最大値は 3\n"
          ]
        }
      ]
    },
    {
      "cell_type": "markdown",
      "source": [
        "---\n",
        "##**(2) 最小値の探索**\n",
        "リスト型変数`arr`の中から、最大値を表示するプログラムを書きなさい。  \n",
        "ただし、最大値を格納する変数として`min_value`，配列の長さを格納する変数として`n`を用いること。  "
      ],
      "metadata": {
        "id": "tbHjCkUcbbg5"
      }
    },
    {
      "cell_type": "markdown",
      "source": [
        "###入力用"
      ],
      "metadata": {
        "id": "_5UtUhYRmsc_"
      }
    },
    {
      "cell_type": "code",
      "source": [
        "# 最小値の探索\n",
        "arr = [10, 23, 45, 67, 89, 12, 3]\n",
        "print(arr)\n",
        "\n",
        "#### 続きのプログラムを書きなさい #####\n",
        "n = len(arr)\n",
        "max_value = arr[0]\n",
        "\n",
        "for i in range(1, n):\n",
        "    if max_value > arr[i]:\n",
        "        max_value = arr[i]\n",
        "print(\"最小値は\", max_value)\n"
      ],
      "metadata": {
        "colab": {
          "base_uri": "https://localhost:8080/"
        },
        "id": "VK5DS3YlbbqM",
        "outputId": "9ec4d2d3-0464-40c4-dec4-6c5e3343be45"
      },
      "execution_count": 15,
      "outputs": [
        {
          "output_type": "stream",
          "name": "stdout",
          "text": [
            "[10, 23, 45, 67, 89, 12, 3]\n",
            "最小値は 3\n"
          ]
        }
      ]
    },
    {
      "cell_type": "markdown",
      "source": [
        "###模範解答"
      ],
      "metadata": {
        "id": "DKtzCgt6monZ"
      }
    },
    {
      "cell_type": "code",
      "source": [
        "# 最小値の探索\n",
        "arr = [10, 23, 45, 67, 89, 12, 3]\n",
        "print(arr)\n",
        "\n",
        "#### 続きのプログラムを書きなさい #####\n",
        "n = len(arr)\n",
        "min_value = arr[0]                  # 0番目の値を暫定の最小値minに入れる。\n",
        "\n",
        "for i in range(1, n):               # 1番目〜末尾まで繰り返す。\n",
        "    if min_value < arr[i]:          # 暫定の最小値よりarr[i]が小さければ、\n",
        "        min_value = arr[i]          # 暫定の最小値にarr[i]を代入する\n",
        "\n",
        "print(\"最小値は\", min_value)        # 配列を最後まで調べて、minに入っている値が最小値と確定する\n"
      ],
      "metadata": {
        "id": "GsMcKzvemo9n",
        "colab": {
          "base_uri": "https://localhost:8080/"
        },
        "outputId": "e0d16bee-cea1-4080-f1b2-b5c11566f7bd"
      },
      "execution_count": 16,
      "outputs": [
        {
          "output_type": "stream",
          "name": "stdout",
          "text": [
            "[10, 23, 45, 67, 89, 12, 3]\n",
            "最小値は 89\n"
          ]
        }
      ]
    }
  ]
}