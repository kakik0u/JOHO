{
  "nbformat": 4,
  "nbformat_minor": 0,
  "metadata": {
    "colab": {
      "provenance": [],
      "include_colab_link": true
    },
    "kernelspec": {
      "name": "python3",
      "display_name": "Python 3"
    },
    "language_info": {
      "name": "python"
    }
  },
  "cells": [
    {
      "cell_type": "markdown",
      "metadata": {
        "id": "view-in-github",
        "colab_type": "text"
      },
      "source": [
        "<a href=\"https://colab.research.google.com/github/kakik0u/JOHO/blob/main/5_1_%E3%82%B0%E3%83%A9%E3%83%95%E3%81%AE%E8%A1%A8%E7%A4%BA_%E3%83%8E%E3%83%BC%E3%83%88%E3%83%96%E3%83%83%E3%82%AF.ipynb\" target=\"_parent\"><img src=\"https://colab.research.google.com/assets/colab-badge.svg\" alt=\"Open In Colab\"/></a>"
      ]
    },
    {
      "cell_type": "code",
      "execution_count": null,
      "metadata": {
        "id": "Y6BJFCXtt4N6"
      },
      "outputs": [],
      "source": [
        "# matplotlibを日本語化するためのライブラリをインストールします。\n",
        "# このファイルを開いたら、まずはこのコードセルを実行してください。\n",
        "# 今後「import japanize_matplotlib」の行でエラーが出たら、このコードセルを実行し直してください。\n",
        "!pip install japanize-matplotlib"
      ]
    },
    {
      "cell_type": "code",
      "source": [
        "# (2) グラフの表示 - 実習1 折れ線グラフ\n",
        "import matplotlib.pyplot as plt # matplotlib: グラフを表示するためのライブラリ\n",
        "import japanize_matplotlib      # japanize_matplotlib: matplotlibを日本語化するためのライブラリ\n",
        "# データ\n",
        "x = [1, 2, 3, 4, 5]\n",
        "y = [2, 1, 5, 3, 4]\n",
        "\n",
        "# グラフの作成と表示\n",
        "plt.plot(x, y)  # 折れ線グラフを作成\n",
        "plt.show()      # グラフを表示する"
      ],
      "metadata": {
        "id": "rg41sXHyuZqx"
      },
      "execution_count": null,
      "outputs": []
    },
    {
      "cell_type": "code",
      "source": [
        "# (2) グラフの表示 - 実習2 棒グラフ\n",
        "import matplotlib.pyplot as plt # matplotlib: グラフを表示するためのライブラリ\n",
        "import japanize_matplotlib      # japanize_matplotlib: matplotlibを日本語化するためのライブラリ\n",
        "\n",
        "# データ\n",
        "x = [1, 2, 3, 4, 5]\n",
        "y = [2, 1, 5, 3, 4]\n",
        "\n",
        "# グラフの作成と表示\n",
        "plt.bar(x, y)   # 棒グラフを作成\n",
        "plt.show()      # グラフを表示する"
      ],
      "metadata": {
        "id": "DGbKXCh0vGeh"
      },
      "execution_count": null,
      "outputs": []
    },
    {
      "cell_type": "code",
      "source": [
        "# (4) 関数とグラフ - 実習1 「y = x^2」のグラフ\n",
        "import matplotlib.pyplot as plt # matplotlib: グラフを表示するためのライブラリ\n",
        "import japanize_matplotlib      # japanize_matplotlib: matplotlibを日本語化するためのライブラリ\n",
        "import numpy as np              # numpy: 数値計算用のライブラリ\n",
        "\n",
        "# xとyの値を設定\n",
        "x = np.arange(-10, 10, 0.1)     # x: -10から10まで 0.1間隔\n",
        "y = x**2                        # y: y = x^2\n",
        "\n",
        "# グラフをプロット\n",
        "plt.plot(x, y, label=\"y = x^2\")         # xとyの値をプロット\n",
        "plt.axhline(0, color=\"black\", lw=0.5)   # y=0の線を描く\n",
        "plt.axvline(0, color=\"black\", lw=0.5)   # x=0の線を描く\n",
        "plt.title(\"y = x^2のグラフ\")            # グラフのタイトルを設定\n",
        "plt.xlabel(\"x\")                         # x軸のラベルを設定\n",
        "plt.ylabel(\"y\")                         # y軸のラベルを設定\n",
        "plt.legend(loc=\"lower left\")            # 凡例を表示\n",
        "plt.grid(True)                          # グリッド線を表示\n",
        "\n",
        "plt.show()                              # グラフを表示"
      ],
      "metadata": {
        "id": "gRh2QvtLvAQn"
      },
      "execution_count": null,
      "outputs": []
    },
    {
      "cell_type": "code",
      "source": [
        "# (4) 関数とグラフ - 実習2 「y = sin(x)」のグラフ\n",
        "import matplotlib.pyplot as plt # matplotlib: グラフを表示するためのライブラリ\n",
        "import japanize_matplotlib      # japanize_matplotlib: matplotlibを日本語化するためのライブラリ\n",
        "import numpy as np              # numpy: 数値計算用のライブラリ\n",
        "\n",
        "# 角度の値を生成: 0度から360度まで、1度間隔\n",
        "degrees = np.arange(0, 361, 1)\n",
        "\n",
        "# 角度をラジアンに変換\n",
        "radians = np.radians(degrees)\n",
        "\n",
        "# yの値を計算: y = sin(x)\n",
        "y = np.sin(radians)\n",
        "\n",
        "# グラフをプロット\n",
        "plt.plot(degrees, y, label=\"y = sin(x)\")  # degreesとyの値をプロット\n",
        "plt.axhline(0, color=\"black\", lw=0.5)  # y=0の線を描く\n",
        "plt.axvline(0, color=\"black\", lw=0.5)  # x=0の線を描く\n",
        "plt.title(\"y = sin(x)のグラフ (x は角度)\")  #s グラフのタイトルを設定\n",
        "plt.xlabel(\"角度 (度)\")  # x軸のラベルを設定\n",
        "plt.ylabel(\"y\")  # y軸のラベルを設定\n",
        "plt.legend()  # 凡例を表示\n",
        "plt.grid(True)  # グリッド線を表示\n",
        "\n",
        "# グラフを表示\n",
        "plt.show()"
      ],
      "metadata": {
        "id": "eQxJ4tv-vlpf"
      },
      "execution_count": null,
      "outputs": []
    },
    {
      "cell_type": "code",
      "source": [
        "# (4) 関数とグラフ - 実習3 挿入ソートとクイックソートの比較回数のグラフ\n",
        "import matplotlib.pyplot as plt # matplotlib: グラフを表示するためのライブラリ\n",
        "import japanize_matplotlib      # japanize_matplotlib: matplotlibを日本語化するためのライブラリ\n",
        "import numpy as np              # numpy: 数値計算用のライブラリ\n",
        "\n",
        "# xの値を生成: 1から100までの整数値\n",
        "x = np.arange(1, 101)\n",
        "\n",
        "# yの値を計算\n",
        "y1 = x * (x - 1) / 4  # 挿入ソートの平均比較回数\n",
        "y2 = x * np.log2(x)  # クイックソートの平均比較回数\n",
        "\n",
        "# グラフをプロット\n",
        "plt.plot(x, y1, label=\"挿入ソート: n*(n-1)/4\", color=\"blue\")  # 挿入ソートのグラフをプロット\n",
        "plt.plot(x, y2, label=\"クイックソート): n*log2(n)\", color=\"red\")  # クイックソートのグラフをプロット\n",
        "plt.axhline(0, color=\"black\", lw=0.5)  # y=0の線を描く\n",
        "plt.axvline(0, color=\"black\", lw=0.5)  # x=0の線を描く\n",
        "plt.title(\"挿入ソートとクイックソートの比較回数のグラフ\")  # グラフのタイトルを設定\n",
        "plt.xlabel(\"データ数\")  # x軸のラベルを設定\n",
        "plt.ylabel(\"比較回数\")  # y軸のラベルを設定\n",
        "plt.legend()  # 凡例を表示\n",
        "plt.grid(True)  # グリッド線を表示\n",
        "\n",
        "# グラフを表示\n",
        "plt.show()"
      ],
      "metadata": {
        "id": "H7TchdnwvuOU"
      },
      "execution_count": null,
      "outputs": []
    },
    {
      "cell_type": "code",
      "source": [
        "# (4) 関数とグラフ - 実習4 円のグラフ\n",
        "import matplotlib.pyplot as plt # matplotlib: グラフを表示するためのライブラリ\n",
        "import japanize_matplotlib      # japanize_matplotlib: matplotlibを日本語化するためのライブラリ\n",
        "import numpy as np              # numpy: 数値計算用のライブラリ\n",
        "\n",
        "t = np.linspace(-np.pi, np.pi, 1000)  # -π〜+πまで1000等分した値を生成\n",
        "\n",
        "# xとyの値を設定\n",
        "x = np.cos(t)\n",
        "y = np.sin(t)\n",
        "\n",
        "# プロット\n",
        "plt.figure(figsize=(6, 6))   # グラフの大きさを設定\n",
        "plt.plot(x, y)\n",
        "\n",
        "plt.show()"
      ],
      "metadata": {
        "id": "KU7uoPbWv1gt"
      },
      "execution_count": null,
      "outputs": []
    },
    {
      "cell_type": "code",
      "source": [
        "# (4) 関数とグラフ - 実習5 リサジュー曲線\n",
        "import matplotlib.pyplot as plt # matplotlib: グラフを表示するためのライブラリ\n",
        "import japanize_matplotlib      # japanize_matplotlib: matplotlibを日本語化するためのライブラリ\n",
        "import numpy as np              # numpy: 数値計算用のライブラリ\n",
        "\n",
        "# パラメータの設定\n",
        "a = 3\n",
        "b = 4\n",
        "\n",
        "delta =  np.pi / 2  # 90度の位相差\n",
        "t = np.linspace(-np.pi, np.pi, 1000)  # -π〜+πまで1000等分した値を生成\n",
        "\n",
        "# リサジュー曲線の方程式\n",
        "x = np.sin(a * t + delta)\n",
        "y = np.sin(b * t)\n",
        "\n",
        "# プロット\n",
        "plt.figure(figsize=(6, 6))\n",
        "plt.plot(x, y)\n",
        "plt.title(\"Lissajous Curve\")\n",
        "plt.xlabel(\"x\")\n",
        "plt.ylabel(\"y\")\n",
        "plt.axvline(0, color=\"black\", lw=1)  # x軸\n",
        "plt.axhline(0, color=\"black\", lw=1)  # y軸\n",
        "plt.grid(True)\n",
        "plt.show()"
      ],
      "metadata": {
        "id": "OY5OYyWGwcUw"
      },
      "execution_count": null,
      "outputs": []
    }
  ]
}