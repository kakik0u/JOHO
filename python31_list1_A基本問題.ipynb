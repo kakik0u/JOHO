{
  "nbformat": 4,
  "nbformat_minor": 0,
  "metadata": {
    "colab": {
      "provenance": [],
      "toc_visible": true
    },
    "kernelspec": {
      "name": "python3",
      "display_name": "Python 3"
    },
    "language_info": {
      "name": "python"
    }
  },
  "cells": [
    {
      "cell_type": "markdown",
      "source": [
        "#**3-1. リスト（list） A基本問題**"
      ],
      "metadata": {
        "id": "x-AJvsoQRWrp"
      }
    },
    {
      "cell_type": "markdown",
      "source": [
        "#**問1 リストの基本**\n"
      ],
      "metadata": {
        "id": "xeppWUHnRceN"
      }
    },
    {
      "cell_type": "markdown",
      "source": [
        "##**(1) リスト内の要素の取得**\n",
        "リスト型変数`numbers`の4番目の要素をprint関数を用いて出力しなさい。  \n",
        "（リストの先頭の値は0番目とする。）"
      ],
      "metadata": {
        "id": "fwrBZtexfrdQ"
      }
    },
    {
      "cell_type": "markdown",
      "source": [
        "###入力用"
      ],
      "metadata": {
        "id": "lDO-abpifs8C"
      }
    },
    {
      "cell_type": "code",
      "source": [
        "# リスト内の要素の取得\n",
        "numbers = [58, 95, 89, 56, 45, 59, 55, 42, 37, 67]\n",
        "\n",
        "#### 続きのプログラムを書きなさい #####\n",
        "print(numbers[4])"
      ],
      "metadata": {
        "colab": {
          "base_uri": "https://localhost:8080/"
        },
        "id": "ok_YjlZtfr7Q",
        "outputId": "e28a6d82-2a2d-4b6d-dd05-bd410f19007a"
      },
      "execution_count": null,
      "outputs": [
        {
          "output_type": "stream",
          "name": "stdout",
          "text": [
            "45\n"
          ]
        }
      ]
    },
    {
      "cell_type": "markdown",
      "source": [
        "###模範解答"
      ],
      "metadata": {
        "id": "XcHMNClBfsMu"
      }
    },
    {
      "cell_type": "code",
      "source": [
        "# リスト内の要素の取得\n",
        "numbers = [58, 95, 89, 56, 45, 59, 55, 42, 37, 67]\n",
        "\n",
        "#### 続きのプログラムを書きなさい #####\n",
        "print(numbers[4])\n"
      ],
      "metadata": {
        "id": "vp3Zq7_sfsVk"
      },
      "execution_count": null,
      "outputs": []
    },
    {
      "cell_type": "markdown",
      "source": [
        "---\n",
        "##**(2) リスト内の要素の書き換え**\n",
        "リスト型変数`numbers`の6番目の要素を`88`に書き換え、リストを出力しなさい。  \n",
        "（リストの先頭の値は0番目とする。）"
      ],
      "metadata": {
        "id": "aliJCfs4gmNg"
      }
    },
    {
      "cell_type": "markdown",
      "source": [
        "###入力用"
      ],
      "metadata": {
        "id": "fGHNzsAOgz2K"
      }
    },
    {
      "cell_type": "code",
      "source": [
        "# リスト内の要素の書き換え\n",
        "numbers = [58, 95, 89, 56, 45, 59, 55, 42, 37, 67]\n",
        "\n",
        "#### 続きのプログラムを書きなさい #####\n",
        "\n",
        "numbers[6] = 88\n",
        "print(numbers)"
      ],
      "metadata": {
        "id": "4DiLq8Ssgz_y"
      },
      "execution_count": null,
      "outputs": []
    },
    {
      "cell_type": "markdown",
      "source": [
        "###模範解答"
      ],
      "metadata": {
        "id": "VURYHjzLg0Ha"
      }
    },
    {
      "cell_type": "code",
      "source": [
        "# リスト内の要素の書き換え\n",
        "numbers = [58, 95, 89, 56, 45, 59, 55, 42, 37, 67]\n",
        "\n",
        "#### 続きのプログラムを書きなさい #####\n",
        "numbers[6] = 88\n",
        "print(numbers)\n"
      ],
      "metadata": {
        "colab": {
          "base_uri": "https://localhost:8080/"
        },
        "id": "47kgqj3kg0Om",
        "outputId": "f630d0e2-cf3a-478e-8d46-8686c792dc5a"
      },
      "execution_count": null,
      "outputs": [
        {
          "output_type": "stream",
          "name": "stdout",
          "text": [
            "[58, 95, 89, 56, 45, 59, 88, 42, 37, 67]\n"
          ]
        }
      ]
    },
    {
      "cell_type": "markdown",
      "source": [
        "---\n",
        "##**(3) リストの要素数の取得**\n",
        "リスト型変数`numbers`の要素数を取得し、変数`n`に代入してからその要素数を出力しなさい。  \n",
        "（リストの先頭の値は0番目とする。）"
      ],
      "metadata": {
        "id": "Fw5UUpsEi_E_"
      }
    },
    {
      "cell_type": "markdown",
      "source": [
        "###入力用"
      ],
      "metadata": {
        "id": "Lcstkzq7jNKj"
      }
    },
    {
      "cell_type": "code",
      "source": [
        "# リストの要素の取得書き換え\n",
        "numbers = [58, 95, 89, 56, 45, 59, 55, 42, 37, 67]\n",
        "\n",
        "#### 続きのプログラムを書きなさい #####\n",
        "n = len(numbers)\n",
        "print(n)"
      ],
      "metadata": {
        "id": "ohd30pkUjNWT"
      },
      "execution_count": null,
      "outputs": []
    },
    {
      "cell_type": "markdown",
      "source": [
        "###模範解答"
      ],
      "metadata": {
        "id": "U_QHAYtCjNeH"
      }
    },
    {
      "cell_type": "code",
      "source": [
        "# リストの要素の取得書き換え\n",
        "numbers = [58, 95, 89, 56, 45, 59, 55, 42, 37, 67]\n",
        "\n",
        "#### 続きのプログラムを書きなさい #####\n",
        "n = len(numbers)\n",
        "print(n)\n"
      ],
      "metadata": {
        "colab": {
          "base_uri": "https://localhost:8080/"
        },
        "id": "0r39YWyLjNlr",
        "outputId": "2e627861-06a8-4b1d-9dd8-459b71619ad7"
      },
      "execution_count": null,
      "outputs": [
        {
          "output_type": "stream",
          "name": "stdout",
          "text": [
            "10\n"
          ]
        }
      ]
    },
    {
      "cell_type": "markdown",
      "source": [
        "---\n",
        "---\n",
        "#**問2 リストとfor文**\n"
      ],
      "metadata": {
        "id": "EpfzGgWEjbZy"
      }
    },
    {
      "cell_type": "markdown",
      "source": [
        "##**(1) リスト内の条件を満たす値の出力①**\n",
        "リスト型変数`numbers`の要素のうち、ユーザーが入力した値よりも大きい数字を順に出力するプログラムを書きなさい。  \n",
        "ただし、`for i in range(...):`を用いること。"
      ],
      "metadata": {
        "id": "dTrEYIi3Z-f3"
      }
    },
    {
      "cell_type": "markdown",
      "source": [
        "###入力用"
      ],
      "metadata": {
        "id": "aNwlS4XAmkgp"
      }
    },
    {
      "cell_type": "code",
      "source": [
        "# リスト内の条件を満たす値の出力①\n",
        "numbers = [58, 95, 89, 56, 45, 59, 55, 42, 37, 67]\n",
        "print(numbers)    #リストを出力\n",
        "\n",
        "target = int(input(\"基準にする値: \"))   # ユーザーに入力を促す\n",
        "\n",
        "#### 続きのプログラムを書きなさい #####\n",
        "n = len(numbers)  # numbersのリストの要素数を取得\n",
        "\n",
        "for i in range(n):\n",
        "    if numbers[i] > target:\n",
        "        print(numbers[i], end=\" \")"
      ],
      "metadata": {
        "id": "Lu1B9rgPml_s"
      },
      "execution_count": null,
      "outputs": []
    },
    {
      "cell_type": "markdown",
      "source": [
        "###模範解答"
      ],
      "metadata": {
        "id": "UtsTL1NemmIB"
      }
    },
    {
      "cell_type": "code",
      "source": [
        "# リスト内の条件を満たす値の出力①\n",
        "numbers = [58, 95, 89, 56, 45, 59, 55, 42, 37, 67]\n",
        "print(numbers)    #リストを出力\n",
        "\n",
        "target = int(input(\"基準にする値: \"))   # ユーザーに入力を促す\n",
        "\n",
        "#### 続きのプログラムを書きなさい #####\n",
        "n = len(numbers)  # numbersのリストの要素数を取得\n",
        "\n",
        "for i in range(n):\n",
        "    if numbers[i] > target:\n",
        "        print(numbers[i], end=\" \")\n"
      ],
      "metadata": {
        "colab": {
          "base_uri": "https://localhost:8080/"
        },
        "id": "S5erFWXba1Ly",
        "outputId": "af238fab-f84c-4300-b5af-ea6389afd8e5"
      },
      "execution_count": null,
      "outputs": [
        {
          "output_type": "stream",
          "name": "stdout",
          "text": [
            "[58, 95, 89, 56, 45, 59, 55, 42, 37, 67]\n",
            "探索する数字: 60\n",
            "95 89 67 "
          ]
        }
      ]
    },
    {
      "cell_type": "markdown",
      "source": [
        "---\n",
        "##**(2) リスト内の条件を満たす値の出力②**\n",
        "リスト型変数`numbers`の要素のうち、ユーザーが入力した値よりも大きい数字を順に出力するプログラムを書きなさい。  \n",
        "ただし、`for 値 in リスト:`を用いること。"
      ],
      "metadata": {
        "id": "tbHjCkUcbbg5"
      }
    },
    {
      "cell_type": "markdown",
      "source": [
        "###入力用"
      ],
      "metadata": {
        "id": "_5UtUhYRmsc_"
      }
    },
    {
      "cell_type": "code",
      "source": [
        "# リスト内の条件を満たす値の出力②\n",
        "numbers = [58, 95, 89, 56, 45, 59, 55, 42, 37, 67]\n",
        "print(numbers)    #リストを出力\n",
        "\n",
        "target = int(input(\"基準にする値: \"))   # ユーザーに入力を促す\n",
        "\n",
        "#### 続きのプログラムを書きなさい #####\n",
        "for number in numbers:\n",
        "    if number > target:\n",
        "        print(number, end=\" \")"
      ],
      "metadata": {
        "colab": {
          "base_uri": "https://localhost:8080/"
        },
        "id": "VK5DS3YlbbqM",
        "outputId": "8b48ba10-e8a3-4717-883d-61c6cfb3354a"
      },
      "execution_count": 1,
      "outputs": [
        {
          "output_type": "stream",
          "name": "stdout",
          "text": [
            "[58, 95, 89, 56, 45, 59, 55, 42, 37, 67]\n",
            "基準にする値: 55\n",
            "58 95 89 56 59 67 "
          ]
        }
      ]
    },
    {
      "cell_type": "markdown",
      "source": [
        "###模範解答"
      ],
      "metadata": {
        "id": "DKtzCgt6monZ"
      }
    },
    {
      "cell_type": "code",
      "source": [
        "# リスト内の条件を満たす値の出力②\n",
        "numbers = [58, 95, 89, 56, 45, 59, 55, 42, 37, 67]\n",
        "print(numbers)    #リストを出力\n",
        "\n",
        "target = int(input(\"基準にする値: \"))   # ユーザーに入力を促す\n",
        "\n",
        "#### 続きのプログラムを書きなさい #####\n",
        "for number in numbers:\n",
        "    if number > target:\n",
        "        print(number, end=\" \")\n"
      ],
      "metadata": {
        "id": "GsMcKzvemo9n",
        "colab": {
          "base_uri": "https://localhost:8080/"
        },
        "outputId": "94c48a8e-8b5b-49da-a22d-374cb635d529"
      },
      "execution_count": null,
      "outputs": [
        {
          "output_type": "stream",
          "name": "stdout",
          "text": [
            "[58, 95, 89, 56, 45, 59, 55, 42, 37, 67]\n",
            "基準にする値: 60\n",
            "95 89 67 "
          ]
        }
      ]
    },
    {
      "cell_type": "markdown",
      "source": [
        "---\n",
        "##**(3) リスト内の値の探索**\n",
        "リスト型変数`numbers`の要素のうち、ユーザーが入力した探索値(変数`target`に代入)が何番目にあるかを求めるプログラムを書きなさい。  \n",
        "ただし、探索値がリスト内に存在しない場合には、存在しないと表示しなさい。  \n",
        "この問題では、`for i in range(...):`を用いること。\n",
        "  \n",
        "\n",
        "求める探索値を変数`x`を用います。  \n",
        "`x`の初期値は`-1`とし、`for i in range(...)`でリスト内の値を順に取り出して、探索値`target`と一致したとき、そのインデックス番号`i`を`x`に代入し、`break`してループを抜けます。  \n",
        "リストの値をすべて調べたとき、`x`の値が`-1`のままだったら、リスト内に探索値`target`が存在しなかったことになります。  \n",
        "`x`の初期値を`-1`とするのは、インデックス番号は`0`以上の整数になるからで、`0`以上の整数ではない値なら何でもいいのですが、慣例的に`-1`が用いられます。\n",
        "\n",
        "\n"
      ],
      "metadata": {
        "id": "mJb9pg5PRf5h"
      }
    },
    {
      "cell_type": "markdown",
      "source": [
        "###入力用"
      ],
      "metadata": {
        "id": "qmrOspVfmujm"
      }
    },
    {
      "cell_type": "code",
      "execution_count": 2,
      "metadata": {
        "id": "A0NLa5e1RNWD",
        "colab": {
          "base_uri": "https://localhost:8080/"
        },
        "outputId": "be3587d0-ac71-42b9-fdd3-592fb040cb99"
      },
      "outputs": [
        {
          "output_type": "stream",
          "name": "stdout",
          "text": [
            "[58, 95, 89, 56, 45, 59, 55, 42, 37, 67]\n",
            "探索する数字: 59\n",
            "59 のインデックス番号は 5\n"
          ]
        }
      ],
      "source": [
        "# リスト内の値の探索\n",
        "numbers = [58, 95, 89, 56, 45, 59, 55, 42, 37, 67]\n",
        "print(numbers)    #リストを出力\n",
        "\n",
        "target = int(input(\"探索する数字: \"))   # ユーザーに入力を促す\n",
        "x = -1    # 探索値のインデックス番号(初期値は-1)\n",
        "\n",
        "#### 続きのプログラムを書きなさい #####\n",
        "n = len(numbers)  # numbersのリストの要素数を取得\n",
        "\n",
        "for i in range(n):\n",
        "    if numbers[i] == target:\n",
        "        x = i\n",
        "        break\n",
        "\n",
        "if x != -1:\n",
        "    print(target, \"のインデックス番号は\", x)\n",
        "else:\n",
        "    print(target, \"は存在しません。\")"
      ]
    },
    {
      "cell_type": "markdown",
      "source": [
        "###模範解答"
      ],
      "metadata": {
        "id": "ZsFK3uu-mqFZ"
      }
    },
    {
      "cell_type": "code",
      "source": [
        "# リスト内の値の探索\n",
        "numbers = [58, 95, 89, 56, 45, 59, 55, 42, 37, 67]\n",
        "print(numbers)    #リストを出力\n",
        "\n",
        "target = int(input(\"探索する数字: \"))   # ユーザーに入力を促す\n",
        "x = -1    # 探索値のインデックス番号(初期値は-1)\n",
        "\n",
        "#### 続きのプログラムを書きなさい #####\n",
        "n = len(numbers)  # numbersのリストの要素数を取得\n",
        "\n",
        "for i in range(n):\n",
        "    if numbers[i] == target:\n",
        "        x = i\n",
        "        break\n",
        "\n",
        "if x != -1:\n",
        "    print(target, \"のインデックス番号は\", x)\n",
        "else:\n",
        "    print(target, \"は存在しません。\")\n"
      ],
      "metadata": {
        "id": "CI_sIPHBmqWV"
      },
      "execution_count": null,
      "outputs": []
    },
    {
      "cell_type": "markdown",
      "source": [
        "---\n",
        "##**(4) リスト内の値の平均**\n",
        "リスト型変数`numbers`の要素の平均値を求めなさい。"
      ],
      "metadata": {
        "id": "vJklOUBule7Q"
      }
    },
    {
      "cell_type": "markdown",
      "source": [
        "###入力用"
      ],
      "metadata": {
        "id": "9WuNltsCmvQI"
      }
    },
    {
      "cell_type": "markdown",
      "source": [],
      "metadata": {
        "id": "M-uz0GlOloj8"
      }
    },
    {
      "cell_type": "code",
      "source": [
        "# リスト内の値の平均値\n",
        "numbers = [58, 95, 89, 56, 45, 59, 55, 42, 37, 67]\n",
        "\n",
        "#### 続きのプログラムを書きなさい #####\n",
        "n = len(numbers)\n",
        "sum = 0\n",
        "for i in range(n):\n",
        "    sum = sum + numbers[i]\n",
        "\n",
        "average = sum / n\n",
        "\n",
        "print(average)\n"
      ],
      "metadata": {
        "colab": {
          "base_uri": "https://localhost:8080/"
        },
        "id": "MFQnedcelpR_",
        "outputId": "7b3e1a13-f251-4442-9df1-ba857e039c17"
      },
      "execution_count": null,
      "outputs": [
        {
          "output_type": "stream",
          "name": "stdout",
          "text": [
            "60.3\n"
          ]
        }
      ]
    },
    {
      "cell_type": "markdown",
      "source": [
        "###模範解答"
      ],
      "metadata": {
        "id": "Tl2DGgYBmq4P"
      }
    },
    {
      "cell_type": "code",
      "source": [
        "# リスト内の値の平均値\n",
        "numbers = [58, 95, 89, 56, 45, 59, 55, 42, 37, 67]\n",
        "\n",
        "#### 続きのプログラムを書きなさい #####\n",
        "n = len(numbers)\n",
        "sum = 0\n",
        "for i in range(n):\n",
        "    sum = sum + numbers[i]\n",
        "\n",
        "average = sum / n\n",
        "\n",
        "print(average)\n"
      ],
      "metadata": {
        "id": "5YV5S9FCmrHU"
      },
      "execution_count": null,
      "outputs": []
    }
  ]
}